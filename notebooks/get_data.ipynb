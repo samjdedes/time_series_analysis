{
 "cells": [
  {
   "cell_type": "code",
   "execution_count": 1,
   "metadata": {},
   "outputs": [],
   "source": [
    "# First import the libraries that we need to use\n",
    "import pandas as pd\n",
    "import requests\n",
    "import json"
   ]
  },
  {
   "cell_type": "code",
   "execution_count": 2,
   "metadata": {},
   "outputs": [],
   "source": [
    "# # daily data\n",
    "# def fetch_daily_data(symbol):\n",
    "#     pair_split = symbol.split('/')  # symbol must be in format XXX/XXX ie. BTC/EUR\n",
    "#     symbol = pair_split[0] + '-' + pair_split[1]\n",
    "#     url = f'https://api.pro.coinbase.com/products/{symbol}/candles?granularity=86400'\n",
    "#     response = requests.get(url)\n",
    "#     if response.status_code == 200:  # check to make sure the response from server is good\n",
    "#         data = pd.DataFrame(json.loads(response.text), columns=['unix', 'low', 'high', 'open', 'close', 'volume'])\n",
    "#         data['date'] = pd.to_datetime(data['unix'], unit='s')  # convert to a readable date\n",
    "#         data['vol_fiat'] = data['volume'] * data['close']      # multiply the BTC volume by closing price to approximate fiat volume\n",
    "\n",
    "#         # if we failed to get any data, print an error...otherwise write the file\n",
    "#         if data is None:\n",
    "#             print(\"Did not return any data from Coinbase for this symbol\")\n",
    "#         else:\n",
    "#             data.to_csv(f'../data/coinbase/Coinbase_{pair_split[0] + pair_split[1]}_dailydata.csv', index=False)\n",
    "\n",
    "#     else:\n",
    "#         print(\"Did not receieve OK response from Coinbase API\")\n",
    "\n",
    "\n",
    "# # if __name__ == \"__main__\":\n",
    "# #     # we set which pair we want to retrieve data for\n",
    "# #     pair = \"BTC/USD\"\n",
    "# #     fetch_daily_data(symbol=pair)"
   ]
  },
  {
   "cell_type": "code",
   "execution_count": 3,
   "metadata": {},
   "outputs": [],
   "source": [
    "# def fetch_minute_data(symbol):\n",
    "#     pair_split = symbol.split('/')  # symbol must be in format XXX/XXX ie. BTC/EUR\n",
    "#     symbol = pair_split[0] + '-' + pair_split[1]\n",
    "#     url = f'https://api.pro.coinbase.com/products/{symbol}/candles?start=2021-07-26'\n",
    "#     response = requests.get(url)\n",
    "#     if response.status_code == 200:  # check to make sure the response from server is good\n",
    "#         data = pd.DataFrame(json.loads(response.text), columns=['unix', 'low', 'high', 'open', 'close', 'volume'])\n",
    "#         data['date'] = pd.to_datetime(data['unix'], unit='s')  # convert to a readable date\n",
    "#         data['vol_fiat'] = data['volume'] * data['close']      # multiply the BTC volume by closing price to approximate fiat volume\n",
    "\n",
    "#         # if we failed to get any data, print an error...otherwise write the file\n",
    "#         if data is None:\n",
    "#             print(\"Did not return any data from Coinbase for this symbol\")\n",
    "#         else:\n",
    "#             data.to_csv(f'../data/coinbase/Coinbase_{pair_split[0] + pair_split[1]}_daily_m_data.csv', index=False)\n",
    "\n",
    "#     else:\n",
    "#         print(\"Did not receieve OK response from Coinbase API\")\n",
    "\n",
    "\n",
    "# # if __name__ == \"__main__\":\n",
    "# #     # we set which pair we want to retrieve data for\n",
    "# #     pair = \"BTC/USD\"\n",
    "# #     fetch_minute_data(symbol=pair)"
   ]
  },
  {
   "cell_type": "code",
   "execution_count": null,
   "metadata": {},
   "outputs": [],
   "source": []
  },
  {
   "cell_type": "code",
   "execution_count": 4,
   "metadata": {},
   "outputs": [],
   "source": [
    "# def fetch_my_data(symbol):\n",
    "#     pair_split = symbol.split('/')  # symbol must be in format XXX/XXX ie. BTC/EUR\n",
    "#     symbol = pair_split[0] + '-' + pair_split[1]\n",
    "#     url = f'https://api.pro.coinbase.com/products/{symbol}/candles?start=2021-07-26&granularity=86400'\n",
    "#     response = requests.get(url)\n",
    "#     if response.status_code == 200:  # check to make sure the response from server is good\n",
    "#         data = pd.DataFrame(json.loads(response.text), columns=['unix', 'low', 'high', 'open', 'close', 'volume'])\n",
    "#         data['date'] = pd.to_datetime(data['unix'], unit='s')  # convert to a readable date\n",
    "#         data['vol_fiat'] = data['volume'] * data['close']      # multiply the BTC volume by closing price to approximate fiat volume\n",
    "\n",
    "#         # if we failed to get any data, print an error...otherwise write the file\n",
    "#         if data is None:\n",
    "#             print(\"Did not return any data from Coinbase for this symbol\")\n",
    "#         else:\n",
    "#             data.to_csv(f'../data/coinbase/Coinbase_{pair_split[0] + pair_split[1]}_data.csv', index=False)\n",
    "            \n",
    "\n",
    "#     else:\n",
    "#         print(\"Did not receieve OK response from Coinbase API\")\n",
    "\n",
    "\n",
    "# # if __name__ == \"__main__\":\n",
    "# #     # we set which pair we want to retrieve data for\n",
    "# #     pair = \"BTC/USD\"\n",
    "# #     fetch_my_data(symbol=pair)            "
   ]
  },
  {
   "cell_type": "code",
   "execution_count": 5,
   "metadata": {},
   "outputs": [],
   "source": [
    "# counter = 0"
   ]
  },
  {
   "cell_type": "code",
   "execution_count": 6,
   "metadata": {},
   "outputs": [],
   "source": [
    "# def fetch_data(symbol, counter=counter):\n",
    "#     pair_split = symbol.split('/')  # symbol must be in format XXX/XXX ie. BTC/EUR\n",
    "#     symbol = pair_split[0] + '-' + pair_split[1]\n",
    "#     url = f'https://api.pro.coinbase.com/products/{symbol}/candles?start=2021-07-26T05:00:00&end=2021-07-26T09:59:00'\n",
    "#     response = requests.get(url)\n",
    "#     if response.status_code == 200:  # check to make sure the response from server is good\n",
    "#         data = pd.DataFrame(json.loads(response.text), columns=['unix', 'low', 'high', 'open', 'close', 'volume'])\n",
    "#         data['date'] = pd.to_datetime(data['unix'], unit='s')  # convert to a readable date\n",
    "#         data['vol_fiat'] = data['volume'] * data['close']      # multiply the BTC volume by closing price to approximate fiat volume\n",
    "\n",
    "#         # if we failed to get any data, print an error...otherwise write the file\n",
    "#         if data is None:\n",
    "#             print(\"Did not return any data from Coinbase for this symbol\")\n",
    "#         else:\n",
    "#             data.to_csv(f'../data/coinbase/Coinbase_{pair_split[0] + pair_split[1]}_data_{i}.csv', index=False)\n",
    "            \n",
    "\n",
    "#     else:\n",
    "#         print(\"Did not receieve OK response from Coinbase API\")\n",
    "\n",
    "\n",
    "# if __name__ == \"__main__\":\n",
    "#     # we set which pair we want to retrieve data for\n",
    "#     pair = \"BTC/USD\"\n",
    "#     fetch_data(symbol=pair)            \n",
    "#     i+=1\n",
    "\n",
    "# i"
   ]
  },
  {
   "cell_type": "code",
   "execution_count": 7,
   "metadata": {},
   "outputs": [],
   "source": [
    "# imported data from other sources stops at 2018-09-27\n",
    "# create loop that gathers daily data from 2018-09-27 to present\n",
    "from datetime import datetime as dt, timedelta"
   ]
  },
  {
   "cell_type": "code",
   "execution_count": 8,
   "metadata": {},
   "outputs": [
    {
     "data": {
      "text/plain": [
       "datetime.date(2018, 9, 27)"
      ]
     },
     "execution_count": 8,
     "metadata": {},
     "output_type": "execute_result"
    }
   ],
   "source": [
    "# last_date = '2018-09-27'\n",
    "# last_date = dt.strpdate(last_date, '%Y-%m-%d')\n",
    "from datetime import date\n",
    "last_date = date(2018, 9, 27)\n",
    "last_date"
   ]
  },
  {
   "cell_type": "code",
   "execution_count": 9,
   "metadata": {},
   "outputs": [],
   "source": [
    "today = date.today()"
   ]
  },
  {
   "cell_type": "code",
   "execution_count": 10,
   "metadata": {},
   "outputs": [],
   "source": [
    "yesterday = today - timedelta(days=1)"
   ]
  },
  {
   "cell_type": "code",
   "execution_count": 11,
   "metadata": {},
   "outputs": [
    {
     "data": {
      "text/plain": [
       "datetime.timedelta(days=1050)"
      ]
     },
     "execution_count": 11,
     "metadata": {},
     "output_type": "execute_result"
    }
   ],
   "source": [
    "today - last_date"
   ]
  },
  {
   "cell_type": "code",
   "execution_count": 12,
   "metadata": {},
   "outputs": [],
   "source": [
    "# create strings that will hold dates for api queries\n",
    "year = '2018'\n",
    "month = '00'\n",
    "day = '00'"
   ]
  },
  {
   "cell_type": "code",
   "execution_count": 13,
   "metadata": {},
   "outputs": [
    {
     "data": {
      "text/plain": [
       "datetime.date(2018, 9, 28)"
      ]
     },
     "execution_count": 13,
     "metadata": {},
     "output_type": "execute_result"
    }
   ],
   "source": [
    "date = last_date + timedelta(days=1)\n",
    "date"
   ]
  },
  {
   "cell_type": "code",
   "execution_count": 14,
   "metadata": {},
   "outputs": [
    {
     "name": "stdout",
     "output_type": "stream",
     "text": [
      "2018 09 28\n"
     ]
    }
   ],
   "source": [
    "# create code to change date while maintaining leading zeroes\n",
    "day_len = len(str(date.day))\n",
    "day = day[:-day_len] + str(date.day)\n",
    "\n",
    "month_len = len(str(date.month))\n",
    "month = month[:-month_len] + str(date.month)\n",
    "\n",
    "print(year, month, day)"
   ]
  },
  {
   "cell_type": "code",
   "execution_count": 19,
   "metadata": {},
   "outputs": [],
   "source": [
    "# test function for loop below\n",
    "def pass_range(range1, range2):\n",
    "    print(range1, range2)"
   ]
  },
  {
   "cell_type": "code",
   "execution_count": 23,
   "metadata": {},
   "outputs": [],
   "source": [
    "from datetime import date\n",
    "# final date in kaggle data\n",
    "last_date = date(2018, 9, 26)\n",
    "last_date\n",
    "\n",
    "# first date in kaggle data\n",
    "first_date = date(2013, 4, 28)\n",
    "first_date\n",
    "\n",
    "#initial date searching for btc data\n",
    "old = date(2009,1,1)"
   ]
  },
  {
   "cell_type": "markdown",
   "metadata": {},
   "source": [
    "## Begin at end of kaggle data and go to current date"
   ]
  },
  {
   "cell_type": "code",
   "execution_count": 24,
   "metadata": {},
   "outputs": [
    {
     "data": {
      "text/plain": [
       "datetime.date(2018, 9, 26)"
      ]
     },
     "execution_count": 24,
     "metadata": {},
     "output_type": "execute_result"
    }
   ],
   "source": [
    "last_date"
   ]
  },
  {
   "cell_type": "code",
   "execution_count": 26,
   "metadata": {},
   "outputs": [],
   "source": [
    "i = 0\n",
    "# instatntiate \"date\"\n",
    "i_date = last_date\n",
    "\n",
    "# get information for all dayes between today and missing date\n",
    "\n",
    "# wrap in while lloop to prevent run away queries\n",
    "while i_date < date.today():\n",
    "    if date.today() - i_date > timedelta(days=300):\n",
    "        i_date = last_date + timedelta(days=300)\n",
    "    \n",
    "    else:\n",
    "        i_date = last_date + (date.today() - i_date)\n",
    "    \n",
    "    #define start and end dates for query\n",
    "    start = str(last_date+timedelta(days=1))\n",
    "    end = str(i_date)\n",
    "    \n",
    "    pass_range(start, end) \n",
    "    \n",
    "    # set last date to date to continue loop\n",
    "    last_date = i_date\n",
    "    "
   ]
  },
  {
   "cell_type": "code",
   "execution_count": 31,
   "metadata": {},
   "outputs": [],
   "source": [
    "def make_folder(path):\n",
    "    !mkdir 'try_it'"
   ]
  },
  {
   "cell_type": "code",
   "execution_count": 32,
   "metadata": {},
   "outputs": [],
   "source": [
    "make_folder('here')"
   ]
  },
  {
   "cell_type": "markdown",
   "metadata": {},
   "source": [
    "## Begin at today's date and move back to start date"
   ]
  },
  {
   "cell_type": "code",
   "execution_count": 27,
   "metadata": {},
   "outputs": [
    {
     "name": "stdout",
     "output_type": "stream",
     "text": [
      "2020-10-16 2021-08-11\n",
      "2019-12-21 2020-10-15\n",
      "2019-02-24 2019-12-20\n",
      "2018-04-30 2019-02-23\n",
      "2017-07-04 2018-04-29\n",
      "2016-09-07 2017-07-03\n",
      "2015-11-12 2016-09-06\n",
      "2015-01-16 2015-11-11\n",
      "2014-03-22 2015-01-15\n",
      "2013-05-26 2014-03-21\n",
      "2012-07-30 2013-05-25\n",
      "2011-10-04 2012-07-29\n",
      "2010-12-08 2011-10-03\n",
      "2010-02-11 2010-12-07\n",
      "2009-04-17 2010-02-10\n",
      "2008-06-21 2009-04-16\n"
     ]
    }
   ],
   "source": [
    "# instantiate \"date\", do not include current date as information is not complete\n",
    "i_date = date.today() - timedelta(days=1)\n",
    "\n",
    "# create placeholder for date range \n",
    "place_date = i_date\n",
    "\n",
    "# get information for all dayes between today and missing date\n",
    "\n",
    "# wrap in while lloop to prevent run away queries\n",
    "while i_date > old:\n",
    "\n",
    "    i_date = place_date - timedelta(days=300)\n",
    "\n",
    "    #define start and end dates for query\n",
    "    end = str(place_date)\n",
    "    start = str(i_date+timedelta(days=1))\n",
    "    \n",
    "    pass_range(start, end) \n",
    "    \n",
    "    # set last date to date to continue loop\n",
    "    place_date = i_date\n",
    "    "
   ]
  },
  {
   "cell_type": "code",
   "execution_count": 50,
   "metadata": {},
   "outputs": [],
   "source": [
    "del start"
   ]
  },
  {
   "cell_type": "code",
   "execution_count": 55,
   "metadata": {},
   "outputs": [
    {
     "name": "stderr",
     "output_type": "stream",
     "text": [
      "A subdirectory or file folder_name already exists.\n",
      "A subdirectory or file folder_name already exists.\n",
      "A subdirectory or file folder_name already exists.\n",
      "A subdirectory or file folder_name already exists.\n",
      "A subdirectory or file folder_name already exists.\n",
      "A subdirectory or file folder_name already exists.\n",
      "A subdirectory or file folder_name already exists.\n",
      "A subdirectory or file folder_name already exists.\n"
     ]
    }
   ],
   "source": [
    "def fetch_range_data(symbol, start, end, folder_name):\n",
    "    # make folder for data\n",
    "    folder_name = f'../data/coinbase/daily_raw/{folder_name}'\n",
    "    !mkdir folder_name\n",
    "\n",
    "    pair_split = symbol.split('/')  # symbol must be in format XXX/XXX ie. BTC/EUR\n",
    "    symbol = pair_split[0] + '-' + pair_split[1]\n",
    "    url = f'https://api.pro.coinbase.com/products/{symbol}/candles?granularity=86400&start={start}&end={end}'\n",
    "    response = requests.get(url)\n",
    "    if response.status_code == 200:  # check to make sure the response from server is good\n",
    "        data = pd.DataFrame(json.loads(response.text), columns=['unix', 'low', 'high', 'open', 'close', 'volume'])\n",
    "        data['date'] = pd.to_datetime(data['unix'], unit='s')  # convert to a readable date\n",
    "        data['vol_fiat'] = data['volume'] * data['close']      # multiply the BTC volume by closing price to approximate fiat volume\n",
    "\n",
    "        # if we failed to get any data, print an error...otherwise write the file\n",
    "        if data is None:\n",
    "            print(\"Did not return any data from Coinbase for this symbol\")\n",
    "        else:\n",
    "            data.to_csv(f'../data/coinbase/daily_raw/{final}/Coinbase_{pair_split[0] + pair_split[1]}_data_{start}_{end}.csv', index=False)\n",
    "\n",
    "\n",
    "    else:\n",
    "        print(\"Did not receieve OK response from Coinbase API\")\n",
    "        \n",
    "\n",
    "final = date.today() - timedelta(days=1)\n",
    "# get all available data from given date\n",
    "if __name__ == \"__main__\":\n",
    "#     # import object rather than class\n",
    "#     from datetime import date\n",
    "    # we set which pair we want to retrieve data for\n",
    "    pair = \"BTC/USD\"\n",
    "\n",
    "    # instatntiate \"date\"\n",
    "    i_date = date.today() - timedelta(days=1)\n",
    "\n",
    "    # create placeholder for date range \n",
    "    place_date = i_date\n",
    "#     # import object rather than class\n",
    "#     from datetime import date\n",
    "    #initial date searching for btc data on coinbase api\n",
    "    old = date(2015,7,20)\n",
    "\n",
    "    # wrap in while loop to prevent run away queries\n",
    "    while i_date > old:\n",
    "\n",
    "        i_date = place_date - timedelta(days=300)\n",
    "\n",
    "        #define start and end dates for query\n",
    "        end = str(place_date)\n",
    "        start = str(i_date+timedelta(days=1))\n",
    "    \n",
    "        fetch_range_data(pair, start, end, final) \n",
    "    \n",
    "        # set last date to date to continue loop\n",
    "        place_date = i_date"
   ]
  },
  {
   "cell_type": "code",
   "execution_count": 33,
   "metadata": {},
   "outputs": [],
   "source": [
    "# instatntiate \"date\"\n",
    "i_date = date.today()\n",
    "\n",
    "# create placeholder for date range \n",
    "place_date = i_date\n",
    "\n",
    "# get information for all dayes between today and missing date\n",
    "\n",
    "# wrap in while loop to prevent run away queries\n",
    "while i_date > old:\n",
    "\n",
    "    i_date = place_date - timedelta(days=300)\n",
    "\n",
    "    #define start and end dates for query\n",
    "    end = str(place_date)\n",
    "    start = str(i_date+timedelta(days=1))\n",
    "    \n",
    "    pass_range(start, end) \n",
    "    \n",
    "    # set last date to date to continue loop\n",
    "    place_date = i_date\n",
    "    "
   ]
  },
  {
   "cell_type": "code",
   "execution_count": null,
   "metadata": {},
   "outputs": [],
   "source": []
  },
  {
   "cell_type": "code",
   "execution_count": null,
   "metadata": {},
   "outputs": [],
   "source": []
  },
  {
   "cell_type": "markdown",
   "metadata": {},
   "source": [
    "# Combine Data"
   ]
  },
  {
   "cell_type": "code",
   "execution_count": 57,
   "metadata": {},
   "outputs": [],
   "source": [
    "import os"
   ]
  },
  {
   "cell_type": "code",
   "execution_count": 58,
   "metadata": {},
   "outputs": [
    {
     "data": {
      "text/plain": [
       "['../data/coinbase/daily_raw/2021-08-11\\\\Coinbase_BTCUSD_data_2015-01-16_2015-11-11.csv',\n",
       " '../data/coinbase/daily_raw/2021-08-11\\\\Coinbase_BTCUSD_data_2015-11-12_2016-09-06.csv',\n",
       " '../data/coinbase/daily_raw/2021-08-11\\\\Coinbase_BTCUSD_data_2016-09-07_2017-07-03.csv',\n",
       " '../data/coinbase/daily_raw/2021-08-11\\\\Coinbase_BTCUSD_data_2017-07-04_2018-04-29.csv',\n",
       " '../data/coinbase/daily_raw/2021-08-11\\\\Coinbase_BTCUSD_data_2018-04-30_2019-02-23.csv',\n",
       " '../data/coinbase/daily_raw/2021-08-11\\\\Coinbase_BTCUSD_data_2019-02-24_2019-12-20.csv',\n",
       " '../data/coinbase/daily_raw/2021-08-11\\\\Coinbase_BTCUSD_data_2019-12-21_2020-10-15.csv',\n",
       " '../data/coinbase/daily_raw/2021-08-11\\\\Coinbase_BTCUSD_data_2020-10-16_2021-08-11.csv']"
      ]
     },
     "execution_count": 58,
     "metadata": {},
     "output_type": "execute_result"
    }
   ],
   "source": [
    "# make empty list to store coinbase paths\n",
    "cb_list = []\n",
    "yesterday = date.today() - timedelta(days=1)\n",
    "path = f'../data/coinbase/daily_raw/{yesterday}'\n",
    "for root, dirs, files in os.walk(path):\n",
    "    \n",
    "    if root == path:\n",
    "        for name in files:\n",
    "            cb_list.append(os.path.join(root,name))\n",
    "    \n",
    "cb_list"
   ]
  },
  {
   "cell_type": "code",
   "execution_count": 59,
   "metadata": {},
   "outputs": [
    {
     "data": {
      "text/plain": [
       "['../data/coinbase/daily_raw/2021-08-11\\\\Coinbase_BTCUSD_data_2015-01-16_2015-11-11.csv',\n",
       " '../data/coinbase/daily_raw/2021-08-11\\\\Coinbase_BTCUSD_data_2015-11-12_2016-09-06.csv',\n",
       " '../data/coinbase/daily_raw/2021-08-11\\\\Coinbase_BTCUSD_data_2016-09-07_2017-07-03.csv',\n",
       " '../data/coinbase/daily_raw/2021-08-11\\\\Coinbase_BTCUSD_data_2017-07-04_2018-04-29.csv',\n",
       " '../data/coinbase/daily_raw/2021-08-11\\\\Coinbase_BTCUSD_data_2018-04-30_2019-02-23.csv',\n",
       " '../data/coinbase/daily_raw/2021-08-11\\\\Coinbase_BTCUSD_data_2019-02-24_2019-12-20.csv',\n",
       " '../data/coinbase/daily_raw/2021-08-11\\\\Coinbase_BTCUSD_data_2019-12-21_2020-10-15.csv',\n",
       " '../data/coinbase/daily_raw/2021-08-11\\\\Coinbase_BTCUSD_data_2020-10-16_2021-08-11.csv']"
      ]
     },
     "execution_count": 59,
     "metadata": {},
     "output_type": "execute_result"
    }
   ],
   "source": [
    "# cb_list = cb_list[6:]\n",
    "cb_list"
   ]
  },
  {
   "cell_type": "code",
   "execution_count": 60,
   "metadata": {},
   "outputs": [],
   "source": [
    "#combine all csv files into single data frame\n",
    "df = pd.DataFrame()\n",
    "for my_df in cb_list:\n",
    "    df = df.append(pd.read_csv(my_df), ignore_index=True)\n",
    "\n",
    "# df = df.append(pd.read_csv('../data/coinbase/Coinbase_BTCUSD_data.csv'), ignore_index=True)\n",
    "# df"
   ]
  },
  {
   "cell_type": "code",
   "execution_count": 65,
   "metadata": {},
   "outputs": [
    {
     "data": {
      "text/html": [
       "<div>\n",
       "<style scoped>\n",
       "    .dataframe tbody tr th:only-of-type {\n",
       "        vertical-align: middle;\n",
       "    }\n",
       "\n",
       "    .dataframe tbody tr th {\n",
       "        vertical-align: top;\n",
       "    }\n",
       "\n",
       "    .dataframe thead th {\n",
       "        text-align: right;\n",
       "    }\n",
       "</style>\n",
       "<table border=\"1\" class=\"dataframe\">\n",
       "  <thead>\n",
       "    <tr style=\"text-align: right;\">\n",
       "      <th></th>\n",
       "      <th>unix</th>\n",
       "      <th>low</th>\n",
       "      <th>high</th>\n",
       "      <th>open</th>\n",
       "      <th>close</th>\n",
       "      <th>volume</th>\n",
       "      <th>date</th>\n",
       "      <th>vol_fiat</th>\n",
       "    </tr>\n",
       "  </thead>\n",
       "  <tbody>\n",
       "    <tr>\n",
       "      <th>114</th>\n",
       "      <td>1437350400</td>\n",
       "      <td>277.37</td>\n",
       "      <td>280.00</td>\n",
       "      <td>277.98</td>\n",
       "      <td>280.00</td>\n",
       "      <td>782.883420</td>\n",
       "      <td>2015-07-20</td>\n",
       "      <td>2.192074e+05</td>\n",
       "    </tr>\n",
       "    <tr>\n",
       "      <th>113</th>\n",
       "      <td>1437436800</td>\n",
       "      <td>276.85</td>\n",
       "      <td>281.27</td>\n",
       "      <td>279.96</td>\n",
       "      <td>277.32</td>\n",
       "      <td>4943.559434</td>\n",
       "      <td>2015-07-21</td>\n",
       "      <td>1.370948e+06</td>\n",
       "    </tr>\n",
       "    <tr>\n",
       "      <th>112</th>\n",
       "      <td>1437523200</td>\n",
       "      <td>275.01</td>\n",
       "      <td>278.54</td>\n",
       "      <td>277.33</td>\n",
       "      <td>277.89</td>\n",
       "      <td>4687.909383</td>\n",
       "      <td>2015-07-22</td>\n",
       "      <td>1.302723e+06</td>\n",
       "    </tr>\n",
       "    <tr>\n",
       "      <th>111</th>\n",
       "      <td>1437609600</td>\n",
       "      <td>276.28</td>\n",
       "      <td>279.75</td>\n",
       "      <td>277.96</td>\n",
       "      <td>277.39</td>\n",
       "      <td>5306.919575</td>\n",
       "      <td>2015-07-23</td>\n",
       "      <td>1.472086e+06</td>\n",
       "    </tr>\n",
       "    <tr>\n",
       "      <th>110</th>\n",
       "      <td>1437696000</td>\n",
       "      <td>276.43</td>\n",
       "      <td>291.52</td>\n",
       "      <td>277.23</td>\n",
       "      <td>289.12</td>\n",
       "      <td>7362.469083</td>\n",
       "      <td>2015-07-24</td>\n",
       "      <td>2.128637e+06</td>\n",
       "    </tr>\n",
       "    <tr>\n",
       "      <th>...</th>\n",
       "      <td>...</td>\n",
       "      <td>...</td>\n",
       "      <td>...</td>\n",
       "      <td>...</td>\n",
       "      <td>...</td>\n",
       "      <td>...</td>\n",
       "      <td>...</td>\n",
       "      <td>...</td>\n",
       "    </tr>\n",
       "    <tr>\n",
       "      <th>1919</th>\n",
       "      <td>1628294400</td>\n",
       "      <td>42457.27</td>\n",
       "      <td>44750.00</td>\n",
       "      <td>42869.59</td>\n",
       "      <td>44637.34</td>\n",
       "      <td>19634.794756</td>\n",
       "      <td>2021-08-07</td>\n",
       "      <td>8.764450e+08</td>\n",
       "    </tr>\n",
       "    <tr>\n",
       "      <th>1918</th>\n",
       "      <td>1628380800</td>\n",
       "      <td>43131.97</td>\n",
       "      <td>45363.83</td>\n",
       "      <td>44628.11</td>\n",
       "      <td>43829.14</td>\n",
       "      <td>18712.271582</td>\n",
       "      <td>2021-08-08</td>\n",
       "      <td>8.201428e+08</td>\n",
       "    </tr>\n",
       "    <tr>\n",
       "      <th>1917</th>\n",
       "      <td>1628467200</td>\n",
       "      <td>42821.30</td>\n",
       "      <td>46497.42</td>\n",
       "      <td>43829.15</td>\n",
       "      <td>46285.48</td>\n",
       "      <td>19464.724935</td>\n",
       "      <td>2021-08-09</td>\n",
       "      <td>9.009341e+08</td>\n",
       "    </tr>\n",
       "    <tr>\n",
       "      <th>1916</th>\n",
       "      <td>1628553600</td>\n",
       "      <td>44650.27</td>\n",
       "      <td>46718.44</td>\n",
       "      <td>46280.00</td>\n",
       "      <td>45595.66</td>\n",
       "      <td>13756.500669</td>\n",
       "      <td>2021-08-10</td>\n",
       "      <td>6.272367e+08</td>\n",
       "    </tr>\n",
       "    <tr>\n",
       "      <th>1915</th>\n",
       "      <td>1628640000</td>\n",
       "      <td>45350.74</td>\n",
       "      <td>46781.09</td>\n",
       "      <td>45601.82</td>\n",
       "      <td>45553.49</td>\n",
       "      <td>11628.320440</td>\n",
       "      <td>2021-08-11</td>\n",
       "      <td>5.297106e+08</td>\n",
       "    </tr>\n",
       "  </tbody>\n",
       "</table>\n",
       "<p>2215 rows × 8 columns</p>\n",
       "</div>"
      ],
      "text/plain": [
       "            unix       low      high      open     close        volume  \\\n",
       "114   1437350400    277.37    280.00    277.98    280.00    782.883420   \n",
       "113   1437436800    276.85    281.27    279.96    277.32   4943.559434   \n",
       "112   1437523200    275.01    278.54    277.33    277.89   4687.909383   \n",
       "111   1437609600    276.28    279.75    277.96    277.39   5306.919575   \n",
       "110   1437696000    276.43    291.52    277.23    289.12   7362.469083   \n",
       "...          ...       ...       ...       ...       ...           ...   \n",
       "1919  1628294400  42457.27  44750.00  42869.59  44637.34  19634.794756   \n",
       "1918  1628380800  43131.97  45363.83  44628.11  43829.14  18712.271582   \n",
       "1917  1628467200  42821.30  46497.42  43829.15  46285.48  19464.724935   \n",
       "1916  1628553600  44650.27  46718.44  46280.00  45595.66  13756.500669   \n",
       "1915  1628640000  45350.74  46781.09  45601.82  45553.49  11628.320440   \n",
       "\n",
       "            date      vol_fiat  \n",
       "114   2015-07-20  2.192074e+05  \n",
       "113   2015-07-21  1.370948e+06  \n",
       "112   2015-07-22  1.302723e+06  \n",
       "111   2015-07-23  1.472086e+06  \n",
       "110   2015-07-24  2.128637e+06  \n",
       "...          ...           ...  \n",
       "1919  2021-08-07  8.764450e+08  \n",
       "1918  2021-08-08  8.201428e+08  \n",
       "1917  2021-08-09  9.009341e+08  \n",
       "1916  2021-08-10  6.272367e+08  \n",
       "1915  2021-08-11  5.297106e+08  \n",
       "\n",
       "[2215 rows x 8 columns]"
      ]
     },
     "execution_count": 65,
     "metadata": {},
     "output_type": "execute_result"
    }
   ],
   "source": [
    "df.sort_values('date')"
   ]
  },
  {
   "cell_type": "code",
   "execution_count": 41,
   "metadata": {},
   "outputs": [
    {
     "data": {
      "text/plain": [
       "BlockManager\n",
       "Items: Index(['unix', 'low', 'high', 'open', 'close', 'volume', 'date', 'vol_fiat'], dtype='object')\n",
       "Axis 1: Int64Index([], dtype='int64')\n",
       "FloatBlock: [1, 2, 3, 4, 5, 7], 6 x 0, dtype: float64\n",
       "IntBlock: slice(0, 1, 1), 1 x 0, dtype: int64\n",
       "ObjectBlock: slice(6, 7, 1), 1 x 0, dtype: object"
      ]
     },
     "execution_count": 41,
     "metadata": {},
     "output_type": "execute_result"
    }
   ],
   "source": [
    "today = str(date.today())\n",
    "df.loc[df.date == today].__dict__['_data']"
   ]
  },
  {
   "cell_type": "code",
   "execution_count": 25,
   "metadata": {},
   "outputs": [],
   "source": [
    "# #\n",
    "# df.drop(index=1901, inplace=True)"
   ]
  },
  {
   "cell_type": "code",
   "execution_count": 42,
   "metadata": {},
   "outputs": [
    {
     "data": {
      "text/plain": [
       "2021-03-28    2\n",
       "2020-12-03    2\n",
       "2021-06-26    2\n",
       "2020-12-15    2\n",
       "2020-11-10    2\n",
       "             ..\n",
       "2016-10-22    1\n",
       "2020-06-14    1\n",
       "2017-05-24    1\n",
       "2017-08-24    1\n",
       "2016-04-22    1\n",
       "Name: date, Length: 2202, dtype: int64"
      ]
     },
     "execution_count": 42,
     "metadata": {},
     "output_type": "execute_result"
    }
   ],
   "source": [
    "df.date.value_counts()"
   ]
  },
  {
   "cell_type": "code",
   "execution_count": 27,
   "metadata": {},
   "outputs": [
    {
     "data": {
      "text/plain": [
       "2017-10-07    1\n",
       "2017-07-23    1\n",
       "2015-09-12    1\n",
       "2015-12-29    1\n",
       "2021-07-12    1\n",
       "             ..\n",
       "2021-04-03    1\n",
       "2017-11-13    1\n",
       "2021-07-07    1\n",
       "2020-12-09    1\n",
       "2021-02-05    1\n",
       "Name: date, Length: 2202, dtype: int64"
      ]
     },
     "execution_count": 27,
     "metadata": {},
     "output_type": "execute_result"
    }
   ],
   "source": [
    "df.drop_duplicates(inplace = True)\n",
    "df.date.value_counts()"
   ]
  },
  {
   "cell_type": "code",
   "execution_count": 28,
   "metadata": {},
   "outputs": [
    {
     "data": {
      "text/plain": [
       "date\n",
       "2015-10-28    2015-10-28\n",
       "2015-10-27    2015-10-27\n",
       "2015-10-26    2015-10-26\n",
       "2015-10-25    2015-10-25\n",
       "2015-10-24    2015-10-24\n",
       "                 ...    \n",
       "2020-10-04    2020-10-04\n",
       "2020-10-03    2020-10-03\n",
       "2020-10-02    2020-10-02\n",
       "2021-07-29    2021-07-29\n",
       "2021-07-28    2021-07-28\n",
       "Name: date, Length: 2202, dtype: object"
      ]
     },
     "execution_count": 28,
     "metadata": {},
     "output_type": "execute_result"
    }
   ],
   "source": [
    "# change index to datetime objects for use in timeseries modeling\n",
    "df.set_index(pd.to_datetime(df['date']), drop=True, inplace=True)\n",
    "df.pop('date')"
   ]
  },
  {
   "cell_type": "code",
   "execution_count": 29,
   "metadata": {},
   "outputs": [
    {
     "data": {
      "text/html": [
       "<div>\n",
       "<style scoped>\n",
       "    .dataframe tbody tr th:only-of-type {\n",
       "        vertical-align: middle;\n",
       "    }\n",
       "\n",
       "    .dataframe tbody tr th {\n",
       "        vertical-align: top;\n",
       "    }\n",
       "\n",
       "    .dataframe thead th {\n",
       "        text-align: right;\n",
       "    }\n",
       "</style>\n",
       "<table border=\"1\" class=\"dataframe\">\n",
       "  <thead>\n",
       "    <tr style=\"text-align: right;\">\n",
       "      <th></th>\n",
       "      <th>unix</th>\n",
       "      <th>low</th>\n",
       "      <th>high</th>\n",
       "      <th>open</th>\n",
       "      <th>close</th>\n",
       "      <th>volume</th>\n",
       "      <th>vol_fiat</th>\n",
       "    </tr>\n",
       "    <tr>\n",
       "      <th>date</th>\n",
       "      <th></th>\n",
       "      <th></th>\n",
       "      <th></th>\n",
       "      <th></th>\n",
       "      <th></th>\n",
       "      <th></th>\n",
       "      <th></th>\n",
       "    </tr>\n",
       "  </thead>\n",
       "  <tbody>\n",
       "    <tr>\n",
       "      <th>2015-10-28</th>\n",
       "      <td>1445990400</td>\n",
       "      <td>295.65</td>\n",
       "      <td>308.93</td>\n",
       "      <td>295.68</td>\n",
       "      <td>304.09</td>\n",
       "      <td>16047.510771</td>\n",
       "      <td>4.879888e+06</td>\n",
       "    </tr>\n",
       "    <tr>\n",
       "      <th>2015-10-27</th>\n",
       "      <td>1445904000</td>\n",
       "      <td>286.89</td>\n",
       "      <td>297.99</td>\n",
       "      <td>287.10</td>\n",
       "      <td>295.61</td>\n",
       "      <td>11123.681788</td>\n",
       "      <td>3.288272e+06</td>\n",
       "    </tr>\n",
       "    <tr>\n",
       "      <th>2015-10-26</th>\n",
       "      <td>1445817600</td>\n",
       "      <td>282.04</td>\n",
       "      <td>287.68</td>\n",
       "      <td>284.97</td>\n",
       "      <td>287.10</td>\n",
       "      <td>7477.924219</td>\n",
       "      <td>2.146912e+06</td>\n",
       "    </tr>\n",
       "    <tr>\n",
       "      <th>2015-10-25</th>\n",
       "      <td>1445731200</td>\n",
       "      <td>283.28</td>\n",
       "      <td>295.93</td>\n",
       "      <td>284.29</td>\n",
       "      <td>284.97</td>\n",
       "      <td>10695.708371</td>\n",
       "      <td>3.047956e+06</td>\n",
       "    </tr>\n",
       "    <tr>\n",
       "      <th>2015-10-24</th>\n",
       "      <td>1445644800</td>\n",
       "      <td>278.75</td>\n",
       "      <td>284.49</td>\n",
       "      <td>278.76</td>\n",
       "      <td>284.29</td>\n",
       "      <td>5508.016725</td>\n",
       "      <td>1.565874e+06</td>\n",
       "    </tr>\n",
       "    <tr>\n",
       "      <th>...</th>\n",
       "      <td>...</td>\n",
       "      <td>...</td>\n",
       "      <td>...</td>\n",
       "      <td>...</td>\n",
       "      <td>...</td>\n",
       "      <td>...</td>\n",
       "      <td>...</td>\n",
       "    </tr>\n",
       "    <tr>\n",
       "      <th>2020-10-04</th>\n",
       "      <td>1601769600</td>\n",
       "      <td>10521.87</td>\n",
       "      <td>10697.00</td>\n",
       "      <td>10550.32</td>\n",
       "      <td>10671.11</td>\n",
       "      <td>3569.256202</td>\n",
       "      <td>3.808793e+07</td>\n",
       "    </tr>\n",
       "    <tr>\n",
       "      <th>2020-10-03</th>\n",
       "      <td>1601683200</td>\n",
       "      <td>10498.02</td>\n",
       "      <td>10606.36</td>\n",
       "      <td>10573.12</td>\n",
       "      <td>10551.65</td>\n",
       "      <td>3211.704593</td>\n",
       "      <td>3.388878e+07</td>\n",
       "    </tr>\n",
       "    <tr>\n",
       "      <th>2020-10-02</th>\n",
       "      <td>1601596800</td>\n",
       "      <td>10363.76</td>\n",
       "      <td>10668.56</td>\n",
       "      <td>10616.35</td>\n",
       "      <td>10573.12</td>\n",
       "      <td>10263.482903</td>\n",
       "      <td>1.085170e+08</td>\n",
       "    </tr>\n",
       "    <tr>\n",
       "      <th>2021-07-29</th>\n",
       "      <td>1627516800</td>\n",
       "      <td>39229.47</td>\n",
       "      <td>40275.53</td>\n",
       "      <td>40035.10</td>\n",
       "      <td>39920.07</td>\n",
       "      <td>1717.930671</td>\n",
       "      <td>6.857991e+07</td>\n",
       "    </tr>\n",
       "    <tr>\n",
       "      <th>2021-07-28</th>\n",
       "      <td>1627430400</td>\n",
       "      <td>38803.34</td>\n",
       "      <td>40925.56</td>\n",
       "      <td>39475.99</td>\n",
       "      <td>40035.10</td>\n",
       "      <td>27198.333581</td>\n",
       "      <td>1.088888e+09</td>\n",
       "    </tr>\n",
       "  </tbody>\n",
       "</table>\n",
       "<p>2202 rows × 7 columns</p>\n",
       "</div>"
      ],
      "text/plain": [
       "                  unix       low      high      open     close        volume  \\\n",
       "date                                                                           \n",
       "2015-10-28  1445990400    295.65    308.93    295.68    304.09  16047.510771   \n",
       "2015-10-27  1445904000    286.89    297.99    287.10    295.61  11123.681788   \n",
       "2015-10-26  1445817600    282.04    287.68    284.97    287.10   7477.924219   \n",
       "2015-10-25  1445731200    283.28    295.93    284.29    284.97  10695.708371   \n",
       "2015-10-24  1445644800    278.75    284.49    278.76    284.29   5508.016725   \n",
       "...                ...       ...       ...       ...       ...           ...   \n",
       "2020-10-04  1601769600  10521.87  10697.00  10550.32  10671.11   3569.256202   \n",
       "2020-10-03  1601683200  10498.02  10606.36  10573.12  10551.65   3211.704593   \n",
       "2020-10-02  1601596800  10363.76  10668.56  10616.35  10573.12  10263.482903   \n",
       "2021-07-29  1627516800  39229.47  40275.53  40035.10  39920.07   1717.930671   \n",
       "2021-07-28  1627430400  38803.34  40925.56  39475.99  40035.10  27198.333581   \n",
       "\n",
       "                vol_fiat  \n",
       "date                      \n",
       "2015-10-28  4.879888e+06  \n",
       "2015-10-27  3.288272e+06  \n",
       "2015-10-26  2.146912e+06  \n",
       "2015-10-25  3.047956e+06  \n",
       "2015-10-24  1.565874e+06  \n",
       "...                  ...  \n",
       "2020-10-04  3.808793e+07  \n",
       "2020-10-03  3.388878e+07  \n",
       "2020-10-02  1.085170e+08  \n",
       "2021-07-29  6.857991e+07  \n",
       "2021-07-28  1.088888e+09  \n",
       "\n",
       "[2202 rows x 7 columns]"
      ]
     },
     "execution_count": 29,
     "metadata": {},
     "output_type": "execute_result"
    }
   ],
   "source": [
    "df"
   ]
  },
  {
   "cell_type": "code",
   "execution_count": 30,
   "metadata": {},
   "outputs": [
    {
     "data": {
      "text/plain": [
       "2200"
      ]
     },
     "execution_count": 30,
     "metadata": {},
     "output_type": "execute_result"
    }
   ],
   "source": [
    "df.shape[0]-2"
   ]
  },
  {
   "cell_type": "code",
   "execution_count": 31,
   "metadata": {},
   "outputs": [
    {
     "data": {
      "text/html": [
       "<div>\n",
       "<style scoped>\n",
       "    .dataframe tbody tr th:only-of-type {\n",
       "        vertical-align: middle;\n",
       "    }\n",
       "\n",
       "    .dataframe tbody tr th {\n",
       "        vertical-align: top;\n",
       "    }\n",
       "\n",
       "    .dataframe thead th {\n",
       "        text-align: right;\n",
       "    }\n",
       "</style>\n",
       "<table border=\"1\" class=\"dataframe\">\n",
       "  <thead>\n",
       "    <tr style=\"text-align: right;\">\n",
       "      <th></th>\n",
       "      <th>date</th>\n",
       "      <th>unix</th>\n",
       "      <th>low</th>\n",
       "      <th>high</th>\n",
       "      <th>open</th>\n",
       "      <th>close</th>\n",
       "      <th>volume</th>\n",
       "      <th>vol_fiat</th>\n",
       "    </tr>\n",
       "  </thead>\n",
       "  <tbody>\n",
       "    <tr>\n",
       "      <th>0</th>\n",
       "      <td>2015-10-28</td>\n",
       "      <td>1445990400</td>\n",
       "      <td>295.65</td>\n",
       "      <td>308.93</td>\n",
       "      <td>295.68</td>\n",
       "      <td>304.09</td>\n",
       "      <td>16047.510771</td>\n",
       "      <td>4.879888e+06</td>\n",
       "    </tr>\n",
       "    <tr>\n",
       "      <th>1</th>\n",
       "      <td>2015-10-27</td>\n",
       "      <td>1445904000</td>\n",
       "      <td>286.89</td>\n",
       "      <td>297.99</td>\n",
       "      <td>287.10</td>\n",
       "      <td>295.61</td>\n",
       "      <td>11123.681788</td>\n",
       "      <td>3.288272e+06</td>\n",
       "    </tr>\n",
       "    <tr>\n",
       "      <th>2</th>\n",
       "      <td>2015-10-26</td>\n",
       "      <td>1445817600</td>\n",
       "      <td>282.04</td>\n",
       "      <td>287.68</td>\n",
       "      <td>284.97</td>\n",
       "      <td>287.10</td>\n",
       "      <td>7477.924219</td>\n",
       "      <td>2.146912e+06</td>\n",
       "    </tr>\n",
       "    <tr>\n",
       "      <th>3</th>\n",
       "      <td>2015-10-25</td>\n",
       "      <td>1445731200</td>\n",
       "      <td>283.28</td>\n",
       "      <td>295.93</td>\n",
       "      <td>284.29</td>\n",
       "      <td>284.97</td>\n",
       "      <td>10695.708371</td>\n",
       "      <td>3.047956e+06</td>\n",
       "    </tr>\n",
       "    <tr>\n",
       "      <th>4</th>\n",
       "      <td>2015-10-24</td>\n",
       "      <td>1445644800</td>\n",
       "      <td>278.75</td>\n",
       "      <td>284.49</td>\n",
       "      <td>278.76</td>\n",
       "      <td>284.29</td>\n",
       "      <td>5508.016725</td>\n",
       "      <td>1.565874e+06</td>\n",
       "    </tr>\n",
       "    <tr>\n",
       "      <th>...</th>\n",
       "      <td>...</td>\n",
       "      <td>...</td>\n",
       "      <td>...</td>\n",
       "      <td>...</td>\n",
       "      <td>...</td>\n",
       "      <td>...</td>\n",
       "      <td>...</td>\n",
       "      <td>...</td>\n",
       "    </tr>\n",
       "    <tr>\n",
       "      <th>2196</th>\n",
       "      <td>2020-10-05</td>\n",
       "      <td>1601856000</td>\n",
       "      <td>10621.12</td>\n",
       "      <td>10800.00</td>\n",
       "      <td>10670.01</td>\n",
       "      <td>10795.00</td>\n",
       "      <td>6081.387019</td>\n",
       "      <td>6.564857e+07</td>\n",
       "    </tr>\n",
       "    <tr>\n",
       "      <th>2197</th>\n",
       "      <td>2020-10-04</td>\n",
       "      <td>1601769600</td>\n",
       "      <td>10521.87</td>\n",
       "      <td>10697.00</td>\n",
       "      <td>10550.32</td>\n",
       "      <td>10671.11</td>\n",
       "      <td>3569.256202</td>\n",
       "      <td>3.808793e+07</td>\n",
       "    </tr>\n",
       "    <tr>\n",
       "      <th>2198</th>\n",
       "      <td>2020-10-03</td>\n",
       "      <td>1601683200</td>\n",
       "      <td>10498.02</td>\n",
       "      <td>10606.36</td>\n",
       "      <td>10573.12</td>\n",
       "      <td>10551.65</td>\n",
       "      <td>3211.704593</td>\n",
       "      <td>3.388878e+07</td>\n",
       "    </tr>\n",
       "    <tr>\n",
       "      <th>2199</th>\n",
       "      <td>2020-10-02</td>\n",
       "      <td>1601596800</td>\n",
       "      <td>10363.76</td>\n",
       "      <td>10668.56</td>\n",
       "      <td>10616.35</td>\n",
       "      <td>10573.12</td>\n",
       "      <td>10263.482903</td>\n",
       "      <td>1.085170e+08</td>\n",
       "    </tr>\n",
       "    <tr>\n",
       "      <th>2201</th>\n",
       "      <td>2021-07-28</td>\n",
       "      <td>1627430400</td>\n",
       "      <td>38803.34</td>\n",
       "      <td>40925.56</td>\n",
       "      <td>39475.99</td>\n",
       "      <td>40035.10</td>\n",
       "      <td>27198.333581</td>\n",
       "      <td>1.088888e+09</td>\n",
       "    </tr>\n",
       "  </tbody>\n",
       "</table>\n",
       "<p>2201 rows × 8 columns</p>\n",
       "</div>"
      ],
      "text/plain": [
       "           date        unix       low      high      open     close  \\\n",
       "0    2015-10-28  1445990400    295.65    308.93    295.68    304.09   \n",
       "1    2015-10-27  1445904000    286.89    297.99    287.10    295.61   \n",
       "2    2015-10-26  1445817600    282.04    287.68    284.97    287.10   \n",
       "3    2015-10-25  1445731200    283.28    295.93    284.29    284.97   \n",
       "4    2015-10-24  1445644800    278.75    284.49    278.76    284.29   \n",
       "...         ...         ...       ...       ...       ...       ...   \n",
       "2196 2020-10-05  1601856000  10621.12  10800.00  10670.01  10795.00   \n",
       "2197 2020-10-04  1601769600  10521.87  10697.00  10550.32  10671.11   \n",
       "2198 2020-10-03  1601683200  10498.02  10606.36  10573.12  10551.65   \n",
       "2199 2020-10-02  1601596800  10363.76  10668.56  10616.35  10573.12   \n",
       "2201 2021-07-28  1627430400  38803.34  40925.56  39475.99  40035.10   \n",
       "\n",
       "            volume      vol_fiat  \n",
       "0     16047.510771  4.879888e+06  \n",
       "1     11123.681788  3.288272e+06  \n",
       "2      7477.924219  2.146912e+06  \n",
       "3     10695.708371  3.047956e+06  \n",
       "4      5508.016725  1.565874e+06  \n",
       "...            ...           ...  \n",
       "2196   6081.387019  6.564857e+07  \n",
       "2197   3569.256202  3.808793e+07  \n",
       "2198   3211.704593  3.388878e+07  \n",
       "2199  10263.482903  1.085170e+08  \n",
       "2201  27198.333581  1.088888e+09  \n",
       "\n",
       "[2201 rows x 8 columns]"
      ]
     },
     "execution_count": 31,
     "metadata": {},
     "output_type": "execute_result"
    }
   ],
   "source": [
    "df.sort_values('date')\n",
    "df.reset_index(inplace=True)\n",
    "\n",
    "# drop incomplete date (tomorrow)\n",
    "drop = int(df.shape[0]-2) \n",
    "df.drop(index=drop, inplace=True)\n",
    "df"
   ]
  },
  {
   "cell_type": "code",
   "execution_count": null,
   "metadata": {},
   "outputs": [],
   "source": []
  },
  {
   "cell_type": "code",
   "execution_count": 32,
   "metadata": {},
   "outputs": [],
   "source": [
    "df.to_csv(f'../data/combined_coinbase_{today}')"
   ]
  },
  {
   "cell_type": "code",
   "execution_count": null,
   "metadata": {},
   "outputs": [],
   "source": []
  },
  {
   "cell_type": "code",
   "execution_count": null,
   "metadata": {},
   "outputs": [],
   "source": []
  },
  {
   "cell_type": "code",
   "execution_count": null,
   "metadata": {},
   "outputs": [],
   "source": []
  },
  {
   "cell_type": "code",
   "execution_count": null,
   "metadata": {},
   "outputs": [],
   "source": []
  },
  {
   "cell_type": "code",
   "execution_count": null,
   "metadata": {},
   "outputs": [],
   "source": []
  },
  {
   "cell_type": "code",
   "execution_count": null,
   "metadata": {},
   "outputs": [],
   "source": []
  }
 ],
 "metadata": {
  "kernelspec": {
   "display_name": "Python 3",
   "language": "python",
   "name": "python3"
  },
  "language_info": {
   "codemirror_mode": {
    "name": "ipython",
    "version": 3
   },
   "file_extension": ".py",
   "mimetype": "text/x-python",
   "name": "python",
   "nbconvert_exporter": "python",
   "pygments_lexer": "ipython3",
   "version": "3.8.2"
  }
 },
 "nbformat": 4,
 "nbformat_minor": 4
}
