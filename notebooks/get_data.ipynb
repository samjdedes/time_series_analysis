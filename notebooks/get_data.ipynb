{
 "cells": [
  {
   "cell_type": "code",
   "execution_count": 1,
   "metadata": {},
   "outputs": [],
   "source": [
    "# First import the libraries that we need to use\n",
    "import pandas as pd\n",
    "import requests\n",
    "import json\n",
    "\n",
    "def fetch_daily_data(symbol):\n",
    "    pair_split = symbol.split('/')  # symbol must be in format XXX/XXX ie. BTC/EUR\n",
    "    symbol = pair_split[0] + '-' + pair_split[1]\n",
    "    url = f'https://api.pro.coinbase.com/products/{symbol}/candles?granularity=60'\n",
    "    response = requests.get(url)\n",
    "    if response.status_code == 200:  # check to make sure the response from server is good\n",
    "        data = pd.DataFrame(json.loads(response.text), columns=['unix', 'low', 'high', 'open', 'close', 'volume'])\n",
    "        data['date'] = pd.to_datetime(data['unix'], unit='s')  # convert to a readable date\n",
    "        data['vol_fiat'] = data['volume'] * data['close']      # multiply the BTC volume by closing price to approximate fiat volume\n",
    "\n",
    "        # if we failed to get any data, print an error...otherwise write the file\n",
    "        if data is None:\n",
    "            print(\"Did not return any data from Coinbase for this symbol\")\n",
    "        else:\n",
    "            data.to_csv(f'../data/coinbase/Coinbase_{pair_split[0] + pair_split[1]}_dailydata.csv', index=False)\n",
    "\n",
    "    else:\n",
    "        print(\"Did not receieve OK response from Coinbase API\")\n",
    "\n",
    "\n",
    "if __name__ == \"__main__\":\n",
    "    # we set which pair we want to retrieve data for\n",
    "    pair = \"BTC/USD\"\n",
    "    fetch_daily_data(symbol=pair)"
   ]
  },
  {
   "cell_type": "code",
   "execution_count": 5,
   "metadata": {},
   "outputs": [],
   "source": [
    "def fetch_minute_data(symbol):\n",
    "    pair_split = symbol.split('/')  # symbol must be in format XXX/XXX ie. BTC/EUR\n",
    "    symbol = pair_split[0] + '-' + pair_split[1]\n",
    "    url = f'https://api.pro.coinbase.com/products/{symbol}/candles?start=2021-07-26'\n",
    "    response = requests.get(url)\n",
    "    if response.status_code == 200:  # check to make sure the response from server is good\n",
    "        data = pd.DataFrame(json.loads(response.text), columns=['unix', 'low', 'high', 'open', 'close', 'volume'])\n",
    "        data['date'] = pd.to_datetime(data['unix'], unit='s')  # convert to a readable date\n",
    "        data['vol_fiat'] = data['volume'] * data['close']      # multiply the BTC volume by closing price to approximate fiat volume\n",
    "\n",
    "        # if we failed to get any data, print an error...otherwise write the file\n",
    "        if data is None:\n",
    "            print(\"Did not return any data from Coinbase for this symbol\")\n",
    "        else:\n",
    "            data.to_csv(f'../data/coinbase/Coinbase_{pair_split[0] + pair_split[1]}_daily_m_data.csv', index=False)\n",
    "\n",
    "    else:\n",
    "        print(\"Did not receieve OK response from Coinbase API\")\n",
    "\n",
    "\n",
    "if __name__ == \"__main__\":\n",
    "    # we set which pair we want to retrieve data for\n",
    "    pair = \"BTC/USD\"\n",
    "    fetch_minute_data(symbol=pair)"
   ]
  },
  {
   "cell_type": "code",
   "execution_count": 11,
   "metadata": {},
   "outputs": [],
   "source": [
    "i = 0"
   ]
  },
  {
   "cell_type": "code",
   "execution_count": 13,
   "metadata": {},
   "outputs": [
    {
     "data": {
      "text/plain": [
       "3"
      ]
     },
     "execution_count": 13,
     "metadata": {},
     "output_type": "execute_result"
    }
   ],
   "source": [
    "def fetch_my_data(symbol, i=i):\n",
    "    pair_split = symbol.split('/')  # symbol must be in format XXX/XXX ie. BTC/EUR\n",
    "    symbol = pair_split[0] + '-' + pair_split[1]\n",
    "    url = f'https://api.pro.coinbase.com/products/{symbol}/candles?start=2021-07-26T05:00:00&end=2021-07-26T09:59:00'\n",
    "    response = requests.get(url)\n",
    "    if response.status_code == 200:  # check to make sure the response from server is good\n",
    "        data = pd.DataFrame(json.loads(response.text), columns=['unix', 'low', 'high', 'open', 'close', 'volume'])\n",
    "        data['date'] = pd.to_datetime(data['unix'], unit='s')  # convert to a readable date\n",
    "        data['vol_fiat'] = data['volume'] * data['close']      # multiply the BTC volume by closing price to approximate fiat volume\n",
    "\n",
    "        # if we failed to get any data, print an error...otherwise write the file\n",
    "        if data is None:\n",
    "            print(\"Did not return any data from Coinbase for this symbol\")\n",
    "        else:\n",
    "            data.to_csv(f'../data/coinbase/Coinbase_{pair_split[0] + pair_split[1]}_data_{i}.csv', index=False)\n",
    "            \n",
    "\n",
    "    else:\n",
    "        print(\"Did not receieve OK response from Coinbase API\")\n",
    "\n",
    "\n",
    "if __name__ == \"__main__\":\n",
    "    # we set which pair we want to retrieve data for\n",
    "    pair = \"BTC/USD\"\n",
    "    fetch_my_data(symbol=pair)            \n",
    "    i+=1\n",
    "\n",
    "i"
   ]
  },
  {
   "cell_type": "code",
   "execution_count": null,
   "metadata": {},
   "outputs": [],
   "source": [
    "counter = 0"
   ]
  },
  {
   "cell_type": "code",
   "execution_count": 9,
   "metadata": {},
   "outputs": [],
   "source": [
    "def fetch_my_data(symbol, i=i):\n",
    "    pair_split = symbol.split('/')  # symbol must be in format XXX/XXX ie. BTC/EUR\n",
    "    symbol = pair_split[0] + '-' + pair_split[1]\n",
    "    url = f'https://api.pro.coinbase.com/products/{symbol}/candles?start=2021-07-26T05:00:00&end=2021-07-26T09:59:00'\n",
    "    response = requests.get(url)\n",
    "    if response.status_code == 200:  # check to make sure the response from server is good\n",
    "        data = pd.DataFrame(json.loads(response.text), columns=['unix', 'low', 'high', 'open', 'close', 'volume'])\n",
    "        data['date'] = pd.to_datetime(data['unix'], unit='s')  # convert to a readable date\n",
    "        data['vol_fiat'] = data['volume'] * data['close']      # multiply the BTC volume by closing price to approximate fiat volume\n",
    "\n",
    "        # if we failed to get any data, print an error...otherwise write the file\n",
    "        if data is None:\n",
    "            print(\"Did not return any data from Coinbase for this symbol\")\n",
    "        else:\n",
    "            data.to_csv(f'../data/coinbase/Coinbase_{pair_split[0] + pair_split[1]}_data_{i}.csv', index=False)\n",
    "            \n",
    "\n",
    "    else:\n",
    "        print(\"Did not receieve OK response from Coinbase API\")\n",
    "\n",
    "\n",
    "if __name__ == \"__main__\":\n",
    "    # we set which pair we want to retrieve data for\n",
    "    pair = \"BTC/USD\"\n",
    "    fetch_my_data(symbol=pair)            \n",
    "    i+=1\n",
    "\n",
    "i"
   ]
  },
  {
   "cell_type": "code",
   "execution_count": null,
   "metadata": {},
   "outputs": [],
   "source": []
  }
 ],
 "metadata": {
  "kernelspec": {
   "display_name": "Python 3",
   "language": "python",
   "name": "python3"
  },
  "language_info": {
   "codemirror_mode": {
    "name": "ipython",
    "version": 3
   },
   "file_extension": ".py",
   "mimetype": "text/x-python",
   "name": "python",
   "nbconvert_exporter": "python",
   "pygments_lexer": "ipython3",
   "version": "3.8.2"
  }
 },
 "nbformat": 4,
 "nbformat_minor": 4
}
