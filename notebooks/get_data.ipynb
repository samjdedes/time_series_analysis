{
 "cells": [
  {
   "cell_type": "code",
   "execution_count": 26,
   "metadata": {},
   "outputs": [],
   "source": [
    "# First import the libraries that we need to use\n",
    "import pandas as pd\n",
    "import requests\n",
    "import json"
   ]
  },
  {
   "cell_type": "code",
   "execution_count": 27,
   "metadata": {},
   "outputs": [],
   "source": [
    "# # daily data\n",
    "# def fetch_daily_data(symbol):\n",
    "#     pair_split = symbol.split('/')  # symbol must be in format XXX/XXX ie. BTC/EUR\n",
    "#     symbol = pair_split[0] + '-' + pair_split[1]\n",
    "#     url = f'https://api.pro.coinbase.com/products/{symbol}/candles?granularity=86400'\n",
    "#     response = requests.get(url)\n",
    "#     if response.status_code == 200:  # check to make sure the response from server is good\n",
    "#         data = pd.DataFrame(json.loads(response.text), columns=['unix', 'low', 'high', 'open', 'close', 'volume'])\n",
    "#         data['date'] = pd.to_datetime(data['unix'], unit='s')  # convert to a readable date\n",
    "#         data['vol_fiat'] = data['volume'] * data['close']      # multiply the BTC volume by closing price to approximate fiat volume\n",
    "\n",
    "#         # if we failed to get any data, print an error...otherwise write the file\n",
    "#         if data is None:\n",
    "#             print(\"Did not return any data from Coinbase for this symbol\")\n",
    "#         else:\n",
    "#             data.to_csv(f'../data/coinbase/Coinbase_{pair_split[0] + pair_split[1]}_dailydata.csv', index=False)\n",
    "\n",
    "#     else:\n",
    "#         print(\"Did not receieve OK response from Coinbase API\")\n",
    "\n",
    "\n",
    "# # if __name__ == \"__main__\":\n",
    "# #     # we set which pair we want to retrieve data for\n",
    "# #     pair = \"BTC/USD\"\n",
    "# #     fetch_daily_data(symbol=pair)"
   ]
  },
  {
   "cell_type": "code",
   "execution_count": 28,
   "metadata": {},
   "outputs": [],
   "source": [
    "# def fetch_minute_data(symbol):\n",
    "#     pair_split = symbol.split('/')  # symbol must be in format XXX/XXX ie. BTC/EUR\n",
    "#     symbol = pair_split[0] + '-' + pair_split[1]\n",
    "#     url = f'https://api.pro.coinbase.com/products/{symbol}/candles?start=2021-07-26'\n",
    "#     response = requests.get(url)\n",
    "#     if response.status_code == 200:  # check to make sure the response from server is good\n",
    "#         data = pd.DataFrame(json.loads(response.text), columns=['unix', 'low', 'high', 'open', 'close', 'volume'])\n",
    "#         data['date'] = pd.to_datetime(data['unix'], unit='s')  # convert to a readable date\n",
    "#         data['vol_fiat'] = data['volume'] * data['close']      # multiply the BTC volume by closing price to approximate fiat volume\n",
    "\n",
    "#         # if we failed to get any data, print an error...otherwise write the file\n",
    "#         if data is None:\n",
    "#             print(\"Did not return any data from Coinbase for this symbol\")\n",
    "#         else:\n",
    "#             data.to_csv(f'../data/coinbase/Coinbase_{pair_split[0] + pair_split[1]}_daily_m_data.csv', index=False)\n",
    "\n",
    "#     else:\n",
    "#         print(\"Did not receieve OK response from Coinbase API\")\n",
    "\n",
    "\n",
    "# # if __name__ == \"__main__\":\n",
    "# #     # we set which pair we want to retrieve data for\n",
    "# #     pair = \"BTC/USD\"\n",
    "# #     fetch_minute_data(symbol=pair)"
   ]
  },
  {
   "cell_type": "code",
   "execution_count": 29,
   "metadata": {},
   "outputs": [],
   "source": [
    "# def fetch_my_data(symbol):\n",
    "#     pair_split = symbol.split('/')  # symbol must be in format XXX/XXX ie. BTC/EUR\n",
    "#     symbol = pair_split[0] + '-' + pair_split[1]\n",
    "#     url = f'https://api.pro.coinbase.com/products/{symbol}/candles?start=2021-07-26&granularity=86400'\n",
    "#     response = requests.get(url)\n",
    "#     if response.status_code == 200:  # check to make sure the response from server is good\n",
    "#         data = pd.DataFrame(json.loads(response.text), columns=['unix', 'low', 'high', 'open', 'close', 'volume'])\n",
    "#         data['date'] = pd.to_datetime(data['unix'], unit='s')  # convert to a readable date\n",
    "#         data['vol_fiat'] = data['volume'] * data['close']      # multiply the BTC volume by closing price to approximate fiat volume\n",
    "\n",
    "#         # if we failed to get any data, print an error...otherwise write the file\n",
    "#         if data is None:\n",
    "#             print(\"Did not return any data from Coinbase for this symbol\")\n",
    "#         else:\n",
    "#             data.to_csv(f'../data/coinbase/Coinbase_{pair_split[0] + pair_split[1]}_data.csv', index=False)\n",
    "            \n",
    "\n",
    "#     else:\n",
    "#         print(\"Did not receieve OK response from Coinbase API\")\n",
    "\n",
    "\n",
    "# # if __name__ == \"__main__\":\n",
    "# #     # we set which pair we want to retrieve data for\n",
    "# #     pair = \"BTC/USD\"\n",
    "# #     fetch_my_data(symbol=pair)            "
   ]
  },
  {
   "cell_type": "code",
   "execution_count": 30,
   "metadata": {},
   "outputs": [],
   "source": [
    "# def fetch_data(symbol, counter=counter):\n",
    "#     pair_split = symbol.split('/')  # symbol must be in format XXX/XXX ie. BTC/EUR\n",
    "#     symbol = pair_split[0] + '-' + pair_split[1]\n",
    "#     url = f'https://api.pro.coinbase.com/products/{symbol}/candles?start=2021-07-26T05:00:00&end=2021-07-26T09:59:00'\n",
    "#     response = requests.get(url)\n",
    "#     if response.status_code == 200:  # check to make sure the response from server is good\n",
    "#         data = pd.DataFrame(json.loads(response.text), columns=['unix', 'low', 'high', 'open', 'close', 'volume'])\n",
    "#         data['date'] = pd.to_datetime(data['unix'], unit='s')  # convert to a readable date\n",
    "#         data['vol_fiat'] = data['volume'] * data['close']      # multiply the BTC volume by closing price to approximate fiat volume\n",
    "\n",
    "#         # if we failed to get any data, print an error...otherwise write the file\n",
    "#         if data is None:\n",
    "#             print(\"Did not return any data from Coinbase for this symbol\")\n",
    "#         else:\n",
    "#             data.to_csv(f'../data/coinbase/Coinbase_{pair_split[0] + pair_split[1]}_data_{i}.csv', index=False)\n",
    "            \n",
    "\n",
    "#     else:\n",
    "#         print(\"Did not receieve OK response from Coinbase API\")\n",
    "\n",
    "\n",
    "# if __name__ == \"__main__\":\n",
    "#     # we set which pair we want to retrieve data for\n",
    "#     pair = \"BTC/USD\"\n",
    "#     fetch_data(symbol=pair)            \n",
    "#     i+=1\n",
    "\n",
    "# i"
   ]
  },
  {
   "cell_type": "code",
   "execution_count": 31,
   "metadata": {},
   "outputs": [],
   "source": [
    "# imported data from other sources stops at 2018-09-27\n",
    "# create loop that gathers daily data from 2018-09-27 to present\n",
    "import datetime as dt\n",
    "from datetime import timedelta"
   ]
  },
  {
   "cell_type": "code",
   "execution_count": 32,
   "metadata": {},
   "outputs": [
    {
     "data": {
      "text/plain": [
       "datetime.date(2018, 9, 27)"
      ]
     },
     "execution_count": 32,
     "metadata": {},
     "output_type": "execute_result"
    }
   ],
   "source": [
    "# last_date = '2018-09-27'\n",
    "# last_date = dt.strpdate(last_date, '%Y-%m-%d')\n",
    "# from datetime import date\n",
    "last_date = dt.date(2018, 9, 27)\n",
    "last_date"
   ]
  },
  {
   "cell_type": "code",
   "execution_count": 33,
   "metadata": {},
   "outputs": [],
   "source": [
    "today = dt.date.today()"
   ]
  },
  {
   "cell_type": "code",
   "execution_count": 34,
   "metadata": {},
   "outputs": [],
   "source": [
    "yesterday = today - timedelta(days=1)"
   ]
  },
  {
   "cell_type": "code",
   "execution_count": 35,
   "metadata": {},
   "outputs": [
    {
     "data": {
      "text/plain": [
       "datetime.timedelta(days=1054)"
      ]
     },
     "execution_count": 35,
     "metadata": {},
     "output_type": "execute_result"
    }
   ],
   "source": [
    "today - last_date"
   ]
  },
  {
   "cell_type": "code",
   "execution_count": 36,
   "metadata": {},
   "outputs": [],
   "source": [
    "# create strings that will hold dates for api queries\n",
    "year = '2018'\n",
    "month = '00'\n",
    "day = '00'"
   ]
  },
  {
   "cell_type": "code",
   "execution_count": 37,
   "metadata": {},
   "outputs": [
    {
     "data": {
      "text/plain": [
       "datetime.date(2018, 9, 28)"
      ]
     },
     "execution_count": 37,
     "metadata": {},
     "output_type": "execute_result"
    }
   ],
   "source": [
    "date = last_date + timedelta(days=1)\n",
    "date"
   ]
  },
  {
   "cell_type": "code",
   "execution_count": 38,
   "metadata": {},
   "outputs": [
    {
     "name": "stdout",
     "output_type": "stream",
     "text": [
      "2018 09 28\n"
     ]
    }
   ],
   "source": [
    "# create code to change date while maintaining leading zeroes\n",
    "day_len = len(str(date.day))\n",
    "day = day[:-day_len] + str(date.day)\n",
    "\n",
    "month_len = len(str(date.month))\n",
    "month = month[:-month_len] + str(date.month)\n",
    "\n",
    "print(year, month, day)"
   ]
  },
  {
   "cell_type": "code",
   "execution_count": 39,
   "metadata": {},
   "outputs": [],
   "source": [
    "# test function for loop below\n",
    "def pass_range(range1, range2):\n",
    "    print(range1, range2)"
   ]
  },
  {
   "cell_type": "code",
   "execution_count": 40,
   "metadata": {},
   "outputs": [],
   "source": [
    "# final date in kaggle data\n",
    "last_date = dt.date(2018, 9, 26)\n",
    "last_date\n",
    "\n",
    "# first date in kaggle data\n",
    "first_date = dt.date(2013, 4, 28)\n",
    "first_date\n",
    "\n",
    "#initial date searching for btc data\n",
    "old = dt.date(2009,1,1)"
   ]
  },
  {
   "cell_type": "markdown",
   "metadata": {},
   "source": [
    "## Begin at end of kaggle data and go to current date"
   ]
  },
  {
   "cell_type": "code",
   "execution_count": 41,
   "metadata": {},
   "outputs": [
    {
     "data": {
      "text/plain": [
       "datetime.date(2018, 9, 26)"
      ]
     },
     "execution_count": 41,
     "metadata": {},
     "output_type": "execute_result"
    }
   ],
   "source": [
    "last_date"
   ]
  },
  {
   "cell_type": "code",
   "execution_count": 42,
   "metadata": {},
   "outputs": [
    {
     "name": "stdout",
     "output_type": "stream",
     "text": [
      "2018-09-27 2019-07-23\n",
      "2019-07-24 2020-05-18\n",
      "2020-05-19 2021-03-14\n",
      "2021-03-15 2021-08-16\n"
     ]
    }
   ],
   "source": [
    "i = 0\n",
    "# instatntiate \"date\"\n",
    "i_date = last_date\n",
    "\n",
    "# get information for all dayes between today and missing date\n",
    "\n",
    "# wrap in while lloop to prevent run away queries\n",
    "while i_date < date.today():\n",
    "    if date.today() - i_date > timedelta(days=300):\n",
    "        i_date = last_date + timedelta(days=300)\n",
    "    \n",
    "    else:\n",
    "        i_date = last_date + (date.today() - i_date)\n",
    "    \n",
    "    #define start and end dates for query\n",
    "    start = str(last_date+timedelta(days=1))\n",
    "    end = str(i_date)\n",
    "    \n",
    "    pass_range(start, end) \n",
    "    \n",
    "    # set last date to date to continue loop\n",
    "    last_date = i_date\n",
    "    "
   ]
  },
  {
   "cell_type": "code",
   "execution_count": 43,
   "metadata": {},
   "outputs": [],
   "source": [
    "from os import mkdir"
   ]
  },
  {
   "cell_type": "markdown",
   "metadata": {},
   "source": [
    "## Begin at today's date and move back to start date"
   ]
  },
  {
   "cell_type": "code",
   "execution_count": 44,
   "metadata": {},
   "outputs": [
    {
     "name": "stdout",
     "output_type": "stream",
     "text": [
      "2020-10-20 2021-08-15\n",
      "2019-12-25 2020-10-19\n",
      "2019-02-28 2019-12-24\n",
      "2018-05-04 2019-02-27\n",
      "2017-07-08 2018-05-03\n",
      "2016-09-11 2017-07-07\n",
      "2015-11-16 2016-09-10\n",
      "2015-01-20 2015-11-15\n",
      "2014-03-26 2015-01-19\n",
      "2013-05-30 2014-03-25\n",
      "2012-08-03 2013-05-29\n",
      "2011-10-08 2012-08-02\n",
      "2010-12-12 2011-10-07\n",
      "2010-02-15 2010-12-11\n",
      "2009-04-21 2010-02-14\n",
      "2008-06-25 2009-04-20\n"
     ]
    }
   ],
   "source": [
    "# instantiate \"date\", do not include current date as information is not complete\n",
    "i_date = date.today() - timedelta(days=1)\n",
    "\n",
    "# create placeholder for date range \n",
    "place_date = i_date\n",
    "\n",
    "# get information for all dayes between today and missing date\n",
    "\n",
    "# wrap in while lloop to prevent run away queries\n",
    "while i_date > old:\n",
    "\n",
    "    i_date = place_date - timedelta(days=300)\n",
    "\n",
    "    #define start and end dates for query\n",
    "    end = str(place_date)\n",
    "    start = str(i_date+timedelta(days=1))\n",
    "    \n",
    "    pass_range(start, end) \n",
    "    \n",
    "    # set last date to date to continue loop\n",
    "    place_date = i_date\n",
    "    "
   ]
  },
  {
   "cell_type": "code",
   "execution_count": 50,
   "metadata": {},
   "outputs": [
    {
     "name": "stdout",
     "output_type": "stream",
     "text": [
      "Did not receieve OK response from Coinbase API\n",
      "Did not receieve OK response from Coinbase API\n",
      "Did not receieve OK response from Coinbase API\n",
      "Did not receieve OK response from Coinbase API\n",
      "Did not receieve OK response from Coinbase API\n",
      "Did not receieve OK response from Coinbase API\n",
      "Did not receieve OK response from Coinbase API\n",
      "Did not receieve OK response from Coinbase API\n"
     ]
    }
   ],
   "source": [
    "def fetch_range_data(symbol, start, end, path=None):\n",
    "    # make folder for data or make exception\n",
    "    if not path:\n",
    "        path = f'../data/coinbase/daily_raw/{end}'\n",
    "        \n",
    "    try:\n",
    "        mkdir(path)\n",
    "\n",
    "    except:\n",
    "        pass\n",
    "    \n",
    "    pair_split = symbol.split('/')  # symbol must be in format XXX/XXX ie. BTC/EUR\n",
    "    symbol = pair_split[0] + '-' + pair_split[1]\n",
    "    url = f'https://api.pro.coinbase.com/products/{symbol}/candles?granularity=86400&start={start}&end={end}'\n",
    "    response = requests.get(url)\n",
    "    if response.status_code == 200:  # check to make sure the response from server is good\n",
    "        data = pd.DataFrame(json.loads(response.text), columns=['unix', 'low', 'high', 'open', 'close', 'volume'])\n",
    "        data['date'] = pd.to_datetime(data['unix'], unit='s')  # convert to a readable date\n",
    "        data['vol_fiat'] = data['volume'] * data['close']      # multiply the BTC volume by closing price to approximate fiat volume\n",
    "\n",
    "        # if we failed to get any data, print an error...otherwise write the file\n",
    "        if data is None:\n",
    "            print(f\"Did not return any data from Coinbase for this symbol - {symbol}\")\n",
    "        else:\n",
    "            data.to_csv(f'{path}/Coinbase_{pair_split[0] + pair_split[1]}_data_{start}_{end}.csv', index=False)\n",
    "\n",
    "\n",
    "    else:\n",
    "        print(\"Did not receieve OK response from Coinbase API\")\n",
    "        \n",
    "\n",
    "# get all available data from given date\n",
    "if __name__ == \"__main__\":\n",
    "    # we set which pair we want to retrieve data for\n",
    "    pair = \"BTC/USD\"\n",
    "    begin = \"2015-07-20\"\n",
    "    stop = \"2021-08-16\"\n",
    "\n",
    "    # instantiate index \"i_date\"\n",
    "    i_date = dt.date.today() - timedelta(days=1)\n",
    "\n",
    "    # create placeholder for date range \n",
    "    place_date = i_date\n",
    "#     #initial date searching for btc data on coinbase api\n",
    "#     old = dt.date(2015,7,20)\n",
    "\n",
    "    # wrap in while loop to prevent run away queries\n",
    "    while i_date > old:\n",
    "\n",
    "        i_date = place_date - timedelta(days=300)\n",
    "\n",
    "        #define start and end dates for query\n",
    "        end = str(place_date)\n",
    "        start = str(i_date+timedelta(days=1))\n",
    "    \n",
    "        fetch_range_data(pair, begin, stop) \n",
    "    \n",
    "        # set last date to date to continue loop\n",
    "        place_date = i_date"
   ]
  },
  {
   "cell_type": "code",
   "execution_count": 46,
   "metadata": {},
   "outputs": [
    {
     "name": "stdout",
     "output_type": "stream",
     "text": [
      "2020-10-21 2021-08-16\n",
      "2019-12-26 2020-10-20\n",
      "2019-03-01 2019-12-25\n",
      "2018-05-05 2019-02-28\n",
      "2017-07-09 2018-05-04\n",
      "2016-09-12 2017-07-08\n",
      "2015-11-17 2016-09-11\n",
      "2015-01-21 2015-11-16\n"
     ]
    }
   ],
   "source": [
    "# instatntiate index date \"i_date\"\n",
    "i_date = dt.date.today()\n",
    "\n",
    "# create placeholder for date range \n",
    "place_date = i_date\n",
    "\n",
    "# get information for all dayes between today and missing date\n",
    "\n",
    "# wrap in while loop to prevent run away queries\n",
    "while i_date > old:\n",
    "\n",
    "    i_date = place_date - timedelta(days=300)\n",
    "\n",
    "    #define start and end dates for query\n",
    "    end = str(place_date)\n",
    "    start = str(i_date+timedelta(days=1))\n",
    "    \n",
    "    pass_range(start, end) \n",
    "    \n",
    "    # set last date to date to continue loop\n",
    "    place_date = i_date\n",
    "    "
   ]
  },
  {
   "cell_type": "code",
   "execution_count": null,
   "metadata": {},
   "outputs": [],
   "source": []
  },
  {
   "cell_type": "code",
   "execution_count": null,
   "metadata": {},
   "outputs": [],
   "source": []
  },
  {
   "cell_type": "markdown",
   "metadata": {},
   "source": [
    "# Combine Data"
   ]
  },
  {
   "cell_type": "code",
   "execution_count": 47,
   "metadata": {},
   "outputs": [],
   "source": [
    "import os"
   ]
  },
  {
   "cell_type": "code",
   "execution_count": 48,
   "metadata": {},
   "outputs": [
    {
     "data": {
      "text/plain": [
       "['../data/coinbase/daily_raw/2021-08-15\\\\Coinbase_BTCUSD_data_2015-01-20_2015-11-15.csv',\n",
       " '../data/coinbase/daily_raw/2021-08-15\\\\Coinbase_BTCUSD_data_2015-11-16_2016-09-10.csv',\n",
       " '../data/coinbase/daily_raw/2021-08-15\\\\Coinbase_BTCUSD_data_2016-09-11_2017-07-07.csv',\n",
       " '../data/coinbase/daily_raw/2021-08-15\\\\Coinbase_BTCUSD_data_2017-07-08_2018-05-03.csv',\n",
       " '../data/coinbase/daily_raw/2021-08-15\\\\Coinbase_BTCUSD_data_2018-05-04_2019-02-27.csv',\n",
       " '../data/coinbase/daily_raw/2021-08-15\\\\Coinbase_BTCUSD_data_2019-02-28_2019-12-24.csv',\n",
       " '../data/coinbase/daily_raw/2021-08-15\\\\Coinbase_BTCUSD_data_2019-12-25_2020-10-19.csv',\n",
       " '../data/coinbase/daily_raw/2021-08-15\\\\Coinbase_BTCUSD_data_2020-10-20_2021-08-15.csv']"
      ]
     },
     "execution_count": 48,
     "metadata": {},
     "output_type": "execute_result"
    }
   ],
   "source": [
    "# make empty list to store coinbase paths\n",
    "cb_list = []\n",
    "yesterday = dt.date.today() - timedelta(days=1)\n",
    "path = f'../data/coinbase/daily_raw/{yesterday}'\n",
    "for root, dirs, files in os.walk(path):\n",
    "    \n",
    "    if root == path:\n",
    "        for name in files:\n",
    "            cb_list.append(os.path.join(root,name))\n",
    "    \n",
    "cb_list"
   ]
  },
  {
   "cell_type": "code",
   "execution_count": 75,
   "metadata": {},
   "outputs": [],
   "source": [
    "#combine all csv files into single data frame\n",
    "df = pd.DataFrame()\n",
    "for my_df in cb_list:\n",
    "    df = df.append(pd.read_csv(my_df), ignore_index=True)\n",
    "\n",
    "# df = df.append(pd.read_csv('../data/coinbase/Coinbase_BTCUSD_data.csv'), ignore_index=True)\n",
    "# df"
   ]
  },
  {
   "cell_type": "code",
   "execution_count": 76,
   "metadata": {},
   "outputs": [
    {
     "data": {
      "text/plain": [
       "2019-10-09    1\n",
       "2019-11-04    1\n",
       "2015-10-09    1\n",
       "2017-10-30    1\n",
       "2016-05-06    1\n",
       "             ..\n",
       "2018-06-11    1\n",
       "2017-08-27    1\n",
       "2016-10-02    1\n",
       "2016-08-24    1\n",
       "2018-08-03    1\n",
       "Name: date, Length: 2219, dtype: int64"
      ]
     },
     "execution_count": 76,
     "metadata": {},
     "output_type": "execute_result"
    }
   ],
   "source": [
    "df.date.value_counts()"
   ]
  },
  {
   "cell_type": "code",
   "execution_count": 89,
   "metadata": {},
   "outputs": [],
   "source": [
    "import warnings"
   ]
  },
  {
   "cell_type": "code",
   "execution_count": 91,
   "metadata": {},
   "outputs": [],
   "source": [
    "# check for duplicates\n",
    "if not df.drop_duplicates().equals(df):\n",
    "    warnings.warn('Duplicate entries detected.')"
   ]
  },
  {
   "cell_type": "code",
   "execution_count": 69,
   "metadata": {},
   "outputs": [
    {
     "data": {
      "text/plain": [
       "date\n",
       "2015-11-15    2015-11-15\n",
       "2015-11-14    2015-11-14\n",
       "2015-11-13    2015-11-13\n",
       "2015-11-12    2015-11-12\n",
       "2015-11-11    2015-11-11\n",
       "                 ...    \n",
       "2020-10-24    2020-10-24\n",
       "2020-10-23    2020-10-23\n",
       "2020-10-22    2020-10-22\n",
       "2020-10-21    2020-10-21\n",
       "2020-10-20    2020-10-20\n",
       "Name: date, Length: 2219, dtype: object"
      ]
     },
     "execution_count": 69,
     "metadata": {},
     "output_type": "execute_result"
    }
   ],
   "source": [
    "# change index to datetime objects for use in timeseries modeling\n",
    "df.set_index(pd.to_datetime(df['date']), drop=True, inplace=True)\n",
    "df.pop('date')"
   ]
  },
  {
   "cell_type": "code",
   "execution_count": 70,
   "metadata": {},
   "outputs": [
    {
     "data": {
      "text/html": [
       "<div>\n",
       "<style scoped>\n",
       "    .dataframe tbody tr th:only-of-type {\n",
       "        vertical-align: middle;\n",
       "    }\n",
       "\n",
       "    .dataframe tbody tr th {\n",
       "        vertical-align: top;\n",
       "    }\n",
       "\n",
       "    .dataframe thead th {\n",
       "        text-align: right;\n",
       "    }\n",
       "</style>\n",
       "<table border=\"1\" class=\"dataframe\">\n",
       "  <thead>\n",
       "    <tr style=\"text-align: right;\">\n",
       "      <th></th>\n",
       "      <th>unix</th>\n",
       "      <th>low</th>\n",
       "      <th>high</th>\n",
       "      <th>open</th>\n",
       "      <th>close</th>\n",
       "      <th>volume</th>\n",
       "      <th>vol_fiat</th>\n",
       "    </tr>\n",
       "    <tr>\n",
       "      <th>date</th>\n",
       "      <th></th>\n",
       "      <th></th>\n",
       "      <th></th>\n",
       "      <th></th>\n",
       "      <th></th>\n",
       "      <th></th>\n",
       "      <th></th>\n",
       "    </tr>\n",
       "  </thead>\n",
       "  <tbody>\n",
       "    <tr>\n",
       "      <th>2015-11-15</th>\n",
       "      <td>1447545600</td>\n",
       "      <td>319.89</td>\n",
       "      <td>336.46</td>\n",
       "      <td>334.67</td>\n",
       "      <td>322.93</td>\n",
       "      <td>6329.302827</td>\n",
       "      <td>2.043922e+06</td>\n",
       "    </tr>\n",
       "    <tr>\n",
       "      <th>2015-11-14</th>\n",
       "      <td>1447459200</td>\n",
       "      <td>329.40</td>\n",
       "      <td>339.57</td>\n",
       "      <td>338.08</td>\n",
       "      <td>334.71</td>\n",
       "      <td>6008.710164</td>\n",
       "      <td>2.011175e+06</td>\n",
       "    </tr>\n",
       "    <tr>\n",
       "      <th>2015-11-13</th>\n",
       "      <td>1447372800</td>\n",
       "      <td>325.00</td>\n",
       "      <td>343.00</td>\n",
       "      <td>336.49</td>\n",
       "      <td>338.07</td>\n",
       "      <td>10203.566404</td>\n",
       "      <td>3.449520e+06</td>\n",
       "    </tr>\n",
       "    <tr>\n",
       "      <th>2015-11-12</th>\n",
       "      <td>1447286400</td>\n",
       "      <td>312.24</td>\n",
       "      <td>344.99</td>\n",
       "      <td>313.20</td>\n",
       "      <td>336.49</td>\n",
       "      <td>15784.268176</td>\n",
       "      <td>5.311248e+06</td>\n",
       "    </tr>\n",
       "    <tr>\n",
       "      <th>2015-11-11</th>\n",
       "      <td>1447200000</td>\n",
       "      <td>293.32</td>\n",
       "      <td>341.75</td>\n",
       "      <td>337.14</td>\n",
       "      <td>313.20</td>\n",
       "      <td>18099.038294</td>\n",
       "      <td>5.668619e+06</td>\n",
       "    </tr>\n",
       "    <tr>\n",
       "      <th>...</th>\n",
       "      <td>...</td>\n",
       "      <td>...</td>\n",
       "      <td>...</td>\n",
       "      <td>...</td>\n",
       "      <td>...</td>\n",
       "      <td>...</td>\n",
       "      <td>...</td>\n",
       "    </tr>\n",
       "    <tr>\n",
       "      <th>2020-10-24</th>\n",
       "      <td>1603497600</td>\n",
       "      <td>12884.31</td>\n",
       "      <td>13175.00</td>\n",
       "      <td>12938.00</td>\n",
       "      <td>13126.24</td>\n",
       "      <td>7915.346635</td>\n",
       "      <td>1.038987e+08</td>\n",
       "    </tr>\n",
       "    <tr>\n",
       "      <th>2020-10-23</th>\n",
       "      <td>1603411200</td>\n",
       "      <td>12722.72</td>\n",
       "      <td>13037.00</td>\n",
       "      <td>12988.20</td>\n",
       "      <td>12937.09</td>\n",
       "      <td>10450.872072</td>\n",
       "      <td>1.352039e+08</td>\n",
       "    </tr>\n",
       "    <tr>\n",
       "      <th>2020-10-22</th>\n",
       "      <td>1603324800</td>\n",
       "      <td>12698.02</td>\n",
       "      <td>13200.00</td>\n",
       "      <td>12808.01</td>\n",
       "      <td>12987.02</td>\n",
       "      <td>20337.789664</td>\n",
       "      <td>2.641273e+08</td>\n",
       "    </tr>\n",
       "    <tr>\n",
       "      <th>2020-10-21</th>\n",
       "      <td>1603238400</td>\n",
       "      <td>11900.01</td>\n",
       "      <td>13250.04</td>\n",
       "      <td>11923.07</td>\n",
       "      <td>12808.00</td>\n",
       "      <td>32404.632932</td>\n",
       "      <td>4.150385e+08</td>\n",
       "    </tr>\n",
       "    <tr>\n",
       "      <th>2020-10-20</th>\n",
       "      <td>1603152000</td>\n",
       "      <td>11685.00</td>\n",
       "      <td>12050.00</td>\n",
       "      <td>11760.45</td>\n",
       "      <td>11923.83</td>\n",
       "      <td>13840.024813</td>\n",
       "      <td>1.650261e+08</td>\n",
       "    </tr>\n",
       "  </tbody>\n",
       "</table>\n",
       "<p>2219 rows × 7 columns</p>\n",
       "</div>"
      ],
      "text/plain": [
       "                  unix       low      high      open     close        volume  \\\n",
       "date                                                                           \n",
       "2015-11-15  1447545600    319.89    336.46    334.67    322.93   6329.302827   \n",
       "2015-11-14  1447459200    329.40    339.57    338.08    334.71   6008.710164   \n",
       "2015-11-13  1447372800    325.00    343.00    336.49    338.07  10203.566404   \n",
       "2015-11-12  1447286400    312.24    344.99    313.20    336.49  15784.268176   \n",
       "2015-11-11  1447200000    293.32    341.75    337.14    313.20  18099.038294   \n",
       "...                ...       ...       ...       ...       ...           ...   \n",
       "2020-10-24  1603497600  12884.31  13175.00  12938.00  13126.24   7915.346635   \n",
       "2020-10-23  1603411200  12722.72  13037.00  12988.20  12937.09  10450.872072   \n",
       "2020-10-22  1603324800  12698.02  13200.00  12808.01  12987.02  20337.789664   \n",
       "2020-10-21  1603238400  11900.01  13250.04  11923.07  12808.00  32404.632932   \n",
       "2020-10-20  1603152000  11685.00  12050.00  11760.45  11923.83  13840.024813   \n",
       "\n",
       "                vol_fiat  \n",
       "date                      \n",
       "2015-11-15  2.043922e+06  \n",
       "2015-11-14  2.011175e+06  \n",
       "2015-11-13  3.449520e+06  \n",
       "2015-11-12  5.311248e+06  \n",
       "2015-11-11  5.668619e+06  \n",
       "...                  ...  \n",
       "2020-10-24  1.038987e+08  \n",
       "2020-10-23  1.352039e+08  \n",
       "2020-10-22  2.641273e+08  \n",
       "2020-10-21  4.150385e+08  \n",
       "2020-10-20  1.650261e+08  \n",
       "\n",
       "[2219 rows x 7 columns]"
      ]
     },
     "execution_count": 70,
     "metadata": {},
     "output_type": "execute_result"
    }
   ],
   "source": [
    "df"
   ]
  },
  {
   "cell_type": "code",
   "execution_count": 71,
   "metadata": {},
   "outputs": [
    {
     "data": {
      "text/html": [
       "<div>\n",
       "<style scoped>\n",
       "    .dataframe tbody tr th:only-of-type {\n",
       "        vertical-align: middle;\n",
       "    }\n",
       "\n",
       "    .dataframe tbody tr th {\n",
       "        vertical-align: top;\n",
       "    }\n",
       "\n",
       "    .dataframe thead th {\n",
       "        text-align: right;\n",
       "    }\n",
       "</style>\n",
       "<table border=\"1\" class=\"dataframe\">\n",
       "  <thead>\n",
       "    <tr style=\"text-align: right;\">\n",
       "      <th></th>\n",
       "      <th>unix</th>\n",
       "      <th>low</th>\n",
       "      <th>high</th>\n",
       "      <th>open</th>\n",
       "      <th>close</th>\n",
       "      <th>volume</th>\n",
       "      <th>vol_fiat</th>\n",
       "    </tr>\n",
       "    <tr>\n",
       "      <th>date</th>\n",
       "      <th></th>\n",
       "      <th></th>\n",
       "      <th></th>\n",
       "      <th></th>\n",
       "      <th></th>\n",
       "      <th></th>\n",
       "      <th></th>\n",
       "    </tr>\n",
       "  </thead>\n",
       "  <tbody>\n",
       "    <tr>\n",
       "      <th>2015-07-20</th>\n",
       "      <td>1437350400</td>\n",
       "      <td>277.37</td>\n",
       "      <td>280.00</td>\n",
       "      <td>277.98</td>\n",
       "      <td>280.00</td>\n",
       "      <td>782.883420</td>\n",
       "      <td>2.192074e+05</td>\n",
       "    </tr>\n",
       "    <tr>\n",
       "      <th>2015-07-21</th>\n",
       "      <td>1437436800</td>\n",
       "      <td>276.85</td>\n",
       "      <td>281.27</td>\n",
       "      <td>279.96</td>\n",
       "      <td>277.32</td>\n",
       "      <td>4943.559434</td>\n",
       "      <td>1.370948e+06</td>\n",
       "    </tr>\n",
       "    <tr>\n",
       "      <th>2015-07-22</th>\n",
       "      <td>1437523200</td>\n",
       "      <td>275.01</td>\n",
       "      <td>278.54</td>\n",
       "      <td>277.33</td>\n",
       "      <td>277.89</td>\n",
       "      <td>4687.909383</td>\n",
       "      <td>1.302723e+06</td>\n",
       "    </tr>\n",
       "    <tr>\n",
       "      <th>2015-07-23</th>\n",
       "      <td>1437609600</td>\n",
       "      <td>276.28</td>\n",
       "      <td>279.75</td>\n",
       "      <td>277.96</td>\n",
       "      <td>277.39</td>\n",
       "      <td>5306.919575</td>\n",
       "      <td>1.472086e+06</td>\n",
       "    </tr>\n",
       "    <tr>\n",
       "      <th>2015-07-24</th>\n",
       "      <td>1437696000</td>\n",
       "      <td>276.43</td>\n",
       "      <td>291.52</td>\n",
       "      <td>277.23</td>\n",
       "      <td>289.12</td>\n",
       "      <td>7362.469083</td>\n",
       "      <td>2.128637e+06</td>\n",
       "    </tr>\n",
       "    <tr>\n",
       "      <th>...</th>\n",
       "      <td>...</td>\n",
       "      <td>...</td>\n",
       "      <td>...</td>\n",
       "      <td>...</td>\n",
       "      <td>...</td>\n",
       "      <td>...</td>\n",
       "      <td>...</td>\n",
       "    </tr>\n",
       "    <tr>\n",
       "      <th>2021-08-11</th>\n",
       "      <td>1628640000</td>\n",
       "      <td>45350.74</td>\n",
       "      <td>46781.09</td>\n",
       "      <td>45601.82</td>\n",
       "      <td>45553.49</td>\n",
       "      <td>11628.320440</td>\n",
       "      <td>5.297106e+08</td>\n",
       "    </tr>\n",
       "    <tr>\n",
       "      <th>2021-08-12</th>\n",
       "      <td>1628726400</td>\n",
       "      <td>43714.36</td>\n",
       "      <td>46223.95</td>\n",
       "      <td>45553.10</td>\n",
       "      <td>44422.14</td>\n",
       "      <td>13169.781770</td>\n",
       "      <td>5.850299e+08</td>\n",
       "    </tr>\n",
       "    <tr>\n",
       "      <th>2021-08-13</th>\n",
       "      <td>1628812800</td>\n",
       "      <td>44249.64</td>\n",
       "      <td>47953.90</td>\n",
       "      <td>44422.15</td>\n",
       "      <td>47833.64</td>\n",
       "      <td>11794.941963</td>\n",
       "      <td>5.641950e+08</td>\n",
       "    </tr>\n",
       "    <tr>\n",
       "      <th>2021-08-14</th>\n",
       "      <td>1628899200</td>\n",
       "      <td>46034.93</td>\n",
       "      <td>48176.52</td>\n",
       "      <td>47833.64</td>\n",
       "      <td>47109.65</td>\n",
       "      <td>8130.367694</td>\n",
       "      <td>3.830188e+08</td>\n",
       "    </tr>\n",
       "    <tr>\n",
       "      <th>2021-08-15</th>\n",
       "      <td>1628985600</td>\n",
       "      <td>45525.19</td>\n",
       "      <td>47400.00</td>\n",
       "      <td>47109.64</td>\n",
       "      <td>47014.49</td>\n",
       "      <td>7745.702008</td>\n",
       "      <td>3.641602e+08</td>\n",
       "    </tr>\n",
       "  </tbody>\n",
       "</table>\n",
       "<p>2219 rows × 7 columns</p>\n",
       "</div>"
      ],
      "text/plain": [
       "                  unix       low      high      open     close        volume  \\\n",
       "date                                                                           \n",
       "2015-07-20  1437350400    277.37    280.00    277.98    280.00    782.883420   \n",
       "2015-07-21  1437436800    276.85    281.27    279.96    277.32   4943.559434   \n",
       "2015-07-22  1437523200    275.01    278.54    277.33    277.89   4687.909383   \n",
       "2015-07-23  1437609600    276.28    279.75    277.96    277.39   5306.919575   \n",
       "2015-07-24  1437696000    276.43    291.52    277.23    289.12   7362.469083   \n",
       "...                ...       ...       ...       ...       ...           ...   \n",
       "2021-08-11  1628640000  45350.74  46781.09  45601.82  45553.49  11628.320440   \n",
       "2021-08-12  1628726400  43714.36  46223.95  45553.10  44422.14  13169.781770   \n",
       "2021-08-13  1628812800  44249.64  47953.90  44422.15  47833.64  11794.941963   \n",
       "2021-08-14  1628899200  46034.93  48176.52  47833.64  47109.65   8130.367694   \n",
       "2021-08-15  1628985600  45525.19  47400.00  47109.64  47014.49   7745.702008   \n",
       "\n",
       "                vol_fiat  \n",
       "date                      \n",
       "2015-07-20  2.192074e+05  \n",
       "2015-07-21  1.370948e+06  \n",
       "2015-07-22  1.302723e+06  \n",
       "2015-07-23  1.472086e+06  \n",
       "2015-07-24  2.128637e+06  \n",
       "...                  ...  \n",
       "2021-08-11  5.297106e+08  \n",
       "2021-08-12  5.850299e+08  \n",
       "2021-08-13  5.641950e+08  \n",
       "2021-08-14  3.830188e+08  \n",
       "2021-08-15  3.641602e+08  \n",
       "\n",
       "[2219 rows x 7 columns]"
      ]
     },
     "execution_count": 71,
     "metadata": {},
     "output_type": "execute_result"
    }
   ],
   "source": [
    "df.sort_index()"
   ]
  },
  {
   "cell_type": "code",
   "execution_count": null,
   "metadata": {},
   "outputs": [],
   "source": []
  },
  {
   "cell_type": "code",
   "execution_count": 72,
   "metadata": {},
   "outputs": [],
   "source": [
    "df.to_csv(f'../data/combined_coinbase_{today}')"
   ]
  },
  {
   "cell_type": "code",
   "execution_count": null,
   "metadata": {},
   "outputs": [],
   "source": []
  },
  {
   "cell_type": "code",
   "execution_count": null,
   "metadata": {},
   "outputs": [],
   "source": []
  },
  {
   "cell_type": "code",
   "execution_count": null,
   "metadata": {},
   "outputs": [],
   "source": []
  },
  {
   "cell_type": "code",
   "execution_count": null,
   "metadata": {},
   "outputs": [],
   "source": []
  },
  {
   "cell_type": "code",
   "execution_count": null,
   "metadata": {},
   "outputs": [],
   "source": []
  },
  {
   "cell_type": "code",
   "execution_count": null,
   "metadata": {},
   "outputs": [],
   "source": []
  }
 ],
 "metadata": {
  "kernelspec": {
   "display_name": "Python 3",
   "language": "python",
   "name": "python3"
  },
  "language_info": {
   "codemirror_mode": {
    "name": "ipython",
    "version": 3
   },
   "file_extension": ".py",
   "mimetype": "text/x-python",
   "name": "python",
   "nbconvert_exporter": "python",
   "pygments_lexer": "ipython3",
   "version": "3.8.2"
  }
 },
 "nbformat": 4,
 "nbformat_minor": 4
}
