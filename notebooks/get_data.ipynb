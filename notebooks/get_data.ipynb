{
 "cells": [
  {
   "cell_type": "code",
   "execution_count": 1,
   "metadata": {},
   "outputs": [],
   "source": [
    "# First import the libraries that we need to use\n",
    "import pandas as pd\n",
    "import requests\n",
    "import json\n",
    "\n",
    "def fetch_daily_data(symbol):\n",
    "    pair_split = symbol.split('/')  # symbol must be in format XXX/XXX ie. BTC/EUR\n",
    "    symbol = pair_split[0] + '-' + pair_split[1]\n",
    "    url = f'https://api.pro.coinbase.com/products/{symbol}/candles?granularity=60'\n",
    "    response = requests.get(url)\n",
    "    if response.status_code == 200:  # check to make sure the response from server is good\n",
    "        data = pd.DataFrame(json.loads(response.text), columns=['unix', 'low', 'high', 'open', 'close', 'volume'])\n",
    "        data['date'] = pd.to_datetime(data['unix'], unit='s')  # convert to a readable date\n",
    "        data['vol_fiat'] = data['volume'] * data['close']      # multiply the BTC volume by closing price to approximate fiat volume\n",
    "\n",
    "        # if we failed to get any data, print an error...otherwise write the file\n",
    "        if data is None:\n",
    "            print(\"Did not return any data from Coinbase for this symbol\")\n",
    "        else:\n",
    "            data.to_csv(f'../data/coinbase/Coinbase_{pair_split[0] + pair_split[1]}_dailydata.csv', index=False)\n",
    "\n",
    "    else:\n",
    "        print(\"Did not receieve OK response from Coinbase API\")\n",
    "\n",
    "\n",
    "if __name__ == \"__main__\":\n",
    "    # we set which pair we want to retrieve data for\n",
    "    pair = \"BTC/USD\"\n",
    "    fetch_daily_data(symbol=pair)"
   ]
  },
  {
   "cell_type": "code",
   "execution_count": 2,
   "metadata": {},
   "outputs": [],
   "source": [
    "def fetch_minute_data(symbol):\n",
    "    pair_split = symbol.split('/')  # symbol must be in format XXX/XXX ie. BTC/EUR\n",
    "    symbol = pair_split[0] + '-' + pair_split[1]\n",
    "    url = f'https://api.pro.coinbase.com/products/{symbol}/candles?start=2021-07-26'\n",
    "    response = requests.get(url)\n",
    "    if response.status_code == 200:  # check to make sure the response from server is good\n",
    "        data = pd.DataFrame(json.loads(response.text), columns=['unix', 'low', 'high', 'open', 'close', 'volume'])\n",
    "        data['date'] = pd.to_datetime(data['unix'], unit='s')  # convert to a readable date\n",
    "        data['vol_fiat'] = data['volume'] * data['close']      # multiply the BTC volume by closing price to approximate fiat volume\n",
    "\n",
    "        # if we failed to get any data, print an error...otherwise write the file\n",
    "        if data is None:\n",
    "            print(\"Did not return any data from Coinbase for this symbol\")\n",
    "        else:\n",
    "            data.to_csv(f'../data/coinbase/Coinbase_{pair_split[0] + pair_split[1]}_daily_m_data.csv', index=False)\n",
    "\n",
    "    else:\n",
    "        print(\"Did not receieve OK response from Coinbase API\")\n",
    "\n",
    "\n",
    "if __name__ == \"__main__\":\n",
    "    # we set which pair we want to retrieve data for\n",
    "    pair = \"BTC/USD\"\n",
    "    fetch_minute_data(symbol=pair)"
   ]
  },
  {
   "cell_type": "code",
   "execution_count": 3,
   "metadata": {},
   "outputs": [],
   "source": [
    "i = 0"
   ]
  },
  {
   "cell_type": "code",
   "execution_count": 4,
   "metadata": {},
   "outputs": [
    {
     "data": {
      "text/plain": [
       "1"
      ]
     },
     "execution_count": 4,
     "metadata": {},
     "output_type": "execute_result"
    }
   ],
   "source": [
    "def fetch_my_data(symbol, i=i):\n",
    "    pair_split = symbol.split('/')  # symbol must be in format XXX/XXX ie. BTC/EUR\n",
    "    symbol = pair_split[0] + '-' + pair_split[1]\n",
    "    url = f'https://api.pro.coinbase.com/products/{symbol}/candles?start=2021-07-26T05:00:00&end=2021-07-26T09:59:00'\n",
    "    response = requests.get(url)\n",
    "    if response.status_code == 200:  # check to make sure the response from server is good\n",
    "        data = pd.DataFrame(json.loads(response.text), columns=['unix', 'low', 'high', 'open', 'close', 'volume'])\n",
    "        data['date'] = pd.to_datetime(data['unix'], unit='s')  # convert to a readable date\n",
    "        data['vol_fiat'] = data['volume'] * data['close']      # multiply the BTC volume by closing price to approximate fiat volume\n",
    "\n",
    "        # if we failed to get any data, print an error...otherwise write the file\n",
    "        if data is None:\n",
    "            print(\"Did not return any data from Coinbase for this symbol\")\n",
    "        else:\n",
    "            data.to_csv(f'../data/coinbase/Coinbase_{pair_split[0] + pair_split[1]}_data_{i}.csv', index=False)\n",
    "            \n",
    "\n",
    "    else:\n",
    "        print(\"Did not receieve OK response from Coinbase API\")\n",
    "\n",
    "\n",
    "if __name__ == \"__main__\":\n",
    "    # we set which pair we want to retrieve data for\n",
    "    pair = \"BTC/USD\"\n",
    "    fetch_my_data(symbol=pair)            \n",
    "    i+=1\n",
    "\n",
    "i"
   ]
  },
  {
   "cell_type": "code",
   "execution_count": 5,
   "metadata": {},
   "outputs": [],
   "source": [
    "counter = 0"
   ]
  },
  {
   "cell_type": "code",
   "execution_count": 6,
   "metadata": {},
   "outputs": [
    {
     "data": {
      "text/plain": [
       "2"
      ]
     },
     "execution_count": 6,
     "metadata": {},
     "output_type": "execute_result"
    }
   ],
   "source": [
    "def fetch_data(symbol, counter=counter):\n",
    "    pair_split = symbol.split('/')  # symbol must be in format XXX/XXX ie. BTC/EUR\n",
    "    symbol = pair_split[0] + '-' + pair_split[1]\n",
    "    url = f'https://api.pro.coinbase.com/products/{symbol}/candles?start=2021-07-26T05:00:00&end=2021-07-26T09:59:00'\n",
    "    response = requests.get(url)\n",
    "    if response.status_code == 200:  # check to make sure the response from server is good\n",
    "        data = pd.DataFrame(json.loads(response.text), columns=['unix', 'low', 'high', 'open', 'close', 'volume'])\n",
    "        data['date'] = pd.to_datetime(data['unix'], unit='s')  # convert to a readable date\n",
    "        data['vol_fiat'] = data['volume'] * data['close']      # multiply the BTC volume by closing price to approximate fiat volume\n",
    "\n",
    "        # if we failed to get any data, print an error...otherwise write the file\n",
    "        if data is None:\n",
    "            print(\"Did not return any data from Coinbase for this symbol\")\n",
    "        else:\n",
    "            data.to_csv(f'../data/coinbase/Coinbase_{pair_split[0] + pair_split[1]}_data_{i}.csv', index=False)\n",
    "            \n",
    "\n",
    "    else:\n",
    "        print(\"Did not receieve OK response from Coinbase API\")\n",
    "\n",
    "\n",
    "if __name__ == \"__main__\":\n",
    "    # we set which pair we want to retrieve data for\n",
    "    pair = \"BTC/USD\"\n",
    "    fetch_data(symbol=pair)            \n",
    "    i+=1\n",
    "\n",
    "i"
   ]
  },
  {
   "cell_type": "code",
   "execution_count": 44,
   "metadata": {},
   "outputs": [],
   "source": [
    "# imported data from other sources stops at 2018-09-27\n",
    "# create loop that gathers daily data from 2018-09-27 to present\n",
    "from datetime import datetime as dt, timedelta"
   ]
  },
  {
   "cell_type": "code",
   "execution_count": 78,
   "metadata": {},
   "outputs": [
    {
     "data": {
      "text/plain": [
       "datetime.date(2018, 9, 27)"
      ]
     },
     "execution_count": 78,
     "metadata": {},
     "output_type": "execute_result"
    }
   ],
   "source": [
    "# last_date = '2018-09-27'\n",
    "# last_date = dt.strpdate(last_date, '%Y-%m-%d')\n",
    "from datetime import date\n",
    "last_date = date(2018, 9, 27)\n",
    "last_date"
   ]
  },
  {
   "cell_type": "code",
   "execution_count": 12,
   "metadata": {},
   "outputs": [],
   "source": [
    "today = date.today()"
   ]
  },
  {
   "cell_type": "code",
   "execution_count": 13,
   "metadata": {},
   "outputs": [
    {
     "data": {
      "text/plain": [
       "datetime.timedelta(days=1034)"
      ]
     },
     "execution_count": 13,
     "metadata": {},
     "output_type": "execute_result"
    }
   ],
   "source": [
    "today - last_date"
   ]
  },
  {
   "cell_type": "code",
   "execution_count": 33,
   "metadata": {},
   "outputs": [],
   "source": [
    "# create strings that will hold dates for api queries\n",
    "year = '2018'\n",
    "month = '00'\n",
    "day = '00'"
   ]
  },
  {
   "cell_type": "code",
   "execution_count": 34,
   "metadata": {},
   "outputs": [
    {
     "data": {
      "text/plain": [
       "datetime.date(2018, 9, 28)"
      ]
     },
     "execution_count": 34,
     "metadata": {},
     "output_type": "execute_result"
    }
   ],
   "source": [
    "date = last_date + timedelta(days=1)\n",
    "date"
   ]
  },
  {
   "cell_type": "code",
   "execution_count": 77,
   "metadata": {},
   "outputs": [
    {
     "name": "stdout",
     "output_type": "stream",
     "text": [
      "2018 <attribute 'month' of 'datetime.date' objects> <attribute 'day' of 'datetime.date' objects>\n"
     ]
    }
   ],
   "source": [
    "# create code to change date while maintaining leading zeroes\n",
    "day_len = len(str(date.day))\n",
    "day = day[:-day_len] + str(date.day)\n",
    "\n",
    "month_len = len(str(date.month))\n",
    "month = month[:-month_len] + str(date.month)\n",
    "\n",
    "print(year, month, day)"
   ]
  },
  {
   "cell_type": "code",
   "execution_count": 20,
   "metadata": {},
   "outputs": [],
   "source": [
    "# test function for loop below\n",
    "def pass_range(range1, range2):\n",
    "    print(range1, range2)"
   ]
  },
  {
   "cell_type": "code",
   "execution_count": 113,
   "metadata": {},
   "outputs": [],
   "source": [
    "from datetime import date\n",
    "last_date = date(2018, 9, 26)\n",
    "last_date\n",
    "first_date = date(2013, 4, 28)\n",
    "first_date\n",
    "old = date(2009,1,1)"
   ]
  },
  {
   "cell_type": "code",
   "execution_count": 99,
   "metadata": {},
   "outputs": [
    {
     "name": "stdout",
     "output_type": "stream",
     "text": [
      "2018-09-27 2019-07-23\n",
      "2019-07-24 2020-05-18\n",
      "2020-05-19 2021-03-14\n",
      "2021-03-15 2021-07-28\n"
     ]
    }
   ],
   "source": [
    "# instatntiate \"date\"\n",
    "date = last_date\n",
    "\n",
    "# get information for all dayes between today and missing date\n",
    "\n",
    "# wrap in while lloop to prevent run away queries\n",
    "while date < date.today():\n",
    "    if date.today() - date > timedelta(days=300):\n",
    "        date = last_date + timedelta(days=300)\n",
    "    \n",
    "    else:\n",
    "        date = last_date + (date.today() - date)\n",
    "    \n",
    "    #define start and end dates for query\n",
    "    start = str(last_date+timedelta(days=1))\n",
    "    end = str(date)\n",
    "    \n",
    "    pass_range(start, end) \n",
    "    \n",
    "    # set last date to date to continue loop\n",
    "    last_date = date\n",
    "    "
   ]
  },
  {
   "cell_type": "code",
   "execution_count": 111,
   "metadata": {},
   "outputs": [
    {
     "name": "stdout",
     "output_type": "stream",
     "text": [
      "2020-10-02 2021-07-28\n",
      "2019-12-07 2020-10-01\n",
      "2019-02-10 2019-12-06\n",
      "2018-04-16 2019-02-09\n",
      "2017-06-20 2018-04-15\n",
      "2016-08-24 2017-06-19\n",
      "2015-10-29 2016-08-23\n",
      "2015-01-02 2015-10-28\n",
      "2014-03-08 2015-01-01\n",
      "2013-05-12 2014-03-07\n",
      "2012-07-16 2013-05-11\n",
      "2011-09-20 2012-07-15\n",
      "2010-11-24 2011-09-19\n",
      "2010-01-28 2010-11-23\n",
      "2009-04-03 2010-01-27\n",
      "2008-06-07 2009-04-02\n"
     ]
    }
   ],
   "source": [
    "# instatntiate \"date\"\n",
    "date = date.today()\n",
    "\n",
    "# create placeholder for date range \n",
    "place_date = date\n",
    "\n",
    "# get information for all dayes between today and missing date\n",
    "\n",
    "# wrap in while lloop to prevent run away queries\n",
    "while date > old:\n",
    "\n",
    "    date = place_date - timedelta(days=300)\n",
    "\n",
    "    #define start and end dates for query\n",
    "    end = str(place_date)\n",
    "    start = str(date+timedelta(days=1))\n",
    "    \n",
    "    pass_range(start, end) \n",
    "    \n",
    "    # set last date to date to continue loop\n",
    "    place_date = date\n",
    "    "
   ]
  },
  {
   "cell_type": "code",
   "execution_count": 85,
   "metadata": {},
   "outputs": [],
   "source": [
    "def fetch_range_data(symbol, start=start, end=end):\n",
    "    pair_split = symbol.split('/')  # symbol must be in format XXX/XXX ie. BTC/EUR\n",
    "    symbol = pair_split[0] + '-' + pair_split[1]\n",
    "    url = f'https://api.pro.coinbase.com/products/{symbol}/candles?granularity=86400&start={start}&end={end}'\n",
    "    response = requests.get(url)\n",
    "    if response.status_code == 200:  # check to make sure the response from server is good\n",
    "        data = pd.DataFrame(json.loads(response.text), columns=['unix', 'low', 'high', 'open', 'close', 'volume'])\n",
    "        data['date'] = pd.to_datetime(data['unix'], unit='s')  # convert to a readable date\n",
    "        data['vol_fiat'] = data['volume'] * data['close']      # multiply the BTC volume by closing price to approximate fiat volume\n",
    "\n",
    "        # if we failed to get any data, print an error...otherwise write the file\n",
    "        if data is None:\n",
    "            print(\"Did not return any data from Coinbase for this symbol\")\n",
    "        else:\n",
    "            data.to_csv(f'../data/coinbase/Coinbase_{pair_split[0] + pair_split[1]}_data_{start}_{end}.csv', index=False)\n",
    "            \n",
    "\n",
    "    else:\n",
    "        print(\"Did not receieve OK response from Coinbase API\")\n",
    "\n",
    "\n",
    "if __name__ == \"__main__\":\n",
    "    # we set which pair we want to retrieve data for\n",
    "    pair = \"BTC/USD\"\n",
    "    \n",
    "    # instatntiate \"date\"\n",
    "    date = last_date\n",
    "\n",
    "    # get information for all dayes between today and missing date\n",
    "\n",
    "    # wrap in while lloop to prevent run away queries\n",
    "    while date < date.today():\n",
    "        if date.today() - date > timedelta(days=300):\n",
    "            date = last_date + timedelta(days=300)\n",
    "    \n",
    "        else:\n",
    "            date = last_date + (date.today() - date)\n",
    "    \n",
    "        #define start and end dates for query\n",
    "        start = str(last_date+timedelta(days=1))\n",
    "        end = str(date)\n",
    "    \n",
    "        fetch_range_data(symbol=pair, start=start, end=end) \n",
    "    \n",
    "        # set \"last_date\" to \"date\" to continue loop\n",
    "        last_date = date\n",
    "             "
   ]
  },
  {
   "cell_type": "code",
   "execution_count": 115,
   "metadata": {},
   "outputs": [],
   "source": [
    "if __name__ == \"__main__\":\n",
    "    # we set which pair we want to retrieve data for\n",
    "    pair = \"BTC/USD\"\n",
    "\n",
    "\n",
    "    # instatntiate \"date\"\n",
    "    date = date.today()\n",
    "\n",
    "    # create placeholder for date range \n",
    "    place_date = date\n",
    "\n",
    "    # get information for all dayes between today and missing date\n",
    "\n",
    "    # wrap in while lloop to prevent run away queries\n",
    "    while date > old:\n",
    "\n",
    "        date = place_date - timedelta(days=300)\n",
    "\n",
    "        #define start and end dates for query\n",
    "        end = str(place_date)\n",
    "        start = str(date+timedelta(days=1))\n",
    "    \n",
    "        fetch_range_data(symbol=pair, start=start, end=end) \n",
    "    \n",
    "        # set last date to date to continue loop\n",
    "        place_date = date"
   ]
  },
  {
   "cell_type": "code",
   "execution_count": null,
   "metadata": {},
   "outputs": [],
   "source": []
  },
  {
   "cell_type": "code",
   "execution_count": null,
   "metadata": {},
   "outputs": [],
   "source": []
  },
  {
   "cell_type": "markdown",
   "metadata": {},
   "source": [
    "# Combine Data"
   ]
  },
  {
   "cell_type": "code",
   "execution_count": 2,
   "metadata": {},
   "outputs": [],
   "source": [
    "import pandas as pd\n",
    "import os"
   ]
  },
  {
   "cell_type": "code",
   "execution_count": 11,
   "metadata": {},
   "outputs": [
    {
     "data": {
      "text/plain": [
       "['../data/coinbase\\\\Coinbase_BTCUSD_dailydata.csv',\n",
       " '../data/coinbase\\\\Coinbase_BTCUSD_daily_m_data.csv',\n",
       " '../data/coinbase\\\\Coinbase_BTCUSD_daily_s_data.csv',\n",
       " '../data/coinbase\\\\Coinbase_BTCUSD_data_0.csv',\n",
       " '../data/coinbase\\\\Coinbase_BTCUSD_data_1.csv',\n",
       " '../data/coinbase\\\\Coinbase_BTCUSD_data_2.csv',\n",
       " '../data/coinbase\\\\Coinbase_BTCUSD_data_2015-07-20_2015-10-28.csv',\n",
       " '../data/coinbase\\\\Coinbase_BTCUSD_data_2015-10-29_2016-08-23.csv',\n",
       " '../data/coinbase\\\\Coinbase_BTCUSD_data_2016-08-24_2017-06-19.csv',\n",
       " '../data/coinbase\\\\Coinbase_BTCUSD_data_2017-06-20_2018-04-15.csv',\n",
       " '../data/coinbase\\\\Coinbase_BTCUSD_data_2018-04-16_2019-02-09.csv',\n",
       " '../data/coinbase\\\\Coinbase_BTCUSD_data_2019-02-10_2019-12-06.csv',\n",
       " '../data/coinbase\\\\Coinbase_BTCUSD_data_2019-12-07_2020-10-01.csv',\n",
       " '../data/coinbase\\\\Coinbase_BTCUSD_data_2020-10-02_2021-07-28.csv']"
      ]
     },
     "execution_count": 11,
     "metadata": {},
     "output_type": "execute_result"
    }
   ],
   "source": [
    "# make empty list to store coinbase paths\n",
    "cb_list = []\n",
    "for root, dirs, files in os.walk('../data/coinbase'):\n",
    "    \n",
    "    if root == '../data/coinbase':\n",
    "        for name in files:\n",
    "            cb_list.append(os.path.join(root,name))\n",
    "    \n",
    "cb_list"
   ]
  },
  {
   "cell_type": "code",
   "execution_count": 13,
   "metadata": {},
   "outputs": [
    {
     "data": {
      "text/plain": [
       "['../data/coinbase\\\\Coinbase_BTCUSD_data_2015-07-20_2015-10-28.csv',\n",
       " '../data/coinbase\\\\Coinbase_BTCUSD_data_2015-10-29_2016-08-23.csv',\n",
       " '../data/coinbase\\\\Coinbase_BTCUSD_data_2016-08-24_2017-06-19.csv',\n",
       " '../data/coinbase\\\\Coinbase_BTCUSD_data_2017-06-20_2018-04-15.csv',\n",
       " '../data/coinbase\\\\Coinbase_BTCUSD_data_2018-04-16_2019-02-09.csv',\n",
       " '../data/coinbase\\\\Coinbase_BTCUSD_data_2019-02-10_2019-12-06.csv',\n",
       " '../data/coinbase\\\\Coinbase_BTCUSD_data_2019-12-07_2020-10-01.csv',\n",
       " '../data/coinbase\\\\Coinbase_BTCUSD_data_2020-10-02_2021-07-28.csv']"
      ]
     },
     "execution_count": 13,
     "metadata": {},
     "output_type": "execute_result"
    }
   ],
   "source": [
    "# cb_list = cb_list[6:]\n",
    "cb_list"
   ]
  },
  {
   "cell_type": "code",
   "execution_count": 32,
   "metadata": {},
   "outputs": [
    {
     "data": {
      "text/html": [
       "<div>\n",
       "<style scoped>\n",
       "    .dataframe tbody tr th:only-of-type {\n",
       "        vertical-align: middle;\n",
       "    }\n",
       "\n",
       "    .dataframe tbody tr th {\n",
       "        vertical-align: top;\n",
       "    }\n",
       "\n",
       "    .dataframe thead th {\n",
       "        text-align: right;\n",
       "    }\n",
       "</style>\n",
       "<table border=\"1\" class=\"dataframe\">\n",
       "  <thead>\n",
       "    <tr style=\"text-align: right;\">\n",
       "      <th></th>\n",
       "    </tr>\n",
       "  </thead>\n",
       "  <tbody>\n",
       "  </tbody>\n",
       "</table>\n",
       "</div>"
      ],
      "text/plain": [
       "Empty DataFrame\n",
       "Columns: []\n",
       "Index: []"
      ]
     },
     "execution_count": 32,
     "metadata": {},
     "output_type": "execute_result"
    }
   ],
   "source": [
    "df = pd.DataFrame()\n",
    "df"
   ]
  },
  {
   "cell_type": "code",
   "execution_count": 35,
   "metadata": {},
   "outputs": [],
   "source": [
    "for my_df in cb_list:\n",
    "    df = df.append(pd.read_csv(my_df), ignore_index=True)"
   ]
  },
  {
   "cell_type": "code",
   "execution_count": 36,
   "metadata": {},
   "outputs": [
    {
     "data": {
      "text/html": [
       "<div>\n",
       "<style scoped>\n",
       "    .dataframe tbody tr th:only-of-type {\n",
       "        vertical-align: middle;\n",
       "    }\n",
       "\n",
       "    .dataframe tbody tr th {\n",
       "        vertical-align: top;\n",
       "    }\n",
       "\n",
       "    .dataframe thead th {\n",
       "        text-align: right;\n",
       "    }\n",
       "</style>\n",
       "<table border=\"1\" class=\"dataframe\">\n",
       "  <thead>\n",
       "    <tr style=\"text-align: right;\">\n",
       "      <th></th>\n",
       "      <th>unix</th>\n",
       "      <th>low</th>\n",
       "      <th>high</th>\n",
       "      <th>open</th>\n",
       "      <th>close</th>\n",
       "      <th>volume</th>\n",
       "      <th>date</th>\n",
       "      <th>vol_fiat</th>\n",
       "    </tr>\n",
       "  </thead>\n",
       "  <tbody>\n",
       "    <tr>\n",
       "      <th>0</th>\n",
       "      <td>1445990400</td>\n",
       "      <td>295.65</td>\n",
       "      <td>308.93</td>\n",
       "      <td>295.68</td>\n",
       "      <td>304.09</td>\n",
       "      <td>16047.510771</td>\n",
       "      <td>2015-10-28</td>\n",
       "      <td>4.879888e+06</td>\n",
       "    </tr>\n",
       "    <tr>\n",
       "      <th>1</th>\n",
       "      <td>1445904000</td>\n",
       "      <td>286.89</td>\n",
       "      <td>297.99</td>\n",
       "      <td>287.10</td>\n",
       "      <td>295.61</td>\n",
       "      <td>11123.681788</td>\n",
       "      <td>2015-10-27</td>\n",
       "      <td>3.288272e+06</td>\n",
       "    </tr>\n",
       "    <tr>\n",
       "      <th>2</th>\n",
       "      <td>1445817600</td>\n",
       "      <td>282.04</td>\n",
       "      <td>287.68</td>\n",
       "      <td>284.97</td>\n",
       "      <td>287.10</td>\n",
       "      <td>7477.924219</td>\n",
       "      <td>2015-10-26</td>\n",
       "      <td>2.146912e+06</td>\n",
       "    </tr>\n",
       "    <tr>\n",
       "      <th>3</th>\n",
       "      <td>1445731200</td>\n",
       "      <td>283.28</td>\n",
       "      <td>295.93</td>\n",
       "      <td>284.29</td>\n",
       "      <td>284.97</td>\n",
       "      <td>10695.708371</td>\n",
       "      <td>2015-10-25</td>\n",
       "      <td>3.047956e+06</td>\n",
       "    </tr>\n",
       "    <tr>\n",
       "      <th>4</th>\n",
       "      <td>1445644800</td>\n",
       "      <td>278.75</td>\n",
       "      <td>284.49</td>\n",
       "      <td>278.76</td>\n",
       "      <td>284.29</td>\n",
       "      <td>5508.016725</td>\n",
       "      <td>2015-10-24</td>\n",
       "      <td>1.565874e+06</td>\n",
       "    </tr>\n",
       "    <tr>\n",
       "      <th>...</th>\n",
       "      <td>...</td>\n",
       "      <td>...</td>\n",
       "      <td>...</td>\n",
       "      <td>...</td>\n",
       "      <td>...</td>\n",
       "      <td>...</td>\n",
       "      <td>...</td>\n",
       "      <td>...</td>\n",
       "    </tr>\n",
       "    <tr>\n",
       "      <th>2196</th>\n",
       "      <td>1601942400</td>\n",
       "      <td>10524.00</td>\n",
       "      <td>10800.00</td>\n",
       "      <td>10796.97</td>\n",
       "      <td>10602.66</td>\n",
       "      <td>7596.363720</td>\n",
       "      <td>2020-10-06</td>\n",
       "      <td>8.054166e+07</td>\n",
       "    </tr>\n",
       "    <tr>\n",
       "      <th>2197</th>\n",
       "      <td>1601856000</td>\n",
       "      <td>10621.12</td>\n",
       "      <td>10800.00</td>\n",
       "      <td>10670.01</td>\n",
       "      <td>10795.00</td>\n",
       "      <td>6081.387019</td>\n",
       "      <td>2020-10-05</td>\n",
       "      <td>6.564857e+07</td>\n",
       "    </tr>\n",
       "    <tr>\n",
       "      <th>2198</th>\n",
       "      <td>1601769600</td>\n",
       "      <td>10521.87</td>\n",
       "      <td>10697.00</td>\n",
       "      <td>10550.32</td>\n",
       "      <td>10671.11</td>\n",
       "      <td>3569.256202</td>\n",
       "      <td>2020-10-04</td>\n",
       "      <td>3.808793e+07</td>\n",
       "    </tr>\n",
       "    <tr>\n",
       "      <th>2199</th>\n",
       "      <td>1601683200</td>\n",
       "      <td>10498.02</td>\n",
       "      <td>10606.36</td>\n",
       "      <td>10573.12</td>\n",
       "      <td>10551.65</td>\n",
       "      <td>3211.704593</td>\n",
       "      <td>2020-10-03</td>\n",
       "      <td>3.388878e+07</td>\n",
       "    </tr>\n",
       "    <tr>\n",
       "      <th>2200</th>\n",
       "      <td>1601596800</td>\n",
       "      <td>10363.76</td>\n",
       "      <td>10668.56</td>\n",
       "      <td>10616.35</td>\n",
       "      <td>10573.12</td>\n",
       "      <td>10263.482903</td>\n",
       "      <td>2020-10-02</td>\n",
       "      <td>1.085170e+08</td>\n",
       "    </tr>\n",
       "  </tbody>\n",
       "</table>\n",
       "<p>2201 rows × 8 columns</p>\n",
       "</div>"
      ],
      "text/plain": [
       "            unix       low      high      open     close        volume  \\\n",
       "0     1445990400    295.65    308.93    295.68    304.09  16047.510771   \n",
       "1     1445904000    286.89    297.99    287.10    295.61  11123.681788   \n",
       "2     1445817600    282.04    287.68    284.97    287.10   7477.924219   \n",
       "3     1445731200    283.28    295.93    284.29    284.97  10695.708371   \n",
       "4     1445644800    278.75    284.49    278.76    284.29   5508.016725   \n",
       "...          ...       ...       ...       ...       ...           ...   \n",
       "2196  1601942400  10524.00  10800.00  10796.97  10602.66   7596.363720   \n",
       "2197  1601856000  10621.12  10800.00  10670.01  10795.00   6081.387019   \n",
       "2198  1601769600  10521.87  10697.00  10550.32  10671.11   3569.256202   \n",
       "2199  1601683200  10498.02  10606.36  10573.12  10551.65   3211.704593   \n",
       "2200  1601596800  10363.76  10668.56  10616.35  10573.12  10263.482903   \n",
       "\n",
       "            date      vol_fiat  \n",
       "0     2015-10-28  4.879888e+06  \n",
       "1     2015-10-27  3.288272e+06  \n",
       "2     2015-10-26  2.146912e+06  \n",
       "3     2015-10-25  3.047956e+06  \n",
       "4     2015-10-24  1.565874e+06  \n",
       "...          ...           ...  \n",
       "2196  2020-10-06  8.054166e+07  \n",
       "2197  2020-10-05  6.564857e+07  \n",
       "2198  2020-10-04  3.808793e+07  \n",
       "2199  2020-10-03  3.388878e+07  \n",
       "2200  2020-10-02  1.085170e+08  \n",
       "\n",
       "[2201 rows x 8 columns]"
      ]
     },
     "execution_count": 36,
     "metadata": {},
     "output_type": "execute_result"
    }
   ],
   "source": [
    "df"
   ]
  },
  {
   "cell_type": "code",
   "execution_count": 42,
   "metadata": {},
   "outputs": [
    {
     "data": {
      "text/html": [
       "<div>\n",
       "<style scoped>\n",
       "    .dataframe tbody tr th:only-of-type {\n",
       "        vertical-align: middle;\n",
       "    }\n",
       "\n",
       "    .dataframe tbody tr th {\n",
       "        vertical-align: top;\n",
       "    }\n",
       "\n",
       "    .dataframe thead th {\n",
       "        text-align: right;\n",
       "    }\n",
       "</style>\n",
       "<table border=\"1\" class=\"dataframe\">\n",
       "  <thead>\n",
       "    <tr style=\"text-align: right;\">\n",
       "      <th></th>\n",
       "      <th>unix</th>\n",
       "      <th>low</th>\n",
       "      <th>high</th>\n",
       "      <th>open</th>\n",
       "      <th>close</th>\n",
       "      <th>volume</th>\n",
       "      <th>date</th>\n",
       "      <th>vol_fiat</th>\n",
       "    </tr>\n",
       "  </thead>\n",
       "  <tbody>\n",
       "    <tr>\n",
       "      <th>0</th>\n",
       "      <td>1445990400</td>\n",
       "      <td>295.65</td>\n",
       "      <td>308.93</td>\n",
       "      <td>295.68</td>\n",
       "      <td>304.09</td>\n",
       "      <td>16047.510771</td>\n",
       "      <td>2015-10-28</td>\n",
       "      <td>4.879888e+06</td>\n",
       "    </tr>\n",
       "    <tr>\n",
       "      <th>1</th>\n",
       "      <td>1445904000</td>\n",
       "      <td>286.89</td>\n",
       "      <td>297.99</td>\n",
       "      <td>287.10</td>\n",
       "      <td>295.61</td>\n",
       "      <td>11123.681788</td>\n",
       "      <td>2015-10-27</td>\n",
       "      <td>3.288272e+06</td>\n",
       "    </tr>\n",
       "    <tr>\n",
       "      <th>2</th>\n",
       "      <td>1445817600</td>\n",
       "      <td>282.04</td>\n",
       "      <td>287.68</td>\n",
       "      <td>284.97</td>\n",
       "      <td>287.10</td>\n",
       "      <td>7477.924219</td>\n",
       "      <td>2015-10-26</td>\n",
       "      <td>2.146912e+06</td>\n",
       "    </tr>\n",
       "    <tr>\n",
       "      <th>3</th>\n",
       "      <td>1445731200</td>\n",
       "      <td>283.28</td>\n",
       "      <td>295.93</td>\n",
       "      <td>284.29</td>\n",
       "      <td>284.97</td>\n",
       "      <td>10695.708371</td>\n",
       "      <td>2015-10-25</td>\n",
       "      <td>3.047956e+06</td>\n",
       "    </tr>\n",
       "    <tr>\n",
       "      <th>4</th>\n",
       "      <td>1445644800</td>\n",
       "      <td>278.75</td>\n",
       "      <td>284.49</td>\n",
       "      <td>278.76</td>\n",
       "      <td>284.29</td>\n",
       "      <td>5508.016725</td>\n",
       "      <td>2015-10-24</td>\n",
       "      <td>1.565874e+06</td>\n",
       "    </tr>\n",
       "    <tr>\n",
       "      <th>...</th>\n",
       "      <td>...</td>\n",
       "      <td>...</td>\n",
       "      <td>...</td>\n",
       "      <td>...</td>\n",
       "      <td>...</td>\n",
       "      <td>...</td>\n",
       "      <td>...</td>\n",
       "      <td>...</td>\n",
       "    </tr>\n",
       "    <tr>\n",
       "      <th>2196</th>\n",
       "      <td>1601942400</td>\n",
       "      <td>10524.00</td>\n",
       "      <td>10800.00</td>\n",
       "      <td>10796.97</td>\n",
       "      <td>10602.66</td>\n",
       "      <td>7596.363720</td>\n",
       "      <td>2020-10-06</td>\n",
       "      <td>8.054166e+07</td>\n",
       "    </tr>\n",
       "    <tr>\n",
       "      <th>2197</th>\n",
       "      <td>1601856000</td>\n",
       "      <td>10621.12</td>\n",
       "      <td>10800.00</td>\n",
       "      <td>10670.01</td>\n",
       "      <td>10795.00</td>\n",
       "      <td>6081.387019</td>\n",
       "      <td>2020-10-05</td>\n",
       "      <td>6.564857e+07</td>\n",
       "    </tr>\n",
       "    <tr>\n",
       "      <th>2198</th>\n",
       "      <td>1601769600</td>\n",
       "      <td>10521.87</td>\n",
       "      <td>10697.00</td>\n",
       "      <td>10550.32</td>\n",
       "      <td>10671.11</td>\n",
       "      <td>3569.256202</td>\n",
       "      <td>2020-10-04</td>\n",
       "      <td>3.808793e+07</td>\n",
       "    </tr>\n",
       "    <tr>\n",
       "      <th>2199</th>\n",
       "      <td>1601683200</td>\n",
       "      <td>10498.02</td>\n",
       "      <td>10606.36</td>\n",
       "      <td>10573.12</td>\n",
       "      <td>10551.65</td>\n",
       "      <td>3211.704593</td>\n",
       "      <td>2020-10-03</td>\n",
       "      <td>3.388878e+07</td>\n",
       "    </tr>\n",
       "    <tr>\n",
       "      <th>2200</th>\n",
       "      <td>1601596800</td>\n",
       "      <td>10363.76</td>\n",
       "      <td>10668.56</td>\n",
       "      <td>10616.35</td>\n",
       "      <td>10573.12</td>\n",
       "      <td>10263.482903</td>\n",
       "      <td>2020-10-02</td>\n",
       "      <td>1.085170e+08</td>\n",
       "    </tr>\n",
       "  </tbody>\n",
       "</table>\n",
       "<p>2201 rows × 8 columns</p>\n",
       "</div>"
      ],
      "text/plain": [
       "            unix       low      high      open     close        volume  \\\n",
       "0     1445990400    295.65    308.93    295.68    304.09  16047.510771   \n",
       "1     1445904000    286.89    297.99    287.10    295.61  11123.681788   \n",
       "2     1445817600    282.04    287.68    284.97    287.10   7477.924219   \n",
       "3     1445731200    283.28    295.93    284.29    284.97  10695.708371   \n",
       "4     1445644800    278.75    284.49    278.76    284.29   5508.016725   \n",
       "...          ...       ...       ...       ...       ...           ...   \n",
       "2196  1601942400  10524.00  10800.00  10796.97  10602.66   7596.363720   \n",
       "2197  1601856000  10621.12  10800.00  10670.01  10795.00   6081.387019   \n",
       "2198  1601769600  10521.87  10697.00  10550.32  10671.11   3569.256202   \n",
       "2199  1601683200  10498.02  10606.36  10573.12  10551.65   3211.704593   \n",
       "2200  1601596800  10363.76  10668.56  10616.35  10573.12  10263.482903   \n",
       "\n",
       "            date      vol_fiat  \n",
       "0     2015-10-28  4.879888e+06  \n",
       "1     2015-10-27  3.288272e+06  \n",
       "2     2015-10-26  2.146912e+06  \n",
       "3     2015-10-25  3.047956e+06  \n",
       "4     2015-10-24  1.565874e+06  \n",
       "...          ...           ...  \n",
       "2196  2020-10-06  8.054166e+07  \n",
       "2197  2020-10-05  6.564857e+07  \n",
       "2198  2020-10-04  3.808793e+07  \n",
       "2199  2020-10-03  3.388878e+07  \n",
       "2200  2020-10-02  1.085170e+08  \n",
       "\n",
       "[2201 rows x 8 columns]"
      ]
     },
     "execution_count": 42,
     "metadata": {},
     "output_type": "execute_result"
    }
   ],
   "source": [
    "df.sort_values('date')\n",
    "df.reset_index(drop=True)"
   ]
  },
  {
   "cell_type": "code",
   "execution_count": null,
   "metadata": {},
   "outputs": [],
   "source": []
  }
 ],
 "metadata": {
  "kernelspec": {
   "display_name": "Python 3",
   "language": "python",
   "name": "python3"
  },
  "language_info": {
   "codemirror_mode": {
    "name": "ipython",
    "version": 3
   },
   "file_extension": ".py",
   "mimetype": "text/x-python",
   "name": "python",
   "nbconvert_exporter": "python",
   "pygments_lexer": "ipython3",
   "version": "3.8.2"
  }
 },
 "nbformat": 4,
 "nbformat_minor": 4
}
