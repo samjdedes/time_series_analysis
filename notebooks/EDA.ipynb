{
 "cells": [
  {
   "cell_type": "code",
   "execution_count": 1,
   "metadata": {},
   "outputs": [],
   "source": [
    "# imports\n",
    "import pandas as pd\n",
    "import numpy as np"
   ]
  },
  {
   "cell_type": "code",
   "execution_count": 2,
   "metadata": {},
   "outputs": [
    {
     "data": {
      "text/html": [
       "<div>\n",
       "<style scoped>\n",
       "    .dataframe tbody tr th:only-of-type {\n",
       "        vertical-align: middle;\n",
       "    }\n",
       "\n",
       "    .dataframe tbody tr th {\n",
       "        vertical-align: top;\n",
       "    }\n",
       "\n",
       "    .dataframe thead th {\n",
       "        text-align: right;\n",
       "    }\n",
       "</style>\n",
       "<table border=\"1\" class=\"dataframe\">\n",
       "  <thead>\n",
       "    <tr style=\"text-align: right;\">\n",
       "      <th></th>\n",
       "      <th>Unnamed: 0</th>\n",
       "      <th>Date</th>\n",
       "      <th>Symbol</th>\n",
       "      <th>Open</th>\n",
       "      <th>High</th>\n",
       "      <th>Low</th>\n",
       "      <th>Close</th>\n",
       "      <th>Volume</th>\n",
       "      <th>Market Cap</th>\n",
       "    </tr>\n",
       "  </thead>\n",
       "  <tbody>\n",
       "    <tr>\n",
       "      <th>0</th>\n",
       "      <td>0</td>\n",
       "      <td>2015-11-12</td>\n",
       "      <td>$$$</td>\n",
       "      <td>0.000013</td>\n",
       "      <td>0.000017</td>\n",
       "      <td>0.000013</td>\n",
       "      <td>0.000017</td>\n",
       "      <td>142.0</td>\n",
       "      <td>NaN</td>\n",
       "    </tr>\n",
       "    <tr>\n",
       "      <th>1</th>\n",
       "      <td>1</td>\n",
       "      <td>2015-11-13</td>\n",
       "      <td>$$$</td>\n",
       "      <td>0.000017</td>\n",
       "      <td>0.000033</td>\n",
       "      <td>0.000016</td>\n",
       "      <td>0.000024</td>\n",
       "      <td>85.0</td>\n",
       "      <td>NaN</td>\n",
       "    </tr>\n",
       "    <tr>\n",
       "      <th>2</th>\n",
       "      <td>2</td>\n",
       "      <td>2015-11-14</td>\n",
       "      <td>$$$</td>\n",
       "      <td>0.000024</td>\n",
       "      <td>0.000053</td>\n",
       "      <td>0.000023</td>\n",
       "      <td>0.000030</td>\n",
       "      <td>131.0</td>\n",
       "      <td>NaN</td>\n",
       "    </tr>\n",
       "    <tr>\n",
       "      <th>3</th>\n",
       "      <td>3</td>\n",
       "      <td>2015-11-15</td>\n",
       "      <td>$$$</td>\n",
       "      <td>0.000030</td>\n",
       "      <td>0.000063</td>\n",
       "      <td>0.000022</td>\n",
       "      <td>0.000035</td>\n",
       "      <td>132.0</td>\n",
       "      <td>NaN</td>\n",
       "    </tr>\n",
       "    <tr>\n",
       "      <th>4</th>\n",
       "      <td>4</td>\n",
       "      <td>2015-11-16</td>\n",
       "      <td>$$$</td>\n",
       "      <td>0.000035</td>\n",
       "      <td>0.000046</td>\n",
       "      <td>0.000032</td>\n",
       "      <td>0.000036</td>\n",
       "      <td>280.0</td>\n",
       "      <td>NaN</td>\n",
       "    </tr>\n",
       "    <tr>\n",
       "      <th>...</th>\n",
       "      <td>...</td>\n",
       "      <td>...</td>\n",
       "      <td>...</td>\n",
       "      <td>...</td>\n",
       "      <td>...</td>\n",
       "      <td>...</td>\n",
       "      <td>...</td>\n",
       "      <td>...</td>\n",
       "      <td>...</td>\n",
       "    </tr>\n",
       "    <tr>\n",
       "      <th>632213</th>\n",
       "      <td>298</td>\n",
       "      <td>2018-09-23</td>\n",
       "      <td>ZZC</td>\n",
       "      <td>0.067149</td>\n",
       "      <td>0.067324</td>\n",
       "      <td>0.024069</td>\n",
       "      <td>0.024161</td>\n",
       "      <td>34.0</td>\n",
       "      <td>130705.0</td>\n",
       "    </tr>\n",
       "    <tr>\n",
       "      <th>632214</th>\n",
       "      <td>299</td>\n",
       "      <td>2018-09-24</td>\n",
       "      <td>ZZC</td>\n",
       "      <td>0.024167</td>\n",
       "      <td>0.091875</td>\n",
       "      <td>0.024121</td>\n",
       "      <td>0.091631</td>\n",
       "      <td>58.0</td>\n",
       "      <td>47041.0</td>\n",
       "    </tr>\n",
       "    <tr>\n",
       "      <th>632215</th>\n",
       "      <td>300</td>\n",
       "      <td>2018-09-25</td>\n",
       "      <td>ZZC</td>\n",
       "      <td>0.091528</td>\n",
       "      <td>0.091568</td>\n",
       "      <td>0.057507</td>\n",
       "      <td>0.090547</td>\n",
       "      <td>752.0</td>\n",
       "      <td>178158.0</td>\n",
       "    </tr>\n",
       "    <tr>\n",
       "      <th>632216</th>\n",
       "      <td>301</td>\n",
       "      <td>2018-09-26</td>\n",
       "      <td>ZZC</td>\n",
       "      <td>0.090400</td>\n",
       "      <td>0.104745</td>\n",
       "      <td>0.086071</td>\n",
       "      <td>0.086559</td>\n",
       "      <td>60.0</td>\n",
       "      <td>175963.0</td>\n",
       "    </tr>\n",
       "    <tr>\n",
       "      <th>632217</th>\n",
       "      <td>302</td>\n",
       "      <td>2018-09-27</td>\n",
       "      <td>ZZC</td>\n",
       "      <td>0.086664</td>\n",
       "      <td>0.130541</td>\n",
       "      <td>0.067363</td>\n",
       "      <td>0.073475</td>\n",
       "      <td>91.0</td>\n",
       "      <td>168691.0</td>\n",
       "    </tr>\n",
       "  </tbody>\n",
       "</table>\n",
       "<p>632218 rows × 9 columns</p>\n",
       "</div>"
      ],
      "text/plain": [
       "        Unnamed: 0        Date Symbol      Open      High       Low     Close  \\\n",
       "0                0  2015-11-12    $$$  0.000013  0.000017  0.000013  0.000017   \n",
       "1                1  2015-11-13    $$$  0.000017  0.000033  0.000016  0.000024   \n",
       "2                2  2015-11-14    $$$  0.000024  0.000053  0.000023  0.000030   \n",
       "3                3  2015-11-15    $$$  0.000030  0.000063  0.000022  0.000035   \n",
       "4                4  2015-11-16    $$$  0.000035  0.000046  0.000032  0.000036   \n",
       "...            ...         ...    ...       ...       ...       ...       ...   \n",
       "632213         298  2018-09-23    ZZC  0.067149  0.067324  0.024069  0.024161   \n",
       "632214         299  2018-09-24    ZZC  0.024167  0.091875  0.024121  0.091631   \n",
       "632215         300  2018-09-25    ZZC  0.091528  0.091568  0.057507  0.090547   \n",
       "632216         301  2018-09-26    ZZC  0.090400  0.104745  0.086071  0.086559   \n",
       "632217         302  2018-09-27    ZZC  0.086664  0.130541  0.067363  0.073475   \n",
       "\n",
       "        Volume  Market Cap  \n",
       "0        142.0         NaN  \n",
       "1         85.0         NaN  \n",
       "2        131.0         NaN  \n",
       "3        132.0         NaN  \n",
       "4        280.0         NaN  \n",
       "...        ...         ...  \n",
       "632213    34.0    130705.0  \n",
       "632214    58.0     47041.0  \n",
       "632215   752.0    178158.0  \n",
       "632216    60.0    175963.0  \n",
       "632217    91.0    168691.0  \n",
       "\n",
       "[632218 rows x 9 columns]"
      ]
     },
     "execution_count": 2,
     "metadata": {},
     "output_type": "execute_result"
    }
   ],
   "source": [
    "ts = pd.read_csv('../data/all_currencies.csv')\n",
    "ts"
   ]
  },
  {
   "cell_type": "code",
   "execution_count": 8,
   "metadata": {},
   "outputs": [
    {
     "data": {
      "text/plain": [
       "0       887\n",
       "1       886\n",
       "3       882\n",
       "2       882\n",
       "6       878\n",
       "       ... \n",
       "1976      5\n",
       "1977      5\n",
       "1974      5\n",
       "1975      5\n",
       "1978      3\n",
       "Name: Unnamed: 0, Length: 1979, dtype: int64"
      ]
     },
     "execution_count": 8,
     "metadata": {},
     "output_type": "execute_result"
    }
   ],
   "source": [
    "check.value_counts()"
   ]
  },
  {
   "cell_type": "code",
   "execution_count": 15,
   "metadata": {},
   "outputs": [
    {
     "data": {
      "text/plain": [
       "632213    298\n",
       "632214    299\n",
       "632215    300\n",
       "632216    301\n",
       "632217    302\n",
       "Name: Unnamed: 0, dtype: int64"
      ]
     },
     "execution_count": 15,
     "metadata": {},
     "output_type": "execute_result"
    }
   ],
   "source": [
    "check.tail()"
   ]
  },
  {
   "cell_type": "code",
   "execution_count": 14,
   "metadata": {},
   "outputs": [
    {
     "data": {
      "text/plain": [
       "Index(['Unnamed: 0', 'Date', 'Symbol', 'Open', 'High', 'Low', 'Close',\n",
       "       'Volume', 'Market Cap'],\n",
       "      dtype='object')"
      ]
     },
     "execution_count": 14,
     "metadata": {},
     "output_type": "execute_result"
    }
   ],
   "source": [
    "ts.columns"
   ]
  },
  {
   "cell_type": "code",
   "execution_count": 6,
   "metadata": {},
   "outputs": [],
   "source": [
    "check = ts['Unnamed: 0']"
   ]
  },
  {
   "cell_type": "code",
   "execution_count": 5,
   "metadata": {},
   "outputs": [
    {
     "data": {
      "text/plain": [
       "0       887\n",
       "1       886\n",
       "3       882\n",
       "2       882\n",
       "6       878\n",
       "       ... \n",
       "1976      5\n",
       "1977      5\n",
       "1974      5\n",
       "1975      5\n",
       "1978      3\n",
       "Name: Unnamed: 0, Length: 1979, dtype: int64"
      ]
     },
     "execution_count": 5,
     "metadata": {},
     "output_type": "execute_result"
    }
   ],
   "source": [
    "ts['Unnamed: 0'].value_counts()"
   ]
  },
  {
   "cell_type": "code",
   "execution_count": 17,
   "metadata": {},
   "outputs": [
    {
     "data": {
      "text/plain": [
       "False    567841\n",
       "True      64377\n",
       "Name: Market Cap, dtype: int64"
      ]
     },
     "execution_count": 17,
     "metadata": {},
     "output_type": "execute_result"
    }
   ],
   "source": [
    "ts['Market Cap'].isna().value_counts()"
   ]
  },
  {
   "cell_type": "code",
   "execution_count": 19,
   "metadata": {},
   "outputs": [
    {
     "data": {
      "text/plain": [
       "887"
      ]
     },
     "execution_count": 19,
     "metadata": {},
     "output_type": "execute_result"
    }
   ],
   "source": [
    "ts.Symbol.nunique()"
   ]
  },
  {
   "cell_type": "code",
   "execution_count": 25,
   "metadata": {},
   "outputs": [
    {
     "data": {
      "text/html": [
       "<div>\n",
       "<style scoped>\n",
       "    .dataframe tbody tr th:only-of-type {\n",
       "        vertical-align: middle;\n",
       "    }\n",
       "\n",
       "    .dataframe tbody tr th {\n",
       "        vertical-align: top;\n",
       "    }\n",
       "\n",
       "    .dataframe thead th {\n",
       "        text-align: right;\n",
       "    }\n",
       "</style>\n",
       "<table border=\"1\" class=\"dataframe\">\n",
       "  <thead>\n",
       "    <tr style=\"text-align: right;\">\n",
       "      <th></th>\n",
       "      <th>Unnamed: 0</th>\n",
       "      <th>Date</th>\n",
       "      <th>Symbol</th>\n",
       "      <th>Open</th>\n",
       "      <th>High</th>\n",
       "      <th>Low</th>\n",
       "      <th>Close</th>\n",
       "      <th>Volume</th>\n",
       "      <th>Market Cap</th>\n",
       "    </tr>\n",
       "  </thead>\n",
       "  <tbody>\n",
       "    <tr>\n",
       "      <th>29</th>\n",
       "      <td>29</td>\n",
       "      <td>2015-12-11</td>\n",
       "      <td>$$$</td>\n",
       "      <td>0.000050</td>\n",
       "      <td>0.000050</td>\n",
       "      <td>0.000022</td>\n",
       "      <td>0.000027</td>\n",
       "      <td>1.0</td>\n",
       "      <td>2287.0</td>\n",
       "    </tr>\n",
       "    <tr>\n",
       "      <th>30</th>\n",
       "      <td>30</td>\n",
       "      <td>2015-12-12</td>\n",
       "      <td>$$$</td>\n",
       "      <td>0.000027</td>\n",
       "      <td>0.000044</td>\n",
       "      <td>0.000021</td>\n",
       "      <td>0.000043</td>\n",
       "      <td>0.0</td>\n",
       "      <td>1245.0</td>\n",
       "    </tr>\n",
       "    <tr>\n",
       "      <th>31</th>\n",
       "      <td>31</td>\n",
       "      <td>2015-12-13</td>\n",
       "      <td>$$$</td>\n",
       "      <td>0.000043</td>\n",
       "      <td>0.000044</td>\n",
       "      <td>0.000022</td>\n",
       "      <td>0.000022</td>\n",
       "      <td>2.0</td>\n",
       "      <td>1996.0</td>\n",
       "    </tr>\n",
       "    <tr>\n",
       "      <th>32</th>\n",
       "      <td>32</td>\n",
       "      <td>2015-12-14</td>\n",
       "      <td>$$$</td>\n",
       "      <td>0.000022</td>\n",
       "      <td>0.000022</td>\n",
       "      <td>0.000022</td>\n",
       "      <td>0.000022</td>\n",
       "      <td>3.0</td>\n",
       "      <td>994.0</td>\n",
       "    </tr>\n",
       "    <tr>\n",
       "      <th>33</th>\n",
       "      <td>33</td>\n",
       "      <td>2015-12-15</td>\n",
       "      <td>$$$</td>\n",
       "      <td>0.000022</td>\n",
       "      <td>0.000023</td>\n",
       "      <td>0.000022</td>\n",
       "      <td>0.000023</td>\n",
       "      <td>2.0</td>\n",
       "      <td>1018.0</td>\n",
       "    </tr>\n",
       "    <tr>\n",
       "      <th>...</th>\n",
       "      <td>...</td>\n",
       "      <td>...</td>\n",
       "      <td>...</td>\n",
       "      <td>...</td>\n",
       "      <td>...</td>\n",
       "      <td>...</td>\n",
       "      <td>...</td>\n",
       "      <td>...</td>\n",
       "      <td>...</td>\n",
       "    </tr>\n",
       "    <tr>\n",
       "      <th>632213</th>\n",
       "      <td>298</td>\n",
       "      <td>2018-09-23</td>\n",
       "      <td>ZZC</td>\n",
       "      <td>0.067149</td>\n",
       "      <td>0.067324</td>\n",
       "      <td>0.024069</td>\n",
       "      <td>0.024161</td>\n",
       "      <td>34.0</td>\n",
       "      <td>130705.0</td>\n",
       "    </tr>\n",
       "    <tr>\n",
       "      <th>632214</th>\n",
       "      <td>299</td>\n",
       "      <td>2018-09-24</td>\n",
       "      <td>ZZC</td>\n",
       "      <td>0.024167</td>\n",
       "      <td>0.091875</td>\n",
       "      <td>0.024121</td>\n",
       "      <td>0.091631</td>\n",
       "      <td>58.0</td>\n",
       "      <td>47041.0</td>\n",
       "    </tr>\n",
       "    <tr>\n",
       "      <th>632215</th>\n",
       "      <td>300</td>\n",
       "      <td>2018-09-25</td>\n",
       "      <td>ZZC</td>\n",
       "      <td>0.091528</td>\n",
       "      <td>0.091568</td>\n",
       "      <td>0.057507</td>\n",
       "      <td>0.090547</td>\n",
       "      <td>752.0</td>\n",
       "      <td>178158.0</td>\n",
       "    </tr>\n",
       "    <tr>\n",
       "      <th>632216</th>\n",
       "      <td>301</td>\n",
       "      <td>2018-09-26</td>\n",
       "      <td>ZZC</td>\n",
       "      <td>0.090400</td>\n",
       "      <td>0.104745</td>\n",
       "      <td>0.086071</td>\n",
       "      <td>0.086559</td>\n",
       "      <td>60.0</td>\n",
       "      <td>175963.0</td>\n",
       "    </tr>\n",
       "    <tr>\n",
       "      <th>632217</th>\n",
       "      <td>302</td>\n",
       "      <td>2018-09-27</td>\n",
       "      <td>ZZC</td>\n",
       "      <td>0.086664</td>\n",
       "      <td>0.130541</td>\n",
       "      <td>0.067363</td>\n",
       "      <td>0.073475</td>\n",
       "      <td>91.0</td>\n",
       "      <td>168691.0</td>\n",
       "    </tr>\n",
       "  </tbody>\n",
       "</table>\n",
       "<p>567841 rows × 9 columns</p>\n",
       "</div>"
      ],
      "text/plain": [
       "        Unnamed: 0        Date Symbol      Open      High       Low     Close  \\\n",
       "29              29  2015-12-11    $$$  0.000050  0.000050  0.000022  0.000027   \n",
       "30              30  2015-12-12    $$$  0.000027  0.000044  0.000021  0.000043   \n",
       "31              31  2015-12-13    $$$  0.000043  0.000044  0.000022  0.000022   \n",
       "32              32  2015-12-14    $$$  0.000022  0.000022  0.000022  0.000022   \n",
       "33              33  2015-12-15    $$$  0.000022  0.000023  0.000022  0.000023   \n",
       "...            ...         ...    ...       ...       ...       ...       ...   \n",
       "632213         298  2018-09-23    ZZC  0.067149  0.067324  0.024069  0.024161   \n",
       "632214         299  2018-09-24    ZZC  0.024167  0.091875  0.024121  0.091631   \n",
       "632215         300  2018-09-25    ZZC  0.091528  0.091568  0.057507  0.090547   \n",
       "632216         301  2018-09-26    ZZC  0.090400  0.104745  0.086071  0.086559   \n",
       "632217         302  2018-09-27    ZZC  0.086664  0.130541  0.067363  0.073475   \n",
       "\n",
       "        Volume  Market Cap  \n",
       "29         1.0      2287.0  \n",
       "30         0.0      1245.0  \n",
       "31         2.0      1996.0  \n",
       "32         3.0       994.0  \n",
       "33         2.0      1018.0  \n",
       "...        ...         ...  \n",
       "632213    34.0    130705.0  \n",
       "632214    58.0     47041.0  \n",
       "632215   752.0    178158.0  \n",
       "632216    60.0    175963.0  \n",
       "632217    91.0    168691.0  \n",
       "\n",
       "[567841 rows x 9 columns]"
      ]
     },
     "execution_count": 25,
     "metadata": {},
     "output_type": "execute_result"
    }
   ],
   "source": [
    "ts_clean = ts.dropna(subset=['Market Cap'])\n",
    "ts_clean"
   ]
  },
  {
   "cell_type": "code",
   "execution_count": 26,
   "metadata": {},
   "outputs": [
    {
     "data": {
      "text/plain": [
       "765"
      ]
     },
     "execution_count": 26,
     "metadata": {},
     "output_type": "execute_result"
    }
   ],
   "source": [
    "ts_clean.Symbol.nunique()"
   ]
  },
  {
   "cell_type": "code",
   "execution_count": 28,
   "metadata": {},
   "outputs": [
    {
     "data": {
      "text/plain": [
       "122"
      ]
     },
     "execution_count": 28,
     "metadata": {},
     "output_type": "execute_result"
    }
   ],
   "source": [
    "ts.Symbol.nunique() - ts_clean.Symbol.nunique()"
   ]
  },
  {
   "cell_type": "code",
   "execution_count": null,
   "metadata": {},
   "outputs": [],
   "source": []
  }
 ],
 "metadata": {
  "kernelspec": {
   "display_name": "Python 3",
   "language": "python",
   "name": "python3"
  },
  "language_info": {
   "codemirror_mode": {
    "name": "ipython",
    "version": 3
   },
   "file_extension": ".py",
   "mimetype": "text/x-python",
   "name": "python",
   "nbconvert_exporter": "python",
   "pygments_lexer": "ipython3",
   "version": "3.8.2"
  }
 },
 "nbformat": 4,
 "nbformat_minor": 4
}
