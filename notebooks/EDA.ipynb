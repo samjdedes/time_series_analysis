{
 "cells": [
  {
   "cell_type": "code",
   "execution_count": 1,
   "metadata": {},
   "outputs": [],
   "source": [
    "# imports\n",
    "import pandas as pd\n",
    "import numpy as np"
   ]
  },
  {
   "cell_type": "code",
   "execution_count": 14,
   "metadata": {},
   "outputs": [
    {
     "data": {
      "text/plain": [
       "Index(['Unnamed: 0', 'Date', 'Symbol', 'Open', 'High', 'Low', 'Close',\n",
       "       'Volume', 'Market Cap'],\n",
       "      dtype='object')"
      ]
     },
     "execution_count": 14,
     "metadata": {},
     "output_type": "execute_result"
    }
   ],
   "source": [
    "ts.columns"
   ]
  },
  {
   "cell_type": "code",
   "execution_count": 8,
   "metadata": {},
   "outputs": [
    {
     "data": {
      "text/html": [
       "<div>\n",
       "<style scoped>\n",
       "    .dataframe tbody tr th:only-of-type {\n",
       "        vertical-align: middle;\n",
       "    }\n",
       "\n",
       "    .dataframe tbody tr th {\n",
       "        vertical-align: top;\n",
       "    }\n",
       "\n",
       "    .dataframe thead th {\n",
       "        text-align: right;\n",
       "    }\n",
       "</style>\n",
       "<table border=\"1\" class=\"dataframe\">\n",
       "  <thead>\n",
       "    <tr style=\"text-align: right;\">\n",
       "      <th></th>\n",
       "      <th>Date</th>\n",
       "      <th>Symbol</th>\n",
       "      <th>Open</th>\n",
       "      <th>High</th>\n",
       "      <th>Low</th>\n",
       "      <th>Close</th>\n",
       "      <th>Volume</th>\n",
       "      <th>Market Cap</th>\n",
       "    </tr>\n",
       "  </thead>\n",
       "  <tbody>\n",
       "    <tr>\n",
       "      <th>0</th>\n",
       "      <td>2015-11-12</td>\n",
       "      <td>$$$</td>\n",
       "      <td>0.000013</td>\n",
       "      <td>0.000017</td>\n",
       "      <td>0.000013</td>\n",
       "      <td>0.000017</td>\n",
       "      <td>142.0</td>\n",
       "      <td>NaN</td>\n",
       "    </tr>\n",
       "    <tr>\n",
       "      <th>1</th>\n",
       "      <td>2015-11-13</td>\n",
       "      <td>$$$</td>\n",
       "      <td>0.000017</td>\n",
       "      <td>0.000033</td>\n",
       "      <td>0.000016</td>\n",
       "      <td>0.000024</td>\n",
       "      <td>85.0</td>\n",
       "      <td>NaN</td>\n",
       "    </tr>\n",
       "    <tr>\n",
       "      <th>2</th>\n",
       "      <td>2015-11-14</td>\n",
       "      <td>$$$</td>\n",
       "      <td>0.000024</td>\n",
       "      <td>0.000053</td>\n",
       "      <td>0.000023</td>\n",
       "      <td>0.000030</td>\n",
       "      <td>131.0</td>\n",
       "      <td>NaN</td>\n",
       "    </tr>\n",
       "    <tr>\n",
       "      <th>3</th>\n",
       "      <td>2015-11-15</td>\n",
       "      <td>$$$</td>\n",
       "      <td>0.000030</td>\n",
       "      <td>0.000063</td>\n",
       "      <td>0.000022</td>\n",
       "      <td>0.000035</td>\n",
       "      <td>132.0</td>\n",
       "      <td>NaN</td>\n",
       "    </tr>\n",
       "    <tr>\n",
       "      <th>4</th>\n",
       "      <td>2015-11-16</td>\n",
       "      <td>$$$</td>\n",
       "      <td>0.000035</td>\n",
       "      <td>0.000046</td>\n",
       "      <td>0.000032</td>\n",
       "      <td>0.000036</td>\n",
       "      <td>280.0</td>\n",
       "      <td>NaN</td>\n",
       "    </tr>\n",
       "    <tr>\n",
       "      <th>...</th>\n",
       "      <td>...</td>\n",
       "      <td>...</td>\n",
       "      <td>...</td>\n",
       "      <td>...</td>\n",
       "      <td>...</td>\n",
       "      <td>...</td>\n",
       "      <td>...</td>\n",
       "      <td>...</td>\n",
       "    </tr>\n",
       "    <tr>\n",
       "      <th>298</th>\n",
       "      <td>2018-09-23</td>\n",
       "      <td>ZZC</td>\n",
       "      <td>0.067149</td>\n",
       "      <td>0.067324</td>\n",
       "      <td>0.024069</td>\n",
       "      <td>0.024161</td>\n",
       "      <td>34.0</td>\n",
       "      <td>130705.0</td>\n",
       "    </tr>\n",
       "    <tr>\n",
       "      <th>299</th>\n",
       "      <td>2018-09-24</td>\n",
       "      <td>ZZC</td>\n",
       "      <td>0.024167</td>\n",
       "      <td>0.091875</td>\n",
       "      <td>0.024121</td>\n",
       "      <td>0.091631</td>\n",
       "      <td>58.0</td>\n",
       "      <td>47041.0</td>\n",
       "    </tr>\n",
       "    <tr>\n",
       "      <th>300</th>\n",
       "      <td>2018-09-25</td>\n",
       "      <td>ZZC</td>\n",
       "      <td>0.091528</td>\n",
       "      <td>0.091568</td>\n",
       "      <td>0.057507</td>\n",
       "      <td>0.090547</td>\n",
       "      <td>752.0</td>\n",
       "      <td>178158.0</td>\n",
       "    </tr>\n",
       "    <tr>\n",
       "      <th>301</th>\n",
       "      <td>2018-09-26</td>\n",
       "      <td>ZZC</td>\n",
       "      <td>0.090400</td>\n",
       "      <td>0.104745</td>\n",
       "      <td>0.086071</td>\n",
       "      <td>0.086559</td>\n",
       "      <td>60.0</td>\n",
       "      <td>175963.0</td>\n",
       "    </tr>\n",
       "    <tr>\n",
       "      <th>302</th>\n",
       "      <td>2018-09-27</td>\n",
       "      <td>ZZC</td>\n",
       "      <td>0.086664</td>\n",
       "      <td>0.130541</td>\n",
       "      <td>0.067363</td>\n",
       "      <td>0.073475</td>\n",
       "      <td>91.0</td>\n",
       "      <td>168691.0</td>\n",
       "    </tr>\n",
       "  </tbody>\n",
       "</table>\n",
       "<p>632218 rows × 8 columns</p>\n",
       "</div>"
      ],
      "text/plain": [
       "           Date Symbol      Open      High       Low     Close  Volume  \\\n",
       "0    2015-11-12    $$$  0.000013  0.000017  0.000013  0.000017   142.0   \n",
       "1    2015-11-13    $$$  0.000017  0.000033  0.000016  0.000024    85.0   \n",
       "2    2015-11-14    $$$  0.000024  0.000053  0.000023  0.000030   131.0   \n",
       "3    2015-11-15    $$$  0.000030  0.000063  0.000022  0.000035   132.0   \n",
       "4    2015-11-16    $$$  0.000035  0.000046  0.000032  0.000036   280.0   \n",
       "..          ...    ...       ...       ...       ...       ...     ...   \n",
       "298  2018-09-23    ZZC  0.067149  0.067324  0.024069  0.024161    34.0   \n",
       "299  2018-09-24    ZZC  0.024167  0.091875  0.024121  0.091631    58.0   \n",
       "300  2018-09-25    ZZC  0.091528  0.091568  0.057507  0.090547   752.0   \n",
       "301  2018-09-26    ZZC  0.090400  0.104745  0.086071  0.086559    60.0   \n",
       "302  2018-09-27    ZZC  0.086664  0.130541  0.067363  0.073475    91.0   \n",
       "\n",
       "     Market Cap  \n",
       "0           NaN  \n",
       "1           NaN  \n",
       "2           NaN  \n",
       "3           NaN  \n",
       "4           NaN  \n",
       "..          ...  \n",
       "298    130705.0  \n",
       "299     47041.0  \n",
       "300    178158.0  \n",
       "301    175963.0  \n",
       "302    168691.0  \n",
       "\n",
       "[632218 rows x 8 columns]"
      ]
     },
     "execution_count": 8,
     "metadata": {},
     "output_type": "execute_result"
    }
   ],
   "source": [
    "ts = pd.read_csv('../data/all_currencies.csv', index_col=0)\n",
    "ts"
   ]
  },
  {
   "cell_type": "code",
   "execution_count": 10,
   "metadata": {},
   "outputs": [
    {
     "data": {
      "text/plain": [
       "False    567841\n",
       "True      64377\n",
       "Name: Market Cap, dtype: int64"
      ]
     },
     "execution_count": 10,
     "metadata": {},
     "output_type": "execute_result"
    }
   ],
   "source": [
    "ts['Market Cap'].isna().value_counts()"
   ]
  },
  {
   "cell_type": "code",
   "execution_count": 11,
   "metadata": {},
   "outputs": [
    {
     "data": {
      "text/plain": [
       "887"
      ]
     },
     "execution_count": 11,
     "metadata": {},
     "output_type": "execute_result"
    }
   ],
   "source": [
    "ts.Symbol.nunique()"
   ]
  },
  {
   "cell_type": "code",
   "execution_count": 19,
   "metadata": {},
   "outputs": [
    {
     "data": {
      "text/plain": [
       "FRC      1868\n",
       "IFC      1867\n",
       "QRK      1856\n",
       "PXC      1844\n",
       "ZET      1840\n",
       "         ... \n",
       "ANON        2\n",
       "PHON        2\n",
       "MNP         2\n",
       "DACH        2\n",
       "AZART       1\n",
       "Name: Symbol, Length: 870, dtype: int64"
      ]
     },
     "execution_count": 19,
     "metadata": {},
     "output_type": "execute_result"
    }
   ],
   "source": [
    "ts.Symbol.value_counts()[-870:]"
   ]
  },
  {
   "cell_type": "code",
   "execution_count": 23,
   "metadata": {},
   "outputs": [],
   "source": [
    "# create dataframe of meta data\n",
    "meta_data = pd.DataFrame(columns=['Symbol', 'Start Data', 'End Date', 'Value At Start', 'Value at End', 'Num_values'])"
   ]
  },
  {
   "cell_type": "code",
   "execution_count": 32,
   "metadata": {},
   "outputs": [
    {
     "data": {
      "text/plain": [
       "str"
      ]
     },
     "execution_count": 32,
     "metadata": {},
     "output_type": "execute_result"
    }
   ],
   "source": []
  },
  {
   "cell_type": "code",
   "execution_count": 29,
   "metadata": {},
   "outputs": [
    {
     "data": {
      "text/html": [
       "<div>\n",
       "<style scoped>\n",
       "    .dataframe tbody tr th:only-of-type {\n",
       "        vertical-align: middle;\n",
       "    }\n",
       "\n",
       "    .dataframe tbody tr th {\n",
       "        vertical-align: top;\n",
       "    }\n",
       "\n",
       "    .dataframe thead th {\n",
       "        text-align: right;\n",
       "    }\n",
       "</style>\n",
       "<table border=\"1\" class=\"dataframe\">\n",
       "  <thead>\n",
       "    <tr style=\"text-align: right;\">\n",
       "      <th></th>\n",
       "      <th>Date</th>\n",
       "      <th>Symbol</th>\n",
       "      <th>Open</th>\n",
       "      <th>High</th>\n",
       "      <th>Low</th>\n",
       "      <th>Close</th>\n",
       "      <th>Volume</th>\n",
       "      <th>Market Cap</th>\n",
       "    </tr>\n",
       "  </thead>\n",
       "  <tbody>\n",
       "    <tr>\n",
       "      <th>0</th>\n",
       "      <td>2015-11-12</td>\n",
       "      <td>$$$</td>\n",
       "      <td>0.000013</td>\n",
       "      <td>0.000017</td>\n",
       "      <td>0.000013</td>\n",
       "      <td>0.000017</td>\n",
       "      <td>142.0</td>\n",
       "      <td>NaN</td>\n",
       "    </tr>\n",
       "    <tr>\n",
       "      <th>1</th>\n",
       "      <td>2015-11-13</td>\n",
       "      <td>$$$</td>\n",
       "      <td>0.000017</td>\n",
       "      <td>0.000033</td>\n",
       "      <td>0.000016</td>\n",
       "      <td>0.000024</td>\n",
       "      <td>85.0</td>\n",
       "      <td>NaN</td>\n",
       "    </tr>\n",
       "    <tr>\n",
       "      <th>2</th>\n",
       "      <td>2015-11-14</td>\n",
       "      <td>$$$</td>\n",
       "      <td>0.000024</td>\n",
       "      <td>0.000053</td>\n",
       "      <td>0.000023</td>\n",
       "      <td>0.000030</td>\n",
       "      <td>131.0</td>\n",
       "      <td>NaN</td>\n",
       "    </tr>\n",
       "    <tr>\n",
       "      <th>3</th>\n",
       "      <td>2015-11-15</td>\n",
       "      <td>$$$</td>\n",
       "      <td>0.000030</td>\n",
       "      <td>0.000063</td>\n",
       "      <td>0.000022</td>\n",
       "      <td>0.000035</td>\n",
       "      <td>132.0</td>\n",
       "      <td>NaN</td>\n",
       "    </tr>\n",
       "    <tr>\n",
       "      <th>4</th>\n",
       "      <td>2015-11-16</td>\n",
       "      <td>$$$</td>\n",
       "      <td>0.000035</td>\n",
       "      <td>0.000046</td>\n",
       "      <td>0.000032</td>\n",
       "      <td>0.000036</td>\n",
       "      <td>280.0</td>\n",
       "      <td>NaN</td>\n",
       "    </tr>\n",
       "    <tr>\n",
       "      <th>...</th>\n",
       "      <td>...</td>\n",
       "      <td>...</td>\n",
       "      <td>...</td>\n",
       "      <td>...</td>\n",
       "      <td>...</td>\n",
       "      <td>...</td>\n",
       "      <td>...</td>\n",
       "      <td>...</td>\n",
       "    </tr>\n",
       "    <tr>\n",
       "      <th>1035</th>\n",
       "      <td>2018-09-23</td>\n",
       "      <td>$$$</td>\n",
       "      <td>0.001006</td>\n",
       "      <td>0.001150</td>\n",
       "      <td>0.001002</td>\n",
       "      <td>0.001138</td>\n",
       "      <td>11.0</td>\n",
       "      <td>46173.0</td>\n",
       "    </tr>\n",
       "    <tr>\n",
       "      <th>1036</th>\n",
       "      <td>2018-09-24</td>\n",
       "      <td>$$$</td>\n",
       "      <td>0.001138</td>\n",
       "      <td>0.001142</td>\n",
       "      <td>0.000985</td>\n",
       "      <td>0.000988</td>\n",
       "      <td>85.0</td>\n",
       "      <td>52222.0</td>\n",
       "    </tr>\n",
       "    <tr>\n",
       "      <th>1037</th>\n",
       "      <td>2018-09-25</td>\n",
       "      <td>$$$</td>\n",
       "      <td>0.000987</td>\n",
       "      <td>0.001112</td>\n",
       "      <td>0.000953</td>\n",
       "      <td>0.000965</td>\n",
       "      <td>47.0</td>\n",
       "      <td>45304.0</td>\n",
       "    </tr>\n",
       "    <tr>\n",
       "      <th>1038</th>\n",
       "      <td>2018-09-26</td>\n",
       "      <td>$$$</td>\n",
       "      <td>0.000963</td>\n",
       "      <td>0.001111</td>\n",
       "      <td>0.000905</td>\n",
       "      <td>0.000905</td>\n",
       "      <td>140.0</td>\n",
       "      <td>44194.0</td>\n",
       "    </tr>\n",
       "    <tr>\n",
       "      <th>1039</th>\n",
       "      <td>2018-09-27</td>\n",
       "      <td>$$$</td>\n",
       "      <td>0.000906</td>\n",
       "      <td>0.000979</td>\n",
       "      <td>0.000903</td>\n",
       "      <td>0.000935</td>\n",
       "      <td>161.0</td>\n",
       "      <td>41588.0</td>\n",
       "    </tr>\n",
       "  </tbody>\n",
       "</table>\n",
       "<p>1040 rows × 8 columns</p>\n",
       "</div>"
      ],
      "text/plain": [
       "            Date Symbol      Open      High       Low     Close  Volume  \\\n",
       "0     2015-11-12    $$$  0.000013  0.000017  0.000013  0.000017   142.0   \n",
       "1     2015-11-13    $$$  0.000017  0.000033  0.000016  0.000024    85.0   \n",
       "2     2015-11-14    $$$  0.000024  0.000053  0.000023  0.000030   131.0   \n",
       "3     2015-11-15    $$$  0.000030  0.000063  0.000022  0.000035   132.0   \n",
       "4     2015-11-16    $$$  0.000035  0.000046  0.000032  0.000036   280.0   \n",
       "...          ...    ...       ...       ...       ...       ...     ...   \n",
       "1035  2018-09-23    $$$  0.001006  0.001150  0.001002  0.001138    11.0   \n",
       "1036  2018-09-24    $$$  0.001138  0.001142  0.000985  0.000988    85.0   \n",
       "1037  2018-09-25    $$$  0.000987  0.001112  0.000953  0.000965    47.0   \n",
       "1038  2018-09-26    $$$  0.000963  0.001111  0.000905  0.000905   140.0   \n",
       "1039  2018-09-27    $$$  0.000906  0.000979  0.000903  0.000935   161.0   \n",
       "\n",
       "      Market Cap  \n",
       "0            NaN  \n",
       "1            NaN  \n",
       "2            NaN  \n",
       "3            NaN  \n",
       "4            NaN  \n",
       "...          ...  \n",
       "1035     46173.0  \n",
       "1036     52222.0  \n",
       "1037     45304.0  \n",
       "1038     44194.0  \n",
       "1039     41588.0  \n",
       "\n",
       "[1040 rows x 8 columns]"
      ]
     },
     "execution_count": 29,
     "metadata": {},
     "output_type": "execute_result"
    }
   ],
   "source": [
    "df = ts[ts['Symbol']=='$$$']\n",
    "df"
   ]
  },
  {
   "cell_type": "code",
   "execution_count": null,
   "metadata": {},
   "outputs": [],
   "source": [
    "# find start, end dates and number of data points for each coin\n",
    "\n",
    "for coin in ts.Symbol.unique():\n",
    "    list = [coin]\n",
    "    df = ts[ts['Symbol'] == coin]\n",
    "    "
   ]
  },
  {
   "cell_type": "code",
   "execution_count": null,
   "metadata": {},
   "outputs": [],
   "source": [
    "# find and drop coins with less than 800 data points\n"
   ]
  },
  {
   "cell_type": "code",
   "execution_count": 26,
   "metadata": {},
   "outputs": [
    {
     "data": {
      "text/plain": [
       "765"
      ]
     },
     "execution_count": 26,
     "metadata": {},
     "output_type": "execute_result"
    }
   ],
   "source": [
    "ts_clean.Symbol.nunique()"
   ]
  },
  {
   "cell_type": "code",
   "execution_count": 28,
   "metadata": {},
   "outputs": [
    {
     "data": {
      "text/plain": [
       "122"
      ]
     },
     "execution_count": 28,
     "metadata": {},
     "output_type": "execute_result"
    }
   ],
   "source": [
    "ts.Symbol.nunique() - ts_clean.Symbol.nunique()"
   ]
  },
  {
   "cell_type": "code",
   "execution_count": null,
   "metadata": {},
   "outputs": [],
   "source": []
  }
 ],
 "metadata": {
  "kernelspec": {
   "display_name": "Python 3",
   "language": "python",
   "name": "python3"
  },
  "language_info": {
   "codemirror_mode": {
    "name": "ipython",
    "version": 3
   },
   "file_extension": ".py",
   "mimetype": "text/x-python",
   "name": "python",
   "nbconvert_exporter": "python",
   "pygments_lexer": "ipython3",
   "version": "3.8.2"
  }
 },
 "nbformat": 4,
 "nbformat_minor": 4
}
