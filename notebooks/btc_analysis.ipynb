{
 "cells": [
  {
   "cell_type": "code",
   "execution_count": 1,
   "metadata": {},
   "outputs": [],
   "source": [
    "# imports\n",
    "import pandas as pd\n",
    "import numpy as np  \n",
    "import matplotlib.pyplot as plt\n",
    "import datetime as dt\n",
    "import sys\n",
    "# custom imports\n",
    "sys.path.append('../src')\n",
    "# test function import\n",
    "from fetch_range_data import fetch_range_data"
   ]
  },
  {
   "cell_type": "markdown",
   "metadata": {},
   "source": [
    "# Bitcoin"
   ]
  },
  {
   "cell_type": "markdown",
   "metadata": {},
   "source": [
    "The purpose of this notebook is to explore methods of bitcoin price forecasting"
   ]
  },
  {
   "cell_type": "markdown",
   "metadata": {},
   "source": [
    "## Get today's data"
   ]
  },
  {
   "cell_type": "code",
   "execution_count": 2,
   "metadata": {},
   "outputs": [
    {
     "name": "stderr",
     "output_type": "stream",
     "text": [
      "../src\\fetch_range_data.py:85: UserWarning: ../data/coinbase/daily_raw/2021-08-11 already exists\n",
      "  warnings.warn(f\"{path} already exists\")\n"
     ]
    }
   ],
   "source": [
    "#  function to get data\n",
    "# today = dt.date.today() \n",
    "btc = fetch_range_data('BTC/USD', '2020/06/21', '2021/08/11', always_fetch=True)"
   ]
  },
  {
   "cell_type": "code",
   "execution_count": 5,
   "metadata": {},
   "outputs": [
    {
     "data": {
      "text/html": [
       "<div>\n",
       "<style scoped>\n",
       "    .dataframe tbody tr th:only-of-type {\n",
       "        vertical-align: middle;\n",
       "    }\n",
       "\n",
       "    .dataframe tbody tr th {\n",
       "        vertical-align: top;\n",
       "    }\n",
       "\n",
       "    .dataframe thead th {\n",
       "        text-align: right;\n",
       "    }\n",
       "</style>\n",
       "<table border=\"1\" class=\"dataframe\">\n",
       "  <thead>\n",
       "    <tr style=\"text-align: right;\">\n",
       "      <th></th>\n",
       "      <th>unix</th>\n",
       "      <th>low</th>\n",
       "      <th>high</th>\n",
       "      <th>open</th>\n",
       "      <th>close</th>\n",
       "      <th>volume</th>\n",
       "      <th>vol_fiat</th>\n",
       "    </tr>\n",
       "    <tr>\n",
       "      <th>date</th>\n",
       "      <th></th>\n",
       "      <th></th>\n",
       "      <th></th>\n",
       "      <th></th>\n",
       "      <th></th>\n",
       "      <th></th>\n",
       "      <th></th>\n",
       "    </tr>\n",
       "  </thead>\n",
       "  <tbody>\n",
       "    <tr>\n",
       "      <th>2020-06-21</th>\n",
       "      <td>1592697600</td>\n",
       "      <td>9273.00</td>\n",
       "      <td>9419.35</td>\n",
       "      <td>9355.74</td>\n",
       "      <td>9286.14</td>\n",
       "      <td>3088.668499</td>\n",
       "      <td>2.868181e+07</td>\n",
       "    </tr>\n",
       "    <tr>\n",
       "      <th>2020-06-22</th>\n",
       "      <td>1592784000</td>\n",
       "      <td>9267.58</td>\n",
       "      <td>9792.00</td>\n",
       "      <td>9286.14</td>\n",
       "      <td>9690.74</td>\n",
       "      <td>11775.738588</td>\n",
       "      <td>1.141156e+08</td>\n",
       "    </tr>\n",
       "    <tr>\n",
       "      <th>2020-06-23</th>\n",
       "      <td>1592870400</td>\n",
       "      <td>9572.22</td>\n",
       "      <td>9724.53</td>\n",
       "      <td>9690.67</td>\n",
       "      <td>9623.56</td>\n",
       "      <td>7946.973557</td>\n",
       "      <td>7.647818e+07</td>\n",
       "    </tr>\n",
       "    <tr>\n",
       "      <th>2020-06-24</th>\n",
       "      <td>1592956800</td>\n",
       "      <td>9195.00</td>\n",
       "      <td>9663.38</td>\n",
       "      <td>9623.56</td>\n",
       "      <td>9285.91</td>\n",
       "      <td>13410.758690</td>\n",
       "      <td>1.245311e+08</td>\n",
       "    </tr>\n",
       "    <tr>\n",
       "      <th>2020-06-25</th>\n",
       "      <td>1593043200</td>\n",
       "      <td>8979.07</td>\n",
       "      <td>9335.00</td>\n",
       "      <td>9285.94</td>\n",
       "      <td>9243.51</td>\n",
       "      <td>13529.056267</td>\n",
       "      <td>1.250560e+08</td>\n",
       "    </tr>\n",
       "    <tr>\n",
       "      <th>...</th>\n",
       "      <td>...</td>\n",
       "      <td>...</td>\n",
       "      <td>...</td>\n",
       "      <td>...</td>\n",
       "      <td>...</td>\n",
       "      <td>...</td>\n",
       "      <td>...</td>\n",
       "    </tr>\n",
       "    <tr>\n",
       "      <th>2021-08-07</th>\n",
       "      <td>1628294400</td>\n",
       "      <td>42457.27</td>\n",
       "      <td>44750.00</td>\n",
       "      <td>42869.59</td>\n",
       "      <td>44637.34</td>\n",
       "      <td>19634.794756</td>\n",
       "      <td>8.764450e+08</td>\n",
       "    </tr>\n",
       "    <tr>\n",
       "      <th>2021-08-08</th>\n",
       "      <td>1628380800</td>\n",
       "      <td>43131.97</td>\n",
       "      <td>45363.83</td>\n",
       "      <td>44628.11</td>\n",
       "      <td>43829.14</td>\n",
       "      <td>18712.271582</td>\n",
       "      <td>8.201428e+08</td>\n",
       "    </tr>\n",
       "    <tr>\n",
       "      <th>2021-08-09</th>\n",
       "      <td>1628467200</td>\n",
       "      <td>42821.30</td>\n",
       "      <td>46497.42</td>\n",
       "      <td>43829.15</td>\n",
       "      <td>46285.48</td>\n",
       "      <td>19464.724935</td>\n",
       "      <td>9.009341e+08</td>\n",
       "    </tr>\n",
       "    <tr>\n",
       "      <th>2021-08-10</th>\n",
       "      <td>1628553600</td>\n",
       "      <td>44650.27</td>\n",
       "      <td>46718.44</td>\n",
       "      <td>46280.00</td>\n",
       "      <td>45595.66</td>\n",
       "      <td>13756.500669</td>\n",
       "      <td>6.272367e+08</td>\n",
       "    </tr>\n",
       "    <tr>\n",
       "      <th>2021-08-11</th>\n",
       "      <td>1628640000</td>\n",
       "      <td>45350.74</td>\n",
       "      <td>46781.09</td>\n",
       "      <td>45601.82</td>\n",
       "      <td>45553.49</td>\n",
       "      <td>11628.320440</td>\n",
       "      <td>5.297106e+08</td>\n",
       "    </tr>\n",
       "  </tbody>\n",
       "</table>\n",
       "<p>417 rows × 7 columns</p>\n",
       "</div>"
      ],
      "text/plain": [
       "                  unix       low      high      open     close        volume  \\\n",
       "date                                                                           \n",
       "2020-06-21  1592697600   9273.00   9419.35   9355.74   9286.14   3088.668499   \n",
       "2020-06-22  1592784000   9267.58   9792.00   9286.14   9690.74  11775.738588   \n",
       "2020-06-23  1592870400   9572.22   9724.53   9690.67   9623.56   7946.973557   \n",
       "2020-06-24  1592956800   9195.00   9663.38   9623.56   9285.91  13410.758690   \n",
       "2020-06-25  1593043200   8979.07   9335.00   9285.94   9243.51  13529.056267   \n",
       "...                ...       ...       ...       ...       ...           ...   \n",
       "2021-08-07  1628294400  42457.27  44750.00  42869.59  44637.34  19634.794756   \n",
       "2021-08-08  1628380800  43131.97  45363.83  44628.11  43829.14  18712.271582   \n",
       "2021-08-09  1628467200  42821.30  46497.42  43829.15  46285.48  19464.724935   \n",
       "2021-08-10  1628553600  44650.27  46718.44  46280.00  45595.66  13756.500669   \n",
       "2021-08-11  1628640000  45350.74  46781.09  45601.82  45553.49  11628.320440   \n",
       "\n",
       "                vol_fiat  \n",
       "date                      \n",
       "2020-06-21  2.868181e+07  \n",
       "2020-06-22  1.141156e+08  \n",
       "2020-06-23  7.647818e+07  \n",
       "2020-06-24  1.245311e+08  \n",
       "2020-06-25  1.250560e+08  \n",
       "...                  ...  \n",
       "2021-08-07  8.764450e+08  \n",
       "2021-08-08  8.201428e+08  \n",
       "2021-08-09  9.009341e+08  \n",
       "2021-08-10  6.272367e+08  \n",
       "2021-08-11  5.297106e+08  \n",
       "\n",
       "[417 rows x 7 columns]"
      ]
     },
     "execution_count": 5,
     "metadata": {},
     "output_type": "execute_result"
    }
   ],
   "source": [
    "btc.sort_index()"
   ]
  },
  {
   "cell_type": "markdown",
   "metadata": {},
   "source": [
    "## Import Data"
   ]
  },
  {
   "cell_type": "markdown",
   "metadata": {},
   "source": [
    "### Explore special values for BTC"
   ]
  },
  {
   "cell_type": "code",
   "execution_count": 5,
   "metadata": {},
   "outputs": [
    {
     "data": {
      "text/plain": [
       "(2222, 8)"
      ]
     },
     "execution_count": 5,
     "metadata": {},
     "output_type": "execute_result"
    }
   ],
   "source": [
    "# #create df for up-to-date btc from api data (saved locally)\n",
    "# btc = pd.read_csv('../data/daily_combined/combined_coinbase_2021-07-28', index_col='Unnamed: 0')\n",
    "# btc.pop('index')\n",
    "# # rename to match kaggle btc dataframe\n",
    "my_dict = {'date': 'Date', 'open': 'Open', 'close': 'Close', 'high': 'High', 'low': 'Low', 'volume':'Volume', 'vol_fiat':'Market Cap'}\n",
    "btc.rename(columns=my_dict, inplace=True)\n",
    "\n",
    "btc.shape\n"
   ]
  },
  {
   "cell_type": "markdown",
   "metadata": {},
   "source": [
    "### Convert Index to Datetime"
   ]
  },
  {
   "cell_type": "code",
   "execution_count": 6,
   "metadata": {},
   "outputs": [],
   "source": [
    "# change btc index to Date column datetime objects\n",
    "btc.set_index(pd.to_datetime(btc['Date']),inplace=True)\n",
    "# btc = btc.drop(['Date', 'unix'],axis=1)"
   ]
  },
  {
   "cell_type": "code",
   "execution_count": 7,
   "metadata": {},
   "outputs": [
    {
     "data": {
      "text/html": [
       "<div>\n",
       "<style scoped>\n",
       "    .dataframe tbody tr th:only-of-type {\n",
       "        vertical-align: middle;\n",
       "    }\n",
       "\n",
       "    .dataframe tbody tr th {\n",
       "        vertical-align: top;\n",
       "    }\n",
       "\n",
       "    .dataframe thead th {\n",
       "        text-align: right;\n",
       "    }\n",
       "</style>\n",
       "<table border=\"1\" class=\"dataframe\">\n",
       "  <thead>\n",
       "    <tr style=\"text-align: right;\">\n",
       "      <th></th>\n",
       "      <th>Date</th>\n",
       "      <th>unix</th>\n",
       "      <th>Low</th>\n",
       "      <th>High</th>\n",
       "      <th>Open</th>\n",
       "      <th>Close</th>\n",
       "      <th>Volume</th>\n",
       "      <th>Market Cap</th>\n",
       "    </tr>\n",
       "    <tr>\n",
       "      <th>Date</th>\n",
       "      <th></th>\n",
       "      <th></th>\n",
       "      <th></th>\n",
       "      <th></th>\n",
       "      <th></th>\n",
       "      <th></th>\n",
       "      <th></th>\n",
       "      <th></th>\n",
       "    </tr>\n",
       "  </thead>\n",
       "  <tbody>\n",
       "    <tr>\n",
       "      <th>2015-07-20</th>\n",
       "      <td>2015-07-20</td>\n",
       "      <td>1437350400</td>\n",
       "      <td>277.37</td>\n",
       "      <td>280.00</td>\n",
       "      <td>277.98</td>\n",
       "      <td>280.00</td>\n",
       "      <td>782.883420</td>\n",
       "      <td>2.192074e+05</td>\n",
       "    </tr>\n",
       "    <tr>\n",
       "      <th>2015-07-21</th>\n",
       "      <td>2015-07-21</td>\n",
       "      <td>1437436800</td>\n",
       "      <td>276.85</td>\n",
       "      <td>281.27</td>\n",
       "      <td>279.96</td>\n",
       "      <td>277.32</td>\n",
       "      <td>4943.559434</td>\n",
       "      <td>1.370948e+06</td>\n",
       "    </tr>\n",
       "    <tr>\n",
       "      <th>2015-07-22</th>\n",
       "      <td>2015-07-22</td>\n",
       "      <td>1437523200</td>\n",
       "      <td>275.01</td>\n",
       "      <td>278.54</td>\n",
       "      <td>277.33</td>\n",
       "      <td>277.89</td>\n",
       "      <td>4687.909383</td>\n",
       "      <td>1.302723e+06</td>\n",
       "    </tr>\n",
       "    <tr>\n",
       "      <th>2015-07-23</th>\n",
       "      <td>2015-07-23</td>\n",
       "      <td>1437609600</td>\n",
       "      <td>276.28</td>\n",
       "      <td>279.75</td>\n",
       "      <td>277.96</td>\n",
       "      <td>277.39</td>\n",
       "      <td>5306.919575</td>\n",
       "      <td>1.472086e+06</td>\n",
       "    </tr>\n",
       "    <tr>\n",
       "      <th>2015-07-24</th>\n",
       "      <td>2015-07-24</td>\n",
       "      <td>1437696000</td>\n",
       "      <td>276.43</td>\n",
       "      <td>291.52</td>\n",
       "      <td>277.23</td>\n",
       "      <td>289.12</td>\n",
       "      <td>7362.469083</td>\n",
       "      <td>2.128637e+06</td>\n",
       "    </tr>\n",
       "    <tr>\n",
       "      <th>...</th>\n",
       "      <td>...</td>\n",
       "      <td>...</td>\n",
       "      <td>...</td>\n",
       "      <td>...</td>\n",
       "      <td>...</td>\n",
       "      <td>...</td>\n",
       "      <td>...</td>\n",
       "      <td>...</td>\n",
       "    </tr>\n",
       "    <tr>\n",
       "      <th>2021-08-14</th>\n",
       "      <td>2021-08-14</td>\n",
       "      <td>1628899200</td>\n",
       "      <td>46034.93</td>\n",
       "      <td>48176.52</td>\n",
       "      <td>47833.64</td>\n",
       "      <td>47109.65</td>\n",
       "      <td>8130.367694</td>\n",
       "      <td>3.830188e+08</td>\n",
       "    </tr>\n",
       "    <tr>\n",
       "      <th>2021-08-15</th>\n",
       "      <td>2021-08-15</td>\n",
       "      <td>1628985600</td>\n",
       "      <td>45525.19</td>\n",
       "      <td>47400.00</td>\n",
       "      <td>47109.64</td>\n",
       "      <td>47014.49</td>\n",
       "      <td>7745.702008</td>\n",
       "      <td>3.641602e+08</td>\n",
       "    </tr>\n",
       "    <tr>\n",
       "      <th>2021-08-16</th>\n",
       "      <td>2021-08-16</td>\n",
       "      <td>1629072000</td>\n",
       "      <td>45676.91</td>\n",
       "      <td>48076.52</td>\n",
       "      <td>47014.38</td>\n",
       "      <td>45902.46</td>\n",
       "      <td>10467.660315</td>\n",
       "      <td>4.804914e+08</td>\n",
       "    </tr>\n",
       "    <tr>\n",
       "      <th>2021-08-17</th>\n",
       "      <td>2021-08-17</td>\n",
       "      <td>1629158400</td>\n",
       "      <td>44405.39</td>\n",
       "      <td>47174.62</td>\n",
       "      <td>45903.22</td>\n",
       "      <td>44671.58</td>\n",
       "      <td>12756.147779</td>\n",
       "      <td>5.698373e+08</td>\n",
       "    </tr>\n",
       "    <tr>\n",
       "      <th>2021-08-18</th>\n",
       "      <td>2021-08-18</td>\n",
       "      <td>1629244800</td>\n",
       "      <td>44216.47</td>\n",
       "      <td>46035.27</td>\n",
       "      <td>44675.34</td>\n",
       "      <td>44707.98</td>\n",
       "      <td>10327.498874</td>\n",
       "      <td>4.617216e+08</td>\n",
       "    </tr>\n",
       "  </tbody>\n",
       "</table>\n",
       "<p>2222 rows × 8 columns</p>\n",
       "</div>"
      ],
      "text/plain": [
       "                  Date        unix       Low      High      Open     Close  \\\n",
       "Date                                                                         \n",
       "2015-07-20  2015-07-20  1437350400    277.37    280.00    277.98    280.00   \n",
       "2015-07-21  2015-07-21  1437436800    276.85    281.27    279.96    277.32   \n",
       "2015-07-22  2015-07-22  1437523200    275.01    278.54    277.33    277.89   \n",
       "2015-07-23  2015-07-23  1437609600    276.28    279.75    277.96    277.39   \n",
       "2015-07-24  2015-07-24  1437696000    276.43    291.52    277.23    289.12   \n",
       "...                ...         ...       ...       ...       ...       ...   \n",
       "2021-08-14  2021-08-14  1628899200  46034.93  48176.52  47833.64  47109.65   \n",
       "2021-08-15  2021-08-15  1628985600  45525.19  47400.00  47109.64  47014.49   \n",
       "2021-08-16  2021-08-16  1629072000  45676.91  48076.52  47014.38  45902.46   \n",
       "2021-08-17  2021-08-17  1629158400  44405.39  47174.62  45903.22  44671.58   \n",
       "2021-08-18  2021-08-18  1629244800  44216.47  46035.27  44675.34  44707.98   \n",
       "\n",
       "                  Volume    Market Cap  \n",
       "Date                                    \n",
       "2015-07-20    782.883420  2.192074e+05  \n",
       "2015-07-21   4943.559434  1.370948e+06  \n",
       "2015-07-22   4687.909383  1.302723e+06  \n",
       "2015-07-23   5306.919575  1.472086e+06  \n",
       "2015-07-24   7362.469083  2.128637e+06  \n",
       "...                  ...           ...  \n",
       "2021-08-14   8130.367694  3.830188e+08  \n",
       "2021-08-15   7745.702008  3.641602e+08  \n",
       "2021-08-16  10467.660315  4.804914e+08  \n",
       "2021-08-17  12756.147779  5.698373e+08  \n",
       "2021-08-18  10327.498874  4.617216e+08  \n",
       "\n",
       "[2222 rows x 8 columns]"
      ]
     },
     "execution_count": 7,
     "metadata": {},
     "output_type": "execute_result"
    }
   ],
   "source": [
    "# btc.set_index('Date')\n",
    "# sort indicies for ease of comparison\n",
    "btc.sort_index(inplace=True)\n",
    "btc"
   ]
  },
  {
   "cell_type": "code",
   "execution_count": 8,
   "metadata": {},
   "outputs": [
    {
     "data": {
      "text/plain": [
       "pandas.core.indexes.datetimes.DatetimeIndex"
      ]
     },
     "execution_count": 8,
     "metadata": {},
     "output_type": "execute_result"
    }
   ],
   "source": [
    "type(btc.index)"
   ]
  },
  {
   "cell_type": "code",
   "execution_count": 9,
   "metadata": {},
   "outputs": [
    {
     "data": {
      "text/plain": [
       "Index(['Date', 'unix', 'Low', 'High', 'Open', 'Close', 'Volume', 'Market Cap'], dtype='object')"
      ]
     },
     "execution_count": 9,
     "metadata": {},
     "output_type": "execute_result"
    }
   ],
   "source": [
    "btc.columns"
   ]
  },
  {
   "cell_type": "code",
   "execution_count": 10,
   "metadata": {},
   "outputs": [
    {
     "data": {
      "text/plain": [
       "Index(['Date', 'unix', 'Low', 'High', 'Open', 'Close', 'Volume', 'Market Cap'], dtype='object')"
      ]
     },
     "execution_count": 10,
     "metadata": {},
     "output_type": "execute_result"
    }
   ],
   "source": [
    "btc.columns"
   ]
  },
  {
   "cell_type": "code",
   "execution_count": 11,
   "metadata": {},
   "outputs": [
    {
     "data": {
      "text/html": [
       "<div>\n",
       "<style scoped>\n",
       "    .dataframe tbody tr th:only-of-type {\n",
       "        vertical-align: middle;\n",
       "    }\n",
       "\n",
       "    .dataframe tbody tr th {\n",
       "        vertical-align: top;\n",
       "    }\n",
       "\n",
       "    .dataframe thead th {\n",
       "        text-align: right;\n",
       "    }\n",
       "</style>\n",
       "<table border=\"1\" class=\"dataframe\">\n",
       "  <thead>\n",
       "    <tr style=\"text-align: right;\">\n",
       "      <th></th>\n",
       "      <th>Date</th>\n",
       "      <th>unix</th>\n",
       "      <th>Low</th>\n",
       "      <th>High</th>\n",
       "      <th>Open</th>\n",
       "      <th>Close</th>\n",
       "      <th>Volume</th>\n",
       "      <th>Market Cap</th>\n",
       "    </tr>\n",
       "    <tr>\n",
       "      <th>Date</th>\n",
       "      <th></th>\n",
       "      <th></th>\n",
       "      <th></th>\n",
       "      <th></th>\n",
       "      <th></th>\n",
       "      <th></th>\n",
       "      <th></th>\n",
       "      <th></th>\n",
       "    </tr>\n",
       "  </thead>\n",
       "  <tbody>\n",
       "    <tr>\n",
       "      <th>2015-07-20</th>\n",
       "      <td>2015-07-20</td>\n",
       "      <td>1437350400</td>\n",
       "      <td>277.37</td>\n",
       "      <td>280.00</td>\n",
       "      <td>277.98</td>\n",
       "      <td>280.00</td>\n",
       "      <td>782.883420</td>\n",
       "      <td>2.192074e+05</td>\n",
       "    </tr>\n",
       "    <tr>\n",
       "      <th>2015-07-21</th>\n",
       "      <td>2015-07-21</td>\n",
       "      <td>1437436800</td>\n",
       "      <td>276.85</td>\n",
       "      <td>281.27</td>\n",
       "      <td>279.96</td>\n",
       "      <td>277.32</td>\n",
       "      <td>4943.559434</td>\n",
       "      <td>1.370948e+06</td>\n",
       "    </tr>\n",
       "    <tr>\n",
       "      <th>2015-07-22</th>\n",
       "      <td>2015-07-22</td>\n",
       "      <td>1437523200</td>\n",
       "      <td>275.01</td>\n",
       "      <td>278.54</td>\n",
       "      <td>277.33</td>\n",
       "      <td>277.89</td>\n",
       "      <td>4687.909383</td>\n",
       "      <td>1.302723e+06</td>\n",
       "    </tr>\n",
       "    <tr>\n",
       "      <th>2015-07-23</th>\n",
       "      <td>2015-07-23</td>\n",
       "      <td>1437609600</td>\n",
       "      <td>276.28</td>\n",
       "      <td>279.75</td>\n",
       "      <td>277.96</td>\n",
       "      <td>277.39</td>\n",
       "      <td>5306.919575</td>\n",
       "      <td>1.472086e+06</td>\n",
       "    </tr>\n",
       "    <tr>\n",
       "      <th>2015-07-24</th>\n",
       "      <td>2015-07-24</td>\n",
       "      <td>1437696000</td>\n",
       "      <td>276.43</td>\n",
       "      <td>291.52</td>\n",
       "      <td>277.23</td>\n",
       "      <td>289.12</td>\n",
       "      <td>7362.469083</td>\n",
       "      <td>2.128637e+06</td>\n",
       "    </tr>\n",
       "    <tr>\n",
       "      <th>...</th>\n",
       "      <td>...</td>\n",
       "      <td>...</td>\n",
       "      <td>...</td>\n",
       "      <td>...</td>\n",
       "      <td>...</td>\n",
       "      <td>...</td>\n",
       "      <td>...</td>\n",
       "      <td>...</td>\n",
       "    </tr>\n",
       "    <tr>\n",
       "      <th>2021-08-14</th>\n",
       "      <td>2021-08-14</td>\n",
       "      <td>1628899200</td>\n",
       "      <td>46034.93</td>\n",
       "      <td>48176.52</td>\n",
       "      <td>47833.64</td>\n",
       "      <td>47109.65</td>\n",
       "      <td>8130.367694</td>\n",
       "      <td>3.830188e+08</td>\n",
       "    </tr>\n",
       "    <tr>\n",
       "      <th>2021-08-15</th>\n",
       "      <td>2021-08-15</td>\n",
       "      <td>1628985600</td>\n",
       "      <td>45525.19</td>\n",
       "      <td>47400.00</td>\n",
       "      <td>47109.64</td>\n",
       "      <td>47014.49</td>\n",
       "      <td>7745.702008</td>\n",
       "      <td>3.641602e+08</td>\n",
       "    </tr>\n",
       "    <tr>\n",
       "      <th>2021-08-16</th>\n",
       "      <td>2021-08-16</td>\n",
       "      <td>1629072000</td>\n",
       "      <td>45676.91</td>\n",
       "      <td>48076.52</td>\n",
       "      <td>47014.38</td>\n",
       "      <td>45902.46</td>\n",
       "      <td>10467.660315</td>\n",
       "      <td>4.804914e+08</td>\n",
       "    </tr>\n",
       "    <tr>\n",
       "      <th>2021-08-17</th>\n",
       "      <td>2021-08-17</td>\n",
       "      <td>1629158400</td>\n",
       "      <td>44405.39</td>\n",
       "      <td>47174.62</td>\n",
       "      <td>45903.22</td>\n",
       "      <td>44671.58</td>\n",
       "      <td>12756.147779</td>\n",
       "      <td>5.698373e+08</td>\n",
       "    </tr>\n",
       "    <tr>\n",
       "      <th>2021-08-18</th>\n",
       "      <td>2021-08-18</td>\n",
       "      <td>1629244800</td>\n",
       "      <td>44216.47</td>\n",
       "      <td>46035.27</td>\n",
       "      <td>44675.34</td>\n",
       "      <td>44707.98</td>\n",
       "      <td>10327.498874</td>\n",
       "      <td>4.617216e+08</td>\n",
       "    </tr>\n",
       "  </tbody>\n",
       "</table>\n",
       "<p>2222 rows × 8 columns</p>\n",
       "</div>"
      ],
      "text/plain": [
       "                  Date        unix       Low      High      Open     Close  \\\n",
       "Date                                                                         \n",
       "2015-07-20  2015-07-20  1437350400    277.37    280.00    277.98    280.00   \n",
       "2015-07-21  2015-07-21  1437436800    276.85    281.27    279.96    277.32   \n",
       "2015-07-22  2015-07-22  1437523200    275.01    278.54    277.33    277.89   \n",
       "2015-07-23  2015-07-23  1437609600    276.28    279.75    277.96    277.39   \n",
       "2015-07-24  2015-07-24  1437696000    276.43    291.52    277.23    289.12   \n",
       "...                ...         ...       ...       ...       ...       ...   \n",
       "2021-08-14  2021-08-14  1628899200  46034.93  48176.52  47833.64  47109.65   \n",
       "2021-08-15  2021-08-15  1628985600  45525.19  47400.00  47109.64  47014.49   \n",
       "2021-08-16  2021-08-16  1629072000  45676.91  48076.52  47014.38  45902.46   \n",
       "2021-08-17  2021-08-17  1629158400  44405.39  47174.62  45903.22  44671.58   \n",
       "2021-08-18  2021-08-18  1629244800  44216.47  46035.27  44675.34  44707.98   \n",
       "\n",
       "                  Volume    Market Cap  \n",
       "Date                                    \n",
       "2015-07-20    782.883420  2.192074e+05  \n",
       "2015-07-21   4943.559434  1.370948e+06  \n",
       "2015-07-22   4687.909383  1.302723e+06  \n",
       "2015-07-23   5306.919575  1.472086e+06  \n",
       "2015-07-24   7362.469083  2.128637e+06  \n",
       "...                  ...           ...  \n",
       "2021-08-14   8130.367694  3.830188e+08  \n",
       "2021-08-15   7745.702008  3.641602e+08  \n",
       "2021-08-16  10467.660315  4.804914e+08  \n",
       "2021-08-17  12756.147779  5.698373e+08  \n",
       "2021-08-18  10327.498874  4.617216e+08  \n",
       "\n",
       "[2222 rows x 8 columns]"
      ]
     },
     "execution_count": 11,
     "metadata": {},
     "output_type": "execute_result"
    }
   ],
   "source": [
    "btc"
   ]
  },
  {
   "cell_type": "code",
   "execution_count": 12,
   "metadata": {},
   "outputs": [
    {
     "data": {
      "text/html": [
       "<div>\n",
       "<style scoped>\n",
       "    .dataframe tbody tr th:only-of-type {\n",
       "        vertical-align: middle;\n",
       "    }\n",
       "\n",
       "    .dataframe tbody tr th {\n",
       "        vertical-align: top;\n",
       "    }\n",
       "\n",
       "    .dataframe thead th {\n",
       "        text-align: right;\n",
       "    }\n",
       "</style>\n",
       "<table border=\"1\" class=\"dataframe\">\n",
       "  <thead>\n",
       "    <tr style=\"text-align: right;\">\n",
       "      <th></th>\n",
       "      <th>Date</th>\n",
       "      <th>unix</th>\n",
       "      <th>Low</th>\n",
       "      <th>High</th>\n",
       "      <th>Open</th>\n",
       "      <th>Close</th>\n",
       "      <th>Volume</th>\n",
       "      <th>Market Cap</th>\n",
       "    </tr>\n",
       "    <tr>\n",
       "      <th>Date</th>\n",
       "      <th></th>\n",
       "      <th></th>\n",
       "      <th></th>\n",
       "      <th></th>\n",
       "      <th></th>\n",
       "      <th></th>\n",
       "      <th></th>\n",
       "      <th></th>\n",
       "    </tr>\n",
       "  </thead>\n",
       "  <tbody>\n",
       "    <tr>\n",
       "      <th>2015-07-20</th>\n",
       "      <td>2015-07-20</td>\n",
       "      <td>1437350400</td>\n",
       "      <td>277.37</td>\n",
       "      <td>280.00</td>\n",
       "      <td>277.98</td>\n",
       "      <td>280.00</td>\n",
       "      <td>782.883420</td>\n",
       "      <td>2.192074e+05</td>\n",
       "    </tr>\n",
       "    <tr>\n",
       "      <th>2015-07-21</th>\n",
       "      <td>2015-07-21</td>\n",
       "      <td>1437436800</td>\n",
       "      <td>276.85</td>\n",
       "      <td>281.27</td>\n",
       "      <td>279.96</td>\n",
       "      <td>277.32</td>\n",
       "      <td>4943.559434</td>\n",
       "      <td>1.370948e+06</td>\n",
       "    </tr>\n",
       "    <tr>\n",
       "      <th>2015-07-22</th>\n",
       "      <td>2015-07-22</td>\n",
       "      <td>1437523200</td>\n",
       "      <td>275.01</td>\n",
       "      <td>278.54</td>\n",
       "      <td>277.33</td>\n",
       "      <td>277.89</td>\n",
       "      <td>4687.909383</td>\n",
       "      <td>1.302723e+06</td>\n",
       "    </tr>\n",
       "    <tr>\n",
       "      <th>2015-07-23</th>\n",
       "      <td>2015-07-23</td>\n",
       "      <td>1437609600</td>\n",
       "      <td>276.28</td>\n",
       "      <td>279.75</td>\n",
       "      <td>277.96</td>\n",
       "      <td>277.39</td>\n",
       "      <td>5306.919575</td>\n",
       "      <td>1.472086e+06</td>\n",
       "    </tr>\n",
       "    <tr>\n",
       "      <th>2015-07-24</th>\n",
       "      <td>2015-07-24</td>\n",
       "      <td>1437696000</td>\n",
       "      <td>276.43</td>\n",
       "      <td>291.52</td>\n",
       "      <td>277.23</td>\n",
       "      <td>289.12</td>\n",
       "      <td>7362.469083</td>\n",
       "      <td>2.128637e+06</td>\n",
       "    </tr>\n",
       "    <tr>\n",
       "      <th>...</th>\n",
       "      <td>...</td>\n",
       "      <td>...</td>\n",
       "      <td>...</td>\n",
       "      <td>...</td>\n",
       "      <td>...</td>\n",
       "      <td>...</td>\n",
       "      <td>...</td>\n",
       "      <td>...</td>\n",
       "    </tr>\n",
       "    <tr>\n",
       "      <th>2021-08-14</th>\n",
       "      <td>2021-08-14</td>\n",
       "      <td>1628899200</td>\n",
       "      <td>46034.93</td>\n",
       "      <td>48176.52</td>\n",
       "      <td>47833.64</td>\n",
       "      <td>47109.65</td>\n",
       "      <td>8130.367694</td>\n",
       "      <td>3.830188e+08</td>\n",
       "    </tr>\n",
       "    <tr>\n",
       "      <th>2021-08-15</th>\n",
       "      <td>2021-08-15</td>\n",
       "      <td>1628985600</td>\n",
       "      <td>45525.19</td>\n",
       "      <td>47400.00</td>\n",
       "      <td>47109.64</td>\n",
       "      <td>47014.49</td>\n",
       "      <td>7745.702008</td>\n",
       "      <td>3.641602e+08</td>\n",
       "    </tr>\n",
       "    <tr>\n",
       "      <th>2021-08-16</th>\n",
       "      <td>2021-08-16</td>\n",
       "      <td>1629072000</td>\n",
       "      <td>45676.91</td>\n",
       "      <td>48076.52</td>\n",
       "      <td>47014.38</td>\n",
       "      <td>45902.46</td>\n",
       "      <td>10467.660315</td>\n",
       "      <td>4.804914e+08</td>\n",
       "    </tr>\n",
       "    <tr>\n",
       "      <th>2021-08-17</th>\n",
       "      <td>2021-08-17</td>\n",
       "      <td>1629158400</td>\n",
       "      <td>44405.39</td>\n",
       "      <td>47174.62</td>\n",
       "      <td>45903.22</td>\n",
       "      <td>44671.58</td>\n",
       "      <td>12756.147779</td>\n",
       "      <td>5.698373e+08</td>\n",
       "    </tr>\n",
       "    <tr>\n",
       "      <th>2021-08-18</th>\n",
       "      <td>2021-08-18</td>\n",
       "      <td>1629244800</td>\n",
       "      <td>44216.47</td>\n",
       "      <td>46035.27</td>\n",
       "      <td>44675.34</td>\n",
       "      <td>44707.98</td>\n",
       "      <td>10327.498874</td>\n",
       "      <td>4.617216e+08</td>\n",
       "    </tr>\n",
       "  </tbody>\n",
       "</table>\n",
       "<p>2222 rows × 8 columns</p>\n",
       "</div>"
      ],
      "text/plain": [
       "                  Date        unix       Low      High      Open     Close  \\\n",
       "Date                                                                         \n",
       "2015-07-20  2015-07-20  1437350400    277.37    280.00    277.98    280.00   \n",
       "2015-07-21  2015-07-21  1437436800    276.85    281.27    279.96    277.32   \n",
       "2015-07-22  2015-07-22  1437523200    275.01    278.54    277.33    277.89   \n",
       "2015-07-23  2015-07-23  1437609600    276.28    279.75    277.96    277.39   \n",
       "2015-07-24  2015-07-24  1437696000    276.43    291.52    277.23    289.12   \n",
       "...                ...         ...       ...       ...       ...       ...   \n",
       "2021-08-14  2021-08-14  1628899200  46034.93  48176.52  47833.64  47109.65   \n",
       "2021-08-15  2021-08-15  1628985600  45525.19  47400.00  47109.64  47014.49   \n",
       "2021-08-16  2021-08-16  1629072000  45676.91  48076.52  47014.38  45902.46   \n",
       "2021-08-17  2021-08-17  1629158400  44405.39  47174.62  45903.22  44671.58   \n",
       "2021-08-18  2021-08-18  1629244800  44216.47  46035.27  44675.34  44707.98   \n",
       "\n",
       "                  Volume    Market Cap  \n",
       "Date                                    \n",
       "2015-07-20    782.883420  2.192074e+05  \n",
       "2015-07-21   4943.559434  1.370948e+06  \n",
       "2015-07-22   4687.909383  1.302723e+06  \n",
       "2015-07-23   5306.919575  1.472086e+06  \n",
       "2015-07-24   7362.469083  2.128637e+06  \n",
       "...                  ...           ...  \n",
       "2021-08-14   8130.367694  3.830188e+08  \n",
       "2021-08-15   7745.702008  3.641602e+08  \n",
       "2021-08-16  10467.660315  4.804914e+08  \n",
       "2021-08-17  12756.147779  5.698373e+08  \n",
       "2021-08-18  10327.498874  4.617216e+08  \n",
       "\n",
       "[2222 rows x 8 columns]"
      ]
     },
     "execution_count": 12,
     "metadata": {},
     "output_type": "execute_result"
    }
   ],
   "source": [
    "btc"
   ]
  },
  {
   "cell_type": "code",
   "execution_count": 13,
   "metadata": {},
   "outputs": [
    {
     "data": {
      "text/html": [
       "<div>\n",
       "<style scoped>\n",
       "    .dataframe tbody tr th:only-of-type {\n",
       "        vertical-align: middle;\n",
       "    }\n",
       "\n",
       "    .dataframe tbody tr th {\n",
       "        vertical-align: top;\n",
       "    }\n",
       "\n",
       "    .dataframe thead th {\n",
       "        text-align: right;\n",
       "    }\n",
       "</style>\n",
       "<table border=\"1\" class=\"dataframe\">\n",
       "  <thead>\n",
       "    <tr style=\"text-align: right;\">\n",
       "      <th></th>\n",
       "      <th>unix</th>\n",
       "      <th>Low</th>\n",
       "      <th>High</th>\n",
       "      <th>Open</th>\n",
       "      <th>Close</th>\n",
       "      <th>Volume</th>\n",
       "      <th>Market Cap</th>\n",
       "    </tr>\n",
       "    <tr>\n",
       "      <th>Date</th>\n",
       "      <th></th>\n",
       "      <th></th>\n",
       "      <th></th>\n",
       "      <th></th>\n",
       "      <th></th>\n",
       "      <th></th>\n",
       "      <th></th>\n",
       "    </tr>\n",
       "  </thead>\n",
       "  <tbody>\n",
       "    <tr>\n",
       "      <th>2015-07-31</th>\n",
       "      <td>1437825600</td>\n",
       "      <td>283.055000</td>\n",
       "      <td>289.198333</td>\n",
       "      <td>285.987500</td>\n",
       "      <td>286.595833</td>\n",
       "      <td>4931.954199</td>\n",
       "      <td>1.416845e+06</td>\n",
       "    </tr>\n",
       "    <tr>\n",
       "      <th>2015-08-31</th>\n",
       "      <td>1439683200</td>\n",
       "      <td>246.512581</td>\n",
       "      <td>257.395806</td>\n",
       "      <td>253.492903</td>\n",
       "      <td>251.755161</td>\n",
       "      <td>7230.025266</td>\n",
       "      <td>1.765739e+06</td>\n",
       "    </tr>\n",
       "    <tr>\n",
       "      <th>2015-09-30</th>\n",
       "      <td>1442318400</td>\n",
       "      <td>231.936000</td>\n",
       "      <td>236.955000</td>\n",
       "      <td>234.163000</td>\n",
       "      <td>234.365000</td>\n",
       "      <td>6386.535932</td>\n",
       "      <td>1.495726e+06</td>\n",
       "    </tr>\n",
       "    <tr>\n",
       "      <th>2015-10-31</th>\n",
       "      <td>1444953600</td>\n",
       "      <td>261.374839</td>\n",
       "      <td>269.491613</td>\n",
       "      <td>263.724516</td>\n",
       "      <td>266.229032</td>\n",
       "      <td>7850.672554</td>\n",
       "      <td>2.159975e+06</td>\n",
       "    </tr>\n",
       "    <tr>\n",
       "      <th>2015-11-30</th>\n",
       "      <td>1447588800</td>\n",
       "      <td>334.626000</td>\n",
       "      <td>362.877000</td>\n",
       "      <td>347.445000</td>\n",
       "      <td>349.508000</td>\n",
       "      <td>12491.747698</td>\n",
       "      <td>4.548917e+06</td>\n",
       "    </tr>\n",
       "    <tr>\n",
       "      <th>...</th>\n",
       "      <td>...</td>\n",
       "      <td>...</td>\n",
       "      <td>...</td>\n",
       "      <td>...</td>\n",
       "      <td>...</td>\n",
       "      <td>...</td>\n",
       "      <td>...</td>\n",
       "    </tr>\n",
       "    <tr>\n",
       "      <th>2021-04-30</th>\n",
       "      <td>1618488000</td>\n",
       "      <td>55321.213333</td>\n",
       "      <td>58500.627000</td>\n",
       "      <td>57131.086000</td>\n",
       "      <td>57097.920667</td>\n",
       "      <td>15581.189920</td>\n",
       "      <td>8.804247e+08</td>\n",
       "    </tr>\n",
       "    <tr>\n",
       "      <th>2021-05-31</th>\n",
       "      <td>1621123200</td>\n",
       "      <td>44270.166129</td>\n",
       "      <td>48889.056129</td>\n",
       "      <td>47119.199677</td>\n",
       "      <td>46457.782903</td>\n",
       "      <td>29742.506763</td>\n",
       "      <td>1.294962e+09</td>\n",
       "    </tr>\n",
       "    <tr>\n",
       "      <th>2021-06-30</th>\n",
       "      <td>1623758400</td>\n",
       "      <td>34303.263667</td>\n",
       "      <td>37144.137000</td>\n",
       "      <td>35916.499000</td>\n",
       "      <td>35842.765667</td>\n",
       "      <td>19942.838788</td>\n",
       "      <td>7.051311e+08</td>\n",
       "    </tr>\n",
       "    <tr>\n",
       "      <th>2021-07-31</th>\n",
       "      <td>1626393600</td>\n",
       "      <td>33364.951290</td>\n",
       "      <td>35217.746129</td>\n",
       "      <td>34236.297097</td>\n",
       "      <td>34443.391290</td>\n",
       "      <td>11984.850339</td>\n",
       "      <td>4.212497e+08</td>\n",
       "    </tr>\n",
       "    <tr>\n",
       "      <th>2021-08-31</th>\n",
       "      <td>1628510400</td>\n",
       "      <td>42370.188333</td>\n",
       "      <td>44934.135000</td>\n",
       "      <td>43612.496667</td>\n",
       "      <td>43791.678889</td>\n",
       "      <td>14441.181189</td>\n",
       "      <td>6.276368e+08</td>\n",
       "    </tr>\n",
       "  </tbody>\n",
       "</table>\n",
       "<p>74 rows × 7 columns</p>\n",
       "</div>"
      ],
      "text/plain": [
       "                  unix           Low          High          Open  \\\n",
       "Date                                                               \n",
       "2015-07-31  1437825600    283.055000    289.198333    285.987500   \n",
       "2015-08-31  1439683200    246.512581    257.395806    253.492903   \n",
       "2015-09-30  1442318400    231.936000    236.955000    234.163000   \n",
       "2015-10-31  1444953600    261.374839    269.491613    263.724516   \n",
       "2015-11-30  1447588800    334.626000    362.877000    347.445000   \n",
       "...                ...           ...           ...           ...   \n",
       "2021-04-30  1618488000  55321.213333  58500.627000  57131.086000   \n",
       "2021-05-31  1621123200  44270.166129  48889.056129  47119.199677   \n",
       "2021-06-30  1623758400  34303.263667  37144.137000  35916.499000   \n",
       "2021-07-31  1626393600  33364.951290  35217.746129  34236.297097   \n",
       "2021-08-31  1628510400  42370.188333  44934.135000  43612.496667   \n",
       "\n",
       "                   Close        Volume    Market Cap  \n",
       "Date                                                  \n",
       "2015-07-31    286.595833   4931.954199  1.416845e+06  \n",
       "2015-08-31    251.755161   7230.025266  1.765739e+06  \n",
       "2015-09-30    234.365000   6386.535932  1.495726e+06  \n",
       "2015-10-31    266.229032   7850.672554  2.159975e+06  \n",
       "2015-11-30    349.508000  12491.747698  4.548917e+06  \n",
       "...                  ...           ...           ...  \n",
       "2021-04-30  57097.920667  15581.189920  8.804247e+08  \n",
       "2021-05-31  46457.782903  29742.506763  1.294962e+09  \n",
       "2021-06-30  35842.765667  19942.838788  7.051311e+08  \n",
       "2021-07-31  34443.391290  11984.850339  4.212497e+08  \n",
       "2021-08-31  43791.678889  14441.181189  6.276368e+08  \n",
       "\n",
       "[74 rows x 7 columns]"
      ]
     },
     "execution_count": 13,
     "metadata": {},
     "output_type": "execute_result"
    }
   ],
   "source": [
    "btcM = btc.resample('M').mean()\n",
    "btcM"
   ]
  },
  {
   "cell_type": "code",
   "execution_count": 14,
   "metadata": {},
   "outputs": [
    {
     "data": {
      "text/html": [
       "<div>\n",
       "<style scoped>\n",
       "    .dataframe tbody tr th:only-of-type {\n",
       "        vertical-align: middle;\n",
       "    }\n",
       "\n",
       "    .dataframe tbody tr th {\n",
       "        vertical-align: top;\n",
       "    }\n",
       "\n",
       "    .dataframe thead th {\n",
       "        text-align: right;\n",
       "    }\n",
       "</style>\n",
       "<table border=\"1\" class=\"dataframe\">\n",
       "  <thead>\n",
       "    <tr style=\"text-align: right;\">\n",
       "      <th></th>\n",
       "      <th>unix</th>\n",
       "      <th>Low</th>\n",
       "      <th>High</th>\n",
       "      <th>Open</th>\n",
       "      <th>Close</th>\n",
       "      <th>Volume</th>\n",
       "      <th>Market Cap</th>\n",
       "    </tr>\n",
       "    <tr>\n",
       "      <th>Date</th>\n",
       "      <th></th>\n",
       "      <th></th>\n",
       "      <th></th>\n",
       "      <th></th>\n",
       "      <th></th>\n",
       "      <th></th>\n",
       "      <th></th>\n",
       "    </tr>\n",
       "  </thead>\n",
       "  <tbody>\n",
       "    <tr>\n",
       "      <th>2015-07-31</th>\n",
       "      <td>1.437826e+09</td>\n",
       "      <td>283.055000</td>\n",
       "      <td>289.198333</td>\n",
       "      <td>285.987500</td>\n",
       "      <td>286.595833</td>\n",
       "      <td>4931.954199</td>\n",
       "      <td>1.416845e+06</td>\n",
       "    </tr>\n",
       "    <tr>\n",
       "      <th>2015-08-01</th>\n",
       "      <td>NaN</td>\n",
       "      <td>NaN</td>\n",
       "      <td>NaN</td>\n",
       "      <td>NaN</td>\n",
       "      <td>NaN</td>\n",
       "      <td>NaN</td>\n",
       "      <td>NaN</td>\n",
       "    </tr>\n",
       "    <tr>\n",
       "      <th>2015-08-02</th>\n",
       "      <td>NaN</td>\n",
       "      <td>NaN</td>\n",
       "      <td>NaN</td>\n",
       "      <td>NaN</td>\n",
       "      <td>NaN</td>\n",
       "      <td>NaN</td>\n",
       "      <td>NaN</td>\n",
       "    </tr>\n",
       "    <tr>\n",
       "      <th>2015-08-03</th>\n",
       "      <td>NaN</td>\n",
       "      <td>NaN</td>\n",
       "      <td>NaN</td>\n",
       "      <td>NaN</td>\n",
       "      <td>NaN</td>\n",
       "      <td>NaN</td>\n",
       "      <td>NaN</td>\n",
       "    </tr>\n",
       "    <tr>\n",
       "      <th>2015-08-04</th>\n",
       "      <td>NaN</td>\n",
       "      <td>NaN</td>\n",
       "      <td>NaN</td>\n",
       "      <td>NaN</td>\n",
       "      <td>NaN</td>\n",
       "      <td>NaN</td>\n",
       "      <td>NaN</td>\n",
       "    </tr>\n",
       "    <tr>\n",
       "      <th>...</th>\n",
       "      <td>...</td>\n",
       "      <td>...</td>\n",
       "      <td>...</td>\n",
       "      <td>...</td>\n",
       "      <td>...</td>\n",
       "      <td>...</td>\n",
       "      <td>...</td>\n",
       "    </tr>\n",
       "    <tr>\n",
       "      <th>2021-08-27</th>\n",
       "      <td>NaN</td>\n",
       "      <td>NaN</td>\n",
       "      <td>NaN</td>\n",
       "      <td>NaN</td>\n",
       "      <td>NaN</td>\n",
       "      <td>NaN</td>\n",
       "      <td>NaN</td>\n",
       "    </tr>\n",
       "    <tr>\n",
       "      <th>2021-08-28</th>\n",
       "      <td>NaN</td>\n",
       "      <td>NaN</td>\n",
       "      <td>NaN</td>\n",
       "      <td>NaN</td>\n",
       "      <td>NaN</td>\n",
       "      <td>NaN</td>\n",
       "      <td>NaN</td>\n",
       "    </tr>\n",
       "    <tr>\n",
       "      <th>2021-08-29</th>\n",
       "      <td>NaN</td>\n",
       "      <td>NaN</td>\n",
       "      <td>NaN</td>\n",
       "      <td>NaN</td>\n",
       "      <td>NaN</td>\n",
       "      <td>NaN</td>\n",
       "      <td>NaN</td>\n",
       "    </tr>\n",
       "    <tr>\n",
       "      <th>2021-08-30</th>\n",
       "      <td>NaN</td>\n",
       "      <td>NaN</td>\n",
       "      <td>NaN</td>\n",
       "      <td>NaN</td>\n",
       "      <td>NaN</td>\n",
       "      <td>NaN</td>\n",
       "      <td>NaN</td>\n",
       "    </tr>\n",
       "    <tr>\n",
       "      <th>2021-08-31</th>\n",
       "      <td>1.628510e+09</td>\n",
       "      <td>42370.188333</td>\n",
       "      <td>44934.135000</td>\n",
       "      <td>43612.496667</td>\n",
       "      <td>43791.678889</td>\n",
       "      <td>14441.181189</td>\n",
       "      <td>6.276368e+08</td>\n",
       "    </tr>\n",
       "  </tbody>\n",
       "</table>\n",
       "<p>2224 rows × 7 columns</p>\n",
       "</div>"
      ],
      "text/plain": [
       "                    unix           Low          High          Open  \\\n",
       "Date                                                                 \n",
       "2015-07-31  1.437826e+09    283.055000    289.198333    285.987500   \n",
       "2015-08-01           NaN           NaN           NaN           NaN   \n",
       "2015-08-02           NaN           NaN           NaN           NaN   \n",
       "2015-08-03           NaN           NaN           NaN           NaN   \n",
       "2015-08-04           NaN           NaN           NaN           NaN   \n",
       "...                  ...           ...           ...           ...   \n",
       "2021-08-27           NaN           NaN           NaN           NaN   \n",
       "2021-08-28           NaN           NaN           NaN           NaN   \n",
       "2021-08-29           NaN           NaN           NaN           NaN   \n",
       "2021-08-30           NaN           NaN           NaN           NaN   \n",
       "2021-08-31  1.628510e+09  42370.188333  44934.135000  43612.496667   \n",
       "\n",
       "                   Close        Volume    Market Cap  \n",
       "Date                                                  \n",
       "2015-07-31    286.595833   4931.954199  1.416845e+06  \n",
       "2015-08-01           NaN           NaN           NaN  \n",
       "2015-08-02           NaN           NaN           NaN  \n",
       "2015-08-03           NaN           NaN           NaN  \n",
       "2015-08-04           NaN           NaN           NaN  \n",
       "...                  ...           ...           ...  \n",
       "2021-08-27           NaN           NaN           NaN  \n",
       "2021-08-28           NaN           NaN           NaN  \n",
       "2021-08-29           NaN           NaN           NaN  \n",
       "2021-08-30           NaN           NaN           NaN  \n",
       "2021-08-31  43791.678889  14441.181189  6.276368e+08  \n",
       "\n",
       "[2224 rows x 7 columns]"
      ]
     },
     "execution_count": 14,
     "metadata": {},
     "output_type": "execute_result"
    }
   ],
   "source": [
    "btcD = btcM.resample('D').mean()\n",
    "btcD"
   ]
  },
  {
   "cell_type": "code",
   "execution_count": 15,
   "metadata": {},
   "outputs": [
    {
     "data": {
      "text/plain": [
       "Text(0.5, 1.0, 'Bitcoin Price over Time')"
      ]
     },
     "execution_count": 15,
     "metadata": {},
     "output_type": "execute_result"
    },
    {
     "data": {
      "image/png": "[encoded data removed]",
      "text/plain": [
       "<Figure size 864x864 with 1 Axes>"
      ]
     },
     "metadata": {},
     "output_type": "display_data"
    }
   ],
   "source": [
    "plt.style.use('ggplot')\n",
    "figsize = (12,12)\n",
    "fig, ax = plt.subplots(figsize=figsize)\n",
    "ax.plot(btc.index, btc.High, c='r', lw=1.5)\n",
    "ax.plot(btc.index, btc.High, c='r', lw=1.5)\n",
    "ax.set_xlabel(\"Year\", fontsize=15, color='black')\n",
    "ax.set_ylabel('Value in $', fontsize=15, color='black')\n",
    "ax.set_title('Bitcoin Price over Time', fontsize=20, color='black')\n",
    "# plt.savefig('bitcoin_historical_transparent.png', transparent=True, dpi=400)\n",
    "# plt.savefig('bitcoin_historical.png', transparent=False, dpi=400)"
   ]
  },
  {
   "cell_type": "code",
   "execution_count": 16,
   "metadata": {},
   "outputs": [
    {
     "data": {
      "text/plain": [
       "Text(0.5, 1.0, 'Bitcoin Daily Closing Price')"
      ]
     },
     "execution_count": 16,
     "metadata": {},
     "output_type": "execute_result"
    },
    {
     "data": {
      "image/png": "[encoded data removed]",
      "text/plain": [
       "<Figure size 1008x1008 with 4 Axes>"
      ]
     },
     "metadata": {},
     "output_type": "display_data"
    }
   ],
   "source": [
    "m = 2\n",
    "n = 2\n",
    "figsize = (14,14)\n",
    "fig, ax = plt.subplots(nrows=m, ncols=n, figsize=figsize)\n",
    "\n",
    "ax[0,0].plot(btc.index, btc.High)\n",
    "ax[0,1].plot(btc.index, btc.Low)\n",
    "ax[1,0].plot(btc.index, btc.Open)\n",
    "ax[1,1].plot(btc.index, btc.Close)\n",
    "\n",
    "ax[0,0].set_title('Bitcoin Daily Highs')\n",
    "ax[0,1].set_title('Bitcoin Daily Lows')\n",
    "ax[1,0].set_title('Bitcoin Daily Opening Price')\n",
    "ax[1,1].set_title('Bitcoin Daily Closing Price')"
   ]
  },
  {
   "cell_type": "code",
   "execution_count": 17,
   "metadata": {},
   "outputs": [
    {
     "data": {
      "text/plain": [
       "Text(0.5, 1.0, 'Bitcoin Daily Closing')"
      ]
     },
     "execution_count": 17,
     "metadata": {},
     "output_type": "execute_result"
    },
    {
     "data": {
      "image/png": "[encoded data removed]",
      "text/plain": [
       "<Figure size 1008x1008 with 4 Axes>"
      ]
     },
     "metadata": {},
     "output_type": "display_data"
    }
   ],
   "source": [
    "m = 2\n",
    "n = 2\n",
    "figsize = (14,14)\n",
    "fig, ax = plt.subplots(nrows=m, ncols=n, figsize=figsize)\n",
    "\n",
    "ax[0,0].plot(btc.index, btc.High)\n",
    "ax[0,1].plot(btc.index, btc.Low)\n",
    "ax[1,0].plot(btc.index, btc.Open)\n",
    "ax[1,1].plot(btc.index, btc.Close)\n",
    "\n",
    "ax[0,0].set_title('Bitcoin Daily Highs')\n",
    "ax[0,1].set_title('Bitcoin Daily Lows')\n",
    "ax[1,0].set_title('Bitcoin Daily Opening')\n",
    "ax[1,1].set_title('Bitcoin Daily Closing')"
   ]
  },
  {
   "cell_type": "markdown",
   "metadata": {},
   "source": [
    "# First Simple Model - Random Walk"
   ]
  },
  {
   "cell_type": "code",
   "execution_count": 18,
   "metadata": {},
   "outputs": [
    {
     "data": {
      "text/plain": [
       "1777"
      ]
     },
     "execution_count": 18,
     "metadata": {},
     "output_type": "execute_result"
    }
   ],
   "source": [
    "end_of_train_index = int(btc.shape[0]*0.8)\n",
    "end_of_train_index"
   ]
  },
  {
   "cell_type": "code",
   "execution_count": 19,
   "metadata": {},
   "outputs": [],
   "source": [
    "train = btc.Close[:end_of_train_index]\n",
    "test = btc.Close[end_of_train_index:]"
   ]
  },
  {
   "cell_type": "code",
   "execution_count": 20,
   "metadata": {},
   "outputs": [
    {
     "data": {
      "image/png": "[encoded data removed]",
      "text/plain": [
       "<Figure size 432x288 with 1 Axes>"
      ]
     },
     "metadata": {},
     "output_type": "display_data"
    }
   ],
   "source": [
    "random_walk = train.shift(1)\n",
    "\n",
    "fig, ax = plt.subplots()\n",
    "\n",
    "train[0:30].plot(ax=ax, c='r', label='original')\n",
    "random_walk[0:30].plot(ax=ax, c='b', label='shifted')\n",
    "ax.set_title('Random Walk')\n",
    "ax.legend();"
   ]
  },
  {
   "cell_type": "code",
   "execution_count": 21,
   "metadata": {},
   "outputs": [],
   "source": [
    "random_walk.dropna(inplace=True)"
   ]
  },
  {
   "cell_type": "code",
   "execution_count": 22,
   "metadata": {},
   "outputs": [],
   "source": [
    "import sklearn.metrics as metric"
   ]
  },
  {
   "cell_type": "code",
   "execution_count": 23,
   "metadata": {},
   "outputs": [
    {
     "data": {
      "text/plain": [
       "1777"
      ]
     },
     "execution_count": 23,
     "metadata": {},
     "output_type": "execute_result"
    }
   ],
   "source": [
    "train.shape[0]"
   ]
  },
  {
   "cell_type": "code",
   "execution_count": 24,
   "metadata": {},
   "outputs": [
    {
     "data": {
      "text/plain": [
       "Date\n",
       "2015-07-21    280.00\n",
       "2015-07-22    277.32\n",
       "2015-07-23    277.89\n",
       "Name: Close, dtype: float64"
      ]
     },
     "execution_count": 24,
     "metadata": {},
     "output_type": "execute_result"
    }
   ],
   "source": [
    "random_walk[:3]"
   ]
  },
  {
   "cell_type": "code",
   "execution_count": 25,
   "metadata": {},
   "outputs": [
    {
     "data": {
      "text/plain": [
       "Date\n",
       "2015-07-20    280.00\n",
       "2015-07-21    277.32\n",
       "2015-07-22    277.89\n",
       "Name: Close, dtype: float64"
      ]
     },
     "execution_count": 25,
     "metadata": {},
     "output_type": "execute_result"
    }
   ],
   "source": [
    "train[:3]"
   ]
  },
  {
   "cell_type": "code",
   "execution_count": 26,
   "metadata": {},
   "outputs": [
    {
     "data": {
      "text/plain": [
       "DatetimeIndex(['2015-07-20', '2015-07-21', '2015-07-22', '2015-07-23',\n",
       "               '2015-07-24', '2015-07-25', '2015-07-26', '2015-07-27',\n",
       "               '2015-07-28', '2015-07-29',\n",
       "               ...\n",
       "               '2020-05-21', '2020-05-22', '2020-05-23', '2020-05-24',\n",
       "               '2020-05-25', '2020-05-26', '2020-05-27', '2020-05-28',\n",
       "               '2020-05-29', '2020-05-30'],\n",
       "              dtype='datetime64[ns]', name='Date', length=1777, freq=None)"
      ]
     },
     "execution_count": 26,
     "metadata": {},
     "output_type": "execute_result"
    }
   ],
   "source": [
    "train.index"
   ]
  },
  {
   "cell_type": "code",
   "execution_count": 27,
   "metadata": {},
   "outputs": [
    {
     "data": {
      "text/plain": [
       "DatetimeIndex(['2015-07-21', '2015-07-22', '2015-07-23', '2015-07-24',\n",
       "               '2015-07-25', '2015-07-26', '2015-07-27', '2015-07-28',\n",
       "               '2015-07-29', '2015-07-30',\n",
       "               ...\n",
       "               '2020-05-21', '2020-05-22', '2020-05-23', '2020-05-24',\n",
       "               '2020-05-25', '2020-05-26', '2020-05-27', '2020-05-28',\n",
       "               '2020-05-29', '2020-05-30'],\n",
       "              dtype='datetime64[ns]', name='Date', length=1776, freq=None)"
      ]
     },
     "execution_count": 27,
     "metadata": {},
     "output_type": "execute_result"
    }
   ],
   "source": [
    "random_walk.index"
   ]
  },
  {
   "cell_type": "code",
   "execution_count": 28,
   "metadata": {},
   "outputs": [
    {
     "data": {
      "text/plain": [
       "94353.37449104726"
      ]
     },
     "execution_count": 28,
     "metadata": {},
     "output_type": "execute_result"
    }
   ],
   "source": [
    "metric.mean_squared_error(train[1:], random_walk)"
   ]
  },
  {
   "cell_type": "code",
   "execution_count": 29,
   "metadata": {},
   "outputs": [
    {
     "ename": "ValueError",
     "evalue": "Found array with 0 sample(s) (shape=(0,)) while a minimum of 1 is required.",
     "output_type": "error",
     "traceback": [
      "\u001b[1;31m---------------------------------------------------------------------------\u001b[0m",
      "\u001b[1;31mValueError\u001b[0m                                Traceback (most recent call last)",
      "\u001b[1;32m<ipython-input-29-737f835448b9>\u001b[0m in \u001b[0;36m<module>\u001b[1;34m\u001b[0m\n\u001b[1;32m----> 1\u001b[1;33m \u001b[0mmetric\u001b[0m\u001b[1;33m.\u001b[0m\u001b[0mmean_squared_log_error\u001b[0m\u001b[1;33m(\u001b[0m\u001b[0mtrain\u001b[0m\u001b[1;33m[\u001b[0m\u001b[1;34m'2013-04-30'\u001b[0m\u001b[1;33m:\u001b[0m\u001b[1;34m'2013-05-30'\u001b[0m\u001b[1;33m]\u001b[0m\u001b[1;33m,\u001b[0m \u001b[0mrandom_walk\u001b[0m\u001b[1;33m[\u001b[0m\u001b[1;34m'2013-04-30'\u001b[0m\u001b[1;33m:\u001b[0m\u001b[1;34m'2013-05-30'\u001b[0m\u001b[1;33m]\u001b[0m\u001b[1;33m)\u001b[0m\u001b[1;33m\u001b[0m\u001b[1;33m\u001b[0m\u001b[0m\n\u001b[0m",
      "\u001b[1;32m~\\anaconda3\\envs\\oy-env\\lib\\site-packages\\sklearn\\utils\\validation.py\u001b[0m in \u001b[0;36minner_f\u001b[1;34m(*args, **kwargs)\u001b[0m\n\u001b[0;32m     70\u001b[0m                           FutureWarning)\n\u001b[0;32m     71\u001b[0m         \u001b[0mkwargs\u001b[0m\u001b[1;33m.\u001b[0m\u001b[0mupdate\u001b[0m\u001b[1;33m(\u001b[0m\u001b[1;33m{\u001b[0m\u001b[0mk\u001b[0m\u001b[1;33m:\u001b[0m \u001b[0marg\u001b[0m \u001b[1;32mfor\u001b[0m \u001b[0mk\u001b[0m\u001b[1;33m,\u001b[0m \u001b[0marg\u001b[0m \u001b[1;32min\u001b[0m \u001b[0mzip\u001b[0m\u001b[1;33m(\u001b[0m\u001b[0msig\u001b[0m\u001b[1;33m.\u001b[0m\u001b[0mparameters\u001b[0m\u001b[1;33m,\u001b[0m \u001b[0margs\u001b[0m\u001b[1;33m)\u001b[0m\u001b[1;33m}\u001b[0m\u001b[1;33m)\u001b[0m\u001b[1;33m\u001b[0m\u001b[1;33m\u001b[0m\u001b[0m\n\u001b[1;32m---> 72\u001b[1;33m         \u001b[1;32mreturn\u001b[0m \u001b[0mf\u001b[0m\u001b[1;33m(\u001b[0m\u001b[1;33m**\u001b[0m\u001b[0mkwargs\u001b[0m\u001b[1;33m)\u001b[0m\u001b[1;33m\u001b[0m\u001b[1;33m\u001b[0m\u001b[0m\n\u001b[0m\u001b[0;32m     73\u001b[0m     \u001b[1;32mreturn\u001b[0m \u001b[0minner_f\u001b[0m\u001b[1;33m\u001b[0m\u001b[1;33m\u001b[0m\u001b[0m\n\u001b[0;32m     74\u001b[0m \u001b[1;33m\u001b[0m\u001b[0m\n",
      "\u001b[1;32m~\\anaconda3\\envs\\oy-env\\lib\\site-packages\\sklearn\\metrics\\_regression.py\u001b[0m in \u001b[0;36mmean_squared_log_error\u001b[1;34m(y_true, y_pred, sample_weight, multioutput)\u001b[0m\n\u001b[0;32m    327\u001b[0m \u001b[1;33m\u001b[0m\u001b[0m\n\u001b[0;32m    328\u001b[0m     \"\"\"\n\u001b[1;32m--> 329\u001b[1;33m     y_type, y_true, y_pred, multioutput = _check_reg_targets(\n\u001b[0m\u001b[0;32m    330\u001b[0m         y_true, y_pred, multioutput)\n\u001b[0;32m    331\u001b[0m     \u001b[0mcheck_consistent_length\u001b[0m\u001b[1;33m(\u001b[0m\u001b[0my_true\u001b[0m\u001b[1;33m,\u001b[0m \u001b[0my_pred\u001b[0m\u001b[1;33m,\u001b[0m \u001b[0msample_weight\u001b[0m\u001b[1;33m)\u001b[0m\u001b[1;33m\u001b[0m\u001b[1;33m\u001b[0m\u001b[0m\n",
      "\u001b[1;32m~\\anaconda3\\envs\\oy-env\\lib\\site-packages\\sklearn\\metrics\\_regression.py\u001b[0m in \u001b[0;36m_check_reg_targets\u001b[1;34m(y_true, y_pred, multioutput, dtype)\u001b[0m\n\u001b[0;32m     83\u001b[0m     \"\"\"\n\u001b[0;32m     84\u001b[0m     \u001b[0mcheck_consistent_length\u001b[0m\u001b[1;33m(\u001b[0m\u001b[0my_true\u001b[0m\u001b[1;33m,\u001b[0m \u001b[0my_pred\u001b[0m\u001b[1;33m)\u001b[0m\u001b[1;33m\u001b[0m\u001b[1;33m\u001b[0m\u001b[0m\n\u001b[1;32m---> 85\u001b[1;33m     \u001b[0my_true\u001b[0m \u001b[1;33m=\u001b[0m \u001b[0mcheck_array\u001b[0m\u001b[1;33m(\u001b[0m\u001b[0my_true\u001b[0m\u001b[1;33m,\u001b[0m \u001b[0mensure_2d\u001b[0m\u001b[1;33m=\u001b[0m\u001b[1;32mFalse\u001b[0m\u001b[1;33m,\u001b[0m \u001b[0mdtype\u001b[0m\u001b[1;33m=\u001b[0m\u001b[0mdtype\u001b[0m\u001b[1;33m)\u001b[0m\u001b[1;33m\u001b[0m\u001b[1;33m\u001b[0m\u001b[0m\n\u001b[0m\u001b[0;32m     86\u001b[0m     \u001b[0my_pred\u001b[0m \u001b[1;33m=\u001b[0m \u001b[0mcheck_array\u001b[0m\u001b[1;33m(\u001b[0m\u001b[0my_pred\u001b[0m\u001b[1;33m,\u001b[0m \u001b[0mensure_2d\u001b[0m\u001b[1;33m=\u001b[0m\u001b[1;32mFalse\u001b[0m\u001b[1;33m,\u001b[0m \u001b[0mdtype\u001b[0m\u001b[1;33m=\u001b[0m\u001b[0mdtype\u001b[0m\u001b[1;33m)\u001b[0m\u001b[1;33m\u001b[0m\u001b[1;33m\u001b[0m\u001b[0m\n\u001b[0;32m     87\u001b[0m \u001b[1;33m\u001b[0m\u001b[0m\n",
      "\u001b[1;32m~\\anaconda3\\envs\\oy-env\\lib\\site-packages\\sklearn\\utils\\validation.py\u001b[0m in \u001b[0;36minner_f\u001b[1;34m(*args, **kwargs)\u001b[0m\n\u001b[0;32m     70\u001b[0m                           FutureWarning)\n\u001b[0;32m     71\u001b[0m         \u001b[0mkwargs\u001b[0m\u001b[1;33m.\u001b[0m\u001b[0mupdate\u001b[0m\u001b[1;33m(\u001b[0m\u001b[1;33m{\u001b[0m\u001b[0mk\u001b[0m\u001b[1;33m:\u001b[0m \u001b[0marg\u001b[0m \u001b[1;32mfor\u001b[0m \u001b[0mk\u001b[0m\u001b[1;33m,\u001b[0m \u001b[0marg\u001b[0m \u001b[1;32min\u001b[0m \u001b[0mzip\u001b[0m\u001b[1;33m(\u001b[0m\u001b[0msig\u001b[0m\u001b[1;33m.\u001b[0m\u001b[0mparameters\u001b[0m\u001b[1;33m,\u001b[0m \u001b[0margs\u001b[0m\u001b[1;33m)\u001b[0m\u001b[1;33m}\u001b[0m\u001b[1;33m)\u001b[0m\u001b[1;33m\u001b[0m\u001b[1;33m\u001b[0m\u001b[0m\n\u001b[1;32m---> 72\u001b[1;33m         \u001b[1;32mreturn\u001b[0m \u001b[0mf\u001b[0m\u001b[1;33m(\u001b[0m\u001b[1;33m**\u001b[0m\u001b[0mkwargs\u001b[0m\u001b[1;33m)\u001b[0m\u001b[1;33m\u001b[0m\u001b[1;33m\u001b[0m\u001b[0m\n\u001b[0m\u001b[0;32m     73\u001b[0m     \u001b[1;32mreturn\u001b[0m \u001b[0minner_f\u001b[0m\u001b[1;33m\u001b[0m\u001b[1;33m\u001b[0m\u001b[0m\n\u001b[0;32m     74\u001b[0m \u001b[1;33m\u001b[0m\u001b[0m\n",
      "\u001b[1;32m~\\anaconda3\\envs\\oy-env\\lib\\site-packages\\sklearn\\utils\\validation.py\u001b[0m in \u001b[0;36mcheck_array\u001b[1;34m(array, accept_sparse, accept_large_sparse, dtype, order, copy, force_all_finite, ensure_2d, allow_nd, ensure_min_samples, ensure_min_features, estimator)\u001b[0m\n\u001b[0;32m    648\u001b[0m         \u001b[0mn_samples\u001b[0m \u001b[1;33m=\u001b[0m \u001b[0m_num_samples\u001b[0m\u001b[1;33m(\u001b[0m\u001b[0marray\u001b[0m\u001b[1;33m)\u001b[0m\u001b[1;33m\u001b[0m\u001b[1;33m\u001b[0m\u001b[0m\n\u001b[0;32m    649\u001b[0m         \u001b[1;32mif\u001b[0m \u001b[0mn_samples\u001b[0m \u001b[1;33m<\u001b[0m \u001b[0mensure_min_samples\u001b[0m\u001b[1;33m:\u001b[0m\u001b[1;33m\u001b[0m\u001b[1;33m\u001b[0m\u001b[0m\n\u001b[1;32m--> 650\u001b[1;33m             raise ValueError(\"Found array with %d sample(s) (shape=%s) while a\"\n\u001b[0m\u001b[0;32m    651\u001b[0m                              \u001b[1;34m\" minimum of %d is required%s.\"\u001b[0m\u001b[1;33m\u001b[0m\u001b[1;33m\u001b[0m\u001b[0m\n\u001b[0;32m    652\u001b[0m                              % (n_samples, array.shape, ensure_min_samples,\n",
      "\u001b[1;31mValueError\u001b[0m: Found array with 0 sample(s) (shape=(0,)) while a minimum of 1 is required."
     ]
    }
   ],
   "source": [
    "metric.mean_squared_log_error(train['2013-04-30':'2013-05-30'], random_walk['2013-04-30':'2013-05-30'])"
   ]
  },
  {
   "cell_type": "code",
   "execution_count": null,
   "metadata": {},
   "outputs": [],
   "source": []
  },
  {
   "cell_type": "code",
   "execution_count": null,
   "metadata": {},
   "outputs": [],
   "source": []
  },
  {
   "cell_type": "code",
   "execution_count": null,
   "metadata": {},
   "outputs": [],
   "source": []
  },
  {
   "cell_type": "markdown",
   "metadata": {},
   "source": [
    "## ARIMA MODEL"
   ]
  },
  {
   "cell_type": "code",
   "execution_count": 30,
   "metadata": {},
   "outputs": [],
   "source": [
    "from statsmodels.tsa.arima_model import ARIMA\n",
    "from sklearn.model_selection import TimeSeriesSplit"
   ]
  },
  {
   "cell_type": "code",
   "execution_count": 31,
   "metadata": {},
   "outputs": [
    {
     "data": {
      "text/plain": [
       "<generator object TimeSeriesSplit.split at 0x000001BD3BE29970>"
      ]
     },
     "execution_count": 31,
     "metadata": {},
     "output_type": "execute_result"
    }
   ],
   "source": [
    "# create timeseriessplit object\n",
    "data = btc.Close\n",
    "tss = TimeSeriesSplit(n_splits = 5)\n",
    "tss.split(data)"
   ]
  },
  {
   "cell_type": "code",
   "execution_count": 32,
   "metadata": {},
   "outputs": [
    {
     "data": {
      "text/plain": [
       "Date\n",
       "2013-04-28     134.21\n",
       "2013-04-29     144.54\n",
       "2013-04-30     139.00\n",
       "2013-05-01     116.99\n",
       "2013-05-02     105.21\n",
       "               ...   \n",
       "2018-09-23    6710.63\n",
       "2018-09-24    6595.41\n",
       "2018-09-25    6446.47\n",
       "2018-09-26    6495.00\n",
       "2018-09-27    6676.75\n",
       "Name: Close, Length: 1979, dtype: float64"
      ]
     },
     "execution_count": 32,
     "metadata": {},
     "output_type": "execute_result"
    }
   ],
   "source": [
    "data"
   ]
  },
  {
   "cell_type": "code",
   "execution_count": 33,
   "metadata": {},
   "outputs": [],
   "source": [
    "# define function to print min and max of array/list\n",
    "def print_info(input_):\n",
    "    min_value = min(input_) \n",
    "    max_value = max(input_)\n",
    "    \n",
    "    return f'min: {min_value} max: {max_value}\\n'"
   ]
  },
  {
   "cell_type": "code",
   "execution_count": 34,
   "metadata": {},
   "outputs": [
    {
     "name": "stdout",
     "output_type": "stream",
     "text": [
      "Train: min: 0 max: 333\n",
      "\n",
      "Test: min: 334 max: 662\n",
      "\n",
      "Train: min: 0 max: 662\n",
      "\n",
      "Test: min: 663 max: 991\n",
      "\n",
      "Train: min: 0 max: 991\n",
      "\n",
      "Test: min: 992 max: 1320\n",
      "\n",
      "Train: min: 0 max: 1320\n",
      "\n",
      "Test: min: 1321 max: 1649\n",
      "\n",
      "Train: min: 0 max: 1649\n",
      "\n",
      "Test: min: 1650 max: 1978\n",
      "\n"
     ]
    }
   ],
   "source": [
    "# iterate thgouh timeseriessplit object and print info\n",
    "for train_index, test_index in tss.split(data):\n",
    "    print('Train:', print_info(train_index))\n",
    "    print('Test:', print_info(test_index))"
   ]
  },
  {
   "cell_type": "code",
   "execution_count": 35,
   "metadata": {},
   "outputs": [
    {
     "name": "stdout",
     "output_type": "stream",
     "text": [
      "Done\n"
     ]
    }
   ],
   "source": [
    "try:\n",
    "    i=1\n",
    "    while True:\n",
    "        print(globals()[f'i{i}'])\n",
    "        i+=1\n",
    "except:\n",
    "    print('Done')"
   ]
  },
  {
   "cell_type": "code",
   "execution_count": 36,
   "metadata": {},
   "outputs": [
    {
     "data": {
      "text/plain": [
       "1651"
      ]
     },
     "execution_count": 36,
     "metadata": {},
     "output_type": "execute_result"
    }
   ],
   "source": [
    "test_index[1]"
   ]
  },
  {
   "cell_type": "code",
   "execution_count": null,
   "metadata": {},
   "outputs": [],
   "source": []
  },
  {
   "cell_type": "code",
   "execution_count": 37,
   "metadata": {},
   "outputs": [
    {
     "data": {
      "text/plain": [
       "134.21"
      ]
     },
     "execution_count": 37,
     "metadata": {},
     "output_type": "execute_result"
    }
   ],
   "source": [
    "x = btc['Close'].iloc[train_index[0]]\n",
    "x\n",
    "# x.append(btc['Close'].iloc[train_index[1]])\n",
    "# x"
   ]
  },
  {
   "cell_type": "code",
   "execution_count": 38,
   "metadata": {},
   "outputs": [
    {
     "data": {
      "text/plain": [
       "2013-04-29     136.895632\n",
       "2013-04-30     147.225632\n",
       "2013-05-01     141.685632\n",
       "2013-05-02     119.675632\n",
       "2013-05-03     107.895632\n",
       "                 ...     \n",
       "2017-08-23    4103.205632\n",
       "2017-08-24    4154.205632\n",
       "2017-08-25    4337.365632\n",
       "2017-08-26    4374.285632\n",
       "2017-08-27    4355.085632\n",
       "Freq: D, Length: 1582, dtype: float64"
      ]
     },
     "execution_count": 38,
     "metadata": {},
     "output_type": "execute_result"
    }
   ],
   "source": [
    "# CREATE arima_model object, pass training set and order\n",
    "\n",
    "# (0,1,0) as the order means 1st order differenced model, essentially a random walk\n",
    "\n",
    "rw = ARIMA(train, (0,1,0), freq='D').fit()\n",
    "\n",
    "y_hat = rw.predict(typ='levels')\n",
    "y_hat"
   ]
  },
  {
   "cell_type": "code",
   "execution_count": 39,
   "metadata": {},
   "outputs": [
    {
     "data": {
      "text/plain": [
       "1729.429428266681"
      ]
     },
     "execution_count": 39,
     "metadata": {},
     "output_type": "execute_result"
    }
   ],
   "source": [
    "# find squared error and compare to random walk model generated manually\n",
    "metric.mean_squared_error(train[1:], y_hat)"
   ]
  },
  {
   "cell_type": "code",
   "execution_count": 40,
   "metadata": {},
   "outputs": [],
   "source": [
    "# per answer above, essentially random walk model"
   ]
  },
  {
   "cell_type": "code",
   "execution_count": 41,
   "metadata": {},
   "outputs": [
    {
     "data": {
      "text/plain": [
       "2013-04-29     136.896156\n",
       "2013-04-30     147.409508\n",
       "2013-05-01     141.488836\n",
       "2013-05-02     119.083772\n",
       "2013-05-03     107.549158\n",
       "                 ...     \n",
       "2017-08-23    4105.511149\n",
       "2017-08-24    4155.365055\n",
       "2017-08-25    4341.695164\n",
       "2017-08-26    4375.107320\n",
       "2017-08-27    4354.561175\n",
       "Freq: D, Length: 1582, dtype: float64"
      ]
     },
     "execution_count": 41,
     "metadata": {},
     "output_type": "execute_result"
    }
   ],
   "source": [
    "# CREATE arima_model object, pass training set and order\n",
    "\n",
    "# (1,1,0) as the order means 1st order differenced model, with additional lag\n",
    "\n",
    "ar_1 = ARIMA(train, (1,1,0), freq='D').fit()\n",
    "\n",
    "y_hat = ar_1.predict(typ='levels')\n",
    "y_hat"
   ]
  },
  {
   "cell_type": "code",
   "execution_count": 42,
   "metadata": {},
   "outputs": [
    {
     "data": {
      "text/plain": [
       "1728.433415133815"
      ]
     },
     "execution_count": 42,
     "metadata": {},
     "output_type": "execute_result"
    }
   ],
   "source": [
    "metric.mean_squared_error(train[1:], y_hat)"
   ]
  },
  {
   "cell_type": "code",
   "execution_count": 43,
   "metadata": {},
   "outputs": [
    {
     "data": {
      "text/plain": [
       "2013-04-30     154.885044\n",
       "2013-05-01     141.386915\n",
       "2013-05-02     111.216079\n",
       "2013-05-03      97.990709\n",
       "2013-05-04      90.514020\n",
       "                 ...     \n",
       "2017-08-23    4121.901447\n",
       "2017-08-24    4173.047590\n",
       "2017-08-25    4358.432240\n",
       "2017-08-26    4394.950258\n",
       "2017-08-27    4375.102446\n",
       "Freq: D, Length: 1581, dtype: float64"
      ]
     },
     "execution_count": 43,
     "metadata": {},
     "output_type": "execute_result"
    }
   ],
   "source": [
    "# CREATE arima_model object, pass training set and order\n",
    "\n",
    "# try higher order models\n",
    "\n",
    "ar_2 = ARIMA(train, (1,2,1), freq='D').fit()\n",
    "\n",
    "y_hat = ar_2.predict(typ='levels')\n",
    "y_hat"
   ]
  },
  {
   "cell_type": "code",
   "execution_count": 44,
   "metadata": {},
   "outputs": [
    {
     "data": {
      "text/plain": [
       "1712.4775402782118"
      ]
     },
     "execution_count": 44,
     "metadata": {},
     "output_type": "execute_result"
    }
   ],
   "source": [
    "metric.mean_squared_error(train[2:], y_hat)"
   ]
  },
  {
   "cell_type": "code",
   "execution_count": 45,
   "metadata": {},
   "outputs": [
    {
     "data": {
      "text/html": [
       "<table class=\"simpletable\">\n",
       "<caption>ARIMA Model Results</caption>\n",
       "<tr>\n",
       "  <th>Dep. Variable:</th>     <td>D2.Close</td>     <th>  No. Observations:  </th>   <td>1581</td>   \n",
       "</tr>\n",
       "<tr>\n",
       "  <th>Model:</th>          <td>ARIMA(1, 2, 1)</td>  <th>  Log Likelihood     </th> <td>-8130.940</td>\n",
       "</tr>\n",
       "<tr>\n",
       "  <th>Method:</th>             <td>css-mle</td>     <th>  S.D. of innovations</th>  <td>41.378</td>  \n",
       "</tr>\n",
       "<tr>\n",
       "  <th>Date:</th>          <td>Thu, 12 Aug 2021</td> <th>  AIC                </th> <td>16269.879</td>\n",
       "</tr>\n",
       "<tr>\n",
       "  <th>Time:</th>              <td>22:40:15</td>     <th>  BIC                </th> <td>16291.343</td>\n",
       "</tr>\n",
       "<tr>\n",
       "  <th>Sample:</th>           <td>04-30-2013</td>    <th>  HQIC               </th> <td>16277.854</td>\n",
       "</tr>\n",
       "<tr>\n",
       "  <th></th>                 <td>- 08-27-2017</td>   <th>                     </th>     <td> </td>    \n",
       "</tr>\n",
       "</table>\n",
       "<table class=\"simpletable\">\n",
       "<tr>\n",
       "         <td></td>           <th>coef</th>     <th>std err</th>      <th>z</th>      <th>P>|z|</th>  <th>[0.025</th>    <th>0.975]</th>  \n",
       "</tr>\n",
       "<tr>\n",
       "  <th>const</th>          <td>    0.0150</td> <td>    0.012</td> <td>    1.242</td> <td> 0.214</td> <td>   -0.009</td> <td>    0.039</td>\n",
       "</tr>\n",
       "<tr>\n",
       "  <th>ar.L1.D2.Close</th> <td>    0.0038</td> <td>    0.025</td> <td>    0.149</td> <td> 0.881</td> <td>   -0.046</td> <td>    0.054</td>\n",
       "</tr>\n",
       "<tr>\n",
       "  <th>ma.L1.D2.Close</th> <td>   -0.9894</td> <td>    0.004</td> <td> -230.480</td> <td> 0.000</td> <td>   -0.998</td> <td>   -0.981</td>\n",
       "</tr>\n",
       "</table>\n",
       "<table class=\"simpletable\">\n",
       "<caption>Roots</caption>\n",
       "<tr>\n",
       "    <td></td>   <th>            Real</th>  <th>         Imaginary</th> <th>         Modulus</th>  <th>        Frequency</th>\n",
       "</tr>\n",
       "<tr>\n",
       "  <th>AR.1</th> <td>         262.9998</td> <td>          +0.0000j</td> <td>         262.9998</td> <td>           0.0000</td>\n",
       "</tr>\n",
       "<tr>\n",
       "  <th>MA.1</th> <td>           1.0107</td> <td>          +0.0000j</td> <td>           1.0107</td> <td>           0.0000</td>\n",
       "</tr>\n",
       "</table>"
      ],
      "text/plain": [
       "<class 'statsmodels.iolib.summary.Summary'>\n",
       "\"\"\"\n",
       "                             ARIMA Model Results                              \n",
       "==============================================================================\n",
       "Dep. Variable:               D2.Close   No. Observations:                 1581\n",
       "Model:                 ARIMA(1, 2, 1)   Log Likelihood               -8130.940\n",
       "Method:                       css-mle   S.D. of innovations             41.378\n",
       "Date:                Thu, 12 Aug 2021   AIC                          16269.879\n",
       "Time:                        22:40:15   BIC                          16291.343\n",
       "Sample:                    04-30-2013   HQIC                         16277.854\n",
       "                         - 08-27-2017                                         \n",
       "==================================================================================\n",
       "                     coef    std err          z      P>|z|      [0.025      0.975]\n",
       "----------------------------------------------------------------------------------\n",
       "const              0.0150      0.012      1.242      0.214      -0.009       0.039\n",
       "ar.L1.D2.Close     0.0038      0.025      0.149      0.881      -0.046       0.054\n",
       "ma.L1.D2.Close    -0.9894      0.004   -230.480      0.000      -0.998      -0.981\n",
       "                                    Roots                                    \n",
       "=============================================================================\n",
       "                  Real          Imaginary           Modulus         Frequency\n",
       "-----------------------------------------------------------------------------\n",
       "AR.1          262.9998           +0.0000j          262.9998            0.0000\n",
       "MA.1            1.0107           +0.0000j            1.0107            0.0000\n",
       "-----------------------------------------------------------------------------\n",
       "\"\"\""
      ]
     },
     "execution_count": 45,
     "metadata": {},
     "output_type": "execute_result"
    }
   ],
   "source": [
    "ar_2.summary()"
   ]
  },
  {
   "cell_type": "code",
   "execution_count": 46,
   "metadata": {},
   "outputs": [
    {
     "name": "stderr",
     "output_type": "stream",
     "text": [
      "C:\\Users\\samjd\\anaconda3\\envs\\oy-env\\lib\\site-packages\\statsmodels\\base\\model.py:547: HessianInversionWarning: Inverting hessian failed, no bse or cov_params available\n",
      "  warn('Inverting hessian failed, no bse or cov_params '\n"
     ]
    },
    {
     "data": {
      "text/plain": [
       "2013-04-30     154.890070\n",
       "2013-05-01     143.699310\n",
       "2013-05-02     132.095900\n",
       "2013-05-03      89.875237\n",
       "2013-05-04      83.916587\n",
       "                 ...     \n",
       "2017-08-23    4061.811764\n",
       "2017-08-24    4199.758310\n",
       "2017-08-25    4398.331510\n",
       "2017-08-26    4337.701088\n",
       "2017-08-27    4426.505509\n",
       "Freq: D, Length: 1581, dtype: float64"
      ]
     },
     "execution_count": 46,
     "metadata": {},
     "output_type": "execute_result"
    }
   ],
   "source": [
    "# additoinal ARIMIA model\n",
    "ar_3 = ARIMA(train, (4,2,3), freq='D').fit()\n",
    "\n",
    "y_hat = ar_3.predict(typ='levels')\n",
    "y_hat"
   ]
  },
  {
   "cell_type": "code",
   "execution_count": 47,
   "metadata": {},
   "outputs": [
    {
     "data": {
      "text/plain": [
       "1635.6810187215967"
      ]
     },
     "execution_count": 47,
     "metadata": {},
     "output_type": "execute_result"
    }
   ],
   "source": [
    "metric.mean_squared_error(train[2:], y_hat)"
   ]
  },
  {
   "cell_type": "code",
   "execution_count": null,
   "metadata": {},
   "outputs": [],
   "source": []
  },
  {
   "cell_type": "code",
   "execution_count": 48,
   "metadata": {},
   "outputs": [
    {
     "data": {
      "text/plain": [
       "1722.6314650319014"
      ]
     },
     "execution_count": 48,
     "metadata": {},
     "output_type": "execute_result"
    }
   ],
   "source": [
    "# additoinal ARIMIA model\n",
    "ar_4 = ARIMA(train, (1,1,4), freq='D').fit()\n",
    "\n",
    "y_hat = ar_4.predict(typ='levels')\n",
    "metric.mean_squared_error(train[1:], y_hat)"
   ]
  },
  {
   "cell_type": "code",
   "execution_count": 49,
   "metadata": {},
   "outputs": [
    {
     "name": "stderr",
     "output_type": "stream",
     "text": [
      "C:\\Users\\samjd\\anaconda3\\envs\\oy-env\\lib\\site-packages\\sklearn\\utils\\validation.py:67: FutureWarning: Pass max_train_size=Date\n",
      "2013-04-28     134.21\n",
      "2013-04-29     144.54\n",
      "2013-04-30     139.00\n",
      "2013-05-01     116.99\n",
      "2013-05-02     105.21\n",
      "               ...   \n",
      "2018-09-23    6710.63\n",
      "2018-09-24    6595.41\n",
      "2018-09-25    6446.47\n",
      "2018-09-26    6495.00\n",
      "2018-09-27    6676.75\n",
      "Name: Close, Length: 1979, dtype: float64 as keyword args. From version 0.25 passing these as positional arguments will result in an error\n",
      "  warnings.warn(\"Pass {} as keyword args. From version 0.25 \"\n"
     ]
    },
    {
     "data": {
      "text/plain": [
       "TimeSeriesSplit(max_train_size=Date\n",
       "2013-04-28     134.21\n",
       "2013-04-29     144.54\n",
       "2013-04-30     139.00\n",
       "2013-05-01     116.99\n",
       "2013-05-02     105.21\n",
       "               ...\n",
       "2018-09-23    6710.63\n",
       "2018-09-24    6595.41\n",
       "2018-09-25    6446.47\n",
       "2018-09-26    6495.00\n",
       "2018-09-27    6676.75\n",
       "Name: Close, Length: 1979, dtype: float64,\n",
       "        n_splits=5)"
      ]
     },
     "execution_count": 49,
     "metadata": {},
     "output_type": "execute_result"
    }
   ],
   "source": [
    "TimeSeriesSplit(5, btc['Close'], max_train_size=0.8*btc.shape[0])"
   ]
  },
  {
   "cell_type": "markdown",
   "metadata": {},
   "source": [
    "### Make function to make data reshaping easier"
   ]
  },
  {
   "cell_type": "code",
   "execution_count": 154,
   "metadata": {},
   "outputs": [],
   "source": [
    "# function converts data to array and reshapes for linreg compatibility \n",
    "def arr_shape(data):\n",
    "    data = np.array(data)\n",
    "    data = data.reshape(-1,1)\n",
    "    return data"
   ]
  },
  {
   "cell_type": "markdown",
   "metadata": {},
   "source": [
    "## Linear Regression"
   ]
  },
  {
   "cell_type": "code",
   "execution_count": 55,
   "metadata": {},
   "outputs": [],
   "source": [
    "from sklearn.linear_model import LinearRegression\n",
    "from sklearn.model_selection import train_test_split"
   ]
  },
  {
   "cell_type": "code",
   "execution_count": 70,
   "metadata": {},
   "outputs": [
    {
     "data": {
      "text/plain": [
       "(2201, 6)"
      ]
     },
     "execution_count": 70,
     "metadata": {},
     "output_type": "execute_result"
    }
   ],
   "source": [
    "btc.shape"
   ]
  },
  {
   "cell_type": "code",
   "execution_count": 68,
   "metadata": {},
   "outputs": [
    {
     "data": {
      "text/plain": [
       "Date\n",
       "2015-07-20      280.00\n",
       "2015-07-21      277.32\n",
       "2015-07-22      277.89\n",
       "2015-07-23      277.39\n",
       "2015-07-24      289.12\n",
       "                ...   \n",
       "2021-07-24    34283.01\n",
       "2021-07-25    35428.26\n",
       "2021-07-26    37262.77\n",
       "2021-07-27    39470.48\n",
       "2021-07-28    40035.10\n",
       "Name: Close, Length: 2201, dtype: float64"
      ]
     },
     "execution_count": 68,
     "metadata": {},
     "output_type": "execute_result"
    }
   ],
   "source": [
    "btc.Close"
   ]
  },
  {
   "cell_type": "code",
   "execution_count": 139,
   "metadata": {},
   "outputs": [],
   "source": [
    "close = btc.Close\n",
    "close.reset_index(drop=True, inplace=True)\n",
    "close_index = close.index\n",
    "close = np.squeeze(close.to_numpy())\n",
    "close_index = np.squeeze(close_index.to_numpy())"
   ]
  },
  {
   "cell_type": "code",
   "execution_count": 153,
   "metadata": {},
   "outputs": [
    {
     "data": {
      "text/plain": [
       "0"
      ]
     },
     "execution_count": 153,
     "metadata": {},
     "output_type": "execute_result"
    }
   ],
   "source": [
    "close_index[0]"
   ]
  },
  {
   "cell_type": "code",
   "execution_count": 155,
   "metadata": {},
   "outputs": [],
   "source": [
    "# # separate data for linear regression\n",
    "X_train, X_test, y_train, y_test = train_test_split(close_index, close)\n",
    "\n",
    "# reshape for linreg\n",
    "X_train = arr_shape(X_train)\n",
    "X_test = arr_shape(X_test)\n",
    "y_train = arr_shape(y_train)\n",
    "y_test = arr_shape(y_test)\n"
   ]
  },
  {
   "cell_type": "code",
   "execution_count": 156,
   "metadata": {},
   "outputs": [
    {
     "data": {
      "text/plain": [
       "array([[ 2786.07],\n",
       "       [ 4214.84],\n",
       "       [  238.34],\n",
       "       ...,\n",
       "       [ 6928.5 ],\n",
       "       [ 1292.86],\n",
       "       [50089.15]])"
      ]
     },
     "execution_count": 156,
     "metadata": {},
     "output_type": "execute_result"
    }
   ],
   "source": [
    "y_train"
   ]
  },
  {
   "cell_type": "code",
   "execution_count": 157,
   "metadata": {},
   "outputs": [
    {
     "data": {
      "text/plain": [
       "array([[ 739],\n",
       "       [ 807],\n",
       "       [  73],\n",
       "       ...,\n",
       "       [ 985],\n",
       "       [ 592],\n",
       "       [2105]], dtype=int64)"
      ]
     },
     "execution_count": 157,
     "metadata": {},
     "output_type": "execute_result"
    }
   ],
   "source": [
    "X_train"
   ]
  },
  {
   "cell_type": "code",
   "execution_count": 158,
   "metadata": {},
   "outputs": [
    {
     "data": {
      "text/plain": [
       "LinearRegression()"
      ]
     },
     "execution_count": 158,
     "metadata": {},
     "output_type": "execute_result"
    }
   ],
   "source": [
    "lr = LinearRegression()\n",
    "lr.fit(X_train, y_train)"
   ]
  },
  {
   "cell_type": "code",
   "execution_count": 159,
   "metadata": {},
   "outputs": [],
   "source": [
    "preds = lr.predict(X_test)"
   ]
  },
  {
   "cell_type": "code",
   "execution_count": 160,
   "metadata": {},
   "outputs": [
    {
     "data": {
      "text/plain": [
       "array([-5766.96796992])"
      ]
     },
     "execution_count": 160,
     "metadata": {},
     "output_type": "execute_result"
    }
   ],
   "source": [
    "lr.intercept_"
   ]
  },
  {
   "cell_type": "code",
   "execution_count": 163,
   "metadata": {},
   "outputs": [
    {
     "data": {
      "text/plain": [
       "array([[13.56697558]])"
      ]
     },
     "execution_count": 163,
     "metadata": {},
     "output_type": "execute_result"
    }
   ],
   "source": [
    "lr.coef_"
   ]
  },
  {
   "cell_type": "code",
   "execution_count": null,
   "metadata": {},
   "outputs": [],
   "source": []
  }
 ],
 "metadata": {
  "kernelspec": {
   "display_name": "Python 3",
   "language": "python",
   "name": "python3"
  },
  "language_info": {
   "codemirror_mode": {
    "name": "ipython",
    "version": 3
   },
   "file_extension": ".py",
   "mimetype": "text/x-python",
   "name": "python",
   "nbconvert_exporter": "python",
   "pygments_lexer": "ipython3",
   "version": "3.8.2"
  }
 },
 "nbformat": 4,
 "nbformat_minor": 4
}
