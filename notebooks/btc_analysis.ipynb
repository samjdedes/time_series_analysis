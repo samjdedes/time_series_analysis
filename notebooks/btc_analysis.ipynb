{
 "cells": [
  {
   "cell_type": "code",
   "execution_count": 3,
   "metadata": {},
   "outputs": [],
   "source": [
    "# imports\n",
    "import pandas as pd\n",
    "import numpy as np  \n",
    "import matplotlib.pyplot as plt\n",
    "import datetime as dt"
   ]
  },
  {
   "cell_type": "code",
   "execution_count": 1,
   "metadata": {},
   "outputs": [],
   "source": [
    "import sys\n",
    "# custom imports\n",
    "sys.path.append('../src')\n",
    "# test function import\n",
    "from fetch_range_data import fetch_range_data"
   ]
  },
  {
   "cell_type": "markdown",
   "metadata": {},
   "source": [
    "# Bitcoin"
   ]
  },
  {
   "cell_type": "markdown",
   "metadata": {},
   "source": [
    "The purpsose of this notebook is to explore methods of bitcoin price forecasting"
   ]
  },
  {
   "cell_type": "markdown",
   "metadata": {},
   "source": [
    "## Get today's data"
   ]
  },
  {
   "cell_type": "code",
   "execution_count": 5,
   "metadata": {},
   "outputs": [],
   "source": [
    "#  function to get data\n",
    "today = dt.date.today()\n",
    "fetch_range_data('BTC/USD', '2015/08/20', today)"
   ]
  },
  {
   "cell_type": "code",
   "execution_count": null,
   "metadata": {},
   "outputs": [],
   "source": []
  },
  {
   "cell_type": "code",
   "execution_count": null,
   "metadata": {},
   "outputs": [],
   "source": []
  },
  {
   "cell_type": "markdown",
   "metadata": {},
   "source": [
    "## Import Data"
   ]
  },
  {
   "cell_type": "markdown",
   "metadata": {},
   "source": [
    "### Explore special values for BTC"
   ]
  },
  {
   "cell_type": "code",
   "execution_count": 5,
   "metadata": {},
   "outputs": [
    {
     "ename": "FileNotFoundError",
     "evalue": "[Errno 2] File ../data/combined_coinbase_2021-07-28 does not exist: '../data/combined_coinbase_2021-07-28'",
     "output_type": "error",
     "traceback": [
      "\u001b[1;31m---------------------------------------------------------------------------\u001b[0m",
      "\u001b[1;31mFileNotFoundError\u001b[0m                         Traceback (most recent call last)",
      "\u001b[1;32m<ipython-input-5-ca0a3eacb2c2>\u001b[0m in \u001b[0;36m<module>\u001b[1;34m\u001b[0m\n\u001b[0;32m      1\u001b[0m \u001b[1;31m#create df for up-to-date btc from api data (saved locally)\u001b[0m\u001b[1;33m\u001b[0m\u001b[1;33m\u001b[0m\u001b[1;33m\u001b[0m\u001b[0m\n\u001b[1;32m----> 2\u001b[1;33m \u001b[0mbtc_new\u001b[0m \u001b[1;33m=\u001b[0m \u001b[0mpd\u001b[0m\u001b[1;33m.\u001b[0m\u001b[0mread_csv\u001b[0m\u001b[1;33m(\u001b[0m\u001b[1;34m'../data/combined_coinbase_2021-07-28'\u001b[0m\u001b[1;33m,\u001b[0m \u001b[0mindex_col\u001b[0m\u001b[1;33m=\u001b[0m\u001b[1;34m'Unnamed: 0'\u001b[0m\u001b[1;33m)\u001b[0m\u001b[1;33m\u001b[0m\u001b[1;33m\u001b[0m\u001b[0m\n\u001b[0m\u001b[0;32m      3\u001b[0m \u001b[0mbtc_new\u001b[0m\u001b[1;33m.\u001b[0m\u001b[0mpop\u001b[0m\u001b[1;33m(\u001b[0m\u001b[1;34m'index'\u001b[0m\u001b[1;33m)\u001b[0m\u001b[1;33m\u001b[0m\u001b[1;33m\u001b[0m\u001b[0m\n\u001b[0;32m      4\u001b[0m \u001b[1;31m# rename to match kaggle btc dataframe\u001b[0m\u001b[1;33m\u001b[0m\u001b[1;33m\u001b[0m\u001b[1;33m\u001b[0m\u001b[0m\n\u001b[0;32m      5\u001b[0m \u001b[0mmy_dict\u001b[0m \u001b[1;33m=\u001b[0m \u001b[1;33m{\u001b[0m\u001b[1;34m'date'\u001b[0m\u001b[1;33m:\u001b[0m \u001b[1;34m'Date'\u001b[0m\u001b[1;33m,\u001b[0m \u001b[1;34m'open'\u001b[0m\u001b[1;33m:\u001b[0m \u001b[1;34m'Open'\u001b[0m\u001b[1;33m,\u001b[0m \u001b[1;34m'close'\u001b[0m\u001b[1;33m:\u001b[0m \u001b[1;34m'Close'\u001b[0m\u001b[1;33m,\u001b[0m \u001b[1;34m'high'\u001b[0m\u001b[1;33m:\u001b[0m \u001b[1;34m'High'\u001b[0m\u001b[1;33m,\u001b[0m \u001b[1;34m'low'\u001b[0m\u001b[1;33m:\u001b[0m \u001b[1;34m'Low'\u001b[0m\u001b[1;33m,\u001b[0m \u001b[1;34m'volume'\u001b[0m\u001b[1;33m:\u001b[0m\u001b[1;34m'Volume'\u001b[0m\u001b[1;33m,\u001b[0m \u001b[1;34m'vol_fiat'\u001b[0m\u001b[1;33m:\u001b[0m\u001b[1;34m'Market Cap'\u001b[0m\u001b[1;33m}\u001b[0m\u001b[1;33m\u001b[0m\u001b[1;33m\u001b[0m\u001b[0m\n",
      "\u001b[1;32m~\\anaconda3\\envs\\oy-env\\lib\\site-packages\\pandas\\io\\parsers.py\u001b[0m in \u001b[0;36mparser_f\u001b[1;34m(filepath_or_buffer, sep, delimiter, header, names, index_col, usecols, squeeze, prefix, mangle_dupe_cols, dtype, engine, converters, true_values, false_values, skipinitialspace, skiprows, skipfooter, nrows, na_values, keep_default_na, na_filter, verbose, skip_blank_lines, parse_dates, infer_datetime_format, keep_date_col, date_parser, dayfirst, cache_dates, iterator, chunksize, compression, thousands, decimal, lineterminator, quotechar, quoting, doublequote, escapechar, comment, encoding, dialect, error_bad_lines, warn_bad_lines, delim_whitespace, low_memory, memory_map, float_precision)\u001b[0m\n\u001b[0;32m    674\u001b[0m         )\n\u001b[0;32m    675\u001b[0m \u001b[1;33m\u001b[0m\u001b[0m\n\u001b[1;32m--> 676\u001b[1;33m         \u001b[1;32mreturn\u001b[0m \u001b[0m_read\u001b[0m\u001b[1;33m(\u001b[0m\u001b[0mfilepath_or_buffer\u001b[0m\u001b[1;33m,\u001b[0m \u001b[0mkwds\u001b[0m\u001b[1;33m)\u001b[0m\u001b[1;33m\u001b[0m\u001b[1;33m\u001b[0m\u001b[0m\n\u001b[0m\u001b[0;32m    677\u001b[0m \u001b[1;33m\u001b[0m\u001b[0m\n\u001b[0;32m    678\u001b[0m     \u001b[0mparser_f\u001b[0m\u001b[1;33m.\u001b[0m\u001b[0m__name__\u001b[0m \u001b[1;33m=\u001b[0m \u001b[0mname\u001b[0m\u001b[1;33m\u001b[0m\u001b[1;33m\u001b[0m\u001b[0m\n",
      "\u001b[1;32m~\\anaconda3\\envs\\oy-env\\lib\\site-packages\\pandas\\io\\parsers.py\u001b[0m in \u001b[0;36m_read\u001b[1;34m(filepath_or_buffer, kwds)\u001b[0m\n\u001b[0;32m    446\u001b[0m \u001b[1;33m\u001b[0m\u001b[0m\n\u001b[0;32m    447\u001b[0m     \u001b[1;31m# Create the parser.\u001b[0m\u001b[1;33m\u001b[0m\u001b[1;33m\u001b[0m\u001b[1;33m\u001b[0m\u001b[0m\n\u001b[1;32m--> 448\u001b[1;33m     \u001b[0mparser\u001b[0m \u001b[1;33m=\u001b[0m \u001b[0mTextFileReader\u001b[0m\u001b[1;33m(\u001b[0m\u001b[0mfp_or_buf\u001b[0m\u001b[1;33m,\u001b[0m \u001b[1;33m**\u001b[0m\u001b[0mkwds\u001b[0m\u001b[1;33m)\u001b[0m\u001b[1;33m\u001b[0m\u001b[1;33m\u001b[0m\u001b[0m\n\u001b[0m\u001b[0;32m    449\u001b[0m \u001b[1;33m\u001b[0m\u001b[0m\n\u001b[0;32m    450\u001b[0m     \u001b[1;32mif\u001b[0m \u001b[0mchunksize\u001b[0m \u001b[1;32mor\u001b[0m \u001b[0miterator\u001b[0m\u001b[1;33m:\u001b[0m\u001b[1;33m\u001b[0m\u001b[1;33m\u001b[0m\u001b[0m\n",
      "\u001b[1;32m~\\anaconda3\\envs\\oy-env\\lib\\site-packages\\pandas\\io\\parsers.py\u001b[0m in \u001b[0;36m__init__\u001b[1;34m(self, f, engine, **kwds)\u001b[0m\n\u001b[0;32m    878\u001b[0m             \u001b[0mself\u001b[0m\u001b[1;33m.\u001b[0m\u001b[0moptions\u001b[0m\u001b[1;33m[\u001b[0m\u001b[1;34m\"has_index_names\"\u001b[0m\u001b[1;33m]\u001b[0m \u001b[1;33m=\u001b[0m \u001b[0mkwds\u001b[0m\u001b[1;33m[\u001b[0m\u001b[1;34m\"has_index_names\"\u001b[0m\u001b[1;33m]\u001b[0m\u001b[1;33m\u001b[0m\u001b[1;33m\u001b[0m\u001b[0m\n\u001b[0;32m    879\u001b[0m \u001b[1;33m\u001b[0m\u001b[0m\n\u001b[1;32m--> 880\u001b[1;33m         \u001b[0mself\u001b[0m\u001b[1;33m.\u001b[0m\u001b[0m_make_engine\u001b[0m\u001b[1;33m(\u001b[0m\u001b[0mself\u001b[0m\u001b[1;33m.\u001b[0m\u001b[0mengine\u001b[0m\u001b[1;33m)\u001b[0m\u001b[1;33m\u001b[0m\u001b[1;33m\u001b[0m\u001b[0m\n\u001b[0m\u001b[0;32m    881\u001b[0m \u001b[1;33m\u001b[0m\u001b[0m\n\u001b[0;32m    882\u001b[0m     \u001b[1;32mdef\u001b[0m \u001b[0mclose\u001b[0m\u001b[1;33m(\u001b[0m\u001b[0mself\u001b[0m\u001b[1;33m)\u001b[0m\u001b[1;33m:\u001b[0m\u001b[1;33m\u001b[0m\u001b[1;33m\u001b[0m\u001b[0m\n",
      "\u001b[1;32m~\\anaconda3\\envs\\oy-env\\lib\\site-packages\\pandas\\io\\parsers.py\u001b[0m in \u001b[0;36m_make_engine\u001b[1;34m(self, engine)\u001b[0m\n\u001b[0;32m   1112\u001b[0m     \u001b[1;32mdef\u001b[0m \u001b[0m_make_engine\u001b[0m\u001b[1;33m(\u001b[0m\u001b[0mself\u001b[0m\u001b[1;33m,\u001b[0m \u001b[0mengine\u001b[0m\u001b[1;33m=\u001b[0m\u001b[1;34m\"c\"\u001b[0m\u001b[1;33m)\u001b[0m\u001b[1;33m:\u001b[0m\u001b[1;33m\u001b[0m\u001b[1;33m\u001b[0m\u001b[0m\n\u001b[0;32m   1113\u001b[0m         \u001b[1;32mif\u001b[0m \u001b[0mengine\u001b[0m \u001b[1;33m==\u001b[0m \u001b[1;34m\"c\"\u001b[0m\u001b[1;33m:\u001b[0m\u001b[1;33m\u001b[0m\u001b[1;33m\u001b[0m\u001b[0m\n\u001b[1;32m-> 1114\u001b[1;33m             \u001b[0mself\u001b[0m\u001b[1;33m.\u001b[0m\u001b[0m_engine\u001b[0m \u001b[1;33m=\u001b[0m \u001b[0mCParserWrapper\u001b[0m\u001b[1;33m(\u001b[0m\u001b[0mself\u001b[0m\u001b[1;33m.\u001b[0m\u001b[0mf\u001b[0m\u001b[1;33m,\u001b[0m \u001b[1;33m**\u001b[0m\u001b[0mself\u001b[0m\u001b[1;33m.\u001b[0m\u001b[0moptions\u001b[0m\u001b[1;33m)\u001b[0m\u001b[1;33m\u001b[0m\u001b[1;33m\u001b[0m\u001b[0m\n\u001b[0m\u001b[0;32m   1115\u001b[0m         \u001b[1;32melse\u001b[0m\u001b[1;33m:\u001b[0m\u001b[1;33m\u001b[0m\u001b[1;33m\u001b[0m\u001b[0m\n\u001b[0;32m   1116\u001b[0m             \u001b[1;32mif\u001b[0m \u001b[0mengine\u001b[0m \u001b[1;33m==\u001b[0m \u001b[1;34m\"python\"\u001b[0m\u001b[1;33m:\u001b[0m\u001b[1;33m\u001b[0m\u001b[1;33m\u001b[0m\u001b[0m\n",
      "\u001b[1;32m~\\anaconda3\\envs\\oy-env\\lib\\site-packages\\pandas\\io\\parsers.py\u001b[0m in \u001b[0;36m__init__\u001b[1;34m(self, src, **kwds)\u001b[0m\n\u001b[0;32m   1889\u001b[0m         \u001b[0mkwds\u001b[0m\u001b[1;33m[\u001b[0m\u001b[1;34m\"usecols\"\u001b[0m\u001b[1;33m]\u001b[0m \u001b[1;33m=\u001b[0m \u001b[0mself\u001b[0m\u001b[1;33m.\u001b[0m\u001b[0musecols\u001b[0m\u001b[1;33m\u001b[0m\u001b[1;33m\u001b[0m\u001b[0m\n\u001b[0;32m   1890\u001b[0m \u001b[1;33m\u001b[0m\u001b[0m\n\u001b[1;32m-> 1891\u001b[1;33m         \u001b[0mself\u001b[0m\u001b[1;33m.\u001b[0m\u001b[0m_reader\u001b[0m \u001b[1;33m=\u001b[0m \u001b[0mparsers\u001b[0m\u001b[1;33m.\u001b[0m\u001b[0mTextReader\u001b[0m\u001b[1;33m(\u001b[0m\u001b[0msrc\u001b[0m\u001b[1;33m,\u001b[0m \u001b[1;33m**\u001b[0m\u001b[0mkwds\u001b[0m\u001b[1;33m)\u001b[0m\u001b[1;33m\u001b[0m\u001b[1;33m\u001b[0m\u001b[0m\n\u001b[0m\u001b[0;32m   1892\u001b[0m         \u001b[0mself\u001b[0m\u001b[1;33m.\u001b[0m\u001b[0munnamed_cols\u001b[0m \u001b[1;33m=\u001b[0m \u001b[0mself\u001b[0m\u001b[1;33m.\u001b[0m\u001b[0m_reader\u001b[0m\u001b[1;33m.\u001b[0m\u001b[0munnamed_cols\u001b[0m\u001b[1;33m\u001b[0m\u001b[1;33m\u001b[0m\u001b[0m\n\u001b[0;32m   1893\u001b[0m \u001b[1;33m\u001b[0m\u001b[0m\n",
      "\u001b[1;32mpandas\\_libs\\parsers.pyx\u001b[0m in \u001b[0;36mpandas._libs.parsers.TextReader.__cinit__\u001b[1;34m()\u001b[0m\n",
      "\u001b[1;32mpandas\\_libs\\parsers.pyx\u001b[0m in \u001b[0;36mpandas._libs.parsers.TextReader._setup_parser_source\u001b[1;34m()\u001b[0m\n",
      "\u001b[1;31mFileNotFoundError\u001b[0m: [Errno 2] File ../data/combined_coinbase_2021-07-28 does not exist: '../data/combined_coinbase_2021-07-28'"
     ]
    }
   ],
   "source": [
    "#create df for up-to-date btc from api data (saved locally)\n",
    "btc = pd.read_csv('../data/daily_combined/combined_coinbase_2021-07-28', index_col='Unnamed: 0')\n",
    "btc.pop('index')\n",
    "# rename to match kaggle btc dataframe\n",
    "my_dict = {'date': 'Date', 'open': 'Open', 'close': 'Close', 'high': 'High', 'low': 'Low', 'volume':'Volume', 'vol_fiat':'Market Cap'}\n",
    "btc.rename(columns=my_dict, inplace=True)\n",
    "\n",
    "print(btc.shape, btc.shape)\n"
   ]
  },
  {
   "cell_type": "markdown",
   "metadata": {},
   "source": [
    "### Convert Index to Datetime"
   ]
  },
  {
   "cell_type": "code",
   "execution_count": null,
   "metadata": {},
   "outputs": [],
   "source": [
    "# change btc index to Date column datetime objects\n",
    "btc.set_index(pd.to_datetime(btc['Date']),inplace=True)\n",
    "btc = btc.drop(['Date', 'unix'],axis=1)"
   ]
  },
  {
   "cell_type": "code",
   "execution_count": 6,
   "metadata": {},
   "outputs": [
    {
     "ename": "NameError",
     "evalue": "name 'btc_new' is not defined",
     "output_type": "error",
     "traceback": [
      "\u001b[1;31m---------------------------------------------------------------------------\u001b[0m",
      "\u001b[1;31mNameError\u001b[0m                                 Traceback (most recent call last)",
      "\u001b[1;32m<ipython-input-6-122a40c46500>\u001b[0m in \u001b[0;36m<module>\u001b[1;34m\u001b[0m\n\u001b[0;32m      2\u001b[0m \u001b[1;31m# sort indicies for ease of comparison\u001b[0m\u001b[1;33m\u001b[0m\u001b[1;33m\u001b[0m\u001b[1;33m\u001b[0m\u001b[0m\n\u001b[0;32m      3\u001b[0m \u001b[0mbtc\u001b[0m\u001b[1;33m.\u001b[0m\u001b[0msort_index\u001b[0m\u001b[1;33m(\u001b[0m\u001b[0minplace\u001b[0m\u001b[1;33m=\u001b[0m\u001b[1;32mTrue\u001b[0m\u001b[1;33m)\u001b[0m\u001b[1;33m\u001b[0m\u001b[1;33m\u001b[0m\u001b[0m\n\u001b[1;32m----> 4\u001b[1;33m \u001b[0mbtc_new\u001b[0m\u001b[1;33m.\u001b[0m\u001b[0msort_index\u001b[0m\u001b[1;33m(\u001b[0m\u001b[0minplace\u001b[0m\u001b[1;33m=\u001b[0m\u001b[1;32mTrue\u001b[0m\u001b[1;33m)\u001b[0m\u001b[1;33m\u001b[0m\u001b[1;33m\u001b[0m\u001b[0m\n\u001b[0m\u001b[0;32m      5\u001b[0m \u001b[0mbtc_new\u001b[0m\u001b[1;33m\u001b[0m\u001b[1;33m\u001b[0m\u001b[0m\n",
      "\u001b[1;31mNameError\u001b[0m: name 'btc_new' is not defined"
     ]
    }
   ],
   "source": [
    "# btc.set_index('Date')\n",
    "# sort indicies for ease of comparison\n",
    "btc.sort_index(inplace=True)\n",
    "btc"
   ]
  },
  {
   "cell_type": "code",
   "execution_count": 8,
   "metadata": {},
   "outputs": [
    {
     "data": {
      "text/plain": [
       "pandas.core.indexes.datetimes.DatetimeIndex"
      ]
     },
     "execution_count": 8,
     "metadata": {},
     "output_type": "execute_result"
    }
   ],
   "source": [
    "type(btc.index)"
   ]
  },
  {
   "cell_type": "code",
   "execution_count": 9,
   "metadata": {},
   "outputs": [
    {
     "data": {
      "text/plain": [
       "Index(['Low', 'High', 'Open', 'Close', 'Volume', 'Market Cap'], dtype='object')"
      ]
     },
     "execution_count": 9,
     "metadata": {},
     "output_type": "execute_result"
    }
   ],
   "source": [
    "btc.columns"
   ]
  },
  {
   "cell_type": "code",
   "execution_count": 10,
   "metadata": {},
   "outputs": [
    {
     "data": {
      "text/plain": [
       "Index(['Open', 'High', 'Low', 'Close', 'Volume', 'Market Cap'], dtype='object')"
      ]
     },
     "execution_count": 10,
     "metadata": {},
     "output_type": "execute_result"
    }
   ],
   "source": [
    "btc.columns"
   ]
  },
  {
   "cell_type": "code",
   "execution_count": 11,
   "metadata": {},
   "outputs": [
    {
     "data": {
      "text/html": [
       "<div>\n",
       "<style scoped>\n",
       "    .dataframe tbody tr th:only-of-type {\n",
       "        vertical-align: middle;\n",
       "    }\n",
       "\n",
       "    .dataframe tbody tr th {\n",
       "        vertical-align: top;\n",
       "    }\n",
       "\n",
       "    .dataframe thead th {\n",
       "        text-align: right;\n",
       "    }\n",
       "</style>\n",
       "<table border=\"1\" class=\"dataframe\">\n",
       "  <thead>\n",
       "    <tr style=\"text-align: right;\">\n",
       "      <th></th>\n",
       "      <th>Low</th>\n",
       "      <th>High</th>\n",
       "      <th>Open</th>\n",
       "      <th>Close</th>\n",
       "      <th>Volume</th>\n",
       "      <th>Market Cap</th>\n",
       "    </tr>\n",
       "    <tr>\n",
       "      <th>Date</th>\n",
       "      <th></th>\n",
       "      <th></th>\n",
       "      <th></th>\n",
       "      <th></th>\n",
       "      <th></th>\n",
       "      <th></th>\n",
       "    </tr>\n",
       "  </thead>\n",
       "  <tbody>\n",
       "    <tr>\n",
       "      <th>2015-07-20</th>\n",
       "      <td>277.37</td>\n",
       "      <td>280.00</td>\n",
       "      <td>277.98</td>\n",
       "      <td>280.00</td>\n",
       "      <td>782.883420</td>\n",
       "      <td>2.192074e+05</td>\n",
       "    </tr>\n",
       "    <tr>\n",
       "      <th>2015-07-21</th>\n",
       "      <td>276.85</td>\n",
       "      <td>281.27</td>\n",
       "      <td>279.96</td>\n",
       "      <td>277.32</td>\n",
       "      <td>4943.559434</td>\n",
       "      <td>1.370948e+06</td>\n",
       "    </tr>\n",
       "    <tr>\n",
       "      <th>2015-07-22</th>\n",
       "      <td>275.01</td>\n",
       "      <td>278.54</td>\n",
       "      <td>277.33</td>\n",
       "      <td>277.89</td>\n",
       "      <td>4687.909383</td>\n",
       "      <td>1.302723e+06</td>\n",
       "    </tr>\n",
       "    <tr>\n",
       "      <th>2015-07-23</th>\n",
       "      <td>276.28</td>\n",
       "      <td>279.75</td>\n",
       "      <td>277.96</td>\n",
       "      <td>277.39</td>\n",
       "      <td>5306.919575</td>\n",
       "      <td>1.472086e+06</td>\n",
       "    </tr>\n",
       "    <tr>\n",
       "      <th>2015-07-24</th>\n",
       "      <td>276.43</td>\n",
       "      <td>291.52</td>\n",
       "      <td>277.23</td>\n",
       "      <td>289.12</td>\n",
       "      <td>7362.469083</td>\n",
       "      <td>2.128637e+06</td>\n",
       "    </tr>\n",
       "    <tr>\n",
       "      <th>...</th>\n",
       "      <td>...</td>\n",
       "      <td>...</td>\n",
       "      <td>...</td>\n",
       "      <td>...</td>\n",
       "      <td>...</td>\n",
       "      <td>...</td>\n",
       "    </tr>\n",
       "    <tr>\n",
       "      <th>2021-07-24</th>\n",
       "      <td>33424.70</td>\n",
       "      <td>34525.00</td>\n",
       "      <td>33647.27</td>\n",
       "      <td>34283.01</td>\n",
       "      <td>9864.752437</td>\n",
       "      <td>3.381934e+08</td>\n",
       "    </tr>\n",
       "    <tr>\n",
       "      <th>2021-07-25</th>\n",
       "      <td>33888.89</td>\n",
       "      <td>35451.04</td>\n",
       "      <td>34291.67</td>\n",
       "      <td>35428.26</td>\n",
       "      <td>9434.630023</td>\n",
       "      <td>3.342525e+08</td>\n",
       "    </tr>\n",
       "    <tr>\n",
       "      <th>2021-07-26</th>\n",
       "      <td>35251.54</td>\n",
       "      <td>40593.93</td>\n",
       "      <td>35428.25</td>\n",
       "      <td>37262.77</td>\n",
       "      <td>40354.545558</td>\n",
       "      <td>1.503722e+09</td>\n",
       "    </tr>\n",
       "    <tr>\n",
       "      <th>2021-07-27</th>\n",
       "      <td>36413.26</td>\n",
       "      <td>39550.00</td>\n",
       "      <td>37262.76</td>\n",
       "      <td>39470.48</td>\n",
       "      <td>24709.104409</td>\n",
       "      <td>9.752802e+08</td>\n",
       "    </tr>\n",
       "    <tr>\n",
       "      <th>2021-07-28</th>\n",
       "      <td>38803.34</td>\n",
       "      <td>40925.56</td>\n",
       "      <td>39475.99</td>\n",
       "      <td>40035.10</td>\n",
       "      <td>27198.333581</td>\n",
       "      <td>1.088888e+09</td>\n",
       "    </tr>\n",
       "  </tbody>\n",
       "</table>\n",
       "<p>2201 rows × 6 columns</p>\n",
       "</div>"
      ],
      "text/plain": [
       "                 Low      High      Open     Close        Volume    Market Cap\n",
       "Date                                                                          \n",
       "2015-07-20    277.37    280.00    277.98    280.00    782.883420  2.192074e+05\n",
       "2015-07-21    276.85    281.27    279.96    277.32   4943.559434  1.370948e+06\n",
       "2015-07-22    275.01    278.54    277.33    277.89   4687.909383  1.302723e+06\n",
       "2015-07-23    276.28    279.75    277.96    277.39   5306.919575  1.472086e+06\n",
       "2015-07-24    276.43    291.52    277.23    289.12   7362.469083  2.128637e+06\n",
       "...              ...       ...       ...       ...           ...           ...\n",
       "2021-07-24  33424.70  34525.00  33647.27  34283.01   9864.752437  3.381934e+08\n",
       "2021-07-25  33888.89  35451.04  34291.67  35428.26   9434.630023  3.342525e+08\n",
       "2021-07-26  35251.54  40593.93  35428.25  37262.77  40354.545558  1.503722e+09\n",
       "2021-07-27  36413.26  39550.00  37262.76  39470.48  24709.104409  9.752802e+08\n",
       "2021-07-28  38803.34  40925.56  39475.99  40035.10  27198.333581  1.088888e+09\n",
       "\n",
       "[2201 rows x 6 columns]"
      ]
     },
     "execution_count": 11,
     "metadata": {},
     "output_type": "execute_result"
    }
   ],
   "source": [
    "btc"
   ]
  },
  {
   "cell_type": "code",
   "execution_count": 12,
   "metadata": {},
   "outputs": [
    {
     "data": {
      "text/html": [
       "<div>\n",
       "<style scoped>\n",
       "    .dataframe tbody tr th:only-of-type {\n",
       "        vertical-align: middle;\n",
       "    }\n",
       "\n",
       "    .dataframe tbody tr th {\n",
       "        vertical-align: top;\n",
       "    }\n",
       "\n",
       "    .dataframe thead th {\n",
       "        text-align: right;\n",
       "    }\n",
       "</style>\n",
       "<table border=\"1\" class=\"dataframe\">\n",
       "  <thead>\n",
       "    <tr style=\"text-align: right;\">\n",
       "      <th></th>\n",
       "      <th>Low</th>\n",
       "      <th>High</th>\n",
       "      <th>Open</th>\n",
       "      <th>Close</th>\n",
       "      <th>Volume</th>\n",
       "      <th>Market Cap</th>\n",
       "    </tr>\n",
       "    <tr>\n",
       "      <th>Date</th>\n",
       "      <th></th>\n",
       "      <th></th>\n",
       "      <th></th>\n",
       "      <th></th>\n",
       "      <th></th>\n",
       "      <th></th>\n",
       "    </tr>\n",
       "  </thead>\n",
       "  <tbody>\n",
       "    <tr>\n",
       "      <th>2015-07-20</th>\n",
       "      <td>277.37</td>\n",
       "      <td>280.00</td>\n",
       "      <td>277.98</td>\n",
       "      <td>280.00</td>\n",
       "      <td>782.883420</td>\n",
       "      <td>2.192074e+05</td>\n",
       "    </tr>\n",
       "    <tr>\n",
       "      <th>2015-07-21</th>\n",
       "      <td>276.85</td>\n",
       "      <td>281.27</td>\n",
       "      <td>279.96</td>\n",
       "      <td>277.32</td>\n",
       "      <td>4943.559434</td>\n",
       "      <td>1.370948e+06</td>\n",
       "    </tr>\n",
       "    <tr>\n",
       "      <th>2015-07-22</th>\n",
       "      <td>275.01</td>\n",
       "      <td>278.54</td>\n",
       "      <td>277.33</td>\n",
       "      <td>277.89</td>\n",
       "      <td>4687.909383</td>\n",
       "      <td>1.302723e+06</td>\n",
       "    </tr>\n",
       "    <tr>\n",
       "      <th>2015-07-23</th>\n",
       "      <td>276.28</td>\n",
       "      <td>279.75</td>\n",
       "      <td>277.96</td>\n",
       "      <td>277.39</td>\n",
       "      <td>5306.919575</td>\n",
       "      <td>1.472086e+06</td>\n",
       "    </tr>\n",
       "    <tr>\n",
       "      <th>2015-07-24</th>\n",
       "      <td>276.43</td>\n",
       "      <td>291.52</td>\n",
       "      <td>277.23</td>\n",
       "      <td>289.12</td>\n",
       "      <td>7362.469083</td>\n",
       "      <td>2.128637e+06</td>\n",
       "    </tr>\n",
       "    <tr>\n",
       "      <th>...</th>\n",
       "      <td>...</td>\n",
       "      <td>...</td>\n",
       "      <td>...</td>\n",
       "      <td>...</td>\n",
       "      <td>...</td>\n",
       "      <td>...</td>\n",
       "    </tr>\n",
       "    <tr>\n",
       "      <th>2021-07-24</th>\n",
       "      <td>33424.70</td>\n",
       "      <td>34525.00</td>\n",
       "      <td>33647.27</td>\n",
       "      <td>34283.01</td>\n",
       "      <td>9864.752437</td>\n",
       "      <td>3.381934e+08</td>\n",
       "    </tr>\n",
       "    <tr>\n",
       "      <th>2021-07-25</th>\n",
       "      <td>33888.89</td>\n",
       "      <td>35451.04</td>\n",
       "      <td>34291.67</td>\n",
       "      <td>35428.26</td>\n",
       "      <td>9434.630023</td>\n",
       "      <td>3.342525e+08</td>\n",
       "    </tr>\n",
       "    <tr>\n",
       "      <th>2021-07-26</th>\n",
       "      <td>35251.54</td>\n",
       "      <td>40593.93</td>\n",
       "      <td>35428.25</td>\n",
       "      <td>37262.77</td>\n",
       "      <td>40354.545558</td>\n",
       "      <td>1.503722e+09</td>\n",
       "    </tr>\n",
       "    <tr>\n",
       "      <th>2021-07-27</th>\n",
       "      <td>36413.26</td>\n",
       "      <td>39550.00</td>\n",
       "      <td>37262.76</td>\n",
       "      <td>39470.48</td>\n",
       "      <td>24709.104409</td>\n",
       "      <td>9.752802e+08</td>\n",
       "    </tr>\n",
       "    <tr>\n",
       "      <th>2021-07-28</th>\n",
       "      <td>38803.34</td>\n",
       "      <td>40925.56</td>\n",
       "      <td>39475.99</td>\n",
       "      <td>40035.10</td>\n",
       "      <td>27198.333581</td>\n",
       "      <td>1.088888e+09</td>\n",
       "    </tr>\n",
       "  </tbody>\n",
       "</table>\n",
       "<p>2201 rows × 6 columns</p>\n",
       "</div>"
      ],
      "text/plain": [
       "                 Low      High      Open     Close        Volume    Market Cap\n",
       "Date                                                                          \n",
       "2015-07-20    277.37    280.00    277.98    280.00    782.883420  2.192074e+05\n",
       "2015-07-21    276.85    281.27    279.96    277.32   4943.559434  1.370948e+06\n",
       "2015-07-22    275.01    278.54    277.33    277.89   4687.909383  1.302723e+06\n",
       "2015-07-23    276.28    279.75    277.96    277.39   5306.919575  1.472086e+06\n",
       "2015-07-24    276.43    291.52    277.23    289.12   7362.469083  2.128637e+06\n",
       "...              ...       ...       ...       ...           ...           ...\n",
       "2021-07-24  33424.70  34525.00  33647.27  34283.01   9864.752437  3.381934e+08\n",
       "2021-07-25  33888.89  35451.04  34291.67  35428.26   9434.630023  3.342525e+08\n",
       "2021-07-26  35251.54  40593.93  35428.25  37262.77  40354.545558  1.503722e+09\n",
       "2021-07-27  36413.26  39550.00  37262.76  39470.48  24709.104409  9.752802e+08\n",
       "2021-07-28  38803.34  40925.56  39475.99  40035.10  27198.333581  1.088888e+09\n",
       "\n",
       "[2201 rows x 6 columns]"
      ]
     },
     "execution_count": 12,
     "metadata": {},
     "output_type": "execute_result"
    }
   ],
   "source": [
    "btc"
   ]
  },
  {
   "cell_type": "code",
   "execution_count": 13,
   "metadata": {},
   "outputs": [
    {
     "data": {
      "text/html": [
       "<div>\n",
       "<style scoped>\n",
       "    .dataframe tbody tr th:only-of-type {\n",
       "        vertical-align: middle;\n",
       "    }\n",
       "\n",
       "    .dataframe tbody tr th {\n",
       "        vertical-align: top;\n",
       "    }\n",
       "\n",
       "    .dataframe thead th {\n",
       "        text-align: right;\n",
       "    }\n",
       "</style>\n",
       "<table border=\"1\" class=\"dataframe\">\n",
       "  <thead>\n",
       "    <tr style=\"text-align: right;\">\n",
       "      <th></th>\n",
       "      <th>Open</th>\n",
       "      <th>High</th>\n",
       "      <th>Low</th>\n",
       "      <th>Close</th>\n",
       "      <th>Volume</th>\n",
       "      <th>Market Cap</th>\n",
       "    </tr>\n",
       "    <tr>\n",
       "      <th>Date</th>\n",
       "      <th></th>\n",
       "      <th></th>\n",
       "      <th></th>\n",
       "      <th></th>\n",
       "      <th></th>\n",
       "      <th></th>\n",
       "    </tr>\n",
       "  </thead>\n",
       "  <tbody>\n",
       "    <tr>\n",
       "      <th>2013-04-30</th>\n",
       "      <td>137.913333</td>\n",
       "      <td>143.466667</td>\n",
       "      <td>133.383333</td>\n",
       "      <td>139.250000</td>\n",
       "      <td>NaN</td>\n",
       "      <td>1.529820e+09</td>\n",
       "    </tr>\n",
       "    <tr>\n",
       "      <th>2013-05-31</th>\n",
       "      <td>120.292258</td>\n",
       "      <td>123.948710</td>\n",
       "      <td>114.253226</td>\n",
       "      <td>119.992581</td>\n",
       "      <td>NaN</td>\n",
       "      <td>1.342523e+09</td>\n",
       "    </tr>\n",
       "    <tr>\n",
       "      <th>2013-06-30</th>\n",
       "      <td>108.856667</td>\n",
       "      <td>111.300667</td>\n",
       "      <td>104.602000</td>\n",
       "      <td>107.761333</td>\n",
       "      <td>NaN</td>\n",
       "      <td>1.228664e+09</td>\n",
       "    </tr>\n",
       "    <tr>\n",
       "      <th>2013-07-31</th>\n",
       "      <td>90.311290</td>\n",
       "      <td>93.869032</td>\n",
       "      <td>86.719677</td>\n",
       "      <td>90.512258</td>\n",
       "      <td>NaN</td>\n",
       "      <td>1.031498e+09</td>\n",
       "    </tr>\n",
       "    <tr>\n",
       "      <th>2013-08-31</th>\n",
       "      <td>113.041935</td>\n",
       "      <td>116.002258</td>\n",
       "      <td>111.387742</td>\n",
       "      <td>113.905161</td>\n",
       "      <td>NaN</td>\n",
       "      <td>1.306910e+09</td>\n",
       "    </tr>\n",
       "    <tr>\n",
       "      <th>...</th>\n",
       "      <td>...</td>\n",
       "      <td>...</td>\n",
       "      <td>...</td>\n",
       "      <td>...</td>\n",
       "      <td>...</td>\n",
       "      <td>...</td>\n",
       "    </tr>\n",
       "    <tr>\n",
       "      <th>2018-05-31</th>\n",
       "      <td>8505.240645</td>\n",
       "      <td>8638.820000</td>\n",
       "      <td>8283.560645</td>\n",
       "      <td>8450.997742</td>\n",
       "      <td>6.374571e+09</td>\n",
       "      <td>1.448831e+11</td>\n",
       "    </tr>\n",
       "    <tr>\n",
       "      <th>2018-06-30</th>\n",
       "      <td>6829.258000</td>\n",
       "      <td>6930.069000</td>\n",
       "      <td>6670.762667</td>\n",
       "      <td>6793.507667</td>\n",
       "      <td>4.340473e+09</td>\n",
       "      <td>1.167378e+11</td>\n",
       "    </tr>\n",
       "    <tr>\n",
       "      <th>2018-07-31</th>\n",
       "      <td>7101.466452</td>\n",
       "      <td>7258.952581</td>\n",
       "      <td>6982.127419</td>\n",
       "      <td>7146.350000</td>\n",
       "      <td>4.562643e+09</td>\n",
       "      <td>1.218138e+11</td>\n",
       "    </tr>\n",
       "    <tr>\n",
       "      <th>2018-08-31</th>\n",
       "      <td>6723.800968</td>\n",
       "      <td>6849.496129</td>\n",
       "      <td>6580.563548</td>\n",
       "      <td>6700.130000</td>\n",
       "      <td>4.267509e+09</td>\n",
       "      <td>1.157262e+11</td>\n",
       "    </tr>\n",
       "    <tr>\n",
       "      <th>2018-09-30</th>\n",
       "      <td>6620.669630</td>\n",
       "      <td>6711.180000</td>\n",
       "      <td>6516.843704</td>\n",
       "      <td>6609.207407</td>\n",
       "      <td>4.309814e+09</td>\n",
       "      <td>1.143120e+11</td>\n",
       "    </tr>\n",
       "  </tbody>\n",
       "</table>\n",
       "<p>66 rows × 6 columns</p>\n",
       "</div>"
      ],
      "text/plain": [
       "                   Open         High          Low        Close        Volume  \\\n",
       "Date                                                                           \n",
       "2013-04-30   137.913333   143.466667   133.383333   139.250000           NaN   \n",
       "2013-05-31   120.292258   123.948710   114.253226   119.992581           NaN   \n",
       "2013-06-30   108.856667   111.300667   104.602000   107.761333           NaN   \n",
       "2013-07-31    90.311290    93.869032    86.719677    90.512258           NaN   \n",
       "2013-08-31   113.041935   116.002258   111.387742   113.905161           NaN   \n",
       "...                 ...          ...          ...          ...           ...   \n",
       "2018-05-31  8505.240645  8638.820000  8283.560645  8450.997742  6.374571e+09   \n",
       "2018-06-30  6829.258000  6930.069000  6670.762667  6793.507667  4.340473e+09   \n",
       "2018-07-31  7101.466452  7258.952581  6982.127419  7146.350000  4.562643e+09   \n",
       "2018-08-31  6723.800968  6849.496129  6580.563548  6700.130000  4.267509e+09   \n",
       "2018-09-30  6620.669630  6711.180000  6516.843704  6609.207407  4.309814e+09   \n",
       "\n",
       "              Market Cap  \n",
       "Date                      \n",
       "2013-04-30  1.529820e+09  \n",
       "2013-05-31  1.342523e+09  \n",
       "2013-06-30  1.228664e+09  \n",
       "2013-07-31  1.031498e+09  \n",
       "2013-08-31  1.306910e+09  \n",
       "...                  ...  \n",
       "2018-05-31  1.448831e+11  \n",
       "2018-06-30  1.167378e+11  \n",
       "2018-07-31  1.218138e+11  \n",
       "2018-08-31  1.157262e+11  \n",
       "2018-09-30  1.143120e+11  \n",
       "\n",
       "[66 rows x 6 columns]"
      ]
     },
     "execution_count": 13,
     "metadata": {},
     "output_type": "execute_result"
    }
   ],
   "source": [
    "btcM = btc.resample('M').mean()\n",
    "btcM"
   ]
  },
  {
   "cell_type": "code",
   "execution_count": 14,
   "metadata": {},
   "outputs": [
    {
     "data": {
      "text/html": [
       "<div>\n",
       "<style scoped>\n",
       "    .dataframe tbody tr th:only-of-type {\n",
       "        vertical-align: middle;\n",
       "    }\n",
       "\n",
       "    .dataframe tbody tr th {\n",
       "        vertical-align: top;\n",
       "    }\n",
       "\n",
       "    .dataframe thead th {\n",
       "        text-align: right;\n",
       "    }\n",
       "</style>\n",
       "<table border=\"1\" class=\"dataframe\">\n",
       "  <thead>\n",
       "    <tr style=\"text-align: right;\">\n",
       "      <th></th>\n",
       "      <th>Open</th>\n",
       "      <th>High</th>\n",
       "      <th>Low</th>\n",
       "      <th>Close</th>\n",
       "      <th>Volume</th>\n",
       "      <th>Market Cap</th>\n",
       "    </tr>\n",
       "    <tr>\n",
       "      <th>Date</th>\n",
       "      <th></th>\n",
       "      <th></th>\n",
       "      <th></th>\n",
       "      <th></th>\n",
       "      <th></th>\n",
       "      <th></th>\n",
       "    </tr>\n",
       "  </thead>\n",
       "  <tbody>\n",
       "    <tr>\n",
       "      <th>2013-04-30</th>\n",
       "      <td>137.913333</td>\n",
       "      <td>143.466667</td>\n",
       "      <td>133.383333</td>\n",
       "      <td>139.250000</td>\n",
       "      <td>NaN</td>\n",
       "      <td>1.529820e+09</td>\n",
       "    </tr>\n",
       "    <tr>\n",
       "      <th>2013-05-01</th>\n",
       "      <td>NaN</td>\n",
       "      <td>NaN</td>\n",
       "      <td>NaN</td>\n",
       "      <td>NaN</td>\n",
       "      <td>NaN</td>\n",
       "      <td>NaN</td>\n",
       "    </tr>\n",
       "    <tr>\n",
       "      <th>2013-05-02</th>\n",
       "      <td>NaN</td>\n",
       "      <td>NaN</td>\n",
       "      <td>NaN</td>\n",
       "      <td>NaN</td>\n",
       "      <td>NaN</td>\n",
       "      <td>NaN</td>\n",
       "    </tr>\n",
       "    <tr>\n",
       "      <th>2013-05-03</th>\n",
       "      <td>NaN</td>\n",
       "      <td>NaN</td>\n",
       "      <td>NaN</td>\n",
       "      <td>NaN</td>\n",
       "      <td>NaN</td>\n",
       "      <td>NaN</td>\n",
       "    </tr>\n",
       "    <tr>\n",
       "      <th>2013-05-04</th>\n",
       "      <td>NaN</td>\n",
       "      <td>NaN</td>\n",
       "      <td>NaN</td>\n",
       "      <td>NaN</td>\n",
       "      <td>NaN</td>\n",
       "      <td>NaN</td>\n",
       "    </tr>\n",
       "    <tr>\n",
       "      <th>...</th>\n",
       "      <td>...</td>\n",
       "      <td>...</td>\n",
       "      <td>...</td>\n",
       "      <td>...</td>\n",
       "      <td>...</td>\n",
       "      <td>...</td>\n",
       "    </tr>\n",
       "    <tr>\n",
       "      <th>2018-09-26</th>\n",
       "      <td>NaN</td>\n",
       "      <td>NaN</td>\n",
       "      <td>NaN</td>\n",
       "      <td>NaN</td>\n",
       "      <td>NaN</td>\n",
       "      <td>NaN</td>\n",
       "    </tr>\n",
       "    <tr>\n",
       "      <th>2018-09-27</th>\n",
       "      <td>NaN</td>\n",
       "      <td>NaN</td>\n",
       "      <td>NaN</td>\n",
       "      <td>NaN</td>\n",
       "      <td>NaN</td>\n",
       "      <td>NaN</td>\n",
       "    </tr>\n",
       "    <tr>\n",
       "      <th>2018-09-28</th>\n",
       "      <td>NaN</td>\n",
       "      <td>NaN</td>\n",
       "      <td>NaN</td>\n",
       "      <td>NaN</td>\n",
       "      <td>NaN</td>\n",
       "      <td>NaN</td>\n",
       "    </tr>\n",
       "    <tr>\n",
       "      <th>2018-09-29</th>\n",
       "      <td>NaN</td>\n",
       "      <td>NaN</td>\n",
       "      <td>NaN</td>\n",
       "      <td>NaN</td>\n",
       "      <td>NaN</td>\n",
       "      <td>NaN</td>\n",
       "    </tr>\n",
       "    <tr>\n",
       "      <th>2018-09-30</th>\n",
       "      <td>6620.669630</td>\n",
       "      <td>6711.180000</td>\n",
       "      <td>6516.843704</td>\n",
       "      <td>6609.207407</td>\n",
       "      <td>4.309814e+09</td>\n",
       "      <td>1.143120e+11</td>\n",
       "    </tr>\n",
       "  </tbody>\n",
       "</table>\n",
       "<p>1980 rows × 6 columns</p>\n",
       "</div>"
      ],
      "text/plain": [
       "                   Open         High          Low        Close        Volume  \\\n",
       "Date                                                                           \n",
       "2013-04-30   137.913333   143.466667   133.383333   139.250000           NaN   \n",
       "2013-05-01          NaN          NaN          NaN          NaN           NaN   \n",
       "2013-05-02          NaN          NaN          NaN          NaN           NaN   \n",
       "2013-05-03          NaN          NaN          NaN          NaN           NaN   \n",
       "2013-05-04          NaN          NaN          NaN          NaN           NaN   \n",
       "...                 ...          ...          ...          ...           ...   \n",
       "2018-09-26          NaN          NaN          NaN          NaN           NaN   \n",
       "2018-09-27          NaN          NaN          NaN          NaN           NaN   \n",
       "2018-09-28          NaN          NaN          NaN          NaN           NaN   \n",
       "2018-09-29          NaN          NaN          NaN          NaN           NaN   \n",
       "2018-09-30  6620.669630  6711.180000  6516.843704  6609.207407  4.309814e+09   \n",
       "\n",
       "              Market Cap  \n",
       "Date                      \n",
       "2013-04-30  1.529820e+09  \n",
       "2013-05-01           NaN  \n",
       "2013-05-02           NaN  \n",
       "2013-05-03           NaN  \n",
       "2013-05-04           NaN  \n",
       "...                  ...  \n",
       "2018-09-26           NaN  \n",
       "2018-09-27           NaN  \n",
       "2018-09-28           NaN  \n",
       "2018-09-29           NaN  \n",
       "2018-09-30  1.143120e+11  \n",
       "\n",
       "[1980 rows x 6 columns]"
      ]
     },
     "execution_count": 14,
     "metadata": {},
     "output_type": "execute_result"
    }
   ],
   "source": [
    "btcD = btcM.resample('D').mean()\n",
    "btcD"
   ]
  },
  {
   "cell_type": "code",
   "execution_count": 15,
   "metadata": {},
   "outputs": [
    {
     "data": {
      "text/plain": [
       "Text(0.5, 1.0, 'Bitcoin Price over Time')"
      ]
     },
     "execution_count": 15,
     "metadata": {},
     "output_type": "execute_result"
    },
    {
     "data": {
      "image/png": "[encoded data removed]",
      "text/plain": [
       "<Figure size 864x864 with 1 Axes>"
      ]
     },
     "metadata": {},
     "output_type": "display_data"
    }
   ],
   "source": [
    "plt.style.use('ggplot')\n",
    "figsize = (12,12)\n",
    "fig, ax = plt.subplots(figsize=figsize)\n",
    "ax.plot(btc.index, btc.High, c='r', lw=1.5)\n",
    "ax.plot(btc.index, btc.High, c='r', lw=1.5)\n",
    "ax.set_xlabel(\"Year\", fontsize=15, color='black')\n",
    "ax.set_ylabel('Value in $', fontsize=15, color='black')\n",
    "ax.set_title('Bitcoin Price over Time', fontsize=20, color='black')\n",
    "# plt.savefig('bitcoin_historical_transparent.png', transparent=True, dpi=400)\n",
    "# plt.savefig('bitcoin_historical.png', transparent=False, dpi=400)"
   ]
  },
  {
   "cell_type": "code",
   "execution_count": 16,
   "metadata": {},
   "outputs": [
    {
     "data": {
      "text/plain": [
       "Text(0.5, 1.0, 'Bitcoin Daily Closing Price')"
      ]
     },
     "execution_count": 16,
     "metadata": {},
     "output_type": "execute_result"
    },
    {
     "data": {
      "image/png": "[encoded data removed]",
      "text/plain": [
       "<Figure size 1008x1008 with 4 Axes>"
      ]
     },
     "metadata": {},
     "output_type": "display_data"
    }
   ],
   "source": [
    "m = 2\n",
    "n = 2\n",
    "figsize = (14,14)\n",
    "fig, ax = plt.subplots(nrows=m, ncols=n, figsize=figsize)\n",
    "\n",
    "ax[0,0].plot(btc.index, btc.High)\n",
    "ax[0,1].plot(btc.index, btc.Low)\n",
    "ax[1,0].plot(btc.index, btc.Open)\n",
    "ax[1,1].plot(btc.index, btc.Close)\n",
    "\n",
    "ax[0,0].set_title('Bitcoin Daily Highs')\n",
    "ax[0,1].set_title('Bitcoin Daily Lows')\n",
    "ax[1,0].set_title('Bitcoin Daily Opening Price')\n",
    "ax[1,1].set_title('Bitcoin Daily Closing Price')"
   ]
  },
  {
   "cell_type": "code",
   "execution_count": 17,
   "metadata": {},
   "outputs": [
    {
     "data": {
      "text/plain": [
       "Text(0.5, 1.0, 'Bitcoin Daily Closing')"
      ]
     },
     "execution_count": 17,
     "metadata": {},
     "output_type": "execute_result"
    },
    {
     "data": {
      "image/png": "[encoded data removed]",
      "text/plain": [
       "<Figure size 1008x1008 with 4 Axes>"
      ]
     },
     "metadata": {},
     "output_type": "display_data"
    }
   ],
   "source": [
    "m = 2\n",
    "n = 2\n",
    "figsize = (14,14)\n",
    "fig, ax = plt.subplots(nrows=m, ncols=n, figsize=figsize)\n",
    "\n",
    "ax[0,0].plot(btc.index, btc.High)\n",
    "ax[0,1].plot(btc.index, btc.Low)\n",
    "ax[1,0].plot(btc.index, btc.Open)\n",
    "ax[1,1].plot(btc.index, btc.Close)\n",
    "\n",
    "ax[0,0].set_title('Bitcoin Daily Highs')\n",
    "ax[0,1].set_title('Bitcoin Daily Lows')\n",
    "ax[1,0].set_title('Bitcoin Daily Opening')\n",
    "ax[1,1].set_title('Bitcoin Daily Closing')"
   ]
  },
  {
   "cell_type": "markdown",
   "metadata": {},
   "source": [
    "# First Simple Model - Random Walk"
   ]
  },
  {
   "cell_type": "code",
   "execution_count": 18,
   "metadata": {},
   "outputs": [
    {
     "data": {
      "text/plain": [
       "1583"
      ]
     },
     "execution_count": 18,
     "metadata": {},
     "output_type": "execute_result"
    }
   ],
   "source": [
    "end_of_train_index = int(btc.shape[0]*0.8)\n",
    "end_of_train_index"
   ]
  },
  {
   "cell_type": "code",
   "execution_count": 19,
   "metadata": {},
   "outputs": [],
   "source": [
    "train = btc.Close[:end_of_train_index]\n",
    "test = btc.Close[end_of_train_index:]"
   ]
  },
  {
   "cell_type": "code",
   "execution_count": 20,
   "metadata": {},
   "outputs": [
    {
     "data": {
      "image/png": "[encoded data removed]",
      "text/plain": [
       "<Figure size 432x288 with 1 Axes>"
      ]
     },
     "metadata": {},
     "output_type": "display_data"
    }
   ],
   "source": [
    "random_walk = train.shift(1)\n",
    "\n",
    "fig, ax = plt.subplots()\n",
    "\n",
    "train[0:30].plot(ax=ax, c='r', label='original')\n",
    "random_walk[0:30].plot(ax=ax, c='b', label='shifted')\n",
    "ax.set_title('Random Walk')\n",
    "ax.legend();"
   ]
  },
  {
   "cell_type": "code",
   "execution_count": 21,
   "metadata": {},
   "outputs": [],
   "source": [
    "random_walk.dropna(inplace=True)"
   ]
  },
  {
   "cell_type": "code",
   "execution_count": 22,
   "metadata": {},
   "outputs": [],
   "source": [
    "import sklearn.metrics as metric"
   ]
  },
  {
   "cell_type": "code",
   "execution_count": 23,
   "metadata": {},
   "outputs": [
    {
     "data": {
      "text/plain": [
       "1583"
      ]
     },
     "execution_count": 23,
     "metadata": {},
     "output_type": "execute_result"
    }
   ],
   "source": [
    "train.shape[0]"
   ]
  },
  {
   "cell_type": "code",
   "execution_count": 24,
   "metadata": {},
   "outputs": [
    {
     "data": {
      "text/plain": [
       "Date\n",
       "2013-04-29    134.21\n",
       "2013-04-30    144.54\n",
       "2013-05-01    139.00\n",
       "Name: Close, dtype: float64"
      ]
     },
     "execution_count": 24,
     "metadata": {},
     "output_type": "execute_result"
    }
   ],
   "source": [
    "random_walk[:3]"
   ]
  },
  {
   "cell_type": "code",
   "execution_count": 25,
   "metadata": {},
   "outputs": [
    {
     "data": {
      "text/plain": [
       "Date\n",
       "2013-04-28    134.21\n",
       "2013-04-29    144.54\n",
       "2013-04-30    139.00\n",
       "Name: Close, dtype: float64"
      ]
     },
     "execution_count": 25,
     "metadata": {},
     "output_type": "execute_result"
    }
   ],
   "source": [
    "train[:3]"
   ]
  },
  {
   "cell_type": "code",
   "execution_count": 26,
   "metadata": {},
   "outputs": [
    {
     "data": {
      "text/plain": [
       "DatetimeIndex(['2013-04-28', '2013-04-29', '2013-04-30', '2013-05-01',\n",
       "               '2013-05-02', '2013-05-03', '2013-05-04', '2013-05-05',\n",
       "               '2013-05-06', '2013-05-07',\n",
       "               ...\n",
       "               '2017-08-18', '2017-08-19', '2017-08-20', '2017-08-21',\n",
       "               '2017-08-22', '2017-08-23', '2017-08-24', '2017-08-25',\n",
       "               '2017-08-26', '2017-08-27'],\n",
       "              dtype='datetime64[ns]', name='Date', length=1583, freq=None)"
      ]
     },
     "execution_count": 26,
     "metadata": {},
     "output_type": "execute_result"
    }
   ],
   "source": [
    "train.index"
   ]
  },
  {
   "cell_type": "code",
   "execution_count": 27,
   "metadata": {},
   "outputs": [
    {
     "data": {
      "text/plain": [
       "DatetimeIndex(['2013-04-29', '2013-04-30', '2013-05-01', '2013-05-02',\n",
       "               '2013-05-03', '2013-05-04', '2013-05-05', '2013-05-06',\n",
       "               '2013-05-07', '2013-05-08',\n",
       "               ...\n",
       "               '2017-08-18', '2017-08-19', '2017-08-20', '2017-08-21',\n",
       "               '2017-08-22', '2017-08-23', '2017-08-24', '2017-08-25',\n",
       "               '2017-08-26', '2017-08-27'],\n",
       "              dtype='datetime64[ns]', name='Date', length=1582, freq=None)"
      ]
     },
     "execution_count": 27,
     "metadata": {},
     "output_type": "execute_result"
    }
   ],
   "source": [
    "random_walk.index"
   ]
  },
  {
   "cell_type": "code",
   "execution_count": 28,
   "metadata": {},
   "outputs": [
    {
     "data": {
      "text/plain": [
       "1736.6420481036666"
      ]
     },
     "execution_count": 28,
     "metadata": {},
     "output_type": "execute_result"
    }
   ],
   "source": [
    "metric.mean_squared_error(train[1:], random_walk)"
   ]
  },
  {
   "cell_type": "code",
   "execution_count": 29,
   "metadata": {},
   "outputs": [
    {
     "data": {
      "text/plain": [
       "0.0026870567160339398"
      ]
     },
     "execution_count": 29,
     "metadata": {},
     "output_type": "execute_result"
    }
   ],
   "source": [
    "metric.mean_squared_log_error(train['2013-04-30':'2013-05-30'], random_walk['2013-04-30':'2013-05-30'])"
   ]
  },
  {
   "cell_type": "code",
   "execution_count": null,
   "metadata": {},
   "outputs": [],
   "source": []
  },
  {
   "cell_type": "code",
   "execution_count": null,
   "metadata": {},
   "outputs": [],
   "source": []
  },
  {
   "cell_type": "code",
   "execution_count": null,
   "metadata": {},
   "outputs": [],
   "source": []
  },
  {
   "cell_type": "markdown",
   "metadata": {},
   "source": [
    "## ARIMA MODEL"
   ]
  },
  {
   "cell_type": "code",
   "execution_count": 30,
   "metadata": {},
   "outputs": [],
   "source": [
    "from statsmodels.tsa.arima_model import ARIMA\n",
    "from sklearn.model_selection import TimeSeriesSplit"
   ]
  },
  {
   "cell_type": "code",
   "execution_count": 31,
   "metadata": {},
   "outputs": [
    {
     "data": {
      "text/plain": [
       "<generator object TimeSeriesSplit.split at 0x000001BD3BE29970>"
      ]
     },
     "execution_count": 31,
     "metadata": {},
     "output_type": "execute_result"
    }
   ],
   "source": [
    "# create timeseriessplit object\n",
    "data = btc.Close\n",
    "tss = TimeSeriesSplit(n_splits = 5)\n",
    "tss.split(data)"
   ]
  },
  {
   "cell_type": "code",
   "execution_count": 32,
   "metadata": {},
   "outputs": [
    {
     "data": {
      "text/plain": [
       "Date\n",
       "2013-04-28     134.21\n",
       "2013-04-29     144.54\n",
       "2013-04-30     139.00\n",
       "2013-05-01     116.99\n",
       "2013-05-02     105.21\n",
       "               ...   \n",
       "2018-09-23    6710.63\n",
       "2018-09-24    6595.41\n",
       "2018-09-25    6446.47\n",
       "2018-09-26    6495.00\n",
       "2018-09-27    6676.75\n",
       "Name: Close, Length: 1979, dtype: float64"
      ]
     },
     "execution_count": 32,
     "metadata": {},
     "output_type": "execute_result"
    }
   ],
   "source": [
    "data"
   ]
  },
  {
   "cell_type": "code",
   "execution_count": 33,
   "metadata": {},
   "outputs": [],
   "source": [
    "# define function to print min and max of array/list\n",
    "def print_info(input_):\n",
    "    min_value = min(input_) \n",
    "    max_value = max(input_)\n",
    "    \n",
    "    return f'min: {min_value} max: {max_value}\\n'"
   ]
  },
  {
   "cell_type": "code",
   "execution_count": 34,
   "metadata": {},
   "outputs": [
    {
     "name": "stdout",
     "output_type": "stream",
     "text": [
      "Train: min: 0 max: 333\n",
      "\n",
      "Test: min: 334 max: 662\n",
      "\n",
      "Train: min: 0 max: 662\n",
      "\n",
      "Test: min: 663 max: 991\n",
      "\n",
      "Train: min: 0 max: 991\n",
      "\n",
      "Test: min: 992 max: 1320\n",
      "\n",
      "Train: min: 0 max: 1320\n",
      "\n",
      "Test: min: 1321 max: 1649\n",
      "\n",
      "Train: min: 0 max: 1649\n",
      "\n",
      "Test: min: 1650 max: 1978\n",
      "\n"
     ]
    }
   ],
   "source": [
    "# iterate thgouh timeseriessplit object and print info\n",
    "for train_index, test_index in tss.split(data):\n",
    "    print('Train:', print_info(train_index))\n",
    "    print('Test:', print_info(test_index))"
   ]
  },
  {
   "cell_type": "code",
   "execution_count": 35,
   "metadata": {},
   "outputs": [
    {
     "name": "stdout",
     "output_type": "stream",
     "text": [
      "Done\n"
     ]
    }
   ],
   "source": [
    "try:\n",
    "    i=1\n",
    "    while True:\n",
    "        print(globals()[f'i{i}'])\n",
    "        i+=1\n",
    "except:\n",
    "    print('Done')"
   ]
  },
  {
   "cell_type": "code",
   "execution_count": 36,
   "metadata": {},
   "outputs": [
    {
     "data": {
      "text/plain": [
       "1651"
      ]
     },
     "execution_count": 36,
     "metadata": {},
     "output_type": "execute_result"
    }
   ],
   "source": [
    "test_index[1]"
   ]
  },
  {
   "cell_type": "code",
   "execution_count": null,
   "metadata": {},
   "outputs": [],
   "source": []
  },
  {
   "cell_type": "code",
   "execution_count": 37,
   "metadata": {},
   "outputs": [
    {
     "data": {
      "text/plain": [
       "134.21"
      ]
     },
     "execution_count": 37,
     "metadata": {},
     "output_type": "execute_result"
    }
   ],
   "source": [
    "x = btc['Close'].iloc[train_index[0]]\n",
    "x\n",
    "# x.append(btc['Close'].iloc[train_index[1]])\n",
    "# x"
   ]
  },
  {
   "cell_type": "code",
   "execution_count": 38,
   "metadata": {},
   "outputs": [
    {
     "data": {
      "text/plain": [
       "2013-04-29     136.895632\n",
       "2013-04-30     147.225632\n",
       "2013-05-01     141.685632\n",
       "2013-05-02     119.675632\n",
       "2013-05-03     107.895632\n",
       "                 ...     \n",
       "2017-08-23    4103.205632\n",
       "2017-08-24    4154.205632\n",
       "2017-08-25    4337.365632\n",
       "2017-08-26    4374.285632\n",
       "2017-08-27    4355.085632\n",
       "Freq: D, Length: 1582, dtype: float64"
      ]
     },
     "execution_count": 38,
     "metadata": {},
     "output_type": "execute_result"
    }
   ],
   "source": [
    "# CREATE arima_model object, pass training set and order\n",
    "\n",
    "# (0,1,0) as the order means 1st order differenced model, essentially a random walk\n",
    "\n",
    "rw = ARIMA(train, (0,1,0), freq='D').fit()\n",
    "\n",
    "y_hat = rw.predict(typ='levels')\n",
    "y_hat"
   ]
  },
  {
   "cell_type": "code",
   "execution_count": 39,
   "metadata": {},
   "outputs": [
    {
     "data": {
      "text/plain": [
       "1729.429428266681"
      ]
     },
     "execution_count": 39,
     "metadata": {},
     "output_type": "execute_result"
    }
   ],
   "source": [
    "# find squared error and compare to random walk model generated manually\n",
    "metric.mean_squared_error(train[1:], y_hat)"
   ]
  },
  {
   "cell_type": "code",
   "execution_count": 40,
   "metadata": {},
   "outputs": [],
   "source": [
    "# per answer above, essentially random walk model"
   ]
  },
  {
   "cell_type": "code",
   "execution_count": 41,
   "metadata": {},
   "outputs": [
    {
     "data": {
      "text/plain": [
       "2013-04-29     136.896156\n",
       "2013-04-30     147.409508\n",
       "2013-05-01     141.488836\n",
       "2013-05-02     119.083772\n",
       "2013-05-03     107.549158\n",
       "                 ...     \n",
       "2017-08-23    4105.511149\n",
       "2017-08-24    4155.365055\n",
       "2017-08-25    4341.695164\n",
       "2017-08-26    4375.107320\n",
       "2017-08-27    4354.561175\n",
       "Freq: D, Length: 1582, dtype: float64"
      ]
     },
     "execution_count": 41,
     "metadata": {},
     "output_type": "execute_result"
    }
   ],
   "source": [
    "# CREATE arima_model object, pass training set and order\n",
    "\n",
    "# (1,1,0) as the order means 1st order differenced model, with additional lag\n",
    "\n",
    "ar_1 = ARIMA(train, (1,1,0), freq='D').fit()\n",
    "\n",
    "y_hat = ar_1.predict(typ='levels')\n",
    "y_hat"
   ]
  },
  {
   "cell_type": "code",
   "execution_count": 42,
   "metadata": {},
   "outputs": [
    {
     "data": {
      "text/plain": [
       "1728.433415133815"
      ]
     },
     "execution_count": 42,
     "metadata": {},
     "output_type": "execute_result"
    }
   ],
   "source": [
    "metric.mean_squared_error(train[1:], y_hat)"
   ]
  },
  {
   "cell_type": "code",
   "execution_count": 43,
   "metadata": {},
   "outputs": [
    {
     "data": {
      "text/plain": [
       "2013-04-30     154.885044\n",
       "2013-05-01     141.386915\n",
       "2013-05-02     111.216079\n",
       "2013-05-03      97.990709\n",
       "2013-05-04      90.514020\n",
       "                 ...     \n",
       "2017-08-23    4121.901447\n",
       "2017-08-24    4173.047590\n",
       "2017-08-25    4358.432240\n",
       "2017-08-26    4394.950258\n",
       "2017-08-27    4375.102446\n",
       "Freq: D, Length: 1581, dtype: float64"
      ]
     },
     "execution_count": 43,
     "metadata": {},
     "output_type": "execute_result"
    }
   ],
   "source": [
    "# CREATE arima_model object, pass training set and order\n",
    "\n",
    "# try higher order models\n",
    "\n",
    "ar_2 = ARIMA(train, (1,2,1), freq='D').fit()\n",
    "\n",
    "y_hat = ar_2.predict(typ='levels')\n",
    "y_hat"
   ]
  },
  {
   "cell_type": "code",
   "execution_count": 44,
   "metadata": {},
   "outputs": [
    {
     "data": {
      "text/plain": [
       "1712.4775402782118"
      ]
     },
     "execution_count": 44,
     "metadata": {},
     "output_type": "execute_result"
    }
   ],
   "source": [
    "metric.mean_squared_error(train[2:], y_hat)"
   ]
  },
  {
   "cell_type": "code",
   "execution_count": 45,
   "metadata": {},
   "outputs": [
    {
     "data": {
      "text/html": [
       "<table class=\"simpletable\">\n",
       "<caption>ARIMA Model Results</caption>\n",
       "<tr>\n",
       "  <th>Dep. Variable:</th>     <td>D2.Close</td>     <th>  No. Observations:  </th>   <td>1581</td>   \n",
       "</tr>\n",
       "<tr>\n",
       "  <th>Model:</th>          <td>ARIMA(1, 2, 1)</td>  <th>  Log Likelihood     </th> <td>-8130.940</td>\n",
       "</tr>\n",
       "<tr>\n",
       "  <th>Method:</th>             <td>css-mle</td>     <th>  S.D. of innovations</th>  <td>41.378</td>  \n",
       "</tr>\n",
       "<tr>\n",
       "  <th>Date:</th>          <td>Thu, 12 Aug 2021</td> <th>  AIC                </th> <td>16269.879</td>\n",
       "</tr>\n",
       "<tr>\n",
       "  <th>Time:</th>              <td>22:40:15</td>     <th>  BIC                </th> <td>16291.343</td>\n",
       "</tr>\n",
       "<tr>\n",
       "  <th>Sample:</th>           <td>04-30-2013</td>    <th>  HQIC               </th> <td>16277.854</td>\n",
       "</tr>\n",
       "<tr>\n",
       "  <th></th>                 <td>- 08-27-2017</td>   <th>                     </th>     <td> </td>    \n",
       "</tr>\n",
       "</table>\n",
       "<table class=\"simpletable\">\n",
       "<tr>\n",
       "         <td></td>           <th>coef</th>     <th>std err</th>      <th>z</th>      <th>P>|z|</th>  <th>[0.025</th>    <th>0.975]</th>  \n",
       "</tr>\n",
       "<tr>\n",
       "  <th>const</th>          <td>    0.0150</td> <td>    0.012</td> <td>    1.242</td> <td> 0.214</td> <td>   -0.009</td> <td>    0.039</td>\n",
       "</tr>\n",
       "<tr>\n",
       "  <th>ar.L1.D2.Close</th> <td>    0.0038</td> <td>    0.025</td> <td>    0.149</td> <td> 0.881</td> <td>   -0.046</td> <td>    0.054</td>\n",
       "</tr>\n",
       "<tr>\n",
       "  <th>ma.L1.D2.Close</th> <td>   -0.9894</td> <td>    0.004</td> <td> -230.480</td> <td> 0.000</td> <td>   -0.998</td> <td>   -0.981</td>\n",
       "</tr>\n",
       "</table>\n",
       "<table class=\"simpletable\">\n",
       "<caption>Roots</caption>\n",
       "<tr>\n",
       "    <td></td>   <th>            Real</th>  <th>         Imaginary</th> <th>         Modulus</th>  <th>        Frequency</th>\n",
       "</tr>\n",
       "<tr>\n",
       "  <th>AR.1</th> <td>         262.9998</td> <td>          +0.0000j</td> <td>         262.9998</td> <td>           0.0000</td>\n",
       "</tr>\n",
       "<tr>\n",
       "  <th>MA.1</th> <td>           1.0107</td> <td>          +0.0000j</td> <td>           1.0107</td> <td>           0.0000</td>\n",
       "</tr>\n",
       "</table>"
      ],
      "text/plain": [
       "<class 'statsmodels.iolib.summary.Summary'>\n",
       "\"\"\"\n",
       "                             ARIMA Model Results                              \n",
       "==============================================================================\n",
       "Dep. Variable:               D2.Close   No. Observations:                 1581\n",
       "Model:                 ARIMA(1, 2, 1)   Log Likelihood               -8130.940\n",
       "Method:                       css-mle   S.D. of innovations             41.378\n",
       "Date:                Thu, 12 Aug 2021   AIC                          16269.879\n",
       "Time:                        22:40:15   BIC                          16291.343\n",
       "Sample:                    04-30-2013   HQIC                         16277.854\n",
       "                         - 08-27-2017                                         \n",
       "==================================================================================\n",
       "                     coef    std err          z      P>|z|      [0.025      0.975]\n",
       "----------------------------------------------------------------------------------\n",
       "const              0.0150      0.012      1.242      0.214      -0.009       0.039\n",
       "ar.L1.D2.Close     0.0038      0.025      0.149      0.881      -0.046       0.054\n",
       "ma.L1.D2.Close    -0.9894      0.004   -230.480      0.000      -0.998      -0.981\n",
       "                                    Roots                                    \n",
       "=============================================================================\n",
       "                  Real          Imaginary           Modulus         Frequency\n",
       "-----------------------------------------------------------------------------\n",
       "AR.1          262.9998           +0.0000j          262.9998            0.0000\n",
       "MA.1            1.0107           +0.0000j            1.0107            0.0000\n",
       "-----------------------------------------------------------------------------\n",
       "\"\"\""
      ]
     },
     "execution_count": 45,
     "metadata": {},
     "output_type": "execute_result"
    }
   ],
   "source": [
    "ar_2.summary()"
   ]
  },
  {
   "cell_type": "code",
   "execution_count": 46,
   "metadata": {},
   "outputs": [
    {
     "name": "stderr",
     "output_type": "stream",
     "text": [
      "C:\\Users\\samjd\\anaconda3\\envs\\oy-env\\lib\\site-packages\\statsmodels\\base\\model.py:547: HessianInversionWarning: Inverting hessian failed, no bse or cov_params available\n",
      "  warn('Inverting hessian failed, no bse or cov_params '\n"
     ]
    },
    {
     "data": {
      "text/plain": [
       "2013-04-30     154.890070\n",
       "2013-05-01     143.699310\n",
       "2013-05-02     132.095900\n",
       "2013-05-03      89.875237\n",
       "2013-05-04      83.916587\n",
       "                 ...     \n",
       "2017-08-23    4061.811764\n",
       "2017-08-24    4199.758310\n",
       "2017-08-25    4398.331510\n",
       "2017-08-26    4337.701088\n",
       "2017-08-27    4426.505509\n",
       "Freq: D, Length: 1581, dtype: float64"
      ]
     },
     "execution_count": 46,
     "metadata": {},
     "output_type": "execute_result"
    }
   ],
   "source": [
    "# additoinal ARIMIA model\n",
    "ar_3 = ARIMA(train, (4,2,3), freq='D').fit()\n",
    "\n",
    "y_hat = ar_3.predict(typ='levels')\n",
    "y_hat"
   ]
  },
  {
   "cell_type": "code",
   "execution_count": 47,
   "metadata": {},
   "outputs": [
    {
     "data": {
      "text/plain": [
       "1635.6810187215967"
      ]
     },
     "execution_count": 47,
     "metadata": {},
     "output_type": "execute_result"
    }
   ],
   "source": [
    "metric.mean_squared_error(train[2:], y_hat)"
   ]
  },
  {
   "cell_type": "code",
   "execution_count": null,
   "metadata": {},
   "outputs": [],
   "source": []
  },
  {
   "cell_type": "code",
   "execution_count": 48,
   "metadata": {},
   "outputs": [
    {
     "data": {
      "text/plain": [
       "1722.6314650319014"
      ]
     },
     "execution_count": 48,
     "metadata": {},
     "output_type": "execute_result"
    }
   ],
   "source": [
    "# additoinal ARIMIA model\n",
    "ar_4 = ARIMA(train, (1,1,4), freq='D').fit()\n",
    "\n",
    "y_hat = ar_4.predict(typ='levels')\n",
    "metric.mean_squared_error(train[1:], y_hat)"
   ]
  },
  {
   "cell_type": "code",
   "execution_count": 49,
   "metadata": {},
   "outputs": [
    {
     "name": "stderr",
     "output_type": "stream",
     "text": [
      "C:\\Users\\samjd\\anaconda3\\envs\\oy-env\\lib\\site-packages\\sklearn\\utils\\validation.py:67: FutureWarning: Pass max_train_size=Date\n",
      "2013-04-28     134.21\n",
      "2013-04-29     144.54\n",
      "2013-04-30     139.00\n",
      "2013-05-01     116.99\n",
      "2013-05-02     105.21\n",
      "               ...   \n",
      "2018-09-23    6710.63\n",
      "2018-09-24    6595.41\n",
      "2018-09-25    6446.47\n",
      "2018-09-26    6495.00\n",
      "2018-09-27    6676.75\n",
      "Name: Close, Length: 1979, dtype: float64 as keyword args. From version 0.25 passing these as positional arguments will result in an error\n",
      "  warnings.warn(\"Pass {} as keyword args. From version 0.25 \"\n"
     ]
    },
    {
     "data": {
      "text/plain": [
       "TimeSeriesSplit(max_train_size=Date\n",
       "2013-04-28     134.21\n",
       "2013-04-29     144.54\n",
       "2013-04-30     139.00\n",
       "2013-05-01     116.99\n",
       "2013-05-02     105.21\n",
       "               ...\n",
       "2018-09-23    6710.63\n",
       "2018-09-24    6595.41\n",
       "2018-09-25    6446.47\n",
       "2018-09-26    6495.00\n",
       "2018-09-27    6676.75\n",
       "Name: Close, Length: 1979, dtype: float64,\n",
       "        n_splits=5)"
      ]
     },
     "execution_count": 49,
     "metadata": {},
     "output_type": "execute_result"
    }
   ],
   "source": [
    "TimeSeriesSplit(5, btc['Close'], max_train_size=0.8*btc.shape[0])"
   ]
  },
  {
   "cell_type": "markdown",
   "metadata": {},
   "source": [
    "### Make function to make data reshaping easier"
   ]
  },
  {
   "cell_type": "code",
   "execution_count": 154,
   "metadata": {},
   "outputs": [],
   "source": [
    "# function converts data to array and reshapes for linreg compatibility \n",
    "def arr_shape(data):\n",
    "    data = np.array(data)\n",
    "    data = data.reshape(-1,1)\n",
    "    return data"
   ]
  },
  {
   "cell_type": "markdown",
   "metadata": {},
   "source": [
    "## Linear Regression"
   ]
  },
  {
   "cell_type": "code",
   "execution_count": 55,
   "metadata": {},
   "outputs": [],
   "source": [
    "from sklearn.linear_model import LinearRegression\n",
    "from sklearn.model_selection import train_test_split"
   ]
  },
  {
   "cell_type": "code",
   "execution_count": 70,
   "metadata": {},
   "outputs": [
    {
     "data": {
      "text/plain": [
       "(2201, 6)"
      ]
     },
     "execution_count": 70,
     "metadata": {},
     "output_type": "execute_result"
    }
   ],
   "source": [
    "btc.shape"
   ]
  },
  {
   "cell_type": "code",
   "execution_count": 68,
   "metadata": {},
   "outputs": [
    {
     "data": {
      "text/plain": [
       "Date\n",
       "2015-07-20      280.00\n",
       "2015-07-21      277.32\n",
       "2015-07-22      277.89\n",
       "2015-07-23      277.39\n",
       "2015-07-24      289.12\n",
       "                ...   \n",
       "2021-07-24    34283.01\n",
       "2021-07-25    35428.26\n",
       "2021-07-26    37262.77\n",
       "2021-07-27    39470.48\n",
       "2021-07-28    40035.10\n",
       "Name: Close, Length: 2201, dtype: float64"
      ]
     },
     "execution_count": 68,
     "metadata": {},
     "output_type": "execute_result"
    }
   ],
   "source": [
    "btc.Close"
   ]
  },
  {
   "cell_type": "code",
   "execution_count": 139,
   "metadata": {},
   "outputs": [],
   "source": [
    "close = btc.Close\n",
    "close.reset_index(drop=True, inplace=True)\n",
    "close_index = close.index\n",
    "close = np.squeeze(close.to_numpy())\n",
    "close_index = np.squeeze(close_index.to_numpy())"
   ]
  },
  {
   "cell_type": "code",
   "execution_count": 153,
   "metadata": {},
   "outputs": [
    {
     "data": {
      "text/plain": [
       "0"
      ]
     },
     "execution_count": 153,
     "metadata": {},
     "output_type": "execute_result"
    }
   ],
   "source": [
    "close_index[0]"
   ]
  },
  {
   "cell_type": "code",
   "execution_count": 155,
   "metadata": {},
   "outputs": [],
   "source": [
    "# # separate data for linear regression\n",
    "X_train, X_test, y_train, y_test = train_test_split(close_index, close)\n",
    "\n",
    "# reshape for linreg\n",
    "X_train = arr_shape(X_train)\n",
    "X_test = arr_shape(X_test)\n",
    "y_train = arr_shape(y_train)\n",
    "y_test = arr_shape(y_test)\n"
   ]
  },
  {
   "cell_type": "code",
   "execution_count": 156,
   "metadata": {},
   "outputs": [
    {
     "data": {
      "text/plain": [
       "array([[ 2786.07],\n",
       "       [ 4214.84],\n",
       "       [  238.34],\n",
       "       ...,\n",
       "       [ 6928.5 ],\n",
       "       [ 1292.86],\n",
       "       [50089.15]])"
      ]
     },
     "execution_count": 156,
     "metadata": {},
     "output_type": "execute_result"
    }
   ],
   "source": [
    "y_train"
   ]
  },
  {
   "cell_type": "code",
   "execution_count": 157,
   "metadata": {},
   "outputs": [
    {
     "data": {
      "text/plain": [
       "array([[ 739],\n",
       "       [ 807],\n",
       "       [  73],\n",
       "       ...,\n",
       "       [ 985],\n",
       "       [ 592],\n",
       "       [2105]], dtype=int64)"
      ]
     },
     "execution_count": 157,
     "metadata": {},
     "output_type": "execute_result"
    }
   ],
   "source": [
    "X_train"
   ]
  },
  {
   "cell_type": "code",
   "execution_count": 158,
   "metadata": {},
   "outputs": [
    {
     "data": {
      "text/plain": [
       "LinearRegression()"
      ]
     },
     "execution_count": 158,
     "metadata": {},
     "output_type": "execute_result"
    }
   ],
   "source": [
    "lr = LinearRegression()\n",
    "lr.fit(X_train, y_train)"
   ]
  },
  {
   "cell_type": "code",
   "execution_count": 159,
   "metadata": {},
   "outputs": [],
   "source": [
    "preds = lr.predict(X_test)"
   ]
  },
  {
   "cell_type": "code",
   "execution_count": 160,
   "metadata": {},
   "outputs": [
    {
     "data": {
      "text/plain": [
       "array([-5766.96796992])"
      ]
     },
     "execution_count": 160,
     "metadata": {},
     "output_type": "execute_result"
    }
   ],
   "source": [
    "lr.intercept_"
   ]
  },
  {
   "cell_type": "code",
   "execution_count": 163,
   "metadata": {},
   "outputs": [
    {
     "data": {
      "text/plain": [
       "array([[13.56697558]])"
      ]
     },
     "execution_count": 163,
     "metadata": {},
     "output_type": "execute_result"
    }
   ],
   "source": [
    "lr.coef_"
   ]
  },
  {
   "cell_type": "code",
   "execution_count": null,
   "metadata": {},
   "outputs": [],
   "source": []
  }
 ],
 "metadata": {
  "kernelspec": {
   "display_name": "Python 3",
   "language": "python",
   "name": "python3"
  },
  "language_info": {
   "codemirror_mode": {
    "name": "ipython",
    "version": 3
   },
   "file_extension": ".py",
   "mimetype": "text/x-python",
   "name": "python",
   "nbconvert_exporter": "python",
   "pygments_lexer": "ipython3",
   "version": "3.8.2"
  }
 },
 "nbformat": 4,
 "nbformat_minor": 4
}
