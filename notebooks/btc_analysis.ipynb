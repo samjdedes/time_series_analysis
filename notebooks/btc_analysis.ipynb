{
 "cells": [
  {
   "cell_type": "code",
   "execution_count": 1,
   "metadata": {},
   "outputs": [],
   "source": [
    "# standard imports\n",
    "import pandas as pd\n",
    "import numpy as np  \n",
    "import matplotlib.pyplot as plt\n",
    "import datetime as dt\n",
    "import sys\n",
    "\n",
    "# custom imports\n",
    "sys.path.append('../src')\n",
    "from fetch_range_data import fetch_range_data"
   ]
  },
  {
   "cell_type": "markdown",
   "metadata": {},
   "source": [
    "# Bitcoin"
   ]
  },
  {
   "cell_type": "markdown",
   "metadata": {},
   "source": [
    "The purpose of this notebook is to explore methods of bitcoin price forecasting"
   ]
  },
  {
   "cell_type": "markdown",
   "metadata": {},
   "source": [
    "## Get today's data"
   ]
  },
  {
   "cell_type": "code",
   "execution_count": 2,
   "metadata": {},
   "outputs": [
    {
     "name": "stdout",
     "output_type": "stream",
     "text": [
      "File exists, returned as df\n"
     ]
    }
   ],
   "source": [
    "# get today's data with custom function\n",
    "today = dt.date.today() \n",
    "first_date = '2015/07/20'\n",
    "btc = fetch_range_data('BTC/USD', first_date, today)"
   ]
  },
  {
   "cell_type": "code",
   "execution_count": 3,
   "metadata": {},
   "outputs": [
    {
     "data": {
      "text/html": [
       "<div>\n",
       "<style scoped>\n",
       "    .dataframe tbody tr th:only-of-type {\n",
       "        vertical-align: middle;\n",
       "    }\n",
       "\n",
       "    .dataframe tbody tr th {\n",
       "        vertical-align: top;\n",
       "    }\n",
       "\n",
       "    .dataframe thead th {\n",
       "        text-align: right;\n",
       "    }\n",
       "</style>\n",
       "<table border=\"1\" class=\"dataframe\">\n",
       "  <thead>\n",
       "    <tr style=\"text-align: right;\">\n",
       "      <th></th>\n",
       "      <th>date</th>\n",
       "      <th>unix</th>\n",
       "      <th>low</th>\n",
       "      <th>high</th>\n",
       "      <th>open</th>\n",
       "      <th>close</th>\n",
       "      <th>volume</th>\n",
       "      <th>vol_fiat</th>\n",
       "    </tr>\n",
       "  </thead>\n",
       "  <tbody>\n",
       "    <tr>\n",
       "      <th>0</th>\n",
       "      <td>2015-11-22</td>\n",
       "      <td>1448150400</td>\n",
       "      <td>321.00</td>\n",
       "      <td>327.00</td>\n",
       "      <td>326.99</td>\n",
       "      <td>323.71</td>\n",
       "      <td>3426.178602</td>\n",
       "      <td>1.109088e+06</td>\n",
       "    </tr>\n",
       "    <tr>\n",
       "      <th>1</th>\n",
       "      <td>2015-11-21</td>\n",
       "      <td>1448064000</td>\n",
       "      <td>316.33</td>\n",
       "      <td>328.00</td>\n",
       "      <td>322.39</td>\n",
       "      <td>327.00</td>\n",
       "      <td>5125.958809</td>\n",
       "      <td>1.676189e+06</td>\n",
       "    </tr>\n",
       "    <tr>\n",
       "      <th>2</th>\n",
       "      <td>2015-11-20</td>\n",
       "      <td>1447977600</td>\n",
       "      <td>311.23</td>\n",
       "      <td>327.04</td>\n",
       "      <td>326.53</td>\n",
       "      <td>322.39</td>\n",
       "      <td>9324.440814</td>\n",
       "      <td>3.006106e+06</td>\n",
       "    </tr>\n",
       "    <tr>\n",
       "      <th>3</th>\n",
       "      <td>2015-11-19</td>\n",
       "      <td>1447891200</td>\n",
       "      <td>324.90</td>\n",
       "      <td>336.38</td>\n",
       "      <td>335.50</td>\n",
       "      <td>326.41</td>\n",
       "      <td>6720.695931</td>\n",
       "      <td>2.193702e+06</td>\n",
       "    </tr>\n",
       "    <tr>\n",
       "      <th>4</th>\n",
       "      <td>2015-11-18</td>\n",
       "      <td>1447804800</td>\n",
       "      <td>330.00</td>\n",
       "      <td>338.00</td>\n",
       "      <td>336.49</td>\n",
       "      <td>335.49</td>\n",
       "      <td>5204.310117</td>\n",
       "      <td>1.745994e+06</td>\n",
       "    </tr>\n",
       "    <tr>\n",
       "      <th>...</th>\n",
       "      <td>...</td>\n",
       "      <td>...</td>\n",
       "      <td>...</td>\n",
       "      <td>...</td>\n",
       "      <td>...</td>\n",
       "      <td>...</td>\n",
       "      <td>...</td>\n",
       "      <td>...</td>\n",
       "    </tr>\n",
       "    <tr>\n",
       "      <th>2349</th>\n",
       "      <td>2020-10-31</td>\n",
       "      <td>1604102400</td>\n",
       "      <td>13424.73</td>\n",
       "      <td>14098.92</td>\n",
       "      <td>13571.51</td>\n",
       "      <td>13804.81</td>\n",
       "      <td>12166.304298</td>\n",
       "      <td>1.679535e+08</td>\n",
       "    </tr>\n",
       "    <tr>\n",
       "      <th>2350</th>\n",
       "      <td>2020-10-30</td>\n",
       "      <td>1604016000</td>\n",
       "      <td>13131.31</td>\n",
       "      <td>13687.82</td>\n",
       "      <td>13460.00</td>\n",
       "      <td>13571.51</td>\n",
       "      <td>15664.290475</td>\n",
       "      <td>2.125881e+08</td>\n",
       "    </tr>\n",
       "    <tr>\n",
       "      <th>2351</th>\n",
       "      <td>2020-10-29</td>\n",
       "      <td>1603929600</td>\n",
       "      <td>12976.29</td>\n",
       "      <td>13650.00</td>\n",
       "      <td>13281.06</td>\n",
       "      <td>13460.00</td>\n",
       "      <td>15796.076677</td>\n",
       "      <td>2.126152e+08</td>\n",
       "    </tr>\n",
       "    <tr>\n",
       "      <th>2352</th>\n",
       "      <td>2020-10-28</td>\n",
       "      <td>1603843200</td>\n",
       "      <td>12891.57</td>\n",
       "      <td>13863.87</td>\n",
       "      <td>13740.85</td>\n",
       "      <td>13281.05</td>\n",
       "      <td>21073.376678</td>\n",
       "      <td>2.798766e+08</td>\n",
       "    </tr>\n",
       "    <tr>\n",
       "      <th>2353</th>\n",
       "      <td>2020-10-27</td>\n",
       "      <td>1603756800</td>\n",
       "      <td>13061.28</td>\n",
       "      <td>13793.72</td>\n",
       "      <td>13068.79</td>\n",
       "      <td>13698.18</td>\n",
       "      <td>17267.439678</td>\n",
       "      <td>2.365325e+08</td>\n",
       "    </tr>\n",
       "  </tbody>\n",
       "</table>\n",
       "<p>2354 rows × 8 columns</p>\n",
       "</div>"
      ],
      "text/plain": [
       "            date        unix       low      high      open     close  \\\n",
       "0     2015-11-22  1448150400    321.00    327.00    326.99    323.71   \n",
       "1     2015-11-21  1448064000    316.33    328.00    322.39    327.00   \n",
       "2     2015-11-20  1447977600    311.23    327.04    326.53    322.39   \n",
       "3     2015-11-19  1447891200    324.90    336.38    335.50    326.41   \n",
       "4     2015-11-18  1447804800    330.00    338.00    336.49    335.49   \n",
       "...          ...         ...       ...       ...       ...       ...   \n",
       "2349  2020-10-31  1604102400  13424.73  14098.92  13571.51  13804.81   \n",
       "2350  2020-10-30  1604016000  13131.31  13687.82  13460.00  13571.51   \n",
       "2351  2020-10-29  1603929600  12976.29  13650.00  13281.06  13460.00   \n",
       "2352  2020-10-28  1603843200  12891.57  13863.87  13740.85  13281.05   \n",
       "2353  2020-10-27  1603756800  13061.28  13793.72  13068.79  13698.18   \n",
       "\n",
       "            volume      vol_fiat  \n",
       "0      3426.178602  1.109088e+06  \n",
       "1      5125.958809  1.676189e+06  \n",
       "2      9324.440814  3.006106e+06  \n",
       "3      6720.695931  2.193702e+06  \n",
       "4      5204.310117  1.745994e+06  \n",
       "...            ...           ...  \n",
       "2349  12166.304298  1.679535e+08  \n",
       "2350  15664.290475  2.125881e+08  \n",
       "2351  15796.076677  2.126152e+08  \n",
       "2352  21073.376678  2.798766e+08  \n",
       "2353  17267.439678  2.365325e+08  \n",
       "\n",
       "[2354 rows x 8 columns]"
      ]
     },
     "execution_count": 3,
     "metadata": {},
     "output_type": "execute_result"
    }
   ],
   "source": [
    "btc.sort_index()"
   ]
  },
  {
   "cell_type": "markdown",
   "metadata": {},
   "source": [
    "## Relabel Data"
   ]
  },
  {
   "cell_type": "markdown",
   "metadata": {},
   "source": [
    "### Explore special values for BTC"
   ]
  },
  {
   "cell_type": "code",
   "execution_count": 4,
   "metadata": {},
   "outputs": [
    {
     "data": {
      "text/plain": [
       "(2354, 8)"
      ]
     },
     "execution_count": 4,
     "metadata": {},
     "output_type": "execute_result"
    }
   ],
   "source": [
    "# rename columns of btc dataframe\n",
    "my_dict = {'date': 'Date', 'open': 'Open', 'close': 'Close', 'high': 'High', 'low': 'Low', 'volume':'Volume', 'vol_fiat':'Market Cap'}\n",
    "btc.rename(columns=my_dict, inplace=True)\n",
    "\n",
    "btc.shape"
   ]
  },
  {
   "cell_type": "markdown",
   "metadata": {},
   "source": [
    "### Convert Index to Datetime"
   ]
  },
  {
   "cell_type": "code",
   "execution_count": 5,
   "metadata": {},
   "outputs": [],
   "source": [
    "# change btc index to Date column datetime objects\n",
    "btc.set_index(pd.to_datetime(btc['Date']),inplace=True)"
   ]
  },
  {
   "cell_type": "code",
   "execution_count": 6,
   "metadata": {},
   "outputs": [
    {
     "data": {
      "text/html": [
       "<div>\n",
       "<style scoped>\n",
       "    .dataframe tbody tr th:only-of-type {\n",
       "        vertical-align: middle;\n",
       "    }\n",
       "\n",
       "    .dataframe tbody tr th {\n",
       "        vertical-align: top;\n",
       "    }\n",
       "\n",
       "    .dataframe thead th {\n",
       "        text-align: right;\n",
       "    }\n",
       "</style>\n",
       "<table border=\"1\" class=\"dataframe\">\n",
       "  <thead>\n",
       "    <tr style=\"text-align: right;\">\n",
       "      <th></th>\n",
       "      <th>Date</th>\n",
       "      <th>unix</th>\n",
       "      <th>Low</th>\n",
       "      <th>High</th>\n",
       "      <th>Open</th>\n",
       "      <th>Close</th>\n",
       "      <th>Volume</th>\n",
       "      <th>Market Cap</th>\n",
       "    </tr>\n",
       "    <tr>\n",
       "      <th>Date</th>\n",
       "      <th></th>\n",
       "      <th></th>\n",
       "      <th></th>\n",
       "      <th></th>\n",
       "      <th></th>\n",
       "      <th></th>\n",
       "      <th></th>\n",
       "      <th></th>\n",
       "    </tr>\n",
       "  </thead>\n",
       "  <tbody>\n",
       "    <tr>\n",
       "      <th>2015-07-20</th>\n",
       "      <td>2015-07-20</td>\n",
       "      <td>1437350400</td>\n",
       "      <td>277.37</td>\n",
       "      <td>280.00</td>\n",
       "      <td>277.98</td>\n",
       "      <td>280.00</td>\n",
       "      <td>782.883420</td>\n",
       "      <td>2.192074e+05</td>\n",
       "    </tr>\n",
       "    <tr>\n",
       "      <th>2015-07-21</th>\n",
       "      <td>2015-07-21</td>\n",
       "      <td>1437436800</td>\n",
       "      <td>276.85</td>\n",
       "      <td>281.27</td>\n",
       "      <td>279.96</td>\n",
       "      <td>277.32</td>\n",
       "      <td>4943.559434</td>\n",
       "      <td>1.370948e+06</td>\n",
       "    </tr>\n",
       "    <tr>\n",
       "      <th>2015-07-22</th>\n",
       "      <td>2015-07-22</td>\n",
       "      <td>1437523200</td>\n",
       "      <td>275.01</td>\n",
       "      <td>278.54</td>\n",
       "      <td>277.33</td>\n",
       "      <td>277.89</td>\n",
       "      <td>4687.909383</td>\n",
       "      <td>1.302723e+06</td>\n",
       "    </tr>\n",
       "    <tr>\n",
       "      <th>2015-07-23</th>\n",
       "      <td>2015-07-23</td>\n",
       "      <td>1437609600</td>\n",
       "      <td>276.28</td>\n",
       "      <td>279.75</td>\n",
       "      <td>277.96</td>\n",
       "      <td>277.39</td>\n",
       "      <td>5306.919575</td>\n",
       "      <td>1.472086e+06</td>\n",
       "    </tr>\n",
       "    <tr>\n",
       "      <th>2015-07-24</th>\n",
       "      <td>2015-07-24</td>\n",
       "      <td>1437696000</td>\n",
       "      <td>276.43</td>\n",
       "      <td>291.52</td>\n",
       "      <td>277.23</td>\n",
       "      <td>289.12</td>\n",
       "      <td>7362.469083</td>\n",
       "      <td>2.128637e+06</td>\n",
       "    </tr>\n",
       "    <tr>\n",
       "      <th>...</th>\n",
       "      <td>...</td>\n",
       "      <td>...</td>\n",
       "      <td>...</td>\n",
       "      <td>...</td>\n",
       "      <td>...</td>\n",
       "      <td>...</td>\n",
       "      <td>...</td>\n",
       "      <td>...</td>\n",
       "    </tr>\n",
       "    <tr>\n",
       "      <th>2021-08-18</th>\n",
       "      <td>2021-08-18</td>\n",
       "      <td>1629244800</td>\n",
       "      <td>44216.47</td>\n",
       "      <td>46035.27</td>\n",
       "      <td>44675.34</td>\n",
       "      <td>44707.98</td>\n",
       "      <td>10327.498874</td>\n",
       "      <td>4.617216e+08</td>\n",
       "    </tr>\n",
       "    <tr>\n",
       "      <th>2021-08-19</th>\n",
       "      <td>2021-08-19</td>\n",
       "      <td>1629331200</td>\n",
       "      <td>43955.00</td>\n",
       "      <td>47088.08</td>\n",
       "      <td>44709.10</td>\n",
       "      <td>46765.87</td>\n",
       "      <td>11938.121850</td>\n",
       "      <td>5.582967e+08</td>\n",
       "    </tr>\n",
       "    <tr>\n",
       "      <th>2021-08-20</th>\n",
       "      <td>2021-08-20</td>\n",
       "      <td>1629417600</td>\n",
       "      <td>46644.95</td>\n",
       "      <td>49400.00</td>\n",
       "      <td>46769.02</td>\n",
       "      <td>49342.40</td>\n",
       "      <td>13184.670486</td>\n",
       "      <td>6.505633e+08</td>\n",
       "    </tr>\n",
       "    <tr>\n",
       "      <th>2021-08-21</th>\n",
       "      <td>2021-08-21</td>\n",
       "      <td>1629504000</td>\n",
       "      <td>48285.28</td>\n",
       "      <td>49821.92</td>\n",
       "      <td>49349.99</td>\n",
       "      <td>48867.02</td>\n",
       "      <td>9574.836152</td>\n",
       "      <td>4.678937e+08</td>\n",
       "    </tr>\n",
       "    <tr>\n",
       "      <th>2021-08-22</th>\n",
       "      <td>2021-08-22</td>\n",
       "      <td>1629590400</td>\n",
       "      <td>48102.89</td>\n",
       "      <td>49526.13</td>\n",
       "      <td>48870.21</td>\n",
       "      <td>49284.63</td>\n",
       "      <td>6243.396434</td>\n",
       "      <td>3.077035e+08</td>\n",
       "    </tr>\n",
       "  </tbody>\n",
       "</table>\n",
       "<p>2354 rows × 8 columns</p>\n",
       "</div>"
      ],
      "text/plain": [
       "                  Date        unix       Low      High      Open     Close  \\\n",
       "Date                                                                         \n",
       "2015-07-20  2015-07-20  1437350400    277.37    280.00    277.98    280.00   \n",
       "2015-07-21  2015-07-21  1437436800    276.85    281.27    279.96    277.32   \n",
       "2015-07-22  2015-07-22  1437523200    275.01    278.54    277.33    277.89   \n",
       "2015-07-23  2015-07-23  1437609600    276.28    279.75    277.96    277.39   \n",
       "2015-07-24  2015-07-24  1437696000    276.43    291.52    277.23    289.12   \n",
       "...                ...         ...       ...       ...       ...       ...   \n",
       "2021-08-18  2021-08-18  1629244800  44216.47  46035.27  44675.34  44707.98   \n",
       "2021-08-19  2021-08-19  1629331200  43955.00  47088.08  44709.10  46765.87   \n",
       "2021-08-20  2021-08-20  1629417600  46644.95  49400.00  46769.02  49342.40   \n",
       "2021-08-21  2021-08-21  1629504000  48285.28  49821.92  49349.99  48867.02   \n",
       "2021-08-22  2021-08-22  1629590400  48102.89  49526.13  48870.21  49284.63   \n",
       "\n",
       "                  Volume    Market Cap  \n",
       "Date                                    \n",
       "2015-07-20    782.883420  2.192074e+05  \n",
       "2015-07-21   4943.559434  1.370948e+06  \n",
       "2015-07-22   4687.909383  1.302723e+06  \n",
       "2015-07-23   5306.919575  1.472086e+06  \n",
       "2015-07-24   7362.469083  2.128637e+06  \n",
       "...                  ...           ...  \n",
       "2021-08-18  10327.498874  4.617216e+08  \n",
       "2021-08-19  11938.121850  5.582967e+08  \n",
       "2021-08-20  13184.670486  6.505633e+08  \n",
       "2021-08-21   9574.836152  4.678937e+08  \n",
       "2021-08-22   6243.396434  3.077035e+08  \n",
       "\n",
       "[2354 rows x 8 columns]"
      ]
     },
     "execution_count": 6,
     "metadata": {},
     "output_type": "execute_result"
    }
   ],
   "source": [
    "# sort index for ease of comparison\n",
    "btc.sort_index(inplace=True)\n",
    "btc"
   ]
  },
  {
   "cell_type": "code",
   "execution_count": 7,
   "metadata": {},
   "outputs": [
    {
     "data": {
      "text/plain": [
       "pandas.core.indexes.datetimes.DatetimeIndex"
      ]
     },
     "execution_count": 7,
     "metadata": {},
     "output_type": "execute_result"
    }
   ],
   "source": [
    "type(btc.index)"
   ]
  },
  {
   "cell_type": "code",
   "execution_count": 8,
   "metadata": {},
   "outputs": [
    {
     "data": {
      "text/plain": [
       "Index(['Date', 'unix', 'Low', 'High', 'Open', 'Close', 'Volume', 'Market Cap'], dtype='object')"
      ]
     },
     "execution_count": 8,
     "metadata": {},
     "output_type": "execute_result"
    }
   ],
   "source": [
    "btc.columns"
   ]
  },
  {
   "cell_type": "markdown",
   "metadata": {},
   "source": [
    "### Resampling"
   ]
  },
  {
   "cell_type": "code",
   "execution_count": 9,
   "metadata": {},
   "outputs": [
    {
     "data": {
      "text/html": [
       "<div>\n",
       "<style scoped>\n",
       "    .dataframe tbody tr th:only-of-type {\n",
       "        vertical-align: middle;\n",
       "    }\n",
       "\n",
       "    .dataframe tbody tr th {\n",
       "        vertical-align: top;\n",
       "    }\n",
       "\n",
       "    .dataframe thead th {\n",
       "        text-align: right;\n",
       "    }\n",
       "</style>\n",
       "<table border=\"1\" class=\"dataframe\">\n",
       "  <thead>\n",
       "    <tr style=\"text-align: right;\">\n",
       "      <th></th>\n",
       "      <th>unix</th>\n",
       "      <th>Low</th>\n",
       "      <th>High</th>\n",
       "      <th>Open</th>\n",
       "      <th>Close</th>\n",
       "      <th>Volume</th>\n",
       "      <th>Market Cap</th>\n",
       "    </tr>\n",
       "    <tr>\n",
       "      <th>Date</th>\n",
       "      <th></th>\n",
       "      <th></th>\n",
       "      <th></th>\n",
       "      <th></th>\n",
       "      <th></th>\n",
       "      <th></th>\n",
       "      <th></th>\n",
       "    </tr>\n",
       "  </thead>\n",
       "  <tbody>\n",
       "    <tr>\n",
       "      <th>2015-07-31</th>\n",
       "      <td>1.437826e+09</td>\n",
       "      <td>283.055000</td>\n",
       "      <td>289.198333</td>\n",
       "      <td>285.987500</td>\n",
       "      <td>286.595833</td>\n",
       "      <td>4931.954199</td>\n",
       "      <td>1.416845e+06</td>\n",
       "    </tr>\n",
       "    <tr>\n",
       "      <th>2015-08-31</th>\n",
       "      <td>1.439683e+09</td>\n",
       "      <td>246.512581</td>\n",
       "      <td>257.395806</td>\n",
       "      <td>253.492903</td>\n",
       "      <td>251.755161</td>\n",
       "      <td>7230.025266</td>\n",
       "      <td>1.765739e+06</td>\n",
       "    </tr>\n",
       "    <tr>\n",
       "      <th>2015-09-30</th>\n",
       "      <td>1.442318e+09</td>\n",
       "      <td>231.936000</td>\n",
       "      <td>236.955000</td>\n",
       "      <td>234.163000</td>\n",
       "      <td>234.365000</td>\n",
       "      <td>6386.535932</td>\n",
       "      <td>1.495726e+06</td>\n",
       "    </tr>\n",
       "    <tr>\n",
       "      <th>2015-10-31</th>\n",
       "      <td>1.444954e+09</td>\n",
       "      <td>261.374839</td>\n",
       "      <td>269.491613</td>\n",
       "      <td>263.724516</td>\n",
       "      <td>266.229032</td>\n",
       "      <td>7850.672554</td>\n",
       "      <td>2.159975e+06</td>\n",
       "    </tr>\n",
       "    <tr>\n",
       "      <th>2015-11-30</th>\n",
       "      <td>1.447589e+09</td>\n",
       "      <td>334.626000</td>\n",
       "      <td>362.877000</td>\n",
       "      <td>347.445000</td>\n",
       "      <td>349.508000</td>\n",
       "      <td>12491.747698</td>\n",
       "      <td>4.548917e+06</td>\n",
       "    </tr>\n",
       "    <tr>\n",
       "      <th>...</th>\n",
       "      <td>...</td>\n",
       "      <td>...</td>\n",
       "      <td>...</td>\n",
       "      <td>...</td>\n",
       "      <td>...</td>\n",
       "      <td>...</td>\n",
       "      <td>...</td>\n",
       "    </tr>\n",
       "    <tr>\n",
       "      <th>2021-04-30</th>\n",
       "      <td>1.618488e+09</td>\n",
       "      <td>55321.213333</td>\n",
       "      <td>58500.627000</td>\n",
       "      <td>57131.086000</td>\n",
       "      <td>57097.920667</td>\n",
       "      <td>15581.189920</td>\n",
       "      <td>8.804247e+08</td>\n",
       "    </tr>\n",
       "    <tr>\n",
       "      <th>2021-05-31</th>\n",
       "      <td>1.621123e+09</td>\n",
       "      <td>44270.166129</td>\n",
       "      <td>48889.056129</td>\n",
       "      <td>47119.199677</td>\n",
       "      <td>46457.782903</td>\n",
       "      <td>29742.506763</td>\n",
       "      <td>1.294962e+09</td>\n",
       "    </tr>\n",
       "    <tr>\n",
       "      <th>2021-06-30</th>\n",
       "      <td>1.623758e+09</td>\n",
       "      <td>34303.263667</td>\n",
       "      <td>37144.137000</td>\n",
       "      <td>35916.499000</td>\n",
       "      <td>35842.765667</td>\n",
       "      <td>19942.838788</td>\n",
       "      <td>7.051311e+08</td>\n",
       "    </tr>\n",
       "    <tr>\n",
       "      <th>2021-07-31</th>\n",
       "      <td>1.626394e+09</td>\n",
       "      <td>33364.951290</td>\n",
       "      <td>35217.746129</td>\n",
       "      <td>34236.297097</td>\n",
       "      <td>34443.391290</td>\n",
       "      <td>11984.850339</td>\n",
       "      <td>4.212497e+08</td>\n",
       "    </tr>\n",
       "    <tr>\n",
       "      <th>2021-08-31</th>\n",
       "      <td>1.628683e+09</td>\n",
       "      <td>43165.977727</td>\n",
       "      <td>45665.934545</td>\n",
       "      <td>44305.602727</td>\n",
       "      <td>44659.551818</td>\n",
       "      <td>13676.467560</td>\n",
       "      <td>6.037236e+08</td>\n",
       "    </tr>\n",
       "  </tbody>\n",
       "</table>\n",
       "<p>74 rows × 7 columns</p>\n",
       "</div>"
      ],
      "text/plain": [
       "                    unix           Low          High          Open  \\\n",
       "Date                                                                 \n",
       "2015-07-31  1.437826e+09    283.055000    289.198333    285.987500   \n",
       "2015-08-31  1.439683e+09    246.512581    257.395806    253.492903   \n",
       "2015-09-30  1.442318e+09    231.936000    236.955000    234.163000   \n",
       "2015-10-31  1.444954e+09    261.374839    269.491613    263.724516   \n",
       "2015-11-30  1.447589e+09    334.626000    362.877000    347.445000   \n",
       "...                  ...           ...           ...           ...   \n",
       "2021-04-30  1.618488e+09  55321.213333  58500.627000  57131.086000   \n",
       "2021-05-31  1.621123e+09  44270.166129  48889.056129  47119.199677   \n",
       "2021-06-30  1.623758e+09  34303.263667  37144.137000  35916.499000   \n",
       "2021-07-31  1.626394e+09  33364.951290  35217.746129  34236.297097   \n",
       "2021-08-31  1.628683e+09  43165.977727  45665.934545  44305.602727   \n",
       "\n",
       "                   Close        Volume    Market Cap  \n",
       "Date                                                  \n",
       "2015-07-31    286.595833   4931.954199  1.416845e+06  \n",
       "2015-08-31    251.755161   7230.025266  1.765739e+06  \n",
       "2015-09-30    234.365000   6386.535932  1.495726e+06  \n",
       "2015-10-31    266.229032   7850.672554  2.159975e+06  \n",
       "2015-11-30    349.508000  12491.747698  4.548917e+06  \n",
       "...                  ...           ...           ...  \n",
       "2021-04-30  57097.920667  15581.189920  8.804247e+08  \n",
       "2021-05-31  46457.782903  29742.506763  1.294962e+09  \n",
       "2021-06-30  35842.765667  19942.838788  7.051311e+08  \n",
       "2021-07-31  34443.391290  11984.850339  4.212497e+08  \n",
       "2021-08-31  44659.551818  13676.467560  6.037236e+08  \n",
       "\n",
       "[74 rows x 7 columns]"
      ]
     },
     "execution_count": 9,
     "metadata": {},
     "output_type": "execute_result"
    }
   ],
   "source": [
    "btcM = btc.resample('M').mean()\n",
    "btcM"
   ]
  },
  {
   "cell_type": "code",
   "execution_count": 10,
   "metadata": {},
   "outputs": [
    {
     "data": {
      "text/html": [
       "<div>\n",
       "<style scoped>\n",
       "    .dataframe tbody tr th:only-of-type {\n",
       "        vertical-align: middle;\n",
       "    }\n",
       "\n",
       "    .dataframe tbody tr th {\n",
       "        vertical-align: top;\n",
       "    }\n",
       "\n",
       "    .dataframe thead th {\n",
       "        text-align: right;\n",
       "    }\n",
       "</style>\n",
       "<table border=\"1\" class=\"dataframe\">\n",
       "  <thead>\n",
       "    <tr style=\"text-align: right;\">\n",
       "      <th></th>\n",
       "      <th>unix</th>\n",
       "      <th>Low</th>\n",
       "      <th>High</th>\n",
       "      <th>Open</th>\n",
       "      <th>Close</th>\n",
       "      <th>Volume</th>\n",
       "      <th>Market Cap</th>\n",
       "    </tr>\n",
       "    <tr>\n",
       "      <th>Date</th>\n",
       "      <th></th>\n",
       "      <th></th>\n",
       "      <th></th>\n",
       "      <th></th>\n",
       "      <th></th>\n",
       "      <th></th>\n",
       "      <th></th>\n",
       "    </tr>\n",
       "  </thead>\n",
       "  <tbody>\n",
       "    <tr>\n",
       "      <th>2015-07-31</th>\n",
       "      <td>1.437826e+09</td>\n",
       "      <td>283.055000</td>\n",
       "      <td>289.198333</td>\n",
       "      <td>285.987500</td>\n",
       "      <td>286.595833</td>\n",
       "      <td>4931.954199</td>\n",
       "      <td>1.416845e+06</td>\n",
       "    </tr>\n",
       "    <tr>\n",
       "      <th>2015-08-01</th>\n",
       "      <td>NaN</td>\n",
       "      <td>NaN</td>\n",
       "      <td>NaN</td>\n",
       "      <td>NaN</td>\n",
       "      <td>NaN</td>\n",
       "      <td>NaN</td>\n",
       "      <td>NaN</td>\n",
       "    </tr>\n",
       "    <tr>\n",
       "      <th>2015-08-02</th>\n",
       "      <td>NaN</td>\n",
       "      <td>NaN</td>\n",
       "      <td>NaN</td>\n",
       "      <td>NaN</td>\n",
       "      <td>NaN</td>\n",
       "      <td>NaN</td>\n",
       "      <td>NaN</td>\n",
       "    </tr>\n",
       "    <tr>\n",
       "      <th>2015-08-03</th>\n",
       "      <td>NaN</td>\n",
       "      <td>NaN</td>\n",
       "      <td>NaN</td>\n",
       "      <td>NaN</td>\n",
       "      <td>NaN</td>\n",
       "      <td>NaN</td>\n",
       "      <td>NaN</td>\n",
       "    </tr>\n",
       "    <tr>\n",
       "      <th>2015-08-04</th>\n",
       "      <td>NaN</td>\n",
       "      <td>NaN</td>\n",
       "      <td>NaN</td>\n",
       "      <td>NaN</td>\n",
       "      <td>NaN</td>\n",
       "      <td>NaN</td>\n",
       "      <td>NaN</td>\n",
       "    </tr>\n",
       "    <tr>\n",
       "      <th>...</th>\n",
       "      <td>...</td>\n",
       "      <td>...</td>\n",
       "      <td>...</td>\n",
       "      <td>...</td>\n",
       "      <td>...</td>\n",
       "      <td>...</td>\n",
       "      <td>...</td>\n",
       "    </tr>\n",
       "    <tr>\n",
       "      <th>2021-08-27</th>\n",
       "      <td>NaN</td>\n",
       "      <td>NaN</td>\n",
       "      <td>NaN</td>\n",
       "      <td>NaN</td>\n",
       "      <td>NaN</td>\n",
       "      <td>NaN</td>\n",
       "      <td>NaN</td>\n",
       "    </tr>\n",
       "    <tr>\n",
       "      <th>2021-08-28</th>\n",
       "      <td>NaN</td>\n",
       "      <td>NaN</td>\n",
       "      <td>NaN</td>\n",
       "      <td>NaN</td>\n",
       "      <td>NaN</td>\n",
       "      <td>NaN</td>\n",
       "      <td>NaN</td>\n",
       "    </tr>\n",
       "    <tr>\n",
       "      <th>2021-08-29</th>\n",
       "      <td>NaN</td>\n",
       "      <td>NaN</td>\n",
       "      <td>NaN</td>\n",
       "      <td>NaN</td>\n",
       "      <td>NaN</td>\n",
       "      <td>NaN</td>\n",
       "      <td>NaN</td>\n",
       "    </tr>\n",
       "    <tr>\n",
       "      <th>2021-08-30</th>\n",
       "      <td>NaN</td>\n",
       "      <td>NaN</td>\n",
       "      <td>NaN</td>\n",
       "      <td>NaN</td>\n",
       "      <td>NaN</td>\n",
       "      <td>NaN</td>\n",
       "      <td>NaN</td>\n",
       "    </tr>\n",
       "    <tr>\n",
       "      <th>2021-08-31</th>\n",
       "      <td>1.628683e+09</td>\n",
       "      <td>43165.977727</td>\n",
       "      <td>45665.934545</td>\n",
       "      <td>44305.602727</td>\n",
       "      <td>44659.551818</td>\n",
       "      <td>13676.467560</td>\n",
       "      <td>6.037236e+08</td>\n",
       "    </tr>\n",
       "  </tbody>\n",
       "</table>\n",
       "<p>2224 rows × 7 columns</p>\n",
       "</div>"
      ],
      "text/plain": [
       "                    unix           Low          High          Open  \\\n",
       "Date                                                                 \n",
       "2015-07-31  1.437826e+09    283.055000    289.198333    285.987500   \n",
       "2015-08-01           NaN           NaN           NaN           NaN   \n",
       "2015-08-02           NaN           NaN           NaN           NaN   \n",
       "2015-08-03           NaN           NaN           NaN           NaN   \n",
       "2015-08-04           NaN           NaN           NaN           NaN   \n",
       "...                  ...           ...           ...           ...   \n",
       "2021-08-27           NaN           NaN           NaN           NaN   \n",
       "2021-08-28           NaN           NaN           NaN           NaN   \n",
       "2021-08-29           NaN           NaN           NaN           NaN   \n",
       "2021-08-30           NaN           NaN           NaN           NaN   \n",
       "2021-08-31  1.628683e+09  43165.977727  45665.934545  44305.602727   \n",
       "\n",
       "                   Close        Volume    Market Cap  \n",
       "Date                                                  \n",
       "2015-07-31    286.595833   4931.954199  1.416845e+06  \n",
       "2015-08-01           NaN           NaN           NaN  \n",
       "2015-08-02           NaN           NaN           NaN  \n",
       "2015-08-03           NaN           NaN           NaN  \n",
       "2015-08-04           NaN           NaN           NaN  \n",
       "...                  ...           ...           ...  \n",
       "2021-08-27           NaN           NaN           NaN  \n",
       "2021-08-28           NaN           NaN           NaN  \n",
       "2021-08-29           NaN           NaN           NaN  \n",
       "2021-08-30           NaN           NaN           NaN  \n",
       "2021-08-31  44659.551818  13676.467560  6.037236e+08  \n",
       "\n",
       "[2224 rows x 7 columns]"
      ]
     },
     "execution_count": 10,
     "metadata": {},
     "output_type": "execute_result"
    }
   ],
   "source": [
    "btcD = btcM.resample('D').mean()\n",
    "btcD"
   ]
  },
  {
   "cell_type": "markdown",
   "metadata": {},
   "source": [
    "# Visualizations"
   ]
  },
  {
   "cell_type": "code",
   "execution_count": 11,
   "metadata": {},
   "outputs": [],
   "source": [
    "# create xticklabels\n",
    "xticks_min = []\n",
    "xticks_maj = []\n",
    "xlabels_min = []\n",
    "xlabels_maj = []\n",
    "year = 0\n",
    "month = 0\n",
    "\n",
    "for index in btc.index:\n",
    "    if year != index.year:\n",
    "        year = index.year\n",
    "        xticks_maj.append(index)\n",
    "        xlabels_maj.append(year)\n",
    "    if month != index.month:\n",
    "        month = index.month\n",
    "        xticks_min.append(index)\n",
    "        xlabels_min.append(month)\n"
   ]
  },
  {
   "cell_type": "code",
   "execution_count": null,
   "metadata": {},
   "outputs": [],
   "source": []
  },
  {
   "cell_type": "code",
   "execution_count": 12,
   "metadata": {},
   "outputs": [
    {
     "data": {
      "text/plain": [
       "[7,\n",
       " 8,\n",
       " 9,\n",
       " 10,\n",
       " 11,\n",
       " 12,\n",
       " 1,\n",
       " 2,\n",
       " 3,\n",
       " 4,\n",
       " 5,\n",
       " 6,\n",
       " 7,\n",
       " 8,\n",
       " 9,\n",
       " 10,\n",
       " 11,\n",
       " 12,\n",
       " 1,\n",
       " 2,\n",
       " 3,\n",
       " 4,\n",
       " 5,\n",
       " 6,\n",
       " 7,\n",
       " 8,\n",
       " 9,\n",
       " 10,\n",
       " 11,\n",
       " 12,\n",
       " 1,\n",
       " 2,\n",
       " 3,\n",
       " 4,\n",
       " 5,\n",
       " 6,\n",
       " 7,\n",
       " 8,\n",
       " 9,\n",
       " 10,\n",
       " 11,\n",
       " 12,\n",
       " 1,\n",
       " 2,\n",
       " 3,\n",
       " 4,\n",
       " 5,\n",
       " 6,\n",
       " 7,\n",
       " 8,\n",
       " 9,\n",
       " 10,\n",
       " 11,\n",
       " 12,\n",
       " 1,\n",
       " 2,\n",
       " 3,\n",
       " 4,\n",
       " 5,\n",
       " 6,\n",
       " 7,\n",
       " 8,\n",
       " 9,\n",
       " 10,\n",
       " 11,\n",
       " 12,\n",
       " 1,\n",
       " 2,\n",
       " 3,\n",
       " 4,\n",
       " 5,\n",
       " 6,\n",
       " 7,\n",
       " 8]"
      ]
     },
     "execution_count": 12,
     "metadata": {},
     "output_type": "execute_result"
    }
   ],
   "source": [
    "xlabels_min"
   ]
  },
  {
   "cell_type": "code",
   "execution_count": 13,
   "metadata": {},
   "outputs": [
    {
     "data": {
      "text/plain": [
       "Text(0.5, 1.0, 'Bitcoin Price over Time')"
      ]
     },
     "execution_count": 13,
     "metadata": {},
     "output_type": "execute_result"
    },
    {
     "data": {
      "image/png": "[encoded data removed]",
      "text/plain": [
       "<Figure size 1440x864 with 1 Axes>"
      ]
     },
     "metadata": {},
     "output_type": "display_data"
    }
   ],
   "source": [
    "# plot daily high values of data\n",
    "plt.style.use('ggplot')\n",
    "figsize = (20,12)\n",
    "fig, ax = plt.subplots(figsize=figsize)\n",
    "ax.plot(btc.index, btc.High, c='r', lw=1.5)\n",
    "ax.plot(btc.index, btc.High, c='r', lw=1.5)\n",
    "\n",
    "ax.set_xticks(xticks_min, minor=True)\n",
    "ax.set_xticklabels(xlabels_min, minor=True)\n",
    "ax.set_xticks(xticks_maj, minor=False)\n",
    "ax.set_xticklabels(xlabels_maj, minor=False)\n",
    "\n",
    "ax.tick_params(axis='x', which='major', direction='out', rotation=0, pad=15)\n",
    "ax.tick_params(axis='x', which='minor', direction='out', rotation=0)\n",
    "\n",
    "ax.set_xlabel(\"Year\", fontsize=15, color='black')\n",
    "ax.set_ylabel('Value in $', fontsize=15, color='black')\n",
    "ax.set_title('Bitcoin Price over Time', fontsize=20, color='black')\n",
    "# plt.savefig('bitcoin_historical_transparent.png', transparent=True, dpi=400)\n",
    "# plt.savefig('bitcoin_historical.png', transparent=False, dpi=400)"
   ]
  },
  {
   "cell_type": "code",
   "execution_count": 14,
   "metadata": {},
   "outputs": [
    {
     "data": {
      "text/plain": [
       "Text(0.5, 1.0, 'Bitcoin Daily Closing Price')"
      ]
     },
     "execution_count": 14,
     "metadata": {},
     "output_type": "execute_result"
    },
    {
     "data": {
      "image/png": "[encoded data removed]",
      "text/plain": [
       "<Figure size 1008x1008 with 4 Axes>"
      ]
     },
     "metadata": {},
     "output_type": "display_data"
    }
   ],
   "source": [
    "m = 2\n",
    "n = 2\n",
    "figsize = (14,14)\n",
    "fig, ax = plt.subplots(nrows=m, ncols=n, figsize=figsize)\n",
    "\n",
    "ax[0,0].plot(btc.index, btc.High)\n",
    "ax[0,1].plot(btc.index, btc.Low)\n",
    "ax[1,0].plot(btc.index, btc.Open)\n",
    "ax[1,1].plot(btc.index, btc.Close)\n",
    "\n",
    "ax[0,0].set_title('Bitcoin Daily Highs')\n",
    "ax[0,1].set_title('Bitcoin Daily Lows')\n",
    "ax[1,0].set_title('Bitcoin Daily Opening Price')\n",
    "ax[1,1].set_title('Bitcoin Daily Closing Price')"
   ]
  },
  {
   "cell_type": "code",
   "execution_count": 15,
   "metadata": {},
   "outputs": [
    {
     "data": {
      "text/plain": [
       "Text(0.5, 1.0, 'Bitcoin Daily Closing')"
      ]
     },
     "execution_count": 15,
     "metadata": {},
     "output_type": "execute_result"
    },
    {
     "data": {
      "image/png": "[encoded data removed]",
      "text/plain": [
       "<Figure size 1008x1008 with 4 Axes>"
      ]
     },
     "metadata": {},
     "output_type": "display_data"
    }
   ],
   "source": [
    "m = 2\n",
    "n = 2\n",
    "figsize = (14,14)\n",
    "fig, ax = plt.subplots(nrows=m, ncols=n, figsize=figsize)\n",
    "\n",
    "ax[0,0].plot(btc.index, btc.High)\n",
    "ax[0,1].plot(btc.index, btc.Low)\n",
    "ax[1,0].plot(btc.index, btc.Open)\n",
    "ax[1,1].plot(btc.index, btc.Close)\n",
    "\n",
    "ax[0,0].set_title('Bitcoin Daily Highs')\n",
    "ax[0,1].set_title('Bitcoin Daily Lows')\n",
    "ax[1,0].set_title('Bitcoin Daily Opening')\n",
    "ax[1,1].set_title('Bitcoin Daily Closing')"
   ]
  },
  {
   "cell_type": "markdown",
   "metadata": {},
   "source": [
    "# First Simple Model - Random Walk"
   ]
  },
  {
   "cell_type": "code",
   "execution_count": 16,
   "metadata": {},
   "outputs": [
    {
     "data": {
      "text/plain": [
       "1883"
      ]
     },
     "execution_count": 16,
     "metadata": {},
     "output_type": "execute_result"
    }
   ],
   "source": [
    "end_of_train_index = int(btc.shape[0]*0.8)\n",
    "end_of_train_index"
   ]
  },
  {
   "cell_type": "code",
   "execution_count": 17,
   "metadata": {},
   "outputs": [],
   "source": [
    "# separate train and test data\n",
    "# roughly first 80% of data\n",
    "train = btc.Close[:end_of_train_index]\n",
    "\n",
    "# roughly last 20% of data\n",
    "test = btc.Close[end_of_train_index:]"
   ]
  },
  {
   "cell_type": "code",
   "execution_count": 18,
   "metadata": {},
   "outputs": [
    {
     "data": {
      "image/png": "[encoded data removed]",
      "text/plain": [
       "<Figure size 432x288 with 1 Axes>"
      ]
     },
     "metadata": {},
     "output_type": "display_data"
    }
   ],
   "source": [
    "# create \"random walk\" model, shift values by 1 day\n",
    "random_walk = train.shift(1)\n",
    "\n",
    "# create plot of first 30 values of train and random walk\n",
    "fig, ax = plt.subplots()\n",
    "\n",
    "train[0:30].plot(ax=ax, c='r', label='original')\n",
    "random_walk[0:30].plot(ax=ax, c='b', label='shifted')\n",
    "ax.set_title('Random Walk')\n",
    "ax.legend();"
   ]
  },
  {
   "cell_type": "code",
   "execution_count": 19,
   "metadata": {},
   "outputs": [],
   "source": [
    "random_walk.dropna(inplace=True)"
   ]
  },
  {
   "cell_type": "code",
   "execution_count": 20,
   "metadata": {},
   "outputs": [],
   "source": [
    "import sklearn.metrics as metric"
   ]
  },
  {
   "cell_type": "code",
   "execution_count": 21,
   "metadata": {},
   "outputs": [
    {
     "data": {
      "text/plain": [
       "1883"
      ]
     },
     "execution_count": 21,
     "metadata": {},
     "output_type": "execute_result"
    }
   ],
   "source": [
    "train.shape[0]"
   ]
  },
  {
   "cell_type": "code",
   "execution_count": 22,
   "metadata": {},
   "outputs": [
    {
     "data": {
      "text/plain": [
       "Date\n",
       "2015-07-21    280.00\n",
       "2015-07-22    277.32\n",
       "2015-07-23    277.89\n",
       "Name: Close, dtype: float64"
      ]
     },
     "execution_count": 22,
     "metadata": {},
     "output_type": "execute_result"
    }
   ],
   "source": [
    "random_walk[:3]"
   ]
  },
  {
   "cell_type": "code",
   "execution_count": 23,
   "metadata": {},
   "outputs": [
    {
     "data": {
      "text/plain": [
       "Date\n",
       "2015-07-20    280.00\n",
       "2015-07-21    277.32\n",
       "2015-07-22    277.89\n",
       "Name: Close, dtype: float64"
      ]
     },
     "execution_count": 23,
     "metadata": {},
     "output_type": "execute_result"
    }
   ],
   "source": [
    "train[:3]"
   ]
  },
  {
   "cell_type": "code",
   "execution_count": 24,
   "metadata": {},
   "outputs": [
    {
     "data": {
      "text/plain": [
       "DatetimeIndex(['2015-07-20', '2015-07-21', '2015-07-22', '2015-07-23',\n",
       "               '2015-07-24', '2015-07-25', '2015-07-26', '2015-07-27',\n",
       "               '2015-07-28', '2015-07-29',\n",
       "               ...\n",
       "               '2020-07-28', '2020-07-29', '2020-07-29', '2020-07-30',\n",
       "               '2020-07-30', '2020-07-31', '2020-07-31', '2020-08-01',\n",
       "               '2020-08-01', '2020-08-02'],\n",
       "              dtype='datetime64[ns]', name='Date', length=1883, freq=None)"
      ]
     },
     "execution_count": 24,
     "metadata": {},
     "output_type": "execute_result"
    }
   ],
   "source": [
    "train.index"
   ]
  },
  {
   "cell_type": "code",
   "execution_count": 25,
   "metadata": {},
   "outputs": [
    {
     "data": {
      "text/plain": [
       "DatetimeIndex(['2015-07-21', '2015-07-22', '2015-07-23', '2015-07-24',\n",
       "               '2015-07-25', '2015-07-26', '2015-07-27', '2015-07-28',\n",
       "               '2015-07-29', '2015-07-30',\n",
       "               ...\n",
       "               '2020-07-28', '2020-07-29', '2020-07-29', '2020-07-30',\n",
       "               '2020-07-30', '2020-07-31', '2020-07-31', '2020-08-01',\n",
       "               '2020-08-01', '2020-08-02'],\n",
       "              dtype='datetime64[ns]', name='Date', length=1882, freq=None)"
      ]
     },
     "execution_count": 25,
     "metadata": {},
     "output_type": "execute_result"
    }
   ],
   "source": [
    "random_walk.index"
   ]
  },
  {
   "cell_type": "code",
   "execution_count": 26,
   "metadata": {},
   "outputs": [
    {
     "data": {
      "text/plain": [
       "91437.44530456958"
      ]
     },
     "execution_count": 26,
     "metadata": {},
     "output_type": "execute_result"
    }
   ],
   "source": [
    "metric.mean_squared_error(train[1:], random_walk)"
   ]
  },
  {
   "cell_type": "code",
   "execution_count": 30,
   "metadata": {},
   "outputs": [
    {
     "data": {
      "text/plain": [
       "0.001077400777264864"
      ]
     },
     "execution_count": 30,
     "metadata": {},
     "output_type": "execute_result"
    }
   ],
   "source": [
    "metric.mean_squared_log_error(train['2015-07-21':'2015-08-30'], random_walk['2015-07-21':'2015-08-30'])"
   ]
  },
  {
   "cell_type": "code",
   "execution_count": null,
   "metadata": {},
   "outputs": [],
   "source": []
  },
  {
   "cell_type": "code",
   "execution_count": null,
   "metadata": {},
   "outputs": [],
   "source": []
  },
  {
   "cell_type": "code",
   "execution_count": null,
   "metadata": {},
   "outputs": [],
   "source": []
  },
  {
   "cell_type": "markdown",
   "metadata": {},
   "source": [
    "## ARIMA MODEL"
   ]
  },
  {
   "cell_type": "code",
   "execution_count": 55,
   "metadata": {},
   "outputs": [],
   "source": [
    "from statsmodels.tsa.arima.model import ARIMA\n",
    "from sklearn.model_selection import TimeSeriesSplit"
   ]
  },
  {
   "cell_type": "code",
   "execution_count": 125,
   "metadata": {},
   "outputs": [],
   "source": [
    "# create timeseriessplit object\n",
    "data = btc.Close\n",
    "n = 5\n",
    "tss = TimeSeriesSplit(n_splits = n)\n",
    "split_data = tss.split(data)"
   ]
  },
  {
   "cell_type": "code",
   "execution_count": 126,
   "metadata": {},
   "outputs": [],
   "source": [
    "# save split data for time series cross val\n",
    "i = 0\n",
    "tss_train = []\n",
    "tss_test = []\n",
    "for j, k in split_data:\n",
    "    # use globals to save \n",
    "    tss_train.append(j)\n",
    "    tss_test.append(k)\n",
    "    \n",
    "tss_train = np.array(tss_train)\n",
    "tss_test = np.array(tss_test)"
   ]
  },
  {
   "cell_type": "code",
   "execution_count": 127,
   "metadata": {},
   "outputs": [],
   "source": [
    "# define function to print min and max of array/list\n",
    "def print_info(input_):\n",
    "    min_value = min(input_) \n",
    "    max_value = max(input_)\n",
    "    \n",
    "    return f'min: {min_value} max: {max_value}\\n'"
   ]
  },
  {
   "cell_type": "code",
   "execution_count": 129,
   "metadata": {},
   "outputs": [
    {
     "ename": "ValueError",
     "evalue": "too many values to unpack (expected 2)",
     "output_type": "error",
     "traceback": [
      "\u001b[1;31m---------------------------------------------------------------------------\u001b[0m",
      "\u001b[1;31mValueError\u001b[0m                                Traceback (most recent call last)",
      "\u001b[1;32m<ipython-input-129-4099b7345a01>\u001b[0m in \u001b[0;36m<module>\u001b[1;34m\u001b[0m\n\u001b[0;32m      1\u001b[0m \u001b[1;31m# iterate thgouh timeseriessplit object and print info\u001b[0m\u001b[1;33m\u001b[0m\u001b[1;33m\u001b[0m\u001b[1;33m\u001b[0m\u001b[0m\n\u001b[1;32m----> 2\u001b[1;33m \u001b[1;32mfor\u001b[0m \u001b[0mtrain_index\u001b[0m\u001b[1;33m,\u001b[0m \u001b[0mtest_index\u001b[0m \u001b[1;32min\u001b[0m \u001b[0mtss_train\u001b[0m\u001b[1;33m,\u001b[0m \u001b[0mtss_test\u001b[0m\u001b[1;33m:\u001b[0m\u001b[1;33m\u001b[0m\u001b[1;33m\u001b[0m\u001b[0m\n\u001b[0m\u001b[0;32m      3\u001b[0m     \u001b[0mprint\u001b[0m\u001b[1;33m(\u001b[0m\u001b[1;34m'Train:'\u001b[0m\u001b[1;33m,\u001b[0m \u001b[0mprint_info\u001b[0m\u001b[1;33m(\u001b[0m\u001b[0mtrain_index\u001b[0m\u001b[1;33m)\u001b[0m\u001b[1;33m)\u001b[0m\u001b[1;33m\u001b[0m\u001b[1;33m\u001b[0m\u001b[0m\n\u001b[0;32m      4\u001b[0m     \u001b[0mprint\u001b[0m\u001b[1;33m(\u001b[0m\u001b[1;34m'Test:'\u001b[0m\u001b[1;33m,\u001b[0m \u001b[0mprint_info\u001b[0m\u001b[1;33m(\u001b[0m\u001b[0mtest_index\u001b[0m\u001b[1;33m)\u001b[0m\u001b[1;33m)\u001b[0m\u001b[1;33m\u001b[0m\u001b[1;33m\u001b[0m\u001b[0m\n",
      "\u001b[1;31mValueError\u001b[0m: too many values to unpack (expected 2)"
     ]
    }
   ],
   "source": [
    "# iterate thgouh timeseriessplit object and print info\n",
    "for train_index, test_index in tss_train, tss_test:\n",
    "    print('Train:', print_info(train_index))\n",
    "    print('Test:', print_info(test_index))"
   ]
  },
  {
   "cell_type": "code",
   "execution_count": 51,
   "metadata": {},
   "outputs": [
    {
     "data": {
      "text/plain": [
       "1963"
      ]
     },
     "execution_count": 51,
     "metadata": {},
     "output_type": "execute_result"
    }
   ],
   "source": [
    "test_index[1]"
   ]
  },
  {
   "cell_type": "code",
   "execution_count": null,
   "metadata": {},
   "outputs": [],
   "source": []
  },
  {
   "cell_type": "code",
   "execution_count": 53,
   "metadata": {},
   "outputs": [
    {
     "data": {
      "text/plain": [
       "280.0"
      ]
     },
     "execution_count": 53,
     "metadata": {},
     "output_type": "execute_result"
    }
   ],
   "source": [
    "x = btc['Close'].iloc[train_index[0]]\n",
    "x\n",
    "# x.append(btc['Close'].iloc[train_index[1]])\n",
    "# x"
   ]
  },
  {
   "cell_type": "code",
   "execution_count": null,
   "metadata": {},
   "outputs": [],
   "source": []
  },
  {
   "cell_type": "code",
   "execution_count": 56,
   "metadata": {},
   "outputs": [
    {
     "ename": "ValueError",
     "evalue": "endog and exog matrices are different sizes",
     "output_type": "error",
     "traceback": [
      "\u001b[1;31m---------------------------------------------------------------------------\u001b[0m",
      "\u001b[1;31mValueError\u001b[0m                                Traceback (most recent call last)",
      "\u001b[1;32m<ipython-input-56-cb543f2677a4>\u001b[0m in \u001b[0;36m<module>\u001b[1;34m\u001b[0m\n\u001b[0;32m      3\u001b[0m \u001b[1;31m# (0,1,0) as the order means 1st order differenced model, essentially a random walk\u001b[0m\u001b[1;33m\u001b[0m\u001b[1;33m\u001b[0m\u001b[1;33m\u001b[0m\u001b[0m\n\u001b[0;32m      4\u001b[0m \u001b[1;33m\u001b[0m\u001b[0m\n\u001b[1;32m----> 5\u001b[1;33m \u001b[0mrw\u001b[0m \u001b[1;33m=\u001b[0m \u001b[0mARIMA\u001b[0m\u001b[1;33m(\u001b[0m\u001b[0mtrain\u001b[0m\u001b[1;33m,\u001b[0m \u001b[1;33m(\u001b[0m\u001b[1;36m0\u001b[0m\u001b[1;33m,\u001b[0m\u001b[1;36m1\u001b[0m\u001b[1;33m,\u001b[0m\u001b[1;36m0\u001b[0m\u001b[1;33m)\u001b[0m\u001b[1;33m,\u001b[0m \u001b[0mfreq\u001b[0m\u001b[1;33m=\u001b[0m\u001b[1;34m'D'\u001b[0m\u001b[1;33m)\u001b[0m\u001b[1;33m.\u001b[0m\u001b[0mfit\u001b[0m\u001b[1;33m(\u001b[0m\u001b[1;33m)\u001b[0m\u001b[1;33m\u001b[0m\u001b[1;33m\u001b[0m\u001b[0m\n\u001b[0m\u001b[0;32m      6\u001b[0m \u001b[1;33m\u001b[0m\u001b[0m\n\u001b[0;32m      7\u001b[0m \u001b[0my_hat\u001b[0m \u001b[1;33m=\u001b[0m \u001b[0mrw\u001b[0m\u001b[1;33m.\u001b[0m\u001b[0mpredict\u001b[0m\u001b[1;33m(\u001b[0m\u001b[0mtyp\u001b[0m\u001b[1;33m=\u001b[0m\u001b[1;34m'levels'\u001b[0m\u001b[1;33m)\u001b[0m\u001b[1;33m\u001b[0m\u001b[1;33m\u001b[0m\u001b[0m\n",
      "\u001b[1;32m~\\anaconda3\\envs\\oy-env\\lib\\site-packages\\statsmodels\\tsa\\arima\\model.py\u001b[0m in \u001b[0;36m__init__\u001b[1;34m(self, endog, exog, order, seasonal_order, trend, enforce_stationarity, enforce_invertibility, concentrate_scale, trend_offset, dates, freq, missing)\u001b[0m\n\u001b[0;32m    127\u001b[0m         \u001b[1;31m# this criteria. Instead, we'll just make sure that the parameter\u001b[0m\u001b[1;33m\u001b[0m\u001b[1;33m\u001b[0m\u001b[1;33m\u001b[0m\u001b[0m\n\u001b[0;32m    128\u001b[0m         \u001b[1;31m# estimates from those methods satisfy the criteria.)\u001b[0m\u001b[1;33m\u001b[0m\u001b[1;33m\u001b[0m\u001b[1;33m\u001b[0m\u001b[0m\n\u001b[1;32m--> 129\u001b[1;33m         self._spec_arima = SARIMAXSpecification(\n\u001b[0m\u001b[0;32m    130\u001b[0m             \u001b[0mendog\u001b[0m\u001b[1;33m,\u001b[0m \u001b[0mexog\u001b[0m\u001b[1;33m=\u001b[0m\u001b[0mexog\u001b[0m\u001b[1;33m,\u001b[0m \u001b[0morder\u001b[0m\u001b[1;33m=\u001b[0m\u001b[0morder\u001b[0m\u001b[1;33m,\u001b[0m \u001b[0mseasonal_order\u001b[0m\u001b[1;33m=\u001b[0m\u001b[0mseasonal_order\u001b[0m\u001b[1;33m,\u001b[0m\u001b[1;33m\u001b[0m\u001b[1;33m\u001b[0m\u001b[0m\n\u001b[0;32m    131\u001b[0m             \u001b[0mtrend\u001b[0m\u001b[1;33m=\u001b[0m\u001b[0mtrend\u001b[0m\u001b[1;33m,\u001b[0m \u001b[0menforce_stationarity\u001b[0m\u001b[1;33m=\u001b[0m\u001b[1;32mNone\u001b[0m\u001b[1;33m,\u001b[0m \u001b[0menforce_invertibility\u001b[0m\u001b[1;33m=\u001b[0m\u001b[1;32mNone\u001b[0m\u001b[1;33m,\u001b[0m\u001b[1;33m\u001b[0m\u001b[1;33m\u001b[0m\u001b[0m\n",
      "\u001b[1;32m~\\anaconda3\\envs\\oy-env\\lib\\site-packages\\statsmodels\\tsa\\arima\\specification.py\u001b[0m in \u001b[0;36m__init__\u001b[1;34m(self, endog, exog, order, seasonal_order, ar_order, diff, ma_order, seasonal_ar_order, seasonal_diff, seasonal_ma_order, seasonal_periods, trend, enforce_stationarity, enforce_invertibility, concentrate_scale, trend_offset, dates, freq, missing)\u001b[0m\n\u001b[0;32m    418\u001b[0m         \u001b[1;31m# especially validating shapes, retrieving names, and potentially\u001b[0m\u001b[1;33m\u001b[0m\u001b[1;33m\u001b[0m\u001b[1;33m\u001b[0m\u001b[0m\n\u001b[0;32m    419\u001b[0m         \u001b[1;31m# providing us with a time series index\u001b[0m\u001b[1;33m\u001b[0m\u001b[1;33m\u001b[0m\u001b[1;33m\u001b[0m\u001b[0m\n\u001b[1;32m--> 420\u001b[1;33m         self._model = TimeSeriesModel(endog, exog=exog, dates=dates, freq=freq,\n\u001b[0m\u001b[0;32m    421\u001b[0m                                       missing=missing)\n\u001b[0;32m    422\u001b[0m         \u001b[0mself\u001b[0m\u001b[1;33m.\u001b[0m\u001b[0mendog\u001b[0m \u001b[1;33m=\u001b[0m \u001b[1;32mNone\u001b[0m \u001b[1;32mif\u001b[0m \u001b[0mfaux_endog\u001b[0m \u001b[1;32melse\u001b[0m \u001b[0mself\u001b[0m\u001b[1;33m.\u001b[0m\u001b[0m_model\u001b[0m\u001b[1;33m.\u001b[0m\u001b[0mendog\u001b[0m\u001b[1;33m\u001b[0m\u001b[1;33m\u001b[0m\u001b[0m\n",
      "\u001b[1;32m~\\anaconda3\\envs\\oy-env\\lib\\site-packages\\statsmodels\\tsa\\base\\tsa_model.py\u001b[0m in \u001b[0;36m__init__\u001b[1;34m(self, endog, exog, dates, freq, missing, **kwargs)\u001b[0m\n\u001b[0;32m     44\u001b[0m     def __init__(self, endog, exog=None, dates=None, freq=None,\n\u001b[0;32m     45\u001b[0m                  missing='none', **kwargs):\n\u001b[1;32m---> 46\u001b[1;33m         super(TimeSeriesModel, self).__init__(endog, exog, missing=missing,\n\u001b[0m\u001b[0;32m     47\u001b[0m                                               **kwargs)\n\u001b[0;32m     48\u001b[0m \u001b[1;33m\u001b[0m\u001b[0m\n",
      "\u001b[1;32m~\\anaconda3\\envs\\oy-env\\lib\\site-packages\\statsmodels\\base\\model.py\u001b[0m in \u001b[0;36m__init__\u001b[1;34m(self, endog, exog, **kwargs)\u001b[0m\n\u001b[0;32m    234\u001b[0m \u001b[1;33m\u001b[0m\u001b[0m\n\u001b[0;32m    235\u001b[0m     \u001b[1;32mdef\u001b[0m \u001b[0m__init__\u001b[0m\u001b[1;33m(\u001b[0m\u001b[0mself\u001b[0m\u001b[1;33m,\u001b[0m \u001b[0mendog\u001b[0m\u001b[1;33m,\u001b[0m \u001b[0mexog\u001b[0m\u001b[1;33m=\u001b[0m\u001b[1;32mNone\u001b[0m\u001b[1;33m,\u001b[0m \u001b[1;33m**\u001b[0m\u001b[0mkwargs\u001b[0m\u001b[1;33m)\u001b[0m\u001b[1;33m:\u001b[0m\u001b[1;33m\u001b[0m\u001b[1;33m\u001b[0m\u001b[0m\n\u001b[1;32m--> 236\u001b[1;33m         \u001b[0msuper\u001b[0m\u001b[1;33m(\u001b[0m\u001b[0mLikelihoodModel\u001b[0m\u001b[1;33m,\u001b[0m \u001b[0mself\u001b[0m\u001b[1;33m)\u001b[0m\u001b[1;33m.\u001b[0m\u001b[0m__init__\u001b[0m\u001b[1;33m(\u001b[0m\u001b[0mendog\u001b[0m\u001b[1;33m,\u001b[0m \u001b[0mexog\u001b[0m\u001b[1;33m,\u001b[0m \u001b[1;33m**\u001b[0m\u001b[0mkwargs\u001b[0m\u001b[1;33m)\u001b[0m\u001b[1;33m\u001b[0m\u001b[1;33m\u001b[0m\u001b[0m\n\u001b[0m\u001b[0;32m    237\u001b[0m         \u001b[0mself\u001b[0m\u001b[1;33m.\u001b[0m\u001b[0minitialize\u001b[0m\u001b[1;33m(\u001b[0m\u001b[1;33m)\u001b[0m\u001b[1;33m\u001b[0m\u001b[1;33m\u001b[0m\u001b[0m\n\u001b[0;32m    238\u001b[0m \u001b[1;33m\u001b[0m\u001b[0m\n",
      "\u001b[1;32m~\\anaconda3\\envs\\oy-env\\lib\\site-packages\\statsmodels\\base\\model.py\u001b[0m in \u001b[0;36m__init__\u001b[1;34m(self, endog, exog, **kwargs)\u001b[0m\n\u001b[0;32m     74\u001b[0m         \u001b[0mmissing\u001b[0m \u001b[1;33m=\u001b[0m \u001b[0mkwargs\u001b[0m\u001b[1;33m.\u001b[0m\u001b[0mpop\u001b[0m\u001b[1;33m(\u001b[0m\u001b[1;34m'missing'\u001b[0m\u001b[1;33m,\u001b[0m \u001b[1;34m'none'\u001b[0m\u001b[1;33m)\u001b[0m\u001b[1;33m\u001b[0m\u001b[1;33m\u001b[0m\u001b[0m\n\u001b[0;32m     75\u001b[0m         \u001b[0mhasconst\u001b[0m \u001b[1;33m=\u001b[0m \u001b[0mkwargs\u001b[0m\u001b[1;33m.\u001b[0m\u001b[0mpop\u001b[0m\u001b[1;33m(\u001b[0m\u001b[1;34m'hasconst'\u001b[0m\u001b[1;33m,\u001b[0m \u001b[1;32mNone\u001b[0m\u001b[1;33m)\u001b[0m\u001b[1;33m\u001b[0m\u001b[1;33m\u001b[0m\u001b[0m\n\u001b[1;32m---> 76\u001b[1;33m         self.data = self._handle_data(endog, exog, missing, hasconst,\n\u001b[0m\u001b[0;32m     77\u001b[0m                                       **kwargs)\n\u001b[0;32m     78\u001b[0m         \u001b[0mself\u001b[0m\u001b[1;33m.\u001b[0m\u001b[0mk_constant\u001b[0m \u001b[1;33m=\u001b[0m \u001b[0mself\u001b[0m\u001b[1;33m.\u001b[0m\u001b[0mdata\u001b[0m\u001b[1;33m.\u001b[0m\u001b[0mk_constant\u001b[0m\u001b[1;33m\u001b[0m\u001b[1;33m\u001b[0m\u001b[0m\n",
      "\u001b[1;32m~\\anaconda3\\envs\\oy-env\\lib\\site-packages\\statsmodels\\base\\model.py\u001b[0m in \u001b[0;36m_handle_data\u001b[1;34m(self, endog, exog, missing, hasconst, **kwargs)\u001b[0m\n\u001b[0;32m     98\u001b[0m \u001b[1;33m\u001b[0m\u001b[0m\n\u001b[0;32m     99\u001b[0m     \u001b[1;32mdef\u001b[0m \u001b[0m_handle_data\u001b[0m\u001b[1;33m(\u001b[0m\u001b[0mself\u001b[0m\u001b[1;33m,\u001b[0m \u001b[0mendog\u001b[0m\u001b[1;33m,\u001b[0m \u001b[0mexog\u001b[0m\u001b[1;33m,\u001b[0m \u001b[0mmissing\u001b[0m\u001b[1;33m,\u001b[0m \u001b[0mhasconst\u001b[0m\u001b[1;33m,\u001b[0m \u001b[1;33m**\u001b[0m\u001b[0mkwargs\u001b[0m\u001b[1;33m)\u001b[0m\u001b[1;33m:\u001b[0m\u001b[1;33m\u001b[0m\u001b[1;33m\u001b[0m\u001b[0m\n\u001b[1;32m--> 100\u001b[1;33m         \u001b[0mdata\u001b[0m \u001b[1;33m=\u001b[0m \u001b[0mhandle_data\u001b[0m\u001b[1;33m(\u001b[0m\u001b[0mendog\u001b[0m\u001b[1;33m,\u001b[0m \u001b[0mexog\u001b[0m\u001b[1;33m,\u001b[0m \u001b[0mmissing\u001b[0m\u001b[1;33m,\u001b[0m \u001b[0mhasconst\u001b[0m\u001b[1;33m,\u001b[0m \u001b[1;33m**\u001b[0m\u001b[0mkwargs\u001b[0m\u001b[1;33m)\u001b[0m\u001b[1;33m\u001b[0m\u001b[1;33m\u001b[0m\u001b[0m\n\u001b[0m\u001b[0;32m    101\u001b[0m         \u001b[1;31m# kwargs arrays could have changed, easier to just attach here\u001b[0m\u001b[1;33m\u001b[0m\u001b[1;33m\u001b[0m\u001b[1;33m\u001b[0m\u001b[0m\n\u001b[0;32m    102\u001b[0m         \u001b[1;32mfor\u001b[0m \u001b[0mkey\u001b[0m \u001b[1;32min\u001b[0m \u001b[0mkwargs\u001b[0m\u001b[1;33m:\u001b[0m\u001b[1;33m\u001b[0m\u001b[1;33m\u001b[0m\u001b[0m\n",
      "\u001b[1;32m~\\anaconda3\\envs\\oy-env\\lib\\site-packages\\statsmodels\\base\\data.py\u001b[0m in \u001b[0;36mhandle_data\u001b[1;34m(endog, exog, missing, hasconst, **kwargs)\u001b[0m\n\u001b[0;32m    669\u001b[0m \u001b[1;33m\u001b[0m\u001b[0m\n\u001b[0;32m    670\u001b[0m     \u001b[0mklass\u001b[0m \u001b[1;33m=\u001b[0m \u001b[0mhandle_data_class_factory\u001b[0m\u001b[1;33m(\u001b[0m\u001b[0mendog\u001b[0m\u001b[1;33m,\u001b[0m \u001b[0mexog\u001b[0m\u001b[1;33m)\u001b[0m\u001b[1;33m\u001b[0m\u001b[1;33m\u001b[0m\u001b[0m\n\u001b[1;32m--> 671\u001b[1;33m     return klass(endog, exog=exog, missing=missing, hasconst=hasconst,\n\u001b[0m\u001b[0;32m    672\u001b[0m                  **kwargs)\n",
      "\u001b[1;32m~\\anaconda3\\envs\\oy-env\\lib\\site-packages\\statsmodels\\base\\data.py\u001b[0m in \u001b[0;36m__init__\u001b[1;34m(self, endog, exog, missing, hasconst, **kwargs)\u001b[0m\n\u001b[0;32m     86\u001b[0m         \u001b[0mself\u001b[0m\u001b[1;33m.\u001b[0m\u001b[0mk_constant\u001b[0m \u001b[1;33m=\u001b[0m \u001b[1;36m0\u001b[0m\u001b[1;33m\u001b[0m\u001b[1;33m\u001b[0m\u001b[0m\n\u001b[0;32m     87\u001b[0m         \u001b[0mself\u001b[0m\u001b[1;33m.\u001b[0m\u001b[0m_handle_constant\u001b[0m\u001b[1;33m(\u001b[0m\u001b[0mhasconst\u001b[0m\u001b[1;33m)\u001b[0m\u001b[1;33m\u001b[0m\u001b[1;33m\u001b[0m\u001b[0m\n\u001b[1;32m---> 88\u001b[1;33m         \u001b[0mself\u001b[0m\u001b[1;33m.\u001b[0m\u001b[0m_check_integrity\u001b[0m\u001b[1;33m(\u001b[0m\u001b[1;33m)\u001b[0m\u001b[1;33m\u001b[0m\u001b[1;33m\u001b[0m\u001b[0m\n\u001b[0m\u001b[0;32m     89\u001b[0m         \u001b[0mself\u001b[0m\u001b[1;33m.\u001b[0m\u001b[0m_cache\u001b[0m \u001b[1;33m=\u001b[0m \u001b[1;33m{\u001b[0m\u001b[1;33m}\u001b[0m\u001b[1;33m\u001b[0m\u001b[1;33m\u001b[0m\u001b[0m\n\u001b[0;32m     90\u001b[0m \u001b[1;33m\u001b[0m\u001b[0m\n",
      "\u001b[1;32m~\\anaconda3\\envs\\oy-env\\lib\\site-packages\\statsmodels\\base\\data.py\u001b[0m in \u001b[0;36m_check_integrity\u001b[1;34m(self)\u001b[0m\n\u001b[0;32m    531\u001b[0m                 not self.orig_endog.index.equals(self.orig_exog.index)):\n\u001b[0;32m    532\u001b[0m             \u001b[1;32mraise\u001b[0m \u001b[0mValueError\u001b[0m\u001b[1;33m(\u001b[0m\u001b[1;34m\"The indices for endog and exog are not aligned\"\u001b[0m\u001b[1;33m)\u001b[0m\u001b[1;33m\u001b[0m\u001b[1;33m\u001b[0m\u001b[0m\n\u001b[1;32m--> 533\u001b[1;33m         \u001b[0msuper\u001b[0m\u001b[1;33m(\u001b[0m\u001b[0mPandasData\u001b[0m\u001b[1;33m,\u001b[0m \u001b[0mself\u001b[0m\u001b[1;33m)\u001b[0m\u001b[1;33m.\u001b[0m\u001b[0m_check_integrity\u001b[0m\u001b[1;33m(\u001b[0m\u001b[1;33m)\u001b[0m\u001b[1;33m\u001b[0m\u001b[1;33m\u001b[0m\u001b[0m\n\u001b[0m\u001b[0;32m    534\u001b[0m \u001b[1;33m\u001b[0m\u001b[0m\n\u001b[0;32m    535\u001b[0m     \u001b[1;32mdef\u001b[0m \u001b[0m_get_row_labels\u001b[0m\u001b[1;33m(\u001b[0m\u001b[0mself\u001b[0m\u001b[1;33m,\u001b[0m \u001b[0marr\u001b[0m\u001b[1;33m)\u001b[0m\u001b[1;33m:\u001b[0m\u001b[1;33m\u001b[0m\u001b[1;33m\u001b[0m\u001b[0m\n",
      "\u001b[1;32m~\\anaconda3\\envs\\oy-env\\lib\\site-packages\\statsmodels\\base\\data.py\u001b[0m in \u001b[0;36m_check_integrity\u001b[1;34m(self)\u001b[0m\n\u001b[0;32m    433\u001b[0m         \u001b[1;32mif\u001b[0m \u001b[0mself\u001b[0m\u001b[1;33m.\u001b[0m\u001b[0mexog\u001b[0m \u001b[1;32mis\u001b[0m \u001b[1;32mnot\u001b[0m \u001b[1;32mNone\u001b[0m\u001b[1;33m:\u001b[0m\u001b[1;33m\u001b[0m\u001b[1;33m\u001b[0m\u001b[0m\n\u001b[0;32m    434\u001b[0m             \u001b[1;32mif\u001b[0m \u001b[0mlen\u001b[0m\u001b[1;33m(\u001b[0m\u001b[0mself\u001b[0m\u001b[1;33m.\u001b[0m\u001b[0mexog\u001b[0m\u001b[1;33m)\u001b[0m \u001b[1;33m!=\u001b[0m \u001b[0mlen\u001b[0m\u001b[1;33m(\u001b[0m\u001b[0mself\u001b[0m\u001b[1;33m.\u001b[0m\u001b[0mendog\u001b[0m\u001b[1;33m)\u001b[0m\u001b[1;33m:\u001b[0m\u001b[1;33m\u001b[0m\u001b[1;33m\u001b[0m\u001b[0m\n\u001b[1;32m--> 435\u001b[1;33m                 \u001b[1;32mraise\u001b[0m \u001b[0mValueError\u001b[0m\u001b[1;33m(\u001b[0m\u001b[1;34m\"endog and exog matrices are different sizes\"\u001b[0m\u001b[1;33m)\u001b[0m\u001b[1;33m\u001b[0m\u001b[1;33m\u001b[0m\u001b[0m\n\u001b[0m\u001b[0;32m    436\u001b[0m \u001b[1;33m\u001b[0m\u001b[0m\n\u001b[0;32m    437\u001b[0m     \u001b[1;32mdef\u001b[0m \u001b[0mwrap_output\u001b[0m\u001b[1;33m(\u001b[0m\u001b[0mself\u001b[0m\u001b[1;33m,\u001b[0m \u001b[0mobj\u001b[0m\u001b[1;33m,\u001b[0m \u001b[0mhow\u001b[0m\u001b[1;33m=\u001b[0m\u001b[1;34m'columns'\u001b[0m\u001b[1;33m,\u001b[0m \u001b[0mnames\u001b[0m\u001b[1;33m=\u001b[0m\u001b[1;32mNone\u001b[0m\u001b[1;33m)\u001b[0m\u001b[1;33m:\u001b[0m\u001b[1;33m\u001b[0m\u001b[1;33m\u001b[0m\u001b[0m\n",
      "\u001b[1;31mValueError\u001b[0m: endog and exog matrices are different sizes"
     ]
    }
   ],
   "source": [
    "# CREATE arima_model object, pass training set and order\n",
    "\n",
    "# (0,1,0) as the order means 1st order differenced model, essentially a random walk\n",
    "\n",
    "rw = ARIMA(train, (0,1,0), freq='D').fit()\n",
    "\n",
    "y_hat = rw.predict(typ='levels')\n",
    "y_hat"
   ]
  },
  {
   "cell_type": "code",
   "execution_count": 39,
   "metadata": {},
   "outputs": [
    {
     "data": {
      "text/plain": [
       "1729.429428266681"
      ]
     },
     "execution_count": 39,
     "metadata": {},
     "output_type": "execute_result"
    }
   ],
   "source": [
    "# find squared error and compare to random walk model generated manually\n",
    "metric.mean_squared_error(train[1:], y_hat)"
   ]
  },
  {
   "cell_type": "code",
   "execution_count": 40,
   "metadata": {},
   "outputs": [],
   "source": [
    "# per answer above, essentially random walk model"
   ]
  },
  {
   "cell_type": "code",
   "execution_count": 41,
   "metadata": {},
   "outputs": [
    {
     "data": {
      "text/plain": [
       "2013-04-29     136.896156\n",
       "2013-04-30     147.409508\n",
       "2013-05-01     141.488836\n",
       "2013-05-02     119.083772\n",
       "2013-05-03     107.549158\n",
       "                 ...     \n",
       "2017-08-23    4105.511149\n",
       "2017-08-24    4155.365055\n",
       "2017-08-25    4341.695164\n",
       "2017-08-26    4375.107320\n",
       "2017-08-27    4354.561175\n",
       "Freq: D, Length: 1582, dtype: float64"
      ]
     },
     "execution_count": 41,
     "metadata": {},
     "output_type": "execute_result"
    }
   ],
   "source": [
    "# CREATE arima_model object, pass training set and order\n",
    "\n",
    "# (1,1,0) as the order means 1st order differenced model, with additional lag\n",
    "\n",
    "ar_1 = ARIMA(train, (1,1,0), freq='D').fit()\n",
    "\n",
    "y_hat = ar_1.predict(typ='levels')\n",
    "y_hat"
   ]
  },
  {
   "cell_type": "code",
   "execution_count": 42,
   "metadata": {},
   "outputs": [
    {
     "data": {
      "text/plain": [
       "1728.433415133815"
      ]
     },
     "execution_count": 42,
     "metadata": {},
     "output_type": "execute_result"
    }
   ],
   "source": [
    "metric.mean_squared_error(train[1:], y_hat)"
   ]
  },
  {
   "cell_type": "code",
   "execution_count": 43,
   "metadata": {},
   "outputs": [
    {
     "data": {
      "text/plain": [
       "2013-04-30     154.885044\n",
       "2013-05-01     141.386915\n",
       "2013-05-02     111.216079\n",
       "2013-05-03      97.990709\n",
       "2013-05-04      90.514020\n",
       "                 ...     \n",
       "2017-08-23    4121.901447\n",
       "2017-08-24    4173.047590\n",
       "2017-08-25    4358.432240\n",
       "2017-08-26    4394.950258\n",
       "2017-08-27    4375.102446\n",
       "Freq: D, Length: 1581, dtype: float64"
      ]
     },
     "execution_count": 43,
     "metadata": {},
     "output_type": "execute_result"
    }
   ],
   "source": [
    "# CREATE arima_model object, pass training set and order\n",
    "\n",
    "# try higher order models\n",
    "\n",
    "ar_2 = ARIMA(train, (1,2,1), freq='D').fit()\n",
    "\n",
    "y_hat = ar_2.predict(typ='levels')\n",
    "y_hat"
   ]
  },
  {
   "cell_type": "code",
   "execution_count": 44,
   "metadata": {},
   "outputs": [
    {
     "data": {
      "text/plain": [
       "1712.4775402782118"
      ]
     },
     "execution_count": 44,
     "metadata": {},
     "output_type": "execute_result"
    }
   ],
   "source": [
    "metric.mean_squared_error(train[2:], y_hat)"
   ]
  },
  {
   "cell_type": "code",
   "execution_count": 45,
   "metadata": {},
   "outputs": [
    {
     "data": {
      "text/html": [
       "<table class=\"simpletable\">\n",
       "<caption>ARIMA Model Results</caption>\n",
       "<tr>\n",
       "  <th>Dep. Variable:</th>     <td>D2.Close</td>     <th>  No. Observations:  </th>   <td>1581</td>   \n",
       "</tr>\n",
       "<tr>\n",
       "  <th>Model:</th>          <td>ARIMA(1, 2, 1)</td>  <th>  Log Likelihood     </th> <td>-8130.940</td>\n",
       "</tr>\n",
       "<tr>\n",
       "  <th>Method:</th>             <td>css-mle</td>     <th>  S.D. of innovations</th>  <td>41.378</td>  \n",
       "</tr>\n",
       "<tr>\n",
       "  <th>Date:</th>          <td>Thu, 12 Aug 2021</td> <th>  AIC                </th> <td>16269.879</td>\n",
       "</tr>\n",
       "<tr>\n",
       "  <th>Time:</th>              <td>22:40:15</td>     <th>  BIC                </th> <td>16291.343</td>\n",
       "</tr>\n",
       "<tr>\n",
       "  <th>Sample:</th>           <td>04-30-2013</td>    <th>  HQIC               </th> <td>16277.854</td>\n",
       "</tr>\n",
       "<tr>\n",
       "  <th></th>                 <td>- 08-27-2017</td>   <th>                     </th>     <td> </td>    \n",
       "</tr>\n",
       "</table>\n",
       "<table class=\"simpletable\">\n",
       "<tr>\n",
       "         <td></td>           <th>coef</th>     <th>std err</th>      <th>z</th>      <th>P>|z|</th>  <th>[0.025</th>    <th>0.975]</th>  \n",
       "</tr>\n",
       "<tr>\n",
       "  <th>const</th>          <td>    0.0150</td> <td>    0.012</td> <td>    1.242</td> <td> 0.214</td> <td>   -0.009</td> <td>    0.039</td>\n",
       "</tr>\n",
       "<tr>\n",
       "  <th>ar.L1.D2.Close</th> <td>    0.0038</td> <td>    0.025</td> <td>    0.149</td> <td> 0.881</td> <td>   -0.046</td> <td>    0.054</td>\n",
       "</tr>\n",
       "<tr>\n",
       "  <th>ma.L1.D2.Close</th> <td>   -0.9894</td> <td>    0.004</td> <td> -230.480</td> <td> 0.000</td> <td>   -0.998</td> <td>   -0.981</td>\n",
       "</tr>\n",
       "</table>\n",
       "<table class=\"simpletable\">\n",
       "<caption>Roots</caption>\n",
       "<tr>\n",
       "    <td></td>   <th>            Real</th>  <th>         Imaginary</th> <th>         Modulus</th>  <th>        Frequency</th>\n",
       "</tr>\n",
       "<tr>\n",
       "  <th>AR.1</th> <td>         262.9998</td> <td>          +0.0000j</td> <td>         262.9998</td> <td>           0.0000</td>\n",
       "</tr>\n",
       "<tr>\n",
       "  <th>MA.1</th> <td>           1.0107</td> <td>          +0.0000j</td> <td>           1.0107</td> <td>           0.0000</td>\n",
       "</tr>\n",
       "</table>"
      ],
      "text/plain": [
       "<class 'statsmodels.iolib.summary.Summary'>\n",
       "\"\"\"\n",
       "                             ARIMA Model Results                              \n",
       "==============================================================================\n",
       "Dep. Variable:               D2.Close   No. Observations:                 1581\n",
       "Model:                 ARIMA(1, 2, 1)   Log Likelihood               -8130.940\n",
       "Method:                       css-mle   S.D. of innovations             41.378\n",
       "Date:                Thu, 12 Aug 2021   AIC                          16269.879\n",
       "Time:                        22:40:15   BIC                          16291.343\n",
       "Sample:                    04-30-2013   HQIC                         16277.854\n",
       "                         - 08-27-2017                                         \n",
       "==================================================================================\n",
       "                     coef    std err          z      P>|z|      [0.025      0.975]\n",
       "----------------------------------------------------------------------------------\n",
       "const              0.0150      0.012      1.242      0.214      -0.009       0.039\n",
       "ar.L1.D2.Close     0.0038      0.025      0.149      0.881      -0.046       0.054\n",
       "ma.L1.D2.Close    -0.9894      0.004   -230.480      0.000      -0.998      -0.981\n",
       "                                    Roots                                    \n",
       "=============================================================================\n",
       "                  Real          Imaginary           Modulus         Frequency\n",
       "-----------------------------------------------------------------------------\n",
       "AR.1          262.9998           +0.0000j          262.9998            0.0000\n",
       "MA.1            1.0107           +0.0000j            1.0107            0.0000\n",
       "-----------------------------------------------------------------------------\n",
       "\"\"\""
      ]
     },
     "execution_count": 45,
     "metadata": {},
     "output_type": "execute_result"
    }
   ],
   "source": [
    "ar_2.summary()"
   ]
  },
  {
   "cell_type": "code",
   "execution_count": 46,
   "metadata": {},
   "outputs": [
    {
     "name": "stderr",
     "output_type": "stream",
     "text": [
      "C:\\Users\\samjd\\anaconda3\\envs\\oy-env\\lib\\site-packages\\statsmodels\\base\\model.py:547: HessianInversionWarning: Inverting hessian failed, no bse or cov_params available\n",
      "  warn('Inverting hessian failed, no bse or cov_params '\n"
     ]
    },
    {
     "data": {
      "text/plain": [
       "2013-04-30     154.890070\n",
       "2013-05-01     143.699310\n",
       "2013-05-02     132.095900\n",
       "2013-05-03      89.875237\n",
       "2013-05-04      83.916587\n",
       "                 ...     \n",
       "2017-08-23    4061.811764\n",
       "2017-08-24    4199.758310\n",
       "2017-08-25    4398.331510\n",
       "2017-08-26    4337.701088\n",
       "2017-08-27    4426.505509\n",
       "Freq: D, Length: 1581, dtype: float64"
      ]
     },
     "execution_count": 46,
     "metadata": {},
     "output_type": "execute_result"
    }
   ],
   "source": [
    "# additoinal ARIMIA model\n",
    "ar_3 = ARIMA(train, (4,2,3), freq='D').fit()\n",
    "\n",
    "y_hat = ar_3.predict(typ='levels')\n",
    "y_hat"
   ]
  },
  {
   "cell_type": "code",
   "execution_count": 47,
   "metadata": {},
   "outputs": [
    {
     "data": {
      "text/plain": [
       "1635.6810187215967"
      ]
     },
     "execution_count": 47,
     "metadata": {},
     "output_type": "execute_result"
    }
   ],
   "source": [
    "metric.mean_squared_error(train[2:], y_hat)"
   ]
  },
  {
   "cell_type": "code",
   "execution_count": null,
   "metadata": {},
   "outputs": [],
   "source": []
  },
  {
   "cell_type": "code",
   "execution_count": 48,
   "metadata": {},
   "outputs": [
    {
     "data": {
      "text/plain": [
       "1722.6314650319014"
      ]
     },
     "execution_count": 48,
     "metadata": {},
     "output_type": "execute_result"
    }
   ],
   "source": [
    "# additoinal ARIMIA model\n",
    "ar_4 = ARIMA(train, (1,1,4), freq='D').fit()\n",
    "\n",
    "y_hat = ar_4.predict(typ='levels')\n",
    "metric.mean_squared_error(train[1:], y_hat)"
   ]
  },
  {
   "cell_type": "code",
   "execution_count": 49,
   "metadata": {},
   "outputs": [
    {
     "name": "stderr",
     "output_type": "stream",
     "text": [
      "C:\\Users\\samjd\\anaconda3\\envs\\oy-env\\lib\\site-packages\\sklearn\\utils\\validation.py:67: FutureWarning: Pass max_train_size=Date\n",
      "2013-04-28     134.21\n",
      "2013-04-29     144.54\n",
      "2013-04-30     139.00\n",
      "2013-05-01     116.99\n",
      "2013-05-02     105.21\n",
      "               ...   \n",
      "2018-09-23    6710.63\n",
      "2018-09-24    6595.41\n",
      "2018-09-25    6446.47\n",
      "2018-09-26    6495.00\n",
      "2018-09-27    6676.75\n",
      "Name: Close, Length: 1979, dtype: float64 as keyword args. From version 0.25 passing these as positional arguments will result in an error\n",
      "  warnings.warn(\"Pass {} as keyword args. From version 0.25 \"\n"
     ]
    },
    {
     "data": {
      "text/plain": [
       "TimeSeriesSplit(max_train_size=Date\n",
       "2013-04-28     134.21\n",
       "2013-04-29     144.54\n",
       "2013-04-30     139.00\n",
       "2013-05-01     116.99\n",
       "2013-05-02     105.21\n",
       "               ...\n",
       "2018-09-23    6710.63\n",
       "2018-09-24    6595.41\n",
       "2018-09-25    6446.47\n",
       "2018-09-26    6495.00\n",
       "2018-09-27    6676.75\n",
       "Name: Close, Length: 1979, dtype: float64,\n",
       "        n_splits=5)"
      ]
     },
     "execution_count": 49,
     "metadata": {},
     "output_type": "execute_result"
    }
   ],
   "source": [
    "TimeSeriesSplit(5, btc['Close'], max_train_size=0.8*btc.shape[0])"
   ]
  },
  {
   "cell_type": "markdown",
   "metadata": {},
   "source": [
    "### Make function to make data reshaping easier"
   ]
  },
  {
   "cell_type": "code",
   "execution_count": 154,
   "metadata": {},
   "outputs": [],
   "source": [
    "# function converts data to array and reshapes for linreg compatibility \n",
    "def arr_shape(data):\n",
    "    data = np.array(data)\n",
    "    data = data.reshape(-1,1)\n",
    "    return data"
   ]
  },
  {
   "cell_type": "markdown",
   "metadata": {},
   "source": [
    "## Linear Regression"
   ]
  },
  {
   "cell_type": "code",
   "execution_count": 55,
   "metadata": {},
   "outputs": [],
   "source": [
    "from sklearn.linear_model import LinearRegression\n",
    "from sklearn.model_selection import train_test_split"
   ]
  },
  {
   "cell_type": "code",
   "execution_count": 70,
   "metadata": {},
   "outputs": [
    {
     "data": {
      "text/plain": [
       "(2201, 6)"
      ]
     },
     "execution_count": 70,
     "metadata": {},
     "output_type": "execute_result"
    }
   ],
   "source": [
    "btc.shape"
   ]
  },
  {
   "cell_type": "code",
   "execution_count": 68,
   "metadata": {},
   "outputs": [
    {
     "data": {
      "text/plain": [
       "Date\n",
       "2015-07-20      280.00\n",
       "2015-07-21      277.32\n",
       "2015-07-22      277.89\n",
       "2015-07-23      277.39\n",
       "2015-07-24      289.12\n",
       "                ...   \n",
       "2021-07-24    34283.01\n",
       "2021-07-25    35428.26\n",
       "2021-07-26    37262.77\n",
       "2021-07-27    39470.48\n",
       "2021-07-28    40035.10\n",
       "Name: Close, Length: 2201, dtype: float64"
      ]
     },
     "execution_count": 68,
     "metadata": {},
     "output_type": "execute_result"
    }
   ],
   "source": [
    "btc.Close"
   ]
  },
  {
   "cell_type": "code",
   "execution_count": 139,
   "metadata": {},
   "outputs": [],
   "source": [
    "close = btc.Close\n",
    "close.reset_index(drop=True, inplace=True)\n",
    "close_index = close.index\n",
    "close = np.squeeze(close.to_numpy())\n",
    "close_index = np.squeeze(close_index.to_numpy())"
   ]
  },
  {
   "cell_type": "code",
   "execution_count": 153,
   "metadata": {},
   "outputs": [
    {
     "data": {
      "text/plain": [
       "0"
      ]
     },
     "execution_count": 153,
     "metadata": {},
     "output_type": "execute_result"
    }
   ],
   "source": [
    "close_index[0]"
   ]
  },
  {
   "cell_type": "code",
   "execution_count": 155,
   "metadata": {},
   "outputs": [],
   "source": [
    "# # separate data for linear regression\n",
    "X_train, X_test, y_train, y_test = train_test_split(close_index, close)\n",
    "\n",
    "# reshape for linreg\n",
    "X_train = arr_shape(X_train)\n",
    "X_test = arr_shape(X_test)\n",
    "y_train = arr_shape(y_train)\n",
    "y_test = arr_shape(y_test)\n"
   ]
  },
  {
   "cell_type": "code",
   "execution_count": 156,
   "metadata": {},
   "outputs": [
    {
     "data": {
      "text/plain": [
       "array([[ 2786.07],\n",
       "       [ 4214.84],\n",
       "       [  238.34],\n",
       "       ...,\n",
       "       [ 6928.5 ],\n",
       "       [ 1292.86],\n",
       "       [50089.15]])"
      ]
     },
     "execution_count": 156,
     "metadata": {},
     "output_type": "execute_result"
    }
   ],
   "source": [
    "y_train"
   ]
  },
  {
   "cell_type": "code",
   "execution_count": 157,
   "metadata": {},
   "outputs": [
    {
     "data": {
      "text/plain": [
       "array([[ 739],\n",
       "       [ 807],\n",
       "       [  73],\n",
       "       ...,\n",
       "       [ 985],\n",
       "       [ 592],\n",
       "       [2105]], dtype=int64)"
      ]
     },
     "execution_count": 157,
     "metadata": {},
     "output_type": "execute_result"
    }
   ],
   "source": [
    "X_train"
   ]
  },
  {
   "cell_type": "code",
   "execution_count": 158,
   "metadata": {},
   "outputs": [
    {
     "data": {
      "text/plain": [
       "LinearRegression()"
      ]
     },
     "execution_count": 158,
     "metadata": {},
     "output_type": "execute_result"
    }
   ],
   "source": [
    "lr = LinearRegression()\n",
    "lr.fit(X_train, y_train)"
   ]
  },
  {
   "cell_type": "code",
   "execution_count": 159,
   "metadata": {},
   "outputs": [],
   "source": [
    "preds = lr.predict(X_test)"
   ]
  },
  {
   "cell_type": "code",
   "execution_count": 160,
   "metadata": {},
   "outputs": [
    {
     "data": {
      "text/plain": [
       "array([-5766.96796992])"
      ]
     },
     "execution_count": 160,
     "metadata": {},
     "output_type": "execute_result"
    }
   ],
   "source": [
    "lr.intercept_"
   ]
  },
  {
   "cell_type": "code",
   "execution_count": 163,
   "metadata": {},
   "outputs": [
    {
     "data": {
      "text/plain": [
       "array([[13.56697558]])"
      ]
     },
     "execution_count": 163,
     "metadata": {},
     "output_type": "execute_result"
    }
   ],
   "source": [
    "lr.coef_"
   ]
  },
  {
   "cell_type": "code",
   "execution_count": null,
   "metadata": {},
   "outputs": [],
   "source": []
  }
 ],
 "metadata": {
  "kernelspec": {
   "display_name": "Python 3",
   "language": "python",
   "name": "python3"
  },
  "language_info": {
   "codemirror_mode": {
    "name": "ipython",
    "version": 3
   },
   "file_extension": ".py",
   "mimetype": "text/x-python",
   "name": "python",
   "nbconvert_exporter": "python",
   "pygments_lexer": "ipython3",
   "version": "3.8.2"
  }
 },
 "nbformat": 4,
 "nbformat_minor": 4
}
