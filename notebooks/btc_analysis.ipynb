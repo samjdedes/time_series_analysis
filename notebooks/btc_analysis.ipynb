{
 "cells": [
  {
   "cell_type": "code",
   "execution_count": 1,
   "metadata": {},
   "outputs": [],
   "source": [
    "# standard imports\n",
    "import pandas as pd\n",
    "import numpy as np  \n",
    "import matplotlib.pyplot as plt\n",
    "import datetime as dt\n",
    "import sys\n",
    "from pmdarima.arima import auto_arima\n",
    "from statsmodels.tsa.statespace.sarimax import SARIMAX\n",
    "\n",
    "# custom imports\n",
    "sys.path.append('../src')\n",
    "from fetch_range_data import fetch_range_data"
   ]
  },
  {
   "cell_type": "markdown",
   "metadata": {},
   "source": [
    "# Bitcoin"
   ]
  },
  {
   "cell_type": "markdown",
   "metadata": {},
   "source": [
    "The purpose of this notebook is to explore methods of bitcoin price forecasting"
   ]
  },
  {
   "cell_type": "markdown",
   "metadata": {},
   "source": [
    "## Get today's data"
   ]
  },
  {
   "cell_type": "code",
   "execution_count": 2,
   "metadata": {},
   "outputs": [
    {
     "name": "stdout",
     "output_type": "stream",
     "text": [
      "File exists, returned as df\n"
     ]
    }
   ],
   "source": [
    "# get today's data with custom function\n",
    "today = dt.date.today() \n",
    "first_date = '2015/07/20'\n",
    "btc = fetch_range_data('BTC/USD', first_date, today)"
   ]
  },
  {
   "cell_type": "code",
   "execution_count": 3,
   "metadata": {},
   "outputs": [
    {
     "data": {
      "text/html": [
       "<div>\n",
       "<style scoped>\n",
       "    .dataframe tbody tr th:only-of-type {\n",
       "        vertical-align: middle;\n",
       "    }\n",
       "\n",
       "    .dataframe tbody tr th {\n",
       "        vertical-align: top;\n",
       "    }\n",
       "\n",
       "    .dataframe thead th {\n",
       "        text-align: right;\n",
       "    }\n",
       "</style>\n",
       "<table border=\"1\" class=\"dataframe\">\n",
       "  <thead>\n",
       "    <tr style=\"text-align: right;\">\n",
       "      <th></th>\n",
       "      <th>date</th>\n",
       "      <th>unix</th>\n",
       "      <th>low</th>\n",
       "      <th>high</th>\n",
       "      <th>open</th>\n",
       "      <th>close</th>\n",
       "      <th>volume</th>\n",
       "      <th>vol_fiat</th>\n",
       "    </tr>\n",
       "  </thead>\n",
       "  <tbody>\n",
       "    <tr>\n",
       "      <th>0</th>\n",
       "      <td>2015-12-21</td>\n",
       "      <td>1450656000</td>\n",
       "      <td>424.66</td>\n",
       "      <td>444.44</td>\n",
       "      <td>442.36</td>\n",
       "      <td>436.81</td>\n",
       "      <td>6845.941204</td>\n",
       "      <td>2.990376e+06</td>\n",
       "    </tr>\n",
       "    <tr>\n",
       "      <th>1</th>\n",
       "      <td>2015-12-20</td>\n",
       "      <td>1450569600</td>\n",
       "      <td>430.00</td>\n",
       "      <td>461.30</td>\n",
       "      <td>461.29</td>\n",
       "      <td>442.22</td>\n",
       "      <td>8376.433353</td>\n",
       "      <td>3.704226e+06</td>\n",
       "    </tr>\n",
       "    <tr>\n",
       "      <th>2</th>\n",
       "      <td>2015-12-19</td>\n",
       "      <td>1450483200</td>\n",
       "      <td>451.58</td>\n",
       "      <td>465.60</td>\n",
       "      <td>463.14</td>\n",
       "      <td>461.29</td>\n",
       "      <td>6991.384363</td>\n",
       "      <td>3.225056e+06</td>\n",
       "    </tr>\n",
       "    <tr>\n",
       "      <th>3</th>\n",
       "      <td>2015-12-18</td>\n",
       "      <td>1450396800</td>\n",
       "      <td>453.28</td>\n",
       "      <td>465.10</td>\n",
       "      <td>455.50</td>\n",
       "      <td>463.17</td>\n",
       "      <td>5045.110025</td>\n",
       "      <td>2.336744e+06</td>\n",
       "    </tr>\n",
       "    <tr>\n",
       "      <th>4</th>\n",
       "      <td>2015-12-17</td>\n",
       "      <td>1450310400</td>\n",
       "      <td>446.01</td>\n",
       "      <td>456.33</td>\n",
       "      <td>453.96</td>\n",
       "      <td>455.50</td>\n",
       "      <td>6291.403941</td>\n",
       "      <td>2.865734e+06</td>\n",
       "    </tr>\n",
       "    <tr>\n",
       "      <th>...</th>\n",
       "      <td>...</td>\n",
       "      <td>...</td>\n",
       "      <td>...</td>\n",
       "      <td>...</td>\n",
       "      <td>...</td>\n",
       "      <td>...</td>\n",
       "      <td>...</td>\n",
       "      <td>...</td>\n",
       "    </tr>\n",
       "    <tr>\n",
       "      <th>2219</th>\n",
       "      <td>2020-11-29</td>\n",
       "      <td>1606608000</td>\n",
       "      <td>17535.26</td>\n",
       "      <td>18359.00</td>\n",
       "      <td>17736.10</td>\n",
       "      <td>18202.04</td>\n",
       "      <td>8932.250291</td>\n",
       "      <td>1.625852e+08</td>\n",
       "    </tr>\n",
       "    <tr>\n",
       "      <th>2220</th>\n",
       "      <td>2020-11-28</td>\n",
       "      <td>1606521600</td>\n",
       "      <td>16880.00</td>\n",
       "      <td>17933.25</td>\n",
       "      <td>17155.43</td>\n",
       "      <td>17739.85</td>\n",
       "      <td>13157.951965</td>\n",
       "      <td>2.334201e+08</td>\n",
       "    </tr>\n",
       "    <tr>\n",
       "      <th>2221</th>\n",
       "      <td>2020-11-27</td>\n",
       "      <td>1606435200</td>\n",
       "      <td>16400.00</td>\n",
       "      <td>17475.00</td>\n",
       "      <td>17169.99</td>\n",
       "      <td>17153.95</td>\n",
       "      <td>23333.984298</td>\n",
       "      <td>4.002700e+08</td>\n",
       "    </tr>\n",
       "    <tr>\n",
       "      <th>2222</th>\n",
       "      <td>2020-11-26</td>\n",
       "      <td>1606348800</td>\n",
       "      <td>16200.00</td>\n",
       "      <td>18915.48</td>\n",
       "      <td>18717.24</td>\n",
       "      <td>17170.00</td>\n",
       "      <td>48644.170782</td>\n",
       "      <td>8.352204e+08</td>\n",
       "    </tr>\n",
       "    <tr>\n",
       "      <th>2223</th>\n",
       "      <td>2020-11-25</td>\n",
       "      <td>1606262400</td>\n",
       "      <td>18502.00</td>\n",
       "      <td>19500.00</td>\n",
       "      <td>19172.90</td>\n",
       "      <td>18721.93</td>\n",
       "      <td>20485.393731</td>\n",
       "      <td>3.835261e+08</td>\n",
       "    </tr>\n",
       "  </tbody>\n",
       "</table>\n",
       "<p>2224 rows × 8 columns</p>\n",
       "</div>"
      ],
      "text/plain": [
       "            date        unix       low      high      open     close  \\\n",
       "0     2015-12-21  1450656000    424.66    444.44    442.36    436.81   \n",
       "1     2015-12-20  1450569600    430.00    461.30    461.29    442.22   \n",
       "2     2015-12-19  1450483200    451.58    465.60    463.14    461.29   \n",
       "3     2015-12-18  1450396800    453.28    465.10    455.50    463.17   \n",
       "4     2015-12-17  1450310400    446.01    456.33    453.96    455.50   \n",
       "...          ...         ...       ...       ...       ...       ...   \n",
       "2219  2020-11-29  1606608000  17535.26  18359.00  17736.10  18202.04   \n",
       "2220  2020-11-28  1606521600  16880.00  17933.25  17155.43  17739.85   \n",
       "2221  2020-11-27  1606435200  16400.00  17475.00  17169.99  17153.95   \n",
       "2222  2020-11-26  1606348800  16200.00  18915.48  18717.24  17170.00   \n",
       "2223  2020-11-25  1606262400  18502.00  19500.00  19172.90  18721.93   \n",
       "\n",
       "            volume      vol_fiat  \n",
       "0      6845.941204  2.990376e+06  \n",
       "1      8376.433353  3.704226e+06  \n",
       "2      6991.384363  3.225056e+06  \n",
       "3      5045.110025  2.336744e+06  \n",
       "4      6291.403941  2.865734e+06  \n",
       "...            ...           ...  \n",
       "2219   8932.250291  1.625852e+08  \n",
       "2220  13157.951965  2.334201e+08  \n",
       "2221  23333.984298  4.002700e+08  \n",
       "2222  48644.170782  8.352204e+08  \n",
       "2223  20485.393731  3.835261e+08  \n",
       "\n",
       "[2224 rows x 8 columns]"
      ]
     },
     "execution_count": 3,
     "metadata": {},
     "output_type": "execute_result"
    }
   ],
   "source": [
    "btc.sort_index()"
   ]
  },
  {
   "cell_type": "markdown",
   "metadata": {},
   "source": [
    "## Relabel Data"
   ]
  },
  {
   "cell_type": "markdown",
   "metadata": {},
   "source": [
    "### Explore special values for BTC"
   ]
  },
  {
   "cell_type": "code",
   "execution_count": 4,
   "metadata": {},
   "outputs": [
    {
     "data": {
      "text/plain": [
       "(2224, 7)"
      ]
     },
     "execution_count": 4,
     "metadata": {},
     "output_type": "execute_result"
    }
   ],
   "source": [
    "# rename columns of btc dataframe\n",
    "btc.pop('unix')\n",
    "my_dict = {'date': 'Date', 'open': 'Open', 'close': 'Close', 'high': 'High', 'low': 'Low', 'volume':'Volume', 'vol_fiat':'Market Cap'}\n",
    "btc.rename(columns=my_dict, inplace=True)\n",
    "\n",
    "btc.shape"
   ]
  },
  {
   "cell_type": "markdown",
   "metadata": {},
   "source": [
    "### Convert Index to Datetime"
   ]
  },
  {
   "cell_type": "code",
   "execution_count": 5,
   "metadata": {},
   "outputs": [
    {
     "data": {
      "text/html": [
       "<div>\n",
       "<style scoped>\n",
       "    .dataframe tbody tr th:only-of-type {\n",
       "        vertical-align: middle;\n",
       "    }\n",
       "\n",
       "    .dataframe tbody tr th {\n",
       "        vertical-align: top;\n",
       "    }\n",
       "\n",
       "    .dataframe thead th {\n",
       "        text-align: right;\n",
       "    }\n",
       "</style>\n",
       "<table border=\"1\" class=\"dataframe\">\n",
       "  <thead>\n",
       "    <tr style=\"text-align: right;\">\n",
       "      <th></th>\n",
       "      <th>Date</th>\n",
       "      <th>Low</th>\n",
       "      <th>High</th>\n",
       "      <th>Open</th>\n",
       "      <th>Close</th>\n",
       "      <th>Volume</th>\n",
       "      <th>Market Cap</th>\n",
       "    </tr>\n",
       "  </thead>\n",
       "  <tbody>\n",
       "    <tr>\n",
       "      <th>0</th>\n",
       "      <td>2015-12-21</td>\n",
       "      <td>424.66</td>\n",
       "      <td>444.44</td>\n",
       "      <td>442.36</td>\n",
       "      <td>436.81</td>\n",
       "      <td>6845.941204</td>\n",
       "      <td>2.990376e+06</td>\n",
       "    </tr>\n",
       "    <tr>\n",
       "      <th>1</th>\n",
       "      <td>2015-12-20</td>\n",
       "      <td>430.00</td>\n",
       "      <td>461.30</td>\n",
       "      <td>461.29</td>\n",
       "      <td>442.22</td>\n",
       "      <td>8376.433353</td>\n",
       "      <td>3.704226e+06</td>\n",
       "    </tr>\n",
       "    <tr>\n",
       "      <th>2</th>\n",
       "      <td>2015-12-19</td>\n",
       "      <td>451.58</td>\n",
       "      <td>465.60</td>\n",
       "      <td>463.14</td>\n",
       "      <td>461.29</td>\n",
       "      <td>6991.384363</td>\n",
       "      <td>3.225056e+06</td>\n",
       "    </tr>\n",
       "    <tr>\n",
       "      <th>3</th>\n",
       "      <td>2015-12-18</td>\n",
       "      <td>453.28</td>\n",
       "      <td>465.10</td>\n",
       "      <td>455.50</td>\n",
       "      <td>463.17</td>\n",
       "      <td>5045.110025</td>\n",
       "      <td>2.336744e+06</td>\n",
       "    </tr>\n",
       "    <tr>\n",
       "      <th>4</th>\n",
       "      <td>2015-12-17</td>\n",
       "      <td>446.01</td>\n",
       "      <td>456.33</td>\n",
       "      <td>453.96</td>\n",
       "      <td>455.50</td>\n",
       "      <td>6291.403941</td>\n",
       "      <td>2.865734e+06</td>\n",
       "    </tr>\n",
       "  </tbody>\n",
       "</table>\n",
       "</div>"
      ],
      "text/plain": [
       "         Date     Low    High    Open   Close       Volume    Market Cap\n",
       "0  2015-12-21  424.66  444.44  442.36  436.81  6845.941204  2.990376e+06\n",
       "1  2015-12-20  430.00  461.30  461.29  442.22  8376.433353  3.704226e+06\n",
       "2  2015-12-19  451.58  465.60  463.14  461.29  6991.384363  3.225056e+06\n",
       "3  2015-12-18  453.28  465.10  455.50  463.17  5045.110025  2.336744e+06\n",
       "4  2015-12-17  446.01  456.33  453.96  455.50  6291.403941  2.865734e+06"
      ]
     },
     "execution_count": 5,
     "metadata": {},
     "output_type": "execute_result"
    }
   ],
   "source": [
    "btc.head()"
   ]
  },
  {
   "cell_type": "code",
   "execution_count": 6,
   "metadata": {},
   "outputs": [],
   "source": [
    "# # change btc index to Date column datetime objects\n",
    "if \"Date\" in btc.columns:\n",
    "    btc.set_index(pd.to_datetime(btc['Date']),inplace=True)\n",
    "    btc.pop('Date')"
   ]
  },
  {
   "cell_type": "code",
   "execution_count": 7,
   "metadata": {},
   "outputs": [
    {
     "data": {
      "text/html": [
       "<div>\n",
       "<style scoped>\n",
       "    .dataframe tbody tr th:only-of-type {\n",
       "        vertical-align: middle;\n",
       "    }\n",
       "\n",
       "    .dataframe tbody tr th {\n",
       "        vertical-align: top;\n",
       "    }\n",
       "\n",
       "    .dataframe thead th {\n",
       "        text-align: right;\n",
       "    }\n",
       "</style>\n",
       "<table border=\"1\" class=\"dataframe\">\n",
       "  <thead>\n",
       "    <tr style=\"text-align: right;\">\n",
       "      <th></th>\n",
       "      <th>Low</th>\n",
       "      <th>High</th>\n",
       "      <th>Open</th>\n",
       "      <th>Close</th>\n",
       "      <th>Volume</th>\n",
       "      <th>Market Cap</th>\n",
       "    </tr>\n",
       "    <tr>\n",
       "      <th>Date</th>\n",
       "      <th></th>\n",
       "      <th></th>\n",
       "      <th></th>\n",
       "      <th></th>\n",
       "      <th></th>\n",
       "      <th></th>\n",
       "    </tr>\n",
       "  </thead>\n",
       "  <tbody>\n",
       "    <tr>\n",
       "      <th>2015-08-20</th>\n",
       "      <td>227.45</td>\n",
       "      <td>238.20</td>\n",
       "      <td>227.46</td>\n",
       "      <td>235.56</td>\n",
       "      <td>8819.525082</td>\n",
       "      <td>2.077527e+06</td>\n",
       "    </tr>\n",
       "    <tr>\n",
       "      <th>2015-08-21</th>\n",
       "      <td>231.15</td>\n",
       "      <td>236.99</td>\n",
       "      <td>235.56</td>\n",
       "      <td>232.85</td>\n",
       "      <td>8328.577903</td>\n",
       "      <td>1.939309e+06</td>\n",
       "    </tr>\n",
       "    <tr>\n",
       "      <th>2015-08-22</th>\n",
       "      <td>222.68</td>\n",
       "      <td>235.53</td>\n",
       "      <td>232.85</td>\n",
       "      <td>231.15</td>\n",
       "      <td>7197.349489</td>\n",
       "      <td>1.663667e+06</td>\n",
       "    </tr>\n",
       "    <tr>\n",
       "      <th>2015-08-23</th>\n",
       "      <td>226.15</td>\n",
       "      <td>233.25</td>\n",
       "      <td>231.16</td>\n",
       "      <td>229.21</td>\n",
       "      <td>4312.637690</td>\n",
       "      <td>9.884997e+05</td>\n",
       "    </tr>\n",
       "    <tr>\n",
       "      <th>2015-08-24</th>\n",
       "      <td>210.00</td>\n",
       "      <td>229.24</td>\n",
       "      <td>229.23</td>\n",
       "      <td>211.16</td>\n",
       "      <td>16523.789445</td>\n",
       "      <td>3.489163e+06</td>\n",
       "    </tr>\n",
       "    <tr>\n",
       "      <th>...</th>\n",
       "      <td>...</td>\n",
       "      <td>...</td>\n",
       "      <td>...</td>\n",
       "      <td>...</td>\n",
       "      <td>...</td>\n",
       "      <td>...</td>\n",
       "    </tr>\n",
       "    <tr>\n",
       "      <th>2021-09-16</th>\n",
       "      <td>47020.82</td>\n",
       "      <td>48499.99</td>\n",
       "      <td>48144.03</td>\n",
       "      <td>47753.16</td>\n",
       "      <td>11739.279666</td>\n",
       "      <td>5.605877e+08</td>\n",
       "    </tr>\n",
       "    <tr>\n",
       "      <th>2021-09-17</th>\n",
       "      <td>46752.67</td>\n",
       "      <td>48176.64</td>\n",
       "      <td>47753.15</td>\n",
       "      <td>47303.50</td>\n",
       "      <td>9088.569565</td>\n",
       "      <td>4.299212e+08</td>\n",
       "    </tr>\n",
       "    <tr>\n",
       "      <th>2021-09-18</th>\n",
       "      <td>47050.00</td>\n",
       "      <td>48825.62</td>\n",
       "      <td>47306.87</td>\n",
       "      <td>48314.56</td>\n",
       "      <td>7491.034492</td>\n",
       "      <td>3.619260e+08</td>\n",
       "    </tr>\n",
       "    <tr>\n",
       "      <th>2021-09-19</th>\n",
       "      <td>46850.87</td>\n",
       "      <td>48379.19</td>\n",
       "      <td>48309.86</td>\n",
       "      <td>47255.92</td>\n",
       "      <td>7086.346262</td>\n",
       "      <td>3.348718e+08</td>\n",
       "    </tr>\n",
       "    <tr>\n",
       "      <th>2021-09-20</th>\n",
       "      <td>42500.00</td>\n",
       "      <td>47358.92</td>\n",
       "      <td>47253.71</td>\n",
       "      <td>43012.97</td>\n",
       "      <td>27706.676362</td>\n",
       "      <td>1.191746e+09</td>\n",
       "    </tr>\n",
       "  </tbody>\n",
       "</table>\n",
       "<p>2224 rows × 6 columns</p>\n",
       "</div>"
      ],
      "text/plain": [
       "                 Low      High      Open     Close        Volume    Market Cap\n",
       "Date                                                                          \n",
       "2015-08-20    227.45    238.20    227.46    235.56   8819.525082  2.077527e+06\n",
       "2015-08-21    231.15    236.99    235.56    232.85   8328.577903  1.939309e+06\n",
       "2015-08-22    222.68    235.53    232.85    231.15   7197.349489  1.663667e+06\n",
       "2015-08-23    226.15    233.25    231.16    229.21   4312.637690  9.884997e+05\n",
       "2015-08-24    210.00    229.24    229.23    211.16  16523.789445  3.489163e+06\n",
       "...              ...       ...       ...       ...           ...           ...\n",
       "2021-09-16  47020.82  48499.99  48144.03  47753.16  11739.279666  5.605877e+08\n",
       "2021-09-17  46752.67  48176.64  47753.15  47303.50   9088.569565  4.299212e+08\n",
       "2021-09-18  47050.00  48825.62  47306.87  48314.56   7491.034492  3.619260e+08\n",
       "2021-09-19  46850.87  48379.19  48309.86  47255.92   7086.346262  3.348718e+08\n",
       "2021-09-20  42500.00  47358.92  47253.71  43012.97  27706.676362  1.191746e+09\n",
       "\n",
       "[2224 rows x 6 columns]"
      ]
     },
     "execution_count": 7,
     "metadata": {},
     "output_type": "execute_result"
    }
   ],
   "source": [
    "# sort index for ease of comparison\n",
    "btc.sort_index(inplace=True)\n",
    "btc"
   ]
  },
  {
   "cell_type": "code",
   "execution_count": 8,
   "metadata": {},
   "outputs": [
    {
     "data": {
      "text/html": [
       "<div>\n",
       "<style scoped>\n",
       "    .dataframe tbody tr th:only-of-type {\n",
       "        vertical-align: middle;\n",
       "    }\n",
       "\n",
       "    .dataframe tbody tr th {\n",
       "        vertical-align: top;\n",
       "    }\n",
       "\n",
       "    .dataframe thead th {\n",
       "        text-align: right;\n",
       "    }\n",
       "</style>\n",
       "<table border=\"1\" class=\"dataframe\">\n",
       "  <thead>\n",
       "    <tr style=\"text-align: right;\">\n",
       "      <th></th>\n",
       "      <th>Low</th>\n",
       "      <th>High</th>\n",
       "      <th>Open</th>\n",
       "      <th>Close</th>\n",
       "      <th>Volume</th>\n",
       "      <th>Market Cap</th>\n",
       "    </tr>\n",
       "    <tr>\n",
       "      <th>Date</th>\n",
       "      <th></th>\n",
       "      <th></th>\n",
       "      <th></th>\n",
       "      <th></th>\n",
       "      <th></th>\n",
       "      <th></th>\n",
       "    </tr>\n",
       "  </thead>\n",
       "  <tbody>\n",
       "    <tr>\n",
       "      <th>2015-08-20</th>\n",
       "      <td>227.45</td>\n",
       "      <td>238.20</td>\n",
       "      <td>227.46</td>\n",
       "      <td>235.56</td>\n",
       "      <td>8819.525082</td>\n",
       "      <td>2.077527e+06</td>\n",
       "    </tr>\n",
       "    <tr>\n",
       "      <th>2015-08-21</th>\n",
       "      <td>231.15</td>\n",
       "      <td>236.99</td>\n",
       "      <td>235.56</td>\n",
       "      <td>232.85</td>\n",
       "      <td>8328.577903</td>\n",
       "      <td>1.939309e+06</td>\n",
       "    </tr>\n",
       "    <tr>\n",
       "      <th>2015-08-22</th>\n",
       "      <td>222.68</td>\n",
       "      <td>235.53</td>\n",
       "      <td>232.85</td>\n",
       "      <td>231.15</td>\n",
       "      <td>7197.349489</td>\n",
       "      <td>1.663667e+06</td>\n",
       "    </tr>\n",
       "    <tr>\n",
       "      <th>2015-08-23</th>\n",
       "      <td>226.15</td>\n",
       "      <td>233.25</td>\n",
       "      <td>231.16</td>\n",
       "      <td>229.21</td>\n",
       "      <td>4312.637690</td>\n",
       "      <td>9.884997e+05</td>\n",
       "    </tr>\n",
       "    <tr>\n",
       "      <th>2015-08-24</th>\n",
       "      <td>210.00</td>\n",
       "      <td>229.24</td>\n",
       "      <td>229.23</td>\n",
       "      <td>211.16</td>\n",
       "      <td>16523.789445</td>\n",
       "      <td>3.489163e+06</td>\n",
       "    </tr>\n",
       "    <tr>\n",
       "      <th>...</th>\n",
       "      <td>...</td>\n",
       "      <td>...</td>\n",
       "      <td>...</td>\n",
       "      <td>...</td>\n",
       "      <td>...</td>\n",
       "      <td>...</td>\n",
       "    </tr>\n",
       "    <tr>\n",
       "      <th>2021-09-16</th>\n",
       "      <td>47020.82</td>\n",
       "      <td>48499.99</td>\n",
       "      <td>48144.03</td>\n",
       "      <td>47753.16</td>\n",
       "      <td>11739.279666</td>\n",
       "      <td>5.605877e+08</td>\n",
       "    </tr>\n",
       "    <tr>\n",
       "      <th>2021-09-17</th>\n",
       "      <td>46752.67</td>\n",
       "      <td>48176.64</td>\n",
       "      <td>47753.15</td>\n",
       "      <td>47303.50</td>\n",
       "      <td>9088.569565</td>\n",
       "      <td>4.299212e+08</td>\n",
       "    </tr>\n",
       "    <tr>\n",
       "      <th>2021-09-18</th>\n",
       "      <td>47050.00</td>\n",
       "      <td>48825.62</td>\n",
       "      <td>47306.87</td>\n",
       "      <td>48314.56</td>\n",
       "      <td>7491.034492</td>\n",
       "      <td>3.619260e+08</td>\n",
       "    </tr>\n",
       "    <tr>\n",
       "      <th>2021-09-19</th>\n",
       "      <td>46850.87</td>\n",
       "      <td>48379.19</td>\n",
       "      <td>48309.86</td>\n",
       "      <td>47255.92</td>\n",
       "      <td>7086.346262</td>\n",
       "      <td>3.348718e+08</td>\n",
       "    </tr>\n",
       "    <tr>\n",
       "      <th>2021-09-20</th>\n",
       "      <td>42500.00</td>\n",
       "      <td>47358.92</td>\n",
       "      <td>47253.71</td>\n",
       "      <td>43012.97</td>\n",
       "      <td>27706.676362</td>\n",
       "      <td>1.191746e+09</td>\n",
       "    </tr>\n",
       "  </tbody>\n",
       "</table>\n",
       "<p>2224 rows × 6 columns</p>\n",
       "</div>"
      ],
      "text/plain": [
       "                 Low      High      Open     Close        Volume    Market Cap\n",
       "Date                                                                          \n",
       "2015-08-20    227.45    238.20    227.46    235.56   8819.525082  2.077527e+06\n",
       "2015-08-21    231.15    236.99    235.56    232.85   8328.577903  1.939309e+06\n",
       "2015-08-22    222.68    235.53    232.85    231.15   7197.349489  1.663667e+06\n",
       "2015-08-23    226.15    233.25    231.16    229.21   4312.637690  9.884997e+05\n",
       "2015-08-24    210.00    229.24    229.23    211.16  16523.789445  3.489163e+06\n",
       "...              ...       ...       ...       ...           ...           ...\n",
       "2021-09-16  47020.82  48499.99  48144.03  47753.16  11739.279666  5.605877e+08\n",
       "2021-09-17  46752.67  48176.64  47753.15  47303.50   9088.569565  4.299212e+08\n",
       "2021-09-18  47050.00  48825.62  47306.87  48314.56   7491.034492  3.619260e+08\n",
       "2021-09-19  46850.87  48379.19  48309.86  47255.92   7086.346262  3.348718e+08\n",
       "2021-09-20  42500.00  47358.92  47253.71  43012.97  27706.676362  1.191746e+09\n",
       "\n",
       "[2224 rows x 6 columns]"
      ]
     },
     "execution_count": 8,
     "metadata": {},
     "output_type": "execute_result"
    }
   ],
   "source": [
    "btc"
   ]
  },
  {
   "cell_type": "code",
   "execution_count": 9,
   "metadata": {},
   "outputs": [
    {
     "data": {
      "text/plain": [
       "pandas.core.indexes.datetimes.DatetimeIndex"
      ]
     },
     "execution_count": 9,
     "metadata": {},
     "output_type": "execute_result"
    }
   ],
   "source": [
    "type(btc.index)"
   ]
  },
  {
   "cell_type": "code",
   "execution_count": 10,
   "metadata": {},
   "outputs": [
    {
     "data": {
      "text/plain": [
       "Index(['Low', 'High', 'Open', 'Close', 'Volume', 'Market Cap'], dtype='object')"
      ]
     },
     "execution_count": 10,
     "metadata": {},
     "output_type": "execute_result"
    }
   ],
   "source": [
    "btc.columns"
   ]
  },
  {
   "cell_type": "markdown",
   "metadata": {},
   "source": [
    "### Resampling"
   ]
  },
  {
   "cell_type": "code",
   "execution_count": 11,
   "metadata": {},
   "outputs": [
    {
     "data": {
      "text/html": [
       "<div>\n",
       "<style scoped>\n",
       "    .dataframe tbody tr th:only-of-type {\n",
       "        vertical-align: middle;\n",
       "    }\n",
       "\n",
       "    .dataframe tbody tr th {\n",
       "        vertical-align: top;\n",
       "    }\n",
       "\n",
       "    .dataframe thead th {\n",
       "        text-align: right;\n",
       "    }\n",
       "</style>\n",
       "<table border=\"1\" class=\"dataframe\">\n",
       "  <thead>\n",
       "    <tr style=\"text-align: right;\">\n",
       "      <th></th>\n",
       "      <th>Low</th>\n",
       "      <th>High</th>\n",
       "      <th>Open</th>\n",
       "      <th>Close</th>\n",
       "      <th>Volume</th>\n",
       "      <th>Market Cap</th>\n",
       "    </tr>\n",
       "    <tr>\n",
       "      <th>Date</th>\n",
       "      <th></th>\n",
       "      <th></th>\n",
       "      <th></th>\n",
       "      <th></th>\n",
       "      <th></th>\n",
       "      <th></th>\n",
       "    </tr>\n",
       "  </thead>\n",
       "  <tbody>\n",
       "    <tr>\n",
       "      <th>2015-08-31</th>\n",
       "      <td>221.719167</td>\n",
       "      <td>233.438333</td>\n",
       "      <td>227.920833</td>\n",
       "      <td>228.214167</td>\n",
       "      <td>9008.466745</td>\n",
       "      <td>2.038428e+06</td>\n",
       "    </tr>\n",
       "    <tr>\n",
       "      <th>2015-09-30</th>\n",
       "      <td>231.936000</td>\n",
       "      <td>236.955000</td>\n",
       "      <td>234.163000</td>\n",
       "      <td>234.365000</td>\n",
       "      <td>6386.535932</td>\n",
       "      <td>1.495726e+06</td>\n",
       "    </tr>\n",
       "    <tr>\n",
       "      <th>2015-10-31</th>\n",
       "      <td>261.374839</td>\n",
       "      <td>269.491613</td>\n",
       "      <td>263.724516</td>\n",
       "      <td>266.229032</td>\n",
       "      <td>7850.672554</td>\n",
       "      <td>2.159975e+06</td>\n",
       "    </tr>\n",
       "    <tr>\n",
       "      <th>2015-11-30</th>\n",
       "      <td>334.626000</td>\n",
       "      <td>362.877000</td>\n",
       "      <td>347.445000</td>\n",
       "      <td>349.508000</td>\n",
       "      <td>12491.747698</td>\n",
       "      <td>4.548917e+06</td>\n",
       "    </tr>\n",
       "    <tr>\n",
       "      <th>2015-12-31</th>\n",
       "      <td>410.983871</td>\n",
       "      <td>432.085161</td>\n",
       "      <td>422.848065</td>\n",
       "      <td>424.606129</td>\n",
       "      <td>14542.029645</td>\n",
       "      <td>6.299578e+06</td>\n",
       "    </tr>\n",
       "    <tr>\n",
       "      <th>...</th>\n",
       "      <td>...</td>\n",
       "      <td>...</td>\n",
       "      <td>...</td>\n",
       "      <td>...</td>\n",
       "      <td>...</td>\n",
       "      <td>...</td>\n",
       "    </tr>\n",
       "    <tr>\n",
       "      <th>2021-05-31</th>\n",
       "      <td>44270.166129</td>\n",
       "      <td>48889.056129</td>\n",
       "      <td>47119.199677</td>\n",
       "      <td>46457.782903</td>\n",
       "      <td>29742.506763</td>\n",
       "      <td>1.294962e+09</td>\n",
       "    </tr>\n",
       "    <tr>\n",
       "      <th>2021-06-30</th>\n",
       "      <td>34303.263667</td>\n",
       "      <td>37144.137000</td>\n",
       "      <td>35916.499000</td>\n",
       "      <td>35842.765667</td>\n",
       "      <td>19942.838788</td>\n",
       "      <td>7.051311e+08</td>\n",
       "    </tr>\n",
       "    <tr>\n",
       "      <th>2021-07-31</th>\n",
       "      <td>33364.951290</td>\n",
       "      <td>35217.746129</td>\n",
       "      <td>34236.297097</td>\n",
       "      <td>34443.391290</td>\n",
       "      <td>11984.850339</td>\n",
       "      <td>4.212497e+08</td>\n",
       "    </tr>\n",
       "    <tr>\n",
       "      <th>2021-08-31</th>\n",
       "      <td>44380.928710</td>\n",
       "      <td>46741.993548</td>\n",
       "      <td>45511.645484</td>\n",
       "      <td>45692.490000</td>\n",
       "      <td>12601.260163</td>\n",
       "      <td>5.675650e+08</td>\n",
       "    </tr>\n",
       "    <tr>\n",
       "      <th>2021-09-30</th>\n",
       "      <td>46242.176500</td>\n",
       "      <td>48847.994000</td>\n",
       "      <td>47796.651000</td>\n",
       "      <td>47592.036500</td>\n",
       "      <td>12969.282134</td>\n",
       "      <td>6.111741e+08</td>\n",
       "    </tr>\n",
       "  </tbody>\n",
       "</table>\n",
       "<p>74 rows × 6 columns</p>\n",
       "</div>"
      ],
      "text/plain": [
       "                     Low          High          Open         Close  \\\n",
       "Date                                                                 \n",
       "2015-08-31    221.719167    233.438333    227.920833    228.214167   \n",
       "2015-09-30    231.936000    236.955000    234.163000    234.365000   \n",
       "2015-10-31    261.374839    269.491613    263.724516    266.229032   \n",
       "2015-11-30    334.626000    362.877000    347.445000    349.508000   \n",
       "2015-12-31    410.983871    432.085161    422.848065    424.606129   \n",
       "...                  ...           ...           ...           ...   \n",
       "2021-05-31  44270.166129  48889.056129  47119.199677  46457.782903   \n",
       "2021-06-30  34303.263667  37144.137000  35916.499000  35842.765667   \n",
       "2021-07-31  33364.951290  35217.746129  34236.297097  34443.391290   \n",
       "2021-08-31  44380.928710  46741.993548  45511.645484  45692.490000   \n",
       "2021-09-30  46242.176500  48847.994000  47796.651000  47592.036500   \n",
       "\n",
       "                  Volume    Market Cap  \n",
       "Date                                    \n",
       "2015-08-31   9008.466745  2.038428e+06  \n",
       "2015-09-30   6386.535932  1.495726e+06  \n",
       "2015-10-31   7850.672554  2.159975e+06  \n",
       "2015-11-30  12491.747698  4.548917e+06  \n",
       "2015-12-31  14542.029645  6.299578e+06  \n",
       "...                  ...           ...  \n",
       "2021-05-31  29742.506763  1.294962e+09  \n",
       "2021-06-30  19942.838788  7.051311e+08  \n",
       "2021-07-31  11984.850339  4.212497e+08  \n",
       "2021-08-31  12601.260163  5.675650e+08  \n",
       "2021-09-30  12969.282134  6.111741e+08  \n",
       "\n",
       "[74 rows x 6 columns]"
      ]
     },
     "execution_count": 11,
     "metadata": {},
     "output_type": "execute_result"
    }
   ],
   "source": [
    "btcM = btc.resample('M').mean()\n",
    "btcM"
   ]
  },
  {
   "cell_type": "code",
   "execution_count": 12,
   "metadata": {},
   "outputs": [
    {
     "data": {
      "text/html": [
       "<div>\n",
       "<style scoped>\n",
       "    .dataframe tbody tr th:only-of-type {\n",
       "        vertical-align: middle;\n",
       "    }\n",
       "\n",
       "    .dataframe tbody tr th {\n",
       "        vertical-align: top;\n",
       "    }\n",
       "\n",
       "    .dataframe thead th {\n",
       "        text-align: right;\n",
       "    }\n",
       "</style>\n",
       "<table border=\"1\" class=\"dataframe\">\n",
       "  <thead>\n",
       "    <tr style=\"text-align: right;\">\n",
       "      <th></th>\n",
       "      <th>Low</th>\n",
       "      <th>High</th>\n",
       "      <th>Open</th>\n",
       "      <th>Close</th>\n",
       "      <th>Volume</th>\n",
       "      <th>Market Cap</th>\n",
       "    </tr>\n",
       "    <tr>\n",
       "      <th>Date</th>\n",
       "      <th></th>\n",
       "      <th></th>\n",
       "      <th></th>\n",
       "      <th></th>\n",
       "      <th></th>\n",
       "      <th></th>\n",
       "    </tr>\n",
       "  </thead>\n",
       "  <tbody>\n",
       "    <tr>\n",
       "      <th>2015-08-31</th>\n",
       "      <td>221.719167</td>\n",
       "      <td>233.438333</td>\n",
       "      <td>227.920833</td>\n",
       "      <td>228.214167</td>\n",
       "      <td>9008.466745</td>\n",
       "      <td>2.038428e+06</td>\n",
       "    </tr>\n",
       "    <tr>\n",
       "      <th>2015-09-01</th>\n",
       "      <td>NaN</td>\n",
       "      <td>NaN</td>\n",
       "      <td>NaN</td>\n",
       "      <td>NaN</td>\n",
       "      <td>NaN</td>\n",
       "      <td>NaN</td>\n",
       "    </tr>\n",
       "    <tr>\n",
       "      <th>2015-09-02</th>\n",
       "      <td>NaN</td>\n",
       "      <td>NaN</td>\n",
       "      <td>NaN</td>\n",
       "      <td>NaN</td>\n",
       "      <td>NaN</td>\n",
       "      <td>NaN</td>\n",
       "    </tr>\n",
       "    <tr>\n",
       "      <th>2015-09-03</th>\n",
       "      <td>NaN</td>\n",
       "      <td>NaN</td>\n",
       "      <td>NaN</td>\n",
       "      <td>NaN</td>\n",
       "      <td>NaN</td>\n",
       "      <td>NaN</td>\n",
       "    </tr>\n",
       "    <tr>\n",
       "      <th>2015-09-04</th>\n",
       "      <td>NaN</td>\n",
       "      <td>NaN</td>\n",
       "      <td>NaN</td>\n",
       "      <td>NaN</td>\n",
       "      <td>NaN</td>\n",
       "      <td>NaN</td>\n",
       "    </tr>\n",
       "    <tr>\n",
       "      <th>...</th>\n",
       "      <td>...</td>\n",
       "      <td>...</td>\n",
       "      <td>...</td>\n",
       "      <td>...</td>\n",
       "      <td>...</td>\n",
       "      <td>...</td>\n",
       "    </tr>\n",
       "    <tr>\n",
       "      <th>2021-09-26</th>\n",
       "      <td>NaN</td>\n",
       "      <td>NaN</td>\n",
       "      <td>NaN</td>\n",
       "      <td>NaN</td>\n",
       "      <td>NaN</td>\n",
       "      <td>NaN</td>\n",
       "    </tr>\n",
       "    <tr>\n",
       "      <th>2021-09-27</th>\n",
       "      <td>NaN</td>\n",
       "      <td>NaN</td>\n",
       "      <td>NaN</td>\n",
       "      <td>NaN</td>\n",
       "      <td>NaN</td>\n",
       "      <td>NaN</td>\n",
       "    </tr>\n",
       "    <tr>\n",
       "      <th>2021-09-28</th>\n",
       "      <td>NaN</td>\n",
       "      <td>NaN</td>\n",
       "      <td>NaN</td>\n",
       "      <td>NaN</td>\n",
       "      <td>NaN</td>\n",
       "      <td>NaN</td>\n",
       "    </tr>\n",
       "    <tr>\n",
       "      <th>2021-09-29</th>\n",
       "      <td>NaN</td>\n",
       "      <td>NaN</td>\n",
       "      <td>NaN</td>\n",
       "      <td>NaN</td>\n",
       "      <td>NaN</td>\n",
       "      <td>NaN</td>\n",
       "    </tr>\n",
       "    <tr>\n",
       "      <th>2021-09-30</th>\n",
       "      <td>46242.176500</td>\n",
       "      <td>48847.994000</td>\n",
       "      <td>47796.651000</td>\n",
       "      <td>47592.036500</td>\n",
       "      <td>12969.282134</td>\n",
       "      <td>6.111741e+08</td>\n",
       "    </tr>\n",
       "  </tbody>\n",
       "</table>\n",
       "<p>2223 rows × 6 columns</p>\n",
       "</div>"
      ],
      "text/plain": [
       "                     Low          High          Open         Close  \\\n",
       "Date                                                                 \n",
       "2015-08-31    221.719167    233.438333    227.920833    228.214167   \n",
       "2015-09-01           NaN           NaN           NaN           NaN   \n",
       "2015-09-02           NaN           NaN           NaN           NaN   \n",
       "2015-09-03           NaN           NaN           NaN           NaN   \n",
       "2015-09-04           NaN           NaN           NaN           NaN   \n",
       "...                  ...           ...           ...           ...   \n",
       "2021-09-26           NaN           NaN           NaN           NaN   \n",
       "2021-09-27           NaN           NaN           NaN           NaN   \n",
       "2021-09-28           NaN           NaN           NaN           NaN   \n",
       "2021-09-29           NaN           NaN           NaN           NaN   \n",
       "2021-09-30  46242.176500  48847.994000  47796.651000  47592.036500   \n",
       "\n",
       "                  Volume    Market Cap  \n",
       "Date                                    \n",
       "2015-08-31   9008.466745  2.038428e+06  \n",
       "2015-09-01           NaN           NaN  \n",
       "2015-09-02           NaN           NaN  \n",
       "2015-09-03           NaN           NaN  \n",
       "2015-09-04           NaN           NaN  \n",
       "...                  ...           ...  \n",
       "2021-09-26           NaN           NaN  \n",
       "2021-09-27           NaN           NaN  \n",
       "2021-09-28           NaN           NaN  \n",
       "2021-09-29           NaN           NaN  \n",
       "2021-09-30  12969.282134  6.111741e+08  \n",
       "\n",
       "[2223 rows x 6 columns]"
      ]
     },
     "execution_count": 12,
     "metadata": {},
     "output_type": "execute_result"
    }
   ],
   "source": [
    "btcD = btcM.resample('D').mean()\n",
    "btcD"
   ]
  },
  {
   "cell_type": "markdown",
   "metadata": {},
   "source": [
    "# Visualizations"
   ]
  },
  {
   "cell_type": "code",
   "execution_count": 13,
   "metadata": {},
   "outputs": [],
   "source": [
    "# create xticklabels\n",
    "xticks_min = []\n",
    "xticks_maj = []\n",
    "xlabels_min = []\n",
    "xlabels_maj = []\n",
    "year = 0\n",
    "month = 0\n",
    "\n",
    "for index in btc.index:\n",
    "    if year != index.year:\n",
    "        year = index.year\n",
    "        xticks_maj.append(index)\n",
    "        xlabels_maj.append(year)\n",
    "    if month != index.month:\n",
    "        month = index.month\n",
    "        xticks_min.append(index)\n",
    "        xlabels_min.append(month)\n"
   ]
  },
  {
   "cell_type": "code",
   "execution_count": null,
   "metadata": {},
   "outputs": [],
   "source": []
  },
  {
   "cell_type": "code",
   "execution_count": 14,
   "metadata": {},
   "outputs": [
    {
     "data": {
      "text/plain": [
       "Text(0.5, 1.0, 'Bitcoin Price over Time')"
      ]
     },
     "execution_count": 14,
     "metadata": {},
     "output_type": "execute_result"
    },
    {
     "data": {
      "image/png": "[encoded data removed]",
      "text/plain": [
       "<Figure size 1440x864 with 1 Axes>"
      ]
     },
     "metadata": {},
     "output_type": "display_data"
    }
   ],
   "source": [
    "# plot daily high values of data\n",
    "plt.style.use('ggplot')\n",
    "figsize = (20,12)\n",
    "fig, ax = plt.subplots(figsize=figsize)\n",
    "ax.plot(btc.index, btc.High, c='r', lw=1.5)\n",
    "ax.plot(btc.index, btc.High, c='r', lw=1.5)\n",
    "\n",
    "ax.set_xticks(xticks_min, minor=True)\n",
    "ax.set_xticklabels(xlabels_min, minor=True)\n",
    "ax.set_xticks(xticks_maj, minor=False)\n",
    "ax.set_xticklabels(xlabels_maj, minor=False)\n",
    "\n",
    "ax.tick_params(axis='x', which='major', direction='out', rotation=0, pad=15)\n",
    "ax.tick_params(axis='x', which='minor', direction='out', rotation=0)\n",
    "\n",
    "ax.set_xlabel(\"Year\", fontsize=15, color='black')\n",
    "ax.set_ylabel('Value in $', fontsize=15, color='black')\n",
    "ax.set_title('Bitcoin Price over Time', fontsize=20, color='black')\n",
    "# plt.savefig('bitcoin_historical_transparent.png', transparent=True, dpi=400)\n",
    "# plt.savefig('bitcoin_historical.png', transparent=False, dpi=400)"
   ]
  },
  {
   "cell_type": "code",
   "execution_count": 15,
   "metadata": {},
   "outputs": [
    {
     "data": {
      "text/plain": [
       "Text(0.5, 1.0, 'Bitcoin Daily Closing Price')"
      ]
     },
     "execution_count": 15,
     "metadata": {},
     "output_type": "execute_result"
    },
    {
     "data": {
      "image/png": "[encoded data removed]",
      "text/plain": [
       "<Figure size 1008x1008 with 4 Axes>"
      ]
     },
     "metadata": {},
     "output_type": "display_data"
    }
   ],
   "source": [
    "m = 2\n",
    "n = 2\n",
    "figsize = (14,14)\n",
    "fig, ax = plt.subplots(nrows=m, ncols=n, figsize=figsize)\n",
    "\n",
    "ax[0,0].plot(btc.index, btc.High)\n",
    "ax[0,1].plot(btc.index, btc.Low)\n",
    "ax[1,0].plot(btc.index, btc.Open)\n",
    "ax[1,1].plot(btc.index, btc.Close)\n",
    "\n",
    "ax[0,0].set_title('Bitcoin Daily Highs')\n",
    "ax[0,1].set_title('Bitcoin Daily Lows')\n",
    "ax[1,0].set_title('Bitcoin Daily Opening Price')\n",
    "ax[1,1].set_title('Bitcoin Daily Closing Price')"
   ]
  },
  {
   "cell_type": "code",
   "execution_count": 16,
   "metadata": {},
   "outputs": [
    {
     "data": {
      "text/plain": [
       "Text(0.5, 1.0, 'Bitcoin Daily Closing')"
      ]
     },
     "execution_count": 16,
     "metadata": {},
     "output_type": "execute_result"
    },
    {
     "data": {
      "image/png": "[encoded data removed]",
      "text/plain": [
       "<Figure size 1008x1008 with 4 Axes>"
      ]
     },
     "metadata": {},
     "output_type": "display_data"
    }
   ],
   "source": [
    "m = 2\n",
    "n = 2\n",
    "figsize = (14,14)\n",
    "fig, ax = plt.subplots(nrows=m, ncols=n, figsize=figsize)\n",
    "\n",
    "ax[0,0].plot(btc.index, btc.High)\n",
    "ax[0,1].plot(btc.index, btc.Low)\n",
    "ax[1,0].plot(btc.index, btc.Open)\n",
    "ax[1,1].plot(btc.index, btc.Close)\n",
    "\n",
    "ax[0,0].set_title('Bitcoin Daily Highs')\n",
    "ax[0,1].set_title('Bitcoin Daily Lows')\n",
    "ax[1,0].set_title('Bitcoin Daily Opening')\n",
    "ax[1,1].set_title('Bitcoin Daily Closing')"
   ]
  },
  {
   "cell_type": "markdown",
   "metadata": {},
   "source": [
    "# First Simple Model - Random Walk"
   ]
  },
  {
   "cell_type": "code",
   "execution_count": 17,
   "metadata": {},
   "outputs": [
    {
     "data": {
      "text/plain": [
       "1779"
      ]
     },
     "execution_count": 17,
     "metadata": {},
     "output_type": "execute_result"
    }
   ],
   "source": [
    "end_of_train_index = int(btc.shape[0]*0.8)\n",
    "end_of_train_index"
   ]
  },
  {
   "cell_type": "code",
   "execution_count": 18,
   "metadata": {},
   "outputs": [],
   "source": [
    "# separate train and test data\n",
    "# roughly first 80% of data\n",
    "train = btc.Close[:end_of_train_index]\n",
    "\n",
    "# roughly last 20% of data\n",
    "test = btc.Close[end_of_train_index:]"
   ]
  },
  {
   "cell_type": "code",
   "execution_count": 19,
   "metadata": {},
   "outputs": [
    {
     "data": {
      "image/png": "[encoded data removed]",
      "text/plain": [
       "<Figure size 432x288 with 1 Axes>"
      ]
     },
     "metadata": {},
     "output_type": "display_data"
    }
   ],
   "source": [
    "# create \"random walk\" model, shift values by 1 day\n",
    "random_walk = train.shift(1)\n",
    "\n",
    "# create plot of first 30 values of train and random walk\n",
    "fig, ax = plt.subplots()\n",
    "\n",
    "train[0:30].plot(ax=ax, c='r', label='original')\n",
    "random_walk[0:30].plot(ax=ax, c='b', label='shifted')\n",
    "ax.set_title('Random Walk')\n",
    "ax.legend();"
   ]
  },
  {
   "cell_type": "code",
   "execution_count": 20,
   "metadata": {},
   "outputs": [],
   "source": [
    "random_walk.dropna(inplace=True)"
   ]
  },
  {
   "cell_type": "code",
   "execution_count": 21,
   "metadata": {},
   "outputs": [],
   "source": [
    "import sklearn.metrics as metric"
   ]
  },
  {
   "cell_type": "code",
   "execution_count": 22,
   "metadata": {},
   "outputs": [
    {
     "data": {
      "text/plain": [
       "1779"
      ]
     },
     "execution_count": 22,
     "metadata": {},
     "output_type": "execute_result"
    }
   ],
   "source": [
    "train.shape[0]"
   ]
  },
  {
   "cell_type": "code",
   "execution_count": 23,
   "metadata": {},
   "outputs": [
    {
     "data": {
      "text/plain": [
       "Date\n",
       "2015-08-21    235.56\n",
       "2015-08-22    232.85\n",
       "2015-08-23    231.15\n",
       "Name: Close, dtype: float64"
      ]
     },
     "execution_count": 23,
     "metadata": {},
     "output_type": "execute_result"
    }
   ],
   "source": [
    "random_walk[:3]"
   ]
  },
  {
   "cell_type": "code",
   "execution_count": 24,
   "metadata": {},
   "outputs": [
    {
     "data": {
      "text/plain": [
       "Date\n",
       "2015-08-20    235.56\n",
       "2015-08-21    232.85\n",
       "2015-08-22    231.15\n",
       "Name: Close, dtype: float64"
      ]
     },
     "execution_count": 24,
     "metadata": {},
     "output_type": "execute_result"
    }
   ],
   "source": [
    "train[:3]"
   ]
  },
  {
   "cell_type": "code",
   "execution_count": 25,
   "metadata": {},
   "outputs": [
    {
     "data": {
      "text/plain": [
       "DatetimeIndex(['2015-08-20', '2015-08-21', '2015-08-22', '2015-08-23',\n",
       "               '2015-08-24', '2015-08-25', '2015-08-26', '2015-08-27',\n",
       "               '2015-08-28', '2015-08-29',\n",
       "               ...\n",
       "               '2020-06-23', '2020-06-24', '2020-06-25', '2020-06-26',\n",
       "               '2020-06-27', '2020-06-28', '2020-06-29', '2020-06-30',\n",
       "               '2020-07-01', '2020-07-02'],\n",
       "              dtype='datetime64[ns]', name='Date', length=1779, freq=None)"
      ]
     },
     "execution_count": 25,
     "metadata": {},
     "output_type": "execute_result"
    }
   ],
   "source": [
    "train.index"
   ]
  },
  {
   "cell_type": "code",
   "execution_count": 26,
   "metadata": {},
   "outputs": [
    {
     "data": {
      "text/plain": [
       "DatetimeIndex(['2015-08-21', '2015-08-22', '2015-08-23', '2015-08-24',\n",
       "               '2015-08-25', '2015-08-26', '2015-08-27', '2015-08-28',\n",
       "               '2015-08-29', '2015-08-30',\n",
       "               ...\n",
       "               '2020-06-23', '2020-06-24', '2020-06-25', '2020-06-26',\n",
       "               '2020-06-27', '2020-06-28', '2020-06-29', '2020-06-30',\n",
       "               '2020-07-01', '2020-07-02'],\n",
       "              dtype='datetime64[ns]', name='Date', length=1778, freq=None)"
      ]
     },
     "execution_count": 26,
     "metadata": {},
     "output_type": "execute_result"
    }
   ],
   "source": [
    "random_walk.index"
   ]
  },
  {
   "cell_type": "code",
   "execution_count": 35,
   "metadata": {},
   "outputs": [
    {
     "data": {
      "text/plain": [
       "Date\n",
       "2015-08-21     235.56\n",
       "2015-08-22     232.85\n",
       "2015-08-23     231.15\n",
       "2015-08-24     229.21\n",
       "2015-08-25     211.16\n",
       "               ...   \n",
       "2020-06-28    9002.46\n",
       "2020-06-29    9113.24\n",
       "2020-06-30    9184.45\n",
       "2020-07-01    9136.20\n",
       "2020-07-02    9239.97\n",
       "Name: Close, Length: 1778, dtype: float64"
      ]
     },
     "execution_count": 35,
     "metadata": {},
     "output_type": "execute_result"
    }
   ],
   "source": [
    "random_walk"
   ]
  },
  {
   "cell_type": "code",
   "execution_count": 37,
   "metadata": {},
   "outputs": [
    {
     "data": {
      "text/plain": [
       "Date\n",
       "2015-08-20     235.56\n",
       "2015-08-21     232.85\n",
       "2015-08-22     231.15\n",
       "2015-08-23     229.21\n",
       "2015-08-24     211.16\n",
       "               ...   \n",
       "2020-06-28    9113.24\n",
       "2020-06-29    9184.45\n",
       "2020-06-30    9136.20\n",
       "2020-07-01    9239.97\n",
       "2020-07-02    9091.53\n",
       "Name: Close, Length: 1779, dtype: float64"
      ]
     },
     "execution_count": 37,
     "metadata": {},
     "output_type": "execute_result"
    }
   ],
   "source": [
    "train"
   ]
  },
  {
   "cell_type": "code",
   "execution_count": 38,
   "metadata": {},
   "outputs": [
    {
     "data": {
      "text/plain": [
       "95411.49854370077"
      ]
     },
     "execution_count": 38,
     "metadata": {},
     "output_type": "execute_result"
    }
   ],
   "source": [
    "metric.mean_squared_error(train[1:], random_walk)"
   ]
  },
  {
   "cell_type": "code",
   "execution_count": 39,
   "metadata": {},
   "outputs": [
    {
     "data": {
      "text/plain": [
       "0.0016642765319406084"
      ]
     },
     "execution_count": 39,
     "metadata": {},
     "output_type": "execute_result"
    }
   ],
   "source": [
    "metric.mean_squared_log_error(train[1:], random_walk)"
   ]
  },
  {
   "cell_type": "code",
   "execution_count": null,
   "metadata": {},
   "outputs": [],
   "source": []
  },
  {
   "cell_type": "code",
   "execution_count": null,
   "metadata": {},
   "outputs": [],
   "source": []
  },
  {
   "cell_type": "code",
   "execution_count": null,
   "metadata": {},
   "outputs": [],
   "source": []
  },
  {
   "cell_type": "markdown",
   "metadata": {},
   "source": [
    "## ARIMA MODEL"
   ]
  },
  {
   "cell_type": "code",
   "execution_count": 40,
   "metadata": {},
   "outputs": [],
   "source": [
    "from statsmodels.tsa.arima.model import ARIMA\n",
    "\n",
    "from sklearn.model_selection import TimeSeriesSplit"
   ]
  },
  {
   "cell_type": "code",
   "execution_count": 41,
   "metadata": {},
   "outputs": [],
   "source": [
    "# create timeseriessplit object\n",
    "data = btc.Close\n",
    "n = 5\n",
    "tss = TimeSeriesSplit(n_splits = n)\n",
    "split_data = tss.split(data)"
   ]
  },
  {
   "cell_type": "code",
   "execution_count": 42,
   "metadata": {},
   "outputs": [
    {
     "name": "stderr",
     "output_type": "stream",
     "text": [
      "<ipython-input-42-a5b0db9321a8>:10: VisibleDeprecationWarning: Creating an ndarray from ragged nested sequences (which is a list-or-tuple of lists-or-tuples-or ndarrays with different lengths or shapes) is deprecated. If you meant to do this, you must specify 'dtype=object' when creating the ndarray\n",
      "  tss_train = np.array(tss_train)\n"
     ]
    }
   ],
   "source": [
    "# save split data for time series cross val\n",
    "i = 0\n",
    "tss_train = []\n",
    "tss_test = []\n",
    "for j, k in split_data:\n",
    "    # use globals to save \n",
    "    tss_train.append(j)\n",
    "    tss_test.append(k)\n",
    "    \n",
    "tss_train = np.array(tss_train)\n",
    "tss_test = np.array(tss_test)"
   ]
  },
  {
   "cell_type": "code",
   "execution_count": 43,
   "metadata": {},
   "outputs": [],
   "source": [
    "# define function to print min and max of array/list\n",
    "def print_info(input_):\n",
    "    min_value = min(input_) \n",
    "    max_value = max(input_)\n",
    "    \n",
    "    return f'min: {min_value} max: {max_value}\\n'"
   ]
  },
  {
   "cell_type": "code",
   "execution_count": 44,
   "metadata": {},
   "outputs": [
    {
     "name": "stdout",
     "output_type": "stream",
     "text": [
      "Train: min: 0 max: 373\n",
      "\n",
      "Test: min: 374 max: 743\n",
      "\n",
      "Train: min: 0 max: 743\n",
      "\n",
      "Test: min: 744 max: 1113\n",
      "\n",
      "Train: min: 0 max: 1113\n",
      "\n",
      "Test: min: 1114 max: 1483\n",
      "\n",
      "Train: min: 0 max: 1483\n",
      "\n",
      "Test: min: 1484 max: 1853\n",
      "\n",
      "Train: min: 0 max: 1853\n",
      "\n",
      "Test: min: 1854 max: 2223\n",
      "\n"
     ]
    }
   ],
   "source": [
    "# iterate through timeseriessplit object and print info\n",
    "for train_index, test_index in tss.split(data):\n",
    "    print('Train:', print_info(train_index))\n",
    "    print('Test:', print_info(test_index))"
   ]
  },
  {
   "cell_type": "code",
   "execution_count": 45,
   "metadata": {},
   "outputs": [
    {
     "name": "stdout",
     "output_type": "stream",
     "text": [
      "373\n",
      "743\n",
      "1113\n",
      "1483\n",
      "1853\n"
     ]
    }
   ],
   "source": [
    "for i in tss_train:\n",
    "    print(max(i))"
   ]
  },
  {
   "cell_type": "code",
   "execution_count": 46,
   "metadata": {},
   "outputs": [
    {
     "name": "stdout",
     "output_type": "stream",
     "text": [
      "743\n",
      "1113\n",
      "1483\n",
      "1853\n",
      "2223\n"
     ]
    }
   ],
   "source": [
    "for i in tss_test:\n",
    "    print(max(i))"
   ]
  },
  {
   "cell_type": "code",
   "execution_count": 47,
   "metadata": {},
   "outputs": [
    {
     "data": {
      "text/plain": [
       "1855"
      ]
     },
     "execution_count": 47,
     "metadata": {},
     "output_type": "execute_result"
    }
   ],
   "source": [
    "test_index[1]"
   ]
  },
  {
   "cell_type": "markdown",
   "metadata": {},
   "source": [
    "### Random Walk with ARIMA"
   ]
  },
  {
   "cell_type": "code",
   "execution_count": 48,
   "metadata": {},
   "outputs": [
    {
     "data": {
      "text/plain": [
       "235.56"
      ]
     },
     "execution_count": 48,
     "metadata": {},
     "output_type": "execute_result"
    }
   ],
   "source": [
    "x = btc['Close'].iloc[train_index[0]]\n",
    "x\n",
    "# x.append(btc['Close'].iloc[train_index[1]])\n",
    "# x"
   ]
  },
  {
   "cell_type": "code",
   "execution_count": 49,
   "metadata": {},
   "outputs": [],
   "source": [
    "# create endog and exog variables for fitting\n",
    "endog = train\n",
    "endog.index = train.index.to_period('D')"
   ]
  },
  {
   "cell_type": "code",
   "execution_count": 50,
   "metadata": {},
   "outputs": [
    {
     "data": {
      "text/plain": [
       "Date\n",
       "2015-08-20       0.00\n",
       "2015-08-21     235.56\n",
       "2015-08-22     232.85\n",
       "2015-08-23     231.15\n",
       "2015-08-24     229.21\n",
       "               ...   \n",
       "2020-06-28    9002.46\n",
       "2020-06-29    9113.24\n",
       "2020-06-30    9184.45\n",
       "2020-07-01    9136.20\n",
       "2020-07-02    9239.97\n",
       "Freq: D, Length: 1779, dtype: float64"
      ]
     },
     "execution_count": 50,
     "metadata": {},
     "output_type": "execute_result"
    }
   ],
   "source": [
    "# CREATE arima_model object, pass training set and order\n",
    "\n",
    "# (0,1,0) as the order means 1st order differenced model, essentially a random walk\n",
    "\n",
    "rw = ARIMA(endog, order=(0,1,0)).fit()\n",
    "\n",
    "y_hat = rw.predict(typ='levels')\n",
    "y_hat"
   ]
  },
  {
   "cell_type": "code",
   "execution_count": 51,
   "metadata": {},
   "outputs": [
    {
     "data": {
      "text/plain": [
       "95389.05729302976"
      ]
     },
     "execution_count": 51,
     "metadata": {},
     "output_type": "execute_result"
    }
   ],
   "source": [
    "# find squared error and compare to random walk model generated manually\n",
    "metric.mean_squared_error(train[:], y_hat)"
   ]
  },
  {
   "cell_type": "markdown",
   "metadata": {},
   "source": [
    "### 1st Order ARIMA"
   ]
  },
  {
   "cell_type": "code",
   "execution_count": 52,
   "metadata": {},
   "outputs": [],
   "source": [
    "# # create endog and exog variables for fitting\n",
    "# endog = train\n",
    "# endog.index = endog.index.to_period('D')"
   ]
  },
  {
   "cell_type": "code",
   "execution_count": 53,
   "metadata": {},
   "outputs": [
    {
     "data": {
      "text/plain": [
       "Index(['Low', 'High', 'Open', 'Close', 'Volume', 'Market Cap'], dtype='object')"
      ]
     },
     "execution_count": 53,
     "metadata": {},
     "output_type": "execute_result"
    }
   ],
   "source": [
    "btc.columns"
   ]
  },
  {
   "cell_type": "code",
   "execution_count": 54,
   "metadata": {},
   "outputs": [
    {
     "data": {
      "text/html": [
       "<div>\n",
       "<style scoped>\n",
       "    .dataframe tbody tr th:only-of-type {\n",
       "        vertical-align: middle;\n",
       "    }\n",
       "\n",
       "    .dataframe tbody tr th {\n",
       "        vertical-align: top;\n",
       "    }\n",
       "\n",
       "    .dataframe thead th {\n",
       "        text-align: right;\n",
       "    }\n",
       "</style>\n",
       "<table border=\"1\" class=\"dataframe\">\n",
       "  <thead>\n",
       "    <tr style=\"text-align: right;\">\n",
       "      <th></th>\n",
       "      <th>Low</th>\n",
       "      <th>High</th>\n",
       "      <th>Open</th>\n",
       "      <th>Close</th>\n",
       "      <th>Volume</th>\n",
       "      <th>Market Cap</th>\n",
       "    </tr>\n",
       "    <tr>\n",
       "      <th>Date</th>\n",
       "      <th></th>\n",
       "      <th></th>\n",
       "      <th></th>\n",
       "      <th></th>\n",
       "      <th></th>\n",
       "      <th></th>\n",
       "    </tr>\n",
       "  </thead>\n",
       "  <tbody>\n",
       "    <tr>\n",
       "      <th>2015-08-20</th>\n",
       "      <td>227.45</td>\n",
       "      <td>238.20</td>\n",
       "      <td>227.46</td>\n",
       "      <td>235.56</td>\n",
       "      <td>8819.525082</td>\n",
       "      <td>2.077527e+06</td>\n",
       "    </tr>\n",
       "    <tr>\n",
       "      <th>2015-08-21</th>\n",
       "      <td>231.15</td>\n",
       "      <td>236.99</td>\n",
       "      <td>235.56</td>\n",
       "      <td>232.85</td>\n",
       "      <td>8328.577903</td>\n",
       "      <td>1.939309e+06</td>\n",
       "    </tr>\n",
       "    <tr>\n",
       "      <th>2015-08-22</th>\n",
       "      <td>222.68</td>\n",
       "      <td>235.53</td>\n",
       "      <td>232.85</td>\n",
       "      <td>231.15</td>\n",
       "      <td>7197.349489</td>\n",
       "      <td>1.663667e+06</td>\n",
       "    </tr>\n",
       "    <tr>\n",
       "      <th>2015-08-23</th>\n",
       "      <td>226.15</td>\n",
       "      <td>233.25</td>\n",
       "      <td>231.16</td>\n",
       "      <td>229.21</td>\n",
       "      <td>4312.637690</td>\n",
       "      <td>9.884997e+05</td>\n",
       "    </tr>\n",
       "    <tr>\n",
       "      <th>2015-08-24</th>\n",
       "      <td>210.00</td>\n",
       "      <td>229.24</td>\n",
       "      <td>229.23</td>\n",
       "      <td>211.16</td>\n",
       "      <td>16523.789445</td>\n",
       "      <td>3.489163e+06</td>\n",
       "    </tr>\n",
       "    <tr>\n",
       "      <th>...</th>\n",
       "      <td>...</td>\n",
       "      <td>...</td>\n",
       "      <td>...</td>\n",
       "      <td>...</td>\n",
       "      <td>...</td>\n",
       "      <td>...</td>\n",
       "    </tr>\n",
       "    <tr>\n",
       "      <th>2021-09-16</th>\n",
       "      <td>47020.82</td>\n",
       "      <td>48499.99</td>\n",
       "      <td>48144.03</td>\n",
       "      <td>47753.16</td>\n",
       "      <td>11739.279666</td>\n",
       "      <td>5.605877e+08</td>\n",
       "    </tr>\n",
       "    <tr>\n",
       "      <th>2021-09-17</th>\n",
       "      <td>46752.67</td>\n",
       "      <td>48176.64</td>\n",
       "      <td>47753.15</td>\n",
       "      <td>47303.50</td>\n",
       "      <td>9088.569565</td>\n",
       "      <td>4.299212e+08</td>\n",
       "    </tr>\n",
       "    <tr>\n",
       "      <th>2021-09-18</th>\n",
       "      <td>47050.00</td>\n",
       "      <td>48825.62</td>\n",
       "      <td>47306.87</td>\n",
       "      <td>48314.56</td>\n",
       "      <td>7491.034492</td>\n",
       "      <td>3.619260e+08</td>\n",
       "    </tr>\n",
       "    <tr>\n",
       "      <th>2021-09-19</th>\n",
       "      <td>46850.87</td>\n",
       "      <td>48379.19</td>\n",
       "      <td>48309.86</td>\n",
       "      <td>47255.92</td>\n",
       "      <td>7086.346262</td>\n",
       "      <td>3.348718e+08</td>\n",
       "    </tr>\n",
       "    <tr>\n",
       "      <th>2021-09-20</th>\n",
       "      <td>42500.00</td>\n",
       "      <td>47358.92</td>\n",
       "      <td>47253.71</td>\n",
       "      <td>43012.97</td>\n",
       "      <td>27706.676362</td>\n",
       "      <td>1.191746e+09</td>\n",
       "    </tr>\n",
       "  </tbody>\n",
       "</table>\n",
       "<p>2224 rows × 6 columns</p>\n",
       "</div>"
      ],
      "text/plain": [
       "                 Low      High      Open     Close        Volume    Market Cap\n",
       "Date                                                                          \n",
       "2015-08-20    227.45    238.20    227.46    235.56   8819.525082  2.077527e+06\n",
       "2015-08-21    231.15    236.99    235.56    232.85   8328.577903  1.939309e+06\n",
       "2015-08-22    222.68    235.53    232.85    231.15   7197.349489  1.663667e+06\n",
       "2015-08-23    226.15    233.25    231.16    229.21   4312.637690  9.884997e+05\n",
       "2015-08-24    210.00    229.24    229.23    211.16  16523.789445  3.489163e+06\n",
       "...              ...       ...       ...       ...           ...           ...\n",
       "2021-09-16  47020.82  48499.99  48144.03  47753.16  11739.279666  5.605877e+08\n",
       "2021-09-17  46752.67  48176.64  47753.15  47303.50   9088.569565  4.299212e+08\n",
       "2021-09-18  47050.00  48825.62  47306.87  48314.56   7491.034492  3.619260e+08\n",
       "2021-09-19  46850.87  48379.19  48309.86  47255.92   7086.346262  3.348718e+08\n",
       "2021-09-20  42500.00  47358.92  47253.71  43012.97  27706.676362  1.191746e+09\n",
       "\n",
       "[2224 rows x 6 columns]"
      ]
     },
     "execution_count": 54,
     "metadata": {},
     "output_type": "execute_result"
    }
   ],
   "source": [
    "btc"
   ]
  },
  {
   "cell_type": "code",
   "execution_count": 55,
   "metadata": {},
   "outputs": [
    {
     "data": {
      "text/plain": [
       "Date\n",
       "2015-08-20     235.56\n",
       "2015-08-21     232.85\n",
       "2015-08-22     231.15\n",
       "2015-08-23     229.21\n",
       "2015-08-24     211.16\n",
       "               ...   \n",
       "2020-06-28    9113.24\n",
       "2020-06-29    9184.45\n",
       "2020-06-30    9136.20\n",
       "2020-07-01    9239.97\n",
       "2020-07-02    9091.53\n",
       "Freq: D, Name: Close, Length: 1779, dtype: float64"
      ]
     },
     "execution_count": 55,
     "metadata": {},
     "output_type": "execute_result"
    }
   ],
   "source": [
    "endog"
   ]
  },
  {
   "cell_type": "code",
   "execution_count": 56,
   "metadata": {},
   "outputs": [
    {
     "data": {
      "text/plain": [
       "Date\n",
       "2015-08-20       0.000000\n",
       "2015-08-21     235.485267\n",
       "2015-08-22     232.859866\n",
       "2015-08-23     231.156189\n",
       "2015-08-24     229.217063\n",
       "                 ...     \n",
       "2020-06-28    9003.016855\n",
       "2020-06-29    9112.836702\n",
       "2020-06-30    9184.190758\n",
       "2020-07-01    9136.375656\n",
       "2020-07-02    9239.592222\n",
       "Freq: D, Length: 1779, dtype: float64"
      ]
     },
     "execution_count": 56,
     "metadata": {},
     "output_type": "execute_result"
    }
   ],
   "source": [
    "# CREATE arima_model object, pass training set and order\n",
    "\n",
    "# (1,1,0) as the order means 1st order differenced model, with additional lag\n",
    "\n",
    "ar_1 = ARIMA(train, order=(1,1,0)).fit()\n",
    "\n",
    "y_hat = ar_1.predict()\n",
    "y_hat "
   ]
  },
  {
   "cell_type": "code",
   "execution_count": 57,
   "metadata": {},
   "outputs": [],
   "source": [
    "y_hat = ar_1.predict(start=test.index[0], end=test.index[-1])"
   ]
  },
  {
   "cell_type": "code",
   "execution_count": 58,
   "metadata": {},
   "outputs": [
    {
     "data": {
      "text/plain": [
       "Low           9.585440e+03\n",
       "High          9.855000e+03\n",
       "Open          9.791960e+03\n",
       "Close         9.613210e+03\n",
       "Volume        1.249590e+04\n",
       "Market Cap    1.201257e+08\n",
       "Name: 2020-06-05 00:00:00, dtype: float64"
      ]
     },
     "execution_count": 58,
     "metadata": {},
     "output_type": "execute_result"
    }
   ],
   "source": [
    "btc.loc['2020-06-05']"
   ]
  },
  {
   "cell_type": "code",
   "execution_count": 59,
   "metadata": {},
   "outputs": [
    {
     "data": {
      "text/plain": [
       "2020-07-03    9092.070400\n",
       "2020-07-04    9092.068433\n",
       "2020-07-05    9092.068440\n",
       "2020-07-06    9092.068440\n",
       "2020-07-07    9092.068440\n",
       "                 ...     \n",
       "2021-09-16    9092.068440\n",
       "2021-09-17    9092.068440\n",
       "2021-09-18    9092.068440\n",
       "2021-09-19    9092.068440\n",
       "2021-09-20    9092.068440\n",
       "Freq: D, Length: 445, dtype: float64"
      ]
     },
     "execution_count": 59,
     "metadata": {},
     "output_type": "execute_result"
    }
   ],
   "source": [
    "y_hat"
   ]
  },
  {
   "cell_type": "code",
   "execution_count": 60,
   "metadata": {},
   "outputs": [
    {
     "data": {
      "text/plain": [
       "33394737.644923408"
      ]
     },
     "execution_count": 60,
     "metadata": {},
     "output_type": "execute_result"
    }
   ],
   "source": [
    "metric.mean_squared_error(train, y_hat[0]*np.ones(len(train)))"
   ]
  },
  {
   "cell_type": "code",
   "execution_count": 61,
   "metadata": {},
   "outputs": [
    {
     "data": {
      "text/plain": [
       "Date\n",
       "2015-08-20     235.56\n",
       "2015-08-21     232.85\n",
       "2015-08-22     231.15\n",
       "2015-08-23     229.21\n",
       "2015-08-24     211.16\n",
       "               ...   \n",
       "2020-06-28    9113.24\n",
       "2020-06-29    9184.45\n",
       "2020-06-30    9136.20\n",
       "2020-07-01    9239.97\n",
       "2020-07-02    9091.53\n",
       "Freq: D, Name: Close, Length: 1779, dtype: float64"
      ]
     },
     "execution_count": 61,
     "metadata": {},
     "output_type": "execute_result"
    }
   ],
   "source": [
    "train"
   ]
  },
  {
   "cell_type": "code",
   "execution_count": 62,
   "metadata": {},
   "outputs": [
    {
     "data": {
      "text/plain": [
       "2020-07-03    9097.038062\n",
       "2020-07-04    9102.025560\n",
       "2020-07-05    9107.014818\n",
       "2020-07-06    9112.004071\n",
       "2020-07-07    9116.993323\n",
       "2020-07-08    9121.982576\n",
       "2020-07-09    9126.971828\n",
       "2020-07-10    9131.961081\n",
       "2020-07-11    9136.950333\n",
       "2020-07-12    9141.939586\n",
       "2020-07-13    9146.928838\n",
       "Freq: D, dtype: float64"
      ]
     },
     "execution_count": 62,
     "metadata": {},
     "output_type": "execute_result"
    }
   ],
   "source": [
    "# CREATE arima_model object, pass training set and order\n",
    "\n",
    "# try higher order models\n",
    "\n",
    "ar_2 = ARIMA(train,exog=None, order=(1,2,1)).fit()\n",
    "\n",
    "y_hat = ar_2.predict(start = test.index[0], end = test.index[10])\n",
    "y_hat"
   ]
  },
  {
   "cell_type": "code",
   "execution_count": 63,
   "metadata": {},
   "outputs": [
    {
     "data": {
      "text/plain": [
       "23189.465609044648"
      ]
     },
     "execution_count": 63,
     "metadata": {},
     "output_type": "execute_result"
    }
   ],
   "source": [
    "metric.mean_squared_error(test[0:11], y_hat)"
   ]
  },
  {
   "cell_type": "code",
   "execution_count": 64,
   "metadata": {},
   "outputs": [
    {
     "data": {
      "text/html": [
       "<table class=\"simpletable\">\n",
       "<caption>SARIMAX Results</caption>\n",
       "<tr>\n",
       "  <th>Dep. Variable:</th>         <td>Close</td>      <th>  No. Observations:  </th>    <td>1779</td>   \n",
       "</tr>\n",
       "<tr>\n",
       "  <th>Model:</th>            <td>ARIMA(1, 2, 1)</td>  <th>  Log Likelihood     </th> <td>-12712.876</td>\n",
       "</tr>\n",
       "<tr>\n",
       "  <th>Date:</th>            <td>Tue, 21 Sep 2021</td> <th>  AIC                </th>  <td>25431.752</td>\n",
       "</tr>\n",
       "<tr>\n",
       "  <th>Time:</th>                <td>22:21:52</td>     <th>  BIC                </th>  <td>25448.200</td>\n",
       "</tr>\n",
       "<tr>\n",
       "  <th>Sample:</th>             <td>08-20-2015</td>    <th>  HQIC               </th>  <td>25437.827</td>\n",
       "</tr>\n",
       "<tr>\n",
       "  <th></th>                   <td>- 07-02-2020</td>   <th>                     </th>      <td> </td>    \n",
       "</tr>\n",
       "<tr>\n",
       "  <th>Covariance Type:</th>        <td>opg</td>       <th>                     </th>      <td> </td>    \n",
       "</tr>\n",
       "</table>\n",
       "<table class=\"simpletable\">\n",
       "<tr>\n",
       "     <td></td>       <th>coef</th>     <th>std err</th>      <th>z</th>      <th>P>|z|</th>  <th>[0.025</th>    <th>0.975]</th>  \n",
       "</tr>\n",
       "<tr>\n",
       "  <th>ar.L1</th>  <td>   -0.0034</td> <td>    0.009</td> <td>   -0.364</td> <td> 0.716</td> <td>   -0.022</td> <td>    0.015</td>\n",
       "</tr>\n",
       "<tr>\n",
       "  <th>ma.L1</th>  <td>   -0.9999</td> <td>    0.023</td> <td>  -43.373</td> <td> 0.000</td> <td>   -1.045</td> <td>   -0.955</td>\n",
       "</tr>\n",
       "<tr>\n",
       "  <th>sigma2</th> <td> 9.545e+04</td> <td> 2189.761</td> <td>   43.591</td> <td> 0.000</td> <td> 9.12e+04</td> <td> 9.97e+04</td>\n",
       "</tr>\n",
       "</table>\n",
       "<table class=\"simpletable\">\n",
       "<tr>\n",
       "  <th>Ljung-Box (Q):</th>          <td>121.01</td> <th>  Jarque-Bera (JB):  </th> <td>35223.85</td>\n",
       "</tr>\n",
       "<tr>\n",
       "  <th>Prob(Q):</th>                 <td>0.00</td>  <th>  Prob(JB):          </th>   <td>0.00</td>  \n",
       "</tr>\n",
       "<tr>\n",
       "  <th>Heteroskedasticity (H):</th> <td>241.48</td> <th>  Skew:              </th>   <td>0.08</td>  \n",
       "</tr>\n",
       "<tr>\n",
       "  <th>Prob(H) (two-sided):</th>     <td>0.00</td>  <th>  Kurtosis:          </th>   <td>24.81</td> \n",
       "</tr>\n",
       "</table><br/><br/>Warnings:<br/>[1] Covariance matrix calculated using the outer product of gradients (complex-step)."
      ],
      "text/plain": [
       "<class 'statsmodels.iolib.summary.Summary'>\n",
       "\"\"\"\n",
       "                               SARIMAX Results                                \n",
       "==============================================================================\n",
       "Dep. Variable:                  Close   No. Observations:                 1779\n",
       "Model:                 ARIMA(1, 2, 1)   Log Likelihood              -12712.876\n",
       "Date:                Tue, 21 Sep 2021   AIC                          25431.752\n",
       "Time:                        22:21:52   BIC                          25448.200\n",
       "Sample:                    08-20-2015   HQIC                         25437.827\n",
       "                         - 07-02-2020                                         \n",
       "Covariance Type:                  opg                                         \n",
       "==============================================================================\n",
       "                 coef    std err          z      P>|z|      [0.025      0.975]\n",
       "------------------------------------------------------------------------------\n",
       "ar.L1         -0.0034      0.009     -0.364      0.716      -0.022       0.015\n",
       "ma.L1         -0.9999      0.023    -43.373      0.000      -1.045      -0.955\n",
       "sigma2      9.545e+04   2189.761     43.591      0.000    9.12e+04    9.97e+04\n",
       "===================================================================================\n",
       "Ljung-Box (Q):                      121.01   Jarque-Bera (JB):             35223.85\n",
       "Prob(Q):                              0.00   Prob(JB):                         0.00\n",
       "Heteroskedasticity (H):             241.48   Skew:                             0.08\n",
       "Prob(H) (two-sided):                  0.00   Kurtosis:                        24.81\n",
       "===================================================================================\n",
       "\n",
       "Warnings:\n",
       "[1] Covariance matrix calculated using the outer product of gradients (complex-step).\n",
       "\"\"\""
      ]
     },
     "execution_count": 64,
     "metadata": {},
     "output_type": "execute_result"
    }
   ],
   "source": [
    "ar_2.summary()"
   ]
  },
  {
   "cell_type": "code",
   "execution_count": 65,
   "metadata": {},
   "outputs": [
    {
     "name": "stderr",
     "output_type": "stream",
     "text": [
      "C:\\Users\\samjd\\anaconda3\\envs\\oy-env\\lib\\site-packages\\statsmodels\\tsa\\statespace\\sarimax.py:963: UserWarning: Non-stationary starting autoregressive parameters found. Using zeros as starting parameters.\n",
      "  warn('Non-stationary starting autoregressive parameters'\n",
      "C:\\Users\\samjd\\anaconda3\\envs\\oy-env\\lib\\site-packages\\statsmodels\\tsa\\statespace\\sarimax.py:975: UserWarning: Non-invertible starting MA parameters found. Using zeros as starting parameters.\n",
      "  warn('Non-invertible starting MA parameters found.'\n",
      "C:\\Users\\samjd\\anaconda3\\envs\\oy-env\\lib\\site-packages\\statsmodels\\base\\model.py:567: ConvergenceWarning: Maximum Likelihood optimization failed to converge. Check mle_retvals\n",
      "  warn(\"Maximum Likelihood optimization failed to converge. \"\n"
     ]
    },
    {
     "data": {
      "text/plain": [
       "Date\n",
       "2015-08-20       0.000000\n",
       "2015-08-21     353.284664\n",
       "2015-08-22     248.180167\n",
       "2015-08-23     238.552965\n",
       "2015-08-24     232.905901\n",
       "                 ...     \n",
       "2020-06-28    8994.197809\n",
       "2020-06-29    9115.254505\n",
       "2020-06-30    9209.210165\n",
       "2020-07-01    9120.771573\n",
       "2020-07-02    9255.378142\n",
       "Freq: D, Length: 1779, dtype: float64"
      ]
     },
     "execution_count": 65,
     "metadata": {},
     "output_type": "execute_result"
    }
   ],
   "source": [
    "# additoinal ARIMIA model\n",
    "ar_3 = ARIMA(train,exog=None, order=(4,2,3), freq='D').fit()\n",
    "\n",
    "y_hat = ar_3.predict(typ='levels')\n",
    "y_hat"
   ]
  },
  {
   "cell_type": "code",
   "execution_count": 66,
   "metadata": {},
   "outputs": [
    {
     "data": {
      "text/plain": [
       "94347.69220621261"
      ]
     },
     "execution_count": 66,
     "metadata": {},
     "output_type": "execute_result"
    }
   ],
   "source": [
    "metric.mean_squared_error(train[:], y_hat)"
   ]
  },
  {
   "cell_type": "code",
   "execution_count": null,
   "metadata": {},
   "outputs": [],
   "source": []
  },
  {
   "cell_type": "code",
   "execution_count": 67,
   "metadata": {},
   "outputs": [
    {
     "data": {
      "text/plain": [
       "95087.5683222258"
      ]
     },
     "execution_count": 67,
     "metadata": {},
     "output_type": "execute_result"
    }
   ],
   "source": [
    "# additoinal ARIMIA model\n",
    "ar_4 = ARIMA(train, order=(1,1,4), freq='D').fit()\n",
    "\n",
    "y_hat = ar_4.predict(typ='levels')\n",
    "metric.mean_squared_error(train[:], y_hat)"
   ]
  },
  {
   "cell_type": "code",
   "execution_count": 68,
   "metadata": {},
   "outputs": [
    {
     "name": "stderr",
     "output_type": "stream",
     "text": [
      "C:\\Users\\samjd\\anaconda3\\envs\\oy-env\\lib\\site-packages\\sklearn\\utils\\validation.py:67: FutureWarning: Pass max_train_size=Date\n",
      "2015-08-20      235.56\n",
      "2015-08-21      232.85\n",
      "2015-08-22      231.15\n",
      "2015-08-23      229.21\n",
      "2015-08-24      211.16\n",
      "                ...   \n",
      "2021-09-16    47753.16\n",
      "2021-09-17    47303.50\n",
      "2021-09-18    48314.56\n",
      "2021-09-19    47255.92\n",
      "2021-09-20    43012.97\n",
      "Name: Close, Length: 2224, dtype: float64 as keyword args. From version 0.25 passing these as positional arguments will result in an error\n",
      "  warnings.warn(\"Pass {} as keyword args. From version 0.25 \"\n"
     ]
    },
    {
     "data": {
      "text/plain": [
       "TimeSeriesSplit(max_train_size=Date\n",
       "2015-08-20      235.56\n",
       "2015-08-21      232.85\n",
       "2015-08-22      231.15\n",
       "2015-08-23      229.21\n",
       "2015-08-24      211.16\n",
       "                ...\n",
       "2021-09-16    47753.16\n",
       "2021-09-17    47303.50\n",
       "2021-09-18    48314.56\n",
       "2021-09-19    47255.92\n",
       "2021-09-20    43012.97\n",
       "Name: Close, Length: 2224, dtype: float64,\n",
       "        n_splits=5)"
      ]
     },
     "execution_count": 68,
     "metadata": {},
     "output_type": "execute_result"
    }
   ],
   "source": [
    "TimeSeriesSplit(5, btc['Close'], max_train_size=0.8*btc.shape[0])"
   ]
  },
  {
   "cell_type": "markdown",
   "metadata": {},
   "source": [
    "### Make function to make data reshaping easier"
   ]
  },
  {
   "cell_type": "code",
   "execution_count": 69,
   "metadata": {},
   "outputs": [],
   "source": [
    "# function converts data to array and reshapes for linreg compatibility \n",
    "def arr_shape(data):\n",
    "    data = np.array(data)\n",
    "    data = data.reshape(-1,1)\n",
    "    return data"
   ]
  },
  {
   "cell_type": "markdown",
   "metadata": {},
   "source": [
    "## auto_arima"
   ]
  },
  {
   "cell_type": "code",
   "execution_count": null,
   "metadata": {},
   "outputs": [],
   "source": []
  },
  {
   "cell_type": "code",
   "execution_count": 70,
   "metadata": {},
   "outputs": [
    {
     "name": "stdout",
     "output_type": "stream",
     "text": [
      "Performing stepwise search to minimize aic\n",
      " ARIMA(0,0,0)(0,1,0)[96] intercept   : AIC=31751.249, Time=3.81 sec\n",
      " ARIMA(1,0,0)(1,1,0)[96] intercept   : AIC=inf, Time=284.65 sec\n"
     ]
    },
    {
     "ename": "KeyboardInterrupt",
     "evalue": "",
     "output_type": "error",
     "traceback": [
      "\u001b[1;31m---------------------------------------------------------------------------\u001b[0m",
      "\u001b[1;31mKeyboardInterrupt\u001b[0m                         Traceback (most recent call last)",
      "\u001b[1;32m<ipython-input-70-30f3c0f273c6>\u001b[0m in \u001b[0;36m<module>\u001b[1;34m\u001b[0m\n\u001b[1;32m----> 1\u001b[1;33m arima_model = auto_arima(train,\n\u001b[0m\u001b[0;32m      2\u001b[0m                          \u001b[0mstart_p\u001b[0m\u001b[1;33m=\u001b[0m\u001b[1;36m0\u001b[0m\u001b[1;33m,\u001b[0m\u001b[0md\u001b[0m\u001b[1;33m=\u001b[0m\u001b[1;36m0\u001b[0m\u001b[1;33m,\u001b[0m\u001b[0mstart_q\u001b[0m\u001b[1;33m=\u001b[0m\u001b[1;36m0\u001b[0m\u001b[1;33m,\u001b[0m\u001b[1;33m\u001b[0m\u001b[1;33m\u001b[0m\u001b[0m\n\u001b[0;32m      3\u001b[0m                          \u001b[0mmax_p\u001b[0m\u001b[1;33m=\u001b[0m\u001b[1;36m4\u001b[0m\u001b[1;33m,\u001b[0m\u001b[0mmax_d\u001b[0m\u001b[1;33m=\u001b[0m\u001b[1;36m4\u001b[0m\u001b[1;33m,\u001b[0m\u001b[0mmax_q\u001b[0m\u001b[1;33m=\u001b[0m\u001b[1;36m4\u001b[0m\u001b[1;33m,\u001b[0m\u001b[1;33m\u001b[0m\u001b[1;33m\u001b[0m\u001b[0m\n\u001b[0;32m      4\u001b[0m                          \u001b[0mstart_P\u001b[0m\u001b[1;33m=\u001b[0m\u001b[1;36m0\u001b[0m\u001b[1;33m,\u001b[0m\u001b[0mD\u001b[0m\u001b[1;33m=\u001b[0m\u001b[1;36m1\u001b[0m\u001b[1;33m,\u001b[0m\u001b[0mstart_Q\u001b[0m\u001b[1;33m=\u001b[0m\u001b[1;36m0\u001b[0m\u001b[1;33m,\u001b[0m\u001b[1;33m\u001b[0m\u001b[1;33m\u001b[0m\u001b[0m\n\u001b[0;32m      5\u001b[0m                          \u001b[0mmax_P\u001b[0m\u001b[1;33m=\u001b[0m\u001b[1;36m1\u001b[0m\u001b[1;33m,\u001b[0m\u001b[0mmax_D\u001b[0m\u001b[1;33m=\u001b[0m\u001b[1;36m1\u001b[0m\u001b[1;33m,\u001b[0m\u001b[0mmax_Q\u001b[0m\u001b[1;33m=\u001b[0m\u001b[1;36m1\u001b[0m\u001b[1;33m,\u001b[0m\u001b[0mm\u001b[0m\u001b[1;33m=\u001b[0m\u001b[1;36m96\u001b[0m\u001b[1;33m,\u001b[0m\u001b[1;33m\u001b[0m\u001b[1;33m\u001b[0m\u001b[0m\n",
      "\u001b[1;32m~\\anaconda3\\envs\\oy-env\\lib\\site-packages\\pmdarima\\arima\\auto.py\u001b[0m in \u001b[0;36mauto_arima\u001b[1;34m(y, X, start_p, d, start_q, max_p, max_d, max_q, start_P, D, start_Q, max_P, max_D, max_Q, max_order, m, seasonal, stationary, information_criterion, alpha, test, seasonal_test, stepwise, n_jobs, start_params, trend, method, maxiter, offset_test_args, seasonal_test_args, suppress_warnings, error_action, trace, random, random_state, n_fits, return_valid_fits, out_of_sample_size, scoring, scoring_args, with_intercept, sarimax_kwargs, **fit_args)\u001b[0m\n\u001b[0;32m    715\u001b[0m         )\n\u001b[0;32m    716\u001b[0m \u001b[1;33m\u001b[0m\u001b[0m\n\u001b[1;32m--> 717\u001b[1;33m     \u001b[0msorted_res\u001b[0m \u001b[1;33m=\u001b[0m \u001b[0msearch\u001b[0m\u001b[1;33m.\u001b[0m\u001b[0msolve\u001b[0m\u001b[1;33m(\u001b[0m\u001b[1;33m)\u001b[0m\u001b[1;33m\u001b[0m\u001b[1;33m\u001b[0m\u001b[0m\n\u001b[0m\u001b[0;32m    718\u001b[0m     \u001b[1;32mreturn\u001b[0m \u001b[0m_return_wrapper\u001b[0m\u001b[1;33m(\u001b[0m\u001b[0msorted_res\u001b[0m\u001b[1;33m,\u001b[0m \u001b[0mreturn_valid_fits\u001b[0m\u001b[1;33m,\u001b[0m \u001b[0mstart\u001b[0m\u001b[1;33m,\u001b[0m \u001b[0mtrace\u001b[0m\u001b[1;33m)\u001b[0m\u001b[1;33m\u001b[0m\u001b[1;33m\u001b[0m\u001b[0m\n\u001b[0;32m    719\u001b[0m \u001b[1;33m\u001b[0m\u001b[0m\n",
      "\u001b[1;32m~\\anaconda3\\envs\\oy-env\\lib\\site-packages\\pmdarima\\arima\\_auto_solvers.py\u001b[0m in \u001b[0;36msolve\u001b[1;34m(self)\u001b[0m\n\u001b[0;32m    303\u001b[0m             \u001b[0m_q\u001b[0m \u001b[1;33m=\u001b[0m \u001b[1;36m1\u001b[0m \u001b[1;32mif\u001b[0m \u001b[0mmax_q\u001b[0m \u001b[1;33m>\u001b[0m \u001b[1;36m0\u001b[0m \u001b[1;32melse\u001b[0m \u001b[1;36m0\u001b[0m\u001b[1;33m\u001b[0m\u001b[1;33m\u001b[0m\u001b[0m\n\u001b[0;32m    304\u001b[0m             \u001b[0m_Q\u001b[0m \u001b[1;33m=\u001b[0m \u001b[1;36m1\u001b[0m \u001b[1;32mif\u001b[0m \u001b[1;33m(\u001b[0m\u001b[0mm\u001b[0m \u001b[1;33m>\u001b[0m \u001b[1;36m1\u001b[0m \u001b[1;32mand\u001b[0m \u001b[0mmax_Q\u001b[0m \u001b[1;33m>\u001b[0m \u001b[1;36m0\u001b[0m\u001b[1;33m)\u001b[0m \u001b[1;32melse\u001b[0m \u001b[1;36m0\u001b[0m\u001b[1;33m\u001b[0m\u001b[1;33m\u001b[0m\u001b[0m\n\u001b[1;32m--> 305\u001b[1;33m             \u001b[1;32mif\u001b[0m \u001b[0mself\u001b[0m\u001b[1;33m.\u001b[0m\u001b[0m_do_fit\u001b[0m\u001b[1;33m(\u001b[0m\u001b[1;33m(\u001b[0m\u001b[1;36m0\u001b[0m\u001b[1;33m,\u001b[0m \u001b[0md\u001b[0m\u001b[1;33m,\u001b[0m \u001b[0m_q\u001b[0m\u001b[1;33m)\u001b[0m\u001b[1;33m,\u001b[0m \u001b[1;33m(\u001b[0m\u001b[1;36m0\u001b[0m\u001b[1;33m,\u001b[0m \u001b[0mD\u001b[0m\u001b[1;33m,\u001b[0m \u001b[0m_Q\u001b[0m\u001b[1;33m,\u001b[0m \u001b[0mm\u001b[0m\u001b[1;33m)\u001b[0m\u001b[1;33m)\u001b[0m\u001b[1;33m:\u001b[0m\u001b[1;33m\u001b[0m\u001b[1;33m\u001b[0m\u001b[0m\n\u001b[0m\u001b[0;32m    306\u001b[0m                 \u001b[0mp\u001b[0m \u001b[1;33m=\u001b[0m \u001b[0mP\u001b[0m \u001b[1;33m=\u001b[0m \u001b[1;36m0\u001b[0m\u001b[1;33m\u001b[0m\u001b[1;33m\u001b[0m\u001b[0m\n\u001b[0;32m    307\u001b[0m                 \u001b[0mQ\u001b[0m \u001b[1;33m=\u001b[0m \u001b[0m_Q\u001b[0m\u001b[1;33m\u001b[0m\u001b[1;33m\u001b[0m\u001b[0m\n",
      "\u001b[1;32m~\\anaconda3\\envs\\oy-env\\lib\\site-packages\\pmdarima\\arima\\_auto_solvers.py\u001b[0m in \u001b[0;36m_do_fit\u001b[1;34m(self, order, seasonal_order, constant)\u001b[0m\n\u001b[0;32m    231\u001b[0m             \u001b[0mself\u001b[0m\u001b[1;33m.\u001b[0m\u001b[0mk\u001b[0m \u001b[1;33m+=\u001b[0m \u001b[1;36m1\u001b[0m\u001b[1;33m\u001b[0m\u001b[1;33m\u001b[0m\u001b[0m\n\u001b[0;32m    232\u001b[0m \u001b[1;33m\u001b[0m\u001b[0m\n\u001b[1;32m--> 233\u001b[1;33m             fit, fit_time, new_ic = self._fit_arima(\n\u001b[0m\u001b[0;32m    234\u001b[0m                 \u001b[0morder\u001b[0m\u001b[1;33m=\u001b[0m\u001b[0morder\u001b[0m\u001b[1;33m,\u001b[0m\u001b[1;33m\u001b[0m\u001b[1;33m\u001b[0m\u001b[0m\n\u001b[0;32m    235\u001b[0m                 \u001b[0mseasonal_order\u001b[0m\u001b[1;33m=\u001b[0m\u001b[0mseasonal_order\u001b[0m\u001b[1;33m,\u001b[0m\u001b[1;33m\u001b[0m\u001b[1;33m\u001b[0m\u001b[0m\n",
      "\u001b[1;32m~\\anaconda3\\envs\\oy-env\\lib\\site-packages\\pmdarima\\arima\\_auto_solvers.py\u001b[0m in \u001b[0;36m_fit_candidate_model\u001b[1;34m(y, X, order, seasonal_order, start_params, trend, method, maxiter, fit_params, suppress_warnings, trace, error_action, out_of_sample_size, scoring, scoring_args, with_intercept, information_criterion, **kwargs)\u001b[0m\n\u001b[0;32m    504\u001b[0m \u001b[1;33m\u001b[0m\u001b[0m\n\u001b[0;32m    505\u001b[0m     \u001b[1;32mtry\u001b[0m\u001b[1;33m:\u001b[0m\u001b[1;33m\u001b[0m\u001b[1;33m\u001b[0m\u001b[0m\n\u001b[1;32m--> 506\u001b[1;33m         \u001b[0mfit\u001b[0m\u001b[1;33m.\u001b[0m\u001b[0mfit\u001b[0m\u001b[1;33m(\u001b[0m\u001b[0my\u001b[0m\u001b[1;33m,\u001b[0m \u001b[0mX\u001b[0m\u001b[1;33m=\u001b[0m\u001b[0mX\u001b[0m\u001b[1;33m,\u001b[0m \u001b[1;33m**\u001b[0m\u001b[0mfit_params\u001b[0m\u001b[1;33m)\u001b[0m\u001b[1;33m\u001b[0m\u001b[1;33m\u001b[0m\u001b[0m\n\u001b[0m\u001b[0;32m    507\u001b[0m \u001b[1;33m\u001b[0m\u001b[0m\n\u001b[0;32m    508\u001b[0m     \u001b[1;31m# for non-stationarity errors or singular matrices, return None\u001b[0m\u001b[1;33m\u001b[0m\u001b[1;33m\u001b[0m\u001b[1;33m\u001b[0m\u001b[0m\n",
      "\u001b[1;32m~\\anaconda3\\envs\\oy-env\\lib\\site-packages\\pmdarima\\arima\\arima.py\u001b[0m in \u001b[0;36mfit\u001b[1;34m(self, y, X, **fit_args)\u001b[0m\n\u001b[0;32m    480\u001b[0m \u001b[1;33m\u001b[0m\u001b[0m\n\u001b[0;32m    481\u001b[0m         \u001b[1;31m# Internal call\u001b[0m\u001b[1;33m\u001b[0m\u001b[1;33m\u001b[0m\u001b[1;33m\u001b[0m\u001b[0m\n\u001b[1;32m--> 482\u001b[1;33m         \u001b[0mself\u001b[0m\u001b[1;33m.\u001b[0m\u001b[0m_fit\u001b[0m\u001b[1;33m(\u001b[0m\u001b[0my\u001b[0m\u001b[1;33m,\u001b[0m \u001b[0mX\u001b[0m\u001b[1;33m,\u001b[0m \u001b[1;33m**\u001b[0m\u001b[0mfit_args\u001b[0m\u001b[1;33m)\u001b[0m\u001b[1;33m\u001b[0m\u001b[1;33m\u001b[0m\u001b[0m\n\u001b[0m\u001b[0;32m    483\u001b[0m \u001b[1;33m\u001b[0m\u001b[0m\n\u001b[0;32m    484\u001b[0m         \u001b[1;31m# now make a forecast if we're validating to compute the\u001b[0m\u001b[1;33m\u001b[0m\u001b[1;33m\u001b[0m\u001b[1;33m\u001b[0m\u001b[0m\n",
      "\u001b[1;32m~\\anaconda3\\envs\\oy-env\\lib\\site-packages\\pmdarima\\arima\\arima.py\u001b[0m in \u001b[0;36m_fit\u001b[1;34m(self, y, X, **fit_args)\u001b[0m\n\u001b[0;32m    401\u001b[0m             \u001b[1;32mwith\u001b[0m \u001b[0mwarnings\u001b[0m\u001b[1;33m.\u001b[0m\u001b[0mcatch_warnings\u001b[0m\u001b[1;33m(\u001b[0m\u001b[0mrecord\u001b[0m\u001b[1;33m=\u001b[0m\u001b[1;32mFalse\u001b[0m\u001b[1;33m)\u001b[0m\u001b[1;33m:\u001b[0m\u001b[1;33m\u001b[0m\u001b[1;33m\u001b[0m\u001b[0m\n\u001b[0;32m    402\u001b[0m                 \u001b[0mwarnings\u001b[0m\u001b[1;33m.\u001b[0m\u001b[0msimplefilter\u001b[0m\u001b[1;33m(\u001b[0m\u001b[1;34m'ignore'\u001b[0m\u001b[1;33m)\u001b[0m\u001b[1;33m\u001b[0m\u001b[1;33m\u001b[0m\u001b[0m\n\u001b[1;32m--> 403\u001b[1;33m                 \u001b[0mfit\u001b[0m\u001b[1;33m,\u001b[0m \u001b[0mself\u001b[0m\u001b[1;33m.\u001b[0m\u001b[0marima_res_\u001b[0m \u001b[1;33m=\u001b[0m \u001b[0m_fit_wrapper\u001b[0m\u001b[1;33m(\u001b[0m\u001b[1;33m)\u001b[0m\u001b[1;33m\u001b[0m\u001b[1;33m\u001b[0m\u001b[0m\n\u001b[0m\u001b[0;32m    404\u001b[0m         \u001b[1;32melse\u001b[0m\u001b[1;33m:\u001b[0m\u001b[1;33m\u001b[0m\u001b[1;33m\u001b[0m\u001b[0m\n\u001b[0;32m    405\u001b[0m             \u001b[0mfit\u001b[0m\u001b[1;33m,\u001b[0m \u001b[0mself\u001b[0m\u001b[1;33m.\u001b[0m\u001b[0marima_res_\u001b[0m \u001b[1;33m=\u001b[0m \u001b[0m_fit_wrapper\u001b[0m\u001b[1;33m(\u001b[0m\u001b[1;33m)\u001b[0m\u001b[1;33m\u001b[0m\u001b[1;33m\u001b[0m\u001b[0m\n",
      "\u001b[1;32m~\\anaconda3\\envs\\oy-env\\lib\\site-packages\\pmdarima\\arima\\arima.py\u001b[0m in \u001b[0;36m_fit_wrapper\u001b[1;34m()\u001b[0m\n\u001b[0;32m    391\u001b[0m             \u001b[0mdisp\u001b[0m \u001b[1;33m=\u001b[0m \u001b[0mfit_args\u001b[0m\u001b[1;33m.\u001b[0m\u001b[0mpop\u001b[0m\u001b[1;33m(\u001b[0m\u001b[1;34m\"disp\"\u001b[0m\u001b[1;33m,\u001b[0m \u001b[1;36m0\u001b[0m\u001b[1;33m)\u001b[0m\u001b[1;33m\u001b[0m\u001b[1;33m\u001b[0m\u001b[0m\n\u001b[0;32m    392\u001b[0m \u001b[1;33m\u001b[0m\u001b[0m\n\u001b[1;32m--> 393\u001b[1;33m             return arima, arima.fit(start_params=start_params,\n\u001b[0m\u001b[0;32m    394\u001b[0m                                     \u001b[0mmethod\u001b[0m\u001b[1;33m=\u001b[0m\u001b[0mmethod\u001b[0m\u001b[1;33m,\u001b[0m\u001b[1;33m\u001b[0m\u001b[1;33m\u001b[0m\u001b[0m\n\u001b[0;32m    395\u001b[0m                                     \u001b[0mmaxiter\u001b[0m\u001b[1;33m=\u001b[0m\u001b[0m_maxiter\u001b[0m\u001b[1;33m,\u001b[0m\u001b[1;33m\u001b[0m\u001b[1;33m\u001b[0m\u001b[0m\n",
      "\u001b[1;32m~\\anaconda3\\envs\\oy-env\\lib\\site-packages\\statsmodels\\tsa\\statespace\\mlemodel.py\u001b[0m in \u001b[0;36mfit\u001b[1;34m(self, start_params, transformed, includes_fixed, cov_type, cov_kwds, method, maxiter, full_output, disp, callback, return_params, optim_score, optim_complex_step, optim_hessian, flags, low_memory, **kwargs)\u001b[0m\n\u001b[0;32m    652\u001b[0m                 \u001b[0mflags\u001b[0m\u001b[1;33m[\u001b[0m\u001b[1;34m'hessian_method'\u001b[0m\u001b[1;33m]\u001b[0m \u001b[1;33m=\u001b[0m \u001b[0moptim_hessian\u001b[0m\u001b[1;33m\u001b[0m\u001b[1;33m\u001b[0m\u001b[0m\n\u001b[0;32m    653\u001b[0m             \u001b[0mfargs\u001b[0m \u001b[1;33m=\u001b[0m \u001b[1;33m(\u001b[0m\u001b[0mflags\u001b[0m\u001b[1;33m,\u001b[0m\u001b[1;33m)\u001b[0m\u001b[1;33m\u001b[0m\u001b[1;33m\u001b[0m\u001b[0m\n\u001b[1;32m--> 654\u001b[1;33m             mlefit = super(MLEModel, self).fit(start_params, method=method,\n\u001b[0m\u001b[0;32m    655\u001b[0m                                                \u001b[0mfargs\u001b[0m\u001b[1;33m=\u001b[0m\u001b[0mfargs\u001b[0m\u001b[1;33m,\u001b[0m\u001b[1;33m\u001b[0m\u001b[1;33m\u001b[0m\u001b[0m\n\u001b[0;32m    656\u001b[0m                                                \u001b[0mmaxiter\u001b[0m\u001b[1;33m=\u001b[0m\u001b[0mmaxiter\u001b[0m\u001b[1;33m,\u001b[0m\u001b[1;33m\u001b[0m\u001b[1;33m\u001b[0m\u001b[0m\n",
      "\u001b[1;32m~\\anaconda3\\envs\\oy-env\\lib\\site-packages\\statsmodels\\base\\model.py\u001b[0m in \u001b[0;36mfit\u001b[1;34m(self, start_params, method, maxiter, full_output, disp, fargs, callback, retall, skip_hessian, **kwargs)\u001b[0m\n\u001b[0;32m    516\u001b[0m         \u001b[0mwarn_convergence\u001b[0m \u001b[1;33m=\u001b[0m \u001b[0mkwargs\u001b[0m\u001b[1;33m.\u001b[0m\u001b[0mpop\u001b[0m\u001b[1;33m(\u001b[0m\u001b[1;34m'warn_convergence'\u001b[0m\u001b[1;33m,\u001b[0m \u001b[1;32mTrue\u001b[0m\u001b[1;33m)\u001b[0m\u001b[1;33m\u001b[0m\u001b[1;33m\u001b[0m\u001b[0m\n\u001b[0;32m    517\u001b[0m         \u001b[0moptimizer\u001b[0m \u001b[1;33m=\u001b[0m \u001b[0mOptimizer\u001b[0m\u001b[1;33m(\u001b[0m\u001b[1;33m)\u001b[0m\u001b[1;33m\u001b[0m\u001b[1;33m\u001b[0m\u001b[0m\n\u001b[1;32m--> 518\u001b[1;33m         xopt, retvals, optim_settings = optimizer._fit(f, score, start_params,\n\u001b[0m\u001b[0;32m    519\u001b[0m                                                        \u001b[0mfargs\u001b[0m\u001b[1;33m,\u001b[0m \u001b[0mkwargs\u001b[0m\u001b[1;33m,\u001b[0m\u001b[1;33m\u001b[0m\u001b[1;33m\u001b[0m\u001b[0m\n\u001b[0;32m    520\u001b[0m                                                        \u001b[0mhessian\u001b[0m\u001b[1;33m=\u001b[0m\u001b[0mhess\u001b[0m\u001b[1;33m,\u001b[0m\u001b[1;33m\u001b[0m\u001b[1;33m\u001b[0m\u001b[0m\n",
      "\u001b[1;32m~\\anaconda3\\envs\\oy-env\\lib\\site-packages\\statsmodels\\base\\optimizer.py\u001b[0m in \u001b[0;36m_fit\u001b[1;34m(self, objective, gradient, start_params, fargs, kwargs, hessian, method, maxiter, full_output, disp, callback, retall)\u001b[0m\n\u001b[0;32m    213\u001b[0m \u001b[1;33m\u001b[0m\u001b[0m\n\u001b[0;32m    214\u001b[0m         \u001b[0mfunc\u001b[0m \u001b[1;33m=\u001b[0m \u001b[0mfit_funcs\u001b[0m\u001b[1;33m[\u001b[0m\u001b[0mmethod\u001b[0m\u001b[1;33m]\u001b[0m\u001b[1;33m\u001b[0m\u001b[1;33m\u001b[0m\u001b[0m\n\u001b[1;32m--> 215\u001b[1;33m         xopt, retvals = func(objective, gradient, start_params, fargs, kwargs,\n\u001b[0m\u001b[0;32m    216\u001b[0m                             \u001b[0mdisp\u001b[0m\u001b[1;33m=\u001b[0m\u001b[0mdisp\u001b[0m\u001b[1;33m,\u001b[0m \u001b[0mmaxiter\u001b[0m\u001b[1;33m=\u001b[0m\u001b[0mmaxiter\u001b[0m\u001b[1;33m,\u001b[0m \u001b[0mcallback\u001b[0m\u001b[1;33m=\u001b[0m\u001b[0mcallback\u001b[0m\u001b[1;33m,\u001b[0m\u001b[1;33m\u001b[0m\u001b[1;33m\u001b[0m\u001b[0m\n\u001b[0;32m    217\u001b[0m                             \u001b[0mretall\u001b[0m\u001b[1;33m=\u001b[0m\u001b[0mretall\u001b[0m\u001b[1;33m,\u001b[0m \u001b[0mfull_output\u001b[0m\u001b[1;33m=\u001b[0m\u001b[0mfull_output\u001b[0m\u001b[1;33m,\u001b[0m\u001b[1;33m\u001b[0m\u001b[1;33m\u001b[0m\u001b[0m\n",
      "\u001b[1;32m~\\anaconda3\\envs\\oy-env\\lib\\site-packages\\statsmodels\\base\\optimizer.py\u001b[0m in \u001b[0;36m_fit_lbfgs\u001b[1;34m(f, score, start_params, fargs, kwargs, disp, maxiter, callback, retall, full_output, hess)\u001b[0m\n\u001b[0;32m    435\u001b[0m         \u001b[0mfunc\u001b[0m \u001b[1;33m=\u001b[0m \u001b[0mf\u001b[0m\u001b[1;33m\u001b[0m\u001b[1;33m\u001b[0m\u001b[0m\n\u001b[0;32m    436\u001b[0m \u001b[1;33m\u001b[0m\u001b[0m\n\u001b[1;32m--> 437\u001b[1;33m     retvals = optimize.fmin_l_bfgs_b(func, start_params, maxiter=maxiter,\n\u001b[0m\u001b[0;32m    438\u001b[0m                                      \u001b[0mcallback\u001b[0m\u001b[1;33m=\u001b[0m\u001b[0mcallback\u001b[0m\u001b[1;33m,\u001b[0m \u001b[0margs\u001b[0m\u001b[1;33m=\u001b[0m\u001b[0mfargs\u001b[0m\u001b[1;33m,\u001b[0m\u001b[1;33m\u001b[0m\u001b[1;33m\u001b[0m\u001b[0m\n\u001b[0;32m    439\u001b[0m                                      \u001b[0mbounds\u001b[0m\u001b[1;33m=\u001b[0m\u001b[0mbounds\u001b[0m\u001b[1;33m,\u001b[0m \u001b[0mdisp\u001b[0m\u001b[1;33m=\u001b[0m\u001b[0mdisp\u001b[0m\u001b[1;33m,\u001b[0m\u001b[1;33m\u001b[0m\u001b[1;33m\u001b[0m\u001b[0m\n",
      "\u001b[1;32m~\\anaconda3\\envs\\oy-env\\lib\\site-packages\\scipy\\optimize\\lbfgsb.py\u001b[0m in \u001b[0;36mfmin_l_bfgs_b\u001b[1;34m(func, x0, fprime, args, approx_grad, bounds, m, factr, pgtol, epsilon, iprint, maxfun, maxiter, disp, callback, maxls)\u001b[0m\n\u001b[0;32m    195\u001b[0m             'maxls': maxls}\n\u001b[0;32m    196\u001b[0m \u001b[1;33m\u001b[0m\u001b[0m\n\u001b[1;32m--> 197\u001b[1;33m     res = _minimize_lbfgsb(fun, x0, args=args, jac=jac, bounds=bounds,\n\u001b[0m\u001b[0;32m    198\u001b[0m                            **opts)\n\u001b[0;32m    199\u001b[0m     d = {'grad': res['jac'],\n",
      "\u001b[1;32m~\\anaconda3\\envs\\oy-env\\lib\\site-packages\\scipy\\optimize\\lbfgsb.py\u001b[0m in \u001b[0;36m_minimize_lbfgsb\u001b[1;34m(fun, x0, args, jac, bounds, disp, maxcor, ftol, gtol, eps, maxfun, maxiter, iprint, callback, maxls, finite_diff_rel_step, **unknown_options)\u001b[0m\n\u001b[0;32m    358\u001b[0m             \u001b[1;31m# until the completion of the current minimization iteration.\u001b[0m\u001b[1;33m\u001b[0m\u001b[1;33m\u001b[0m\u001b[1;33m\u001b[0m\u001b[0m\n\u001b[0;32m    359\u001b[0m             \u001b[1;31m# Overwrite f and g:\u001b[0m\u001b[1;33m\u001b[0m\u001b[1;33m\u001b[0m\u001b[1;33m\u001b[0m\u001b[0m\n\u001b[1;32m--> 360\u001b[1;33m             \u001b[0mf\u001b[0m\u001b[1;33m,\u001b[0m \u001b[0mg\u001b[0m \u001b[1;33m=\u001b[0m \u001b[0mfunc_and_grad\u001b[0m\u001b[1;33m(\u001b[0m\u001b[0mx\u001b[0m\u001b[1;33m)\u001b[0m\u001b[1;33m\u001b[0m\u001b[1;33m\u001b[0m\u001b[0m\n\u001b[0m\u001b[0;32m    361\u001b[0m         \u001b[1;32melif\u001b[0m \u001b[0mtask_str\u001b[0m\u001b[1;33m.\u001b[0m\u001b[0mstartswith\u001b[0m\u001b[1;33m(\u001b[0m\u001b[1;34mb'NEW_X'\u001b[0m\u001b[1;33m)\u001b[0m\u001b[1;33m:\u001b[0m\u001b[1;33m\u001b[0m\u001b[1;33m\u001b[0m\u001b[0m\n\u001b[0;32m    362\u001b[0m             \u001b[1;31m# new iteration\u001b[0m\u001b[1;33m\u001b[0m\u001b[1;33m\u001b[0m\u001b[1;33m\u001b[0m\u001b[0m\n",
      "\u001b[1;32m~\\anaconda3\\envs\\oy-env\\lib\\site-packages\\scipy\\optimize\\_differentiable_functions.py\u001b[0m in \u001b[0;36mfun_and_grad\u001b[1;34m(self, x)\u001b[0m\n\u001b[0;32m    198\u001b[0m         \u001b[1;32mif\u001b[0m \u001b[1;32mnot\u001b[0m \u001b[0mnp\u001b[0m\u001b[1;33m.\u001b[0m\u001b[0marray_equal\u001b[0m\u001b[1;33m(\u001b[0m\u001b[0mx\u001b[0m\u001b[1;33m,\u001b[0m \u001b[0mself\u001b[0m\u001b[1;33m.\u001b[0m\u001b[0mx\u001b[0m\u001b[1;33m)\u001b[0m\u001b[1;33m:\u001b[0m\u001b[1;33m\u001b[0m\u001b[1;33m\u001b[0m\u001b[0m\n\u001b[0;32m    199\u001b[0m             \u001b[0mself\u001b[0m\u001b[1;33m.\u001b[0m\u001b[0m_update_x_impl\u001b[0m\u001b[1;33m(\u001b[0m\u001b[0mx\u001b[0m\u001b[1;33m)\u001b[0m\u001b[1;33m\u001b[0m\u001b[1;33m\u001b[0m\u001b[0m\n\u001b[1;32m--> 200\u001b[1;33m         \u001b[0mself\u001b[0m\u001b[1;33m.\u001b[0m\u001b[0m_update_fun\u001b[0m\u001b[1;33m(\u001b[0m\u001b[1;33m)\u001b[0m\u001b[1;33m\u001b[0m\u001b[1;33m\u001b[0m\u001b[0m\n\u001b[0m\u001b[0;32m    201\u001b[0m         \u001b[0mself\u001b[0m\u001b[1;33m.\u001b[0m\u001b[0m_update_grad\u001b[0m\u001b[1;33m(\u001b[0m\u001b[1;33m)\u001b[0m\u001b[1;33m\u001b[0m\u001b[1;33m\u001b[0m\u001b[0m\n\u001b[0;32m    202\u001b[0m         \u001b[1;32mreturn\u001b[0m \u001b[0mself\u001b[0m\u001b[1;33m.\u001b[0m\u001b[0mf\u001b[0m\u001b[1;33m,\u001b[0m \u001b[0mself\u001b[0m\u001b[1;33m.\u001b[0m\u001b[0mg\u001b[0m\u001b[1;33m\u001b[0m\u001b[1;33m\u001b[0m\u001b[0m\n",
      "\u001b[1;32m~\\anaconda3\\envs\\oy-env\\lib\\site-packages\\scipy\\optimize\\_differentiable_functions.py\u001b[0m in \u001b[0;36m_update_fun\u001b[1;34m(self)\u001b[0m\n\u001b[0;32m    164\u001b[0m     \u001b[1;32mdef\u001b[0m \u001b[0m_update_fun\u001b[0m\u001b[1;33m(\u001b[0m\u001b[0mself\u001b[0m\u001b[1;33m)\u001b[0m\u001b[1;33m:\u001b[0m\u001b[1;33m\u001b[0m\u001b[1;33m\u001b[0m\u001b[0m\n\u001b[0;32m    165\u001b[0m         \u001b[1;32mif\u001b[0m \u001b[1;32mnot\u001b[0m \u001b[0mself\u001b[0m\u001b[1;33m.\u001b[0m\u001b[0mf_updated\u001b[0m\u001b[1;33m:\u001b[0m\u001b[1;33m\u001b[0m\u001b[1;33m\u001b[0m\u001b[0m\n\u001b[1;32m--> 166\u001b[1;33m             \u001b[0mself\u001b[0m\u001b[1;33m.\u001b[0m\u001b[0m_update_fun_impl\u001b[0m\u001b[1;33m(\u001b[0m\u001b[1;33m)\u001b[0m\u001b[1;33m\u001b[0m\u001b[1;33m\u001b[0m\u001b[0m\n\u001b[0m\u001b[0;32m    167\u001b[0m             \u001b[0mself\u001b[0m\u001b[1;33m.\u001b[0m\u001b[0mf_updated\u001b[0m \u001b[1;33m=\u001b[0m \u001b[1;32mTrue\u001b[0m\u001b[1;33m\u001b[0m\u001b[1;33m\u001b[0m\u001b[0m\n\u001b[0;32m    168\u001b[0m \u001b[1;33m\u001b[0m\u001b[0m\n",
      "\u001b[1;32m~\\anaconda3\\envs\\oy-env\\lib\\site-packages\\scipy\\optimize\\_differentiable_functions.py\u001b[0m in \u001b[0;36mupdate_fun\u001b[1;34m()\u001b[0m\n\u001b[0;32m     71\u001b[0m \u001b[1;33m\u001b[0m\u001b[0m\n\u001b[0;32m     72\u001b[0m         \u001b[1;32mdef\u001b[0m \u001b[0mupdate_fun\u001b[0m\u001b[1;33m(\u001b[0m\u001b[1;33m)\u001b[0m\u001b[1;33m:\u001b[0m\u001b[1;33m\u001b[0m\u001b[1;33m\u001b[0m\u001b[0m\n\u001b[1;32m---> 73\u001b[1;33m             \u001b[0mself\u001b[0m\u001b[1;33m.\u001b[0m\u001b[0mf\u001b[0m \u001b[1;33m=\u001b[0m \u001b[0mfun_wrapped\u001b[0m\u001b[1;33m(\u001b[0m\u001b[0mself\u001b[0m\u001b[1;33m.\u001b[0m\u001b[0mx\u001b[0m\u001b[1;33m)\u001b[0m\u001b[1;33m\u001b[0m\u001b[1;33m\u001b[0m\u001b[0m\n\u001b[0m\u001b[0;32m     74\u001b[0m \u001b[1;33m\u001b[0m\u001b[0m\n\u001b[0;32m     75\u001b[0m         \u001b[0mself\u001b[0m\u001b[1;33m.\u001b[0m\u001b[0m_update_fun_impl\u001b[0m \u001b[1;33m=\u001b[0m \u001b[0mupdate_fun\u001b[0m\u001b[1;33m\u001b[0m\u001b[1;33m\u001b[0m\u001b[0m\n",
      "\u001b[1;32m~\\anaconda3\\envs\\oy-env\\lib\\site-packages\\scipy\\optimize\\_differentiable_functions.py\u001b[0m in \u001b[0;36mfun_wrapped\u001b[1;34m(x)\u001b[0m\n\u001b[0;32m     68\u001b[0m         \u001b[1;32mdef\u001b[0m \u001b[0mfun_wrapped\u001b[0m\u001b[1;33m(\u001b[0m\u001b[0mx\u001b[0m\u001b[1;33m)\u001b[0m\u001b[1;33m:\u001b[0m\u001b[1;33m\u001b[0m\u001b[1;33m\u001b[0m\u001b[0m\n\u001b[0;32m     69\u001b[0m             \u001b[0mself\u001b[0m\u001b[1;33m.\u001b[0m\u001b[0mnfev\u001b[0m \u001b[1;33m+=\u001b[0m \u001b[1;36m1\u001b[0m\u001b[1;33m\u001b[0m\u001b[1;33m\u001b[0m\u001b[0m\n\u001b[1;32m---> 70\u001b[1;33m             \u001b[1;32mreturn\u001b[0m \u001b[0mfun\u001b[0m\u001b[1;33m(\u001b[0m\u001b[0mx\u001b[0m\u001b[1;33m,\u001b[0m \u001b[1;33m*\u001b[0m\u001b[0margs\u001b[0m\u001b[1;33m)\u001b[0m\u001b[1;33m\u001b[0m\u001b[1;33m\u001b[0m\u001b[0m\n\u001b[0m\u001b[0;32m     71\u001b[0m \u001b[1;33m\u001b[0m\u001b[0m\n\u001b[0;32m     72\u001b[0m         \u001b[1;32mdef\u001b[0m \u001b[0mupdate_fun\u001b[0m\u001b[1;33m(\u001b[0m\u001b[1;33m)\u001b[0m\u001b[1;33m:\u001b[0m\u001b[1;33m\u001b[0m\u001b[1;33m\u001b[0m\u001b[0m\n",
      "\u001b[1;32m~\\anaconda3\\envs\\oy-env\\lib\\site-packages\\statsmodels\\base\\model.py\u001b[0m in \u001b[0;36mf\u001b[1;34m(params, *args)\u001b[0m\n\u001b[0;32m    498\u001b[0m \u001b[1;33m\u001b[0m\u001b[0m\n\u001b[0;32m    499\u001b[0m         \u001b[1;32mdef\u001b[0m \u001b[0mf\u001b[0m\u001b[1;33m(\u001b[0m\u001b[0mparams\u001b[0m\u001b[1;33m,\u001b[0m \u001b[1;33m*\u001b[0m\u001b[0margs\u001b[0m\u001b[1;33m)\u001b[0m\u001b[1;33m:\u001b[0m\u001b[1;33m\u001b[0m\u001b[1;33m\u001b[0m\u001b[0m\n\u001b[1;32m--> 500\u001b[1;33m             \u001b[1;32mreturn\u001b[0m \u001b[1;33m-\u001b[0m\u001b[0mself\u001b[0m\u001b[1;33m.\u001b[0m\u001b[0mloglike\u001b[0m\u001b[1;33m(\u001b[0m\u001b[0mparams\u001b[0m\u001b[1;33m,\u001b[0m \u001b[1;33m*\u001b[0m\u001b[0margs\u001b[0m\u001b[1;33m)\u001b[0m \u001b[1;33m/\u001b[0m \u001b[0mnobs\u001b[0m\u001b[1;33m\u001b[0m\u001b[1;33m\u001b[0m\u001b[0m\n\u001b[0m\u001b[0;32m    501\u001b[0m \u001b[1;33m\u001b[0m\u001b[0m\n\u001b[0;32m    502\u001b[0m         \u001b[1;32mif\u001b[0m \u001b[0mmethod\u001b[0m \u001b[1;33m==\u001b[0m \u001b[1;34m'newton'\u001b[0m\u001b[1;33m:\u001b[0m\u001b[1;33m\u001b[0m\u001b[1;33m\u001b[0m\u001b[0m\n",
      "\u001b[1;32m~\\anaconda3\\envs\\oy-env\\lib\\site-packages\\statsmodels\\tsa\\statespace\\mlemodel.py\u001b[0m in \u001b[0;36mloglike\u001b[1;34m(self, params, *args, **kwargs)\u001b[0m\n\u001b[0;32m    887\u001b[0m             \u001b[0mkwargs\u001b[0m\u001b[1;33m[\u001b[0m\u001b[1;34m'inversion_method'\u001b[0m\u001b[1;33m]\u001b[0m \u001b[1;33m=\u001b[0m \u001b[0mINVERT_UNIVARIATE\u001b[0m \u001b[1;33m|\u001b[0m \u001b[0mSOLVE_LU\u001b[0m\u001b[1;33m\u001b[0m\u001b[1;33m\u001b[0m\u001b[0m\n\u001b[0;32m    888\u001b[0m \u001b[1;33m\u001b[0m\u001b[0m\n\u001b[1;32m--> 889\u001b[1;33m         \u001b[0mloglike\u001b[0m \u001b[1;33m=\u001b[0m \u001b[0mself\u001b[0m\u001b[1;33m.\u001b[0m\u001b[0mssm\u001b[0m\u001b[1;33m.\u001b[0m\u001b[0mloglike\u001b[0m\u001b[1;33m(\u001b[0m\u001b[0mcomplex_step\u001b[0m\u001b[1;33m=\u001b[0m\u001b[0mcomplex_step\u001b[0m\u001b[1;33m,\u001b[0m \u001b[1;33m**\u001b[0m\u001b[0mkwargs\u001b[0m\u001b[1;33m)\u001b[0m\u001b[1;33m\u001b[0m\u001b[1;33m\u001b[0m\u001b[0m\n\u001b[0m\u001b[0;32m    890\u001b[0m \u001b[1;33m\u001b[0m\u001b[0m\n\u001b[0;32m    891\u001b[0m         \u001b[1;31m# Koopman, Shephard, and Doornik recommend maximizing the average\u001b[0m\u001b[1;33m\u001b[0m\u001b[1;33m\u001b[0m\u001b[1;33m\u001b[0m\u001b[0m\n",
      "\u001b[1;32m~\\anaconda3\\envs\\oy-env\\lib\\site-packages\\statsmodels\\tsa\\statespace\\kalman_filter.py\u001b[0m in \u001b[0;36mloglike\u001b[1;34m(self, **kwargs)\u001b[0m\n\u001b[0;32m    975\u001b[0m         kwargs.setdefault('conserve_memory',\n\u001b[0;32m    976\u001b[0m                           MEMORY_CONSERVE ^ MEMORY_NO_LIKELIHOOD)\n\u001b[1;32m--> 977\u001b[1;33m         \u001b[0mkfilter\u001b[0m \u001b[1;33m=\u001b[0m \u001b[0mself\u001b[0m\u001b[1;33m.\u001b[0m\u001b[0m_filter\u001b[0m\u001b[1;33m(\u001b[0m\u001b[1;33m**\u001b[0m\u001b[0mkwargs\u001b[0m\u001b[1;33m)\u001b[0m\u001b[1;33m\u001b[0m\u001b[1;33m\u001b[0m\u001b[0m\n\u001b[0m\u001b[0;32m    978\u001b[0m         loglikelihood_burn = kwargs.get('loglikelihood_burn',\n\u001b[0;32m    979\u001b[0m                                         self.loglikelihood_burn)\n",
      "\u001b[1;31mKeyboardInterrupt\u001b[0m: "
     ]
    }
   ],
   "source": [
    "arima_model = auto_arima(train,\n",
    "                         start_p=0,d=0,start_q=0,\n",
    "                         max_p=4,max_d=4,max_q=4,\n",
    "                         start_P=0,D=1,start_Q=0,\n",
    "                         max_P=1,max_D=1,max_Q=1,m=96,\n",
    "                         seasonal=True,\n",
    "                         error_action='warn',trace=True,\n",
    "                         supress_warning=True,stepwise=True,\n",
    "                         random_state=20,n_fits=1)"
   ]
  },
  {
   "cell_type": "code",
   "execution_count": null,
   "metadata": {},
   "outputs": [],
   "source": [
    "non_auto_arima = SARIMAX(train,\n",
    "                        order=(1,1,0),\n",
    "                        seasonal_order=(1,1,1,96),\n",
    "                        freq='D').fit()"
   ]
  },
  {
   "cell_type": "code",
   "execution_count": null,
   "metadata": {},
   "outputs": [],
   "source": [
    "non_auto_arima = SARIMAX(train,\n",
    "                        order=(0,0,0),\n",
    "                        seasonal_order=(0,1,0,96),\n",
    "                        freq='D').fit()"
   ]
  },
  {
   "cell_type": "code",
   "execution_count": null,
   "metadata": {},
   "outputs": [],
   "source": [
    "y_pred = non_auto_arima.predict(start='2020-06-05')"
   ]
  },
  {
   "cell_type": "code",
   "execution_count": null,
   "metadata": {},
   "outputs": [],
   "source": [
    "y_pred"
   ]
  },
  {
   "cell_type": "code",
   "execution_count": null,
   "metadata": {},
   "outputs": [],
   "source": [
    "train"
   ]
  },
  {
   "cell_type": "code",
   "execution_count": null,
   "metadata": {},
   "outputs": [],
   "source": [
    "test[0]"
   ]
  },
  {
   "cell_type": "markdown",
   "metadata": {},
   "source": [
    "## Linear Regression"
   ]
  },
  {
   "cell_type": "code",
   "execution_count": null,
   "metadata": {},
   "outputs": [],
   "source": [
    "from sklearn.linear_model import LinearRegression\n",
    "from sklearn.model_selection import train_test_split"
   ]
  },
  {
   "cell_type": "code",
   "execution_count": null,
   "metadata": {},
   "outputs": [],
   "source": [
    "btc.shape"
   ]
  },
  {
   "cell_type": "code",
   "execution_count": null,
   "metadata": {},
   "outputs": [],
   "source": [
    "btc.Close"
   ]
  },
  {
   "cell_type": "code",
   "execution_count": null,
   "metadata": {},
   "outputs": [],
   "source": [
    "close = btc.Close\n",
    "close.reset_index(drop=True, inplace=True)\n",
    "close_index = close.index\n",
    "close = np.squeeze(close.to_numpy())\n",
    "close_index = np.squeeze(close_index.to_numpy())"
   ]
  },
  {
   "cell_type": "code",
   "execution_count": null,
   "metadata": {},
   "outputs": [],
   "source": [
    "close_index[0]"
   ]
  },
  {
   "cell_type": "code",
   "execution_count": null,
   "metadata": {},
   "outputs": [],
   "source": [
    "# # separate data for linear regression\n",
    "X_train, X_test, y_train, y_test = train_test_split(close_index, close)\n",
    "\n",
    "# reshape for linreg\n",
    "X_train = arr_shape(X_train)\n",
    "X_test = arr_shape(X_test)\n",
    "y_train = arr_shape(y_train)\n",
    "y_test = arr_shape(y_test)\n"
   ]
  },
  {
   "cell_type": "code",
   "execution_count": null,
   "metadata": {},
   "outputs": [],
   "source": [
    "y_train"
   ]
  },
  {
   "cell_type": "code",
   "execution_count": null,
   "metadata": {},
   "outputs": [],
   "source": [
    "X_train"
   ]
  },
  {
   "cell_type": "code",
   "execution_count": null,
   "metadata": {},
   "outputs": [],
   "source": [
    "lr = LinearRegression()\n",
    "lr.fit(X_train, y_train)"
   ]
  },
  {
   "cell_type": "code",
   "execution_count": null,
   "metadata": {},
   "outputs": [],
   "source": [
    "preds = lr.predict(X_test)"
   ]
  },
  {
   "cell_type": "code",
   "execution_count": null,
   "metadata": {},
   "outputs": [],
   "source": [
    "lr.intercept_"
   ]
  },
  {
   "cell_type": "code",
   "execution_count": null,
   "metadata": {},
   "outputs": [],
   "source": [
    "lr.coef_"
   ]
  },
  {
   "cell_type": "markdown",
   "metadata": {},
   "source": [
    "## Polynomial Features"
   ]
  },
  {
   "cell_type": "code",
   "execution_count": 71,
   "metadata": {},
   "outputs": [],
   "source": [
    "from sklearn.preprocessing import PolynomialFeatures as pf"
   ]
  },
  {
   "cell_type": "code",
   "execution_count": 72,
   "metadata": {},
   "outputs": [],
   "source": [
    "# resample data to weekly\n",
    "btcW = btc.resample('W').mean()"
   ]
  },
  {
   "cell_type": "code",
   "execution_count": 73,
   "metadata": {},
   "outputs": [
    {
     "data": {
      "text/plain": [
       "array([[1.00000000e+00, 1.44028800e+18, 1.44089280e+18, ...,\n",
       "        7.09925316e+72, 7.10188405e+72, 7.10451591e+72],\n",
       "       [1.00000000e+00, 2.32192500e+02, 2.25578571e+02, ...,\n",
       "        4.13300171e+18, 3.76124527e+18, 3.42292769e+18]])"
      ]
     },
     "execution_count": 73,
     "metadata": {},
     "output_type": "execute_result"
    }
   ],
   "source": [
    "# find 4th order fit for weekly data\n",
    "poly = pf(4)\n",
    "poly.fit_transform((btcW.index, btcW.Close))"
   ]
  },
  {
   "cell_type": "code",
   "execution_count": null,
   "metadata": {},
   "outputs": [],
   "source": [
    "poly?"
   ]
  },
  {
   "cell_type": "code",
   "execution_count": null,
   "metadata": {},
   "outputs": [],
   "source": [
    "poly.powers_"
   ]
  },
  {
   "cell_type": "markdown",
   "metadata": {},
   "source": [
    "## Get 4th order polynomial fit for monthly data"
   ]
  },
  {
   "cell_type": "code",
   "execution_count": null,
   "metadata": {},
   "outputs": [],
   "source": [
    "poly = pf(4)\n",
    "poly.fit_transform((btcM.index, btcM.Close))"
   ]
  },
  {
   "cell_type": "code",
   "execution_count": null,
   "metadata": {},
   "outputs": [],
   "source": [
    "poly.powers_"
   ]
  },
  {
   "cell_type": "code",
   "execution_count": null,
   "metadata": {},
   "outputs": [],
   "source": []
  },
  {
   "cell_type": "code",
   "execution_count": null,
   "metadata": {},
   "outputs": [],
   "source": []
  },
  {
   "cell_type": "code",
   "execution_count": null,
   "metadata": {},
   "outputs": [],
   "source": []
  },
  {
   "cell_type": "code",
   "execution_count": null,
   "metadata": {},
   "outputs": [],
   "source": []
  },
  {
   "cell_type": "code",
   "execution_count": null,
   "metadata": {},
   "outputs": [],
   "source": []
  },
  {
   "cell_type": "code",
   "execution_count": null,
   "metadata": {},
   "outputs": [],
   "source": []
  },
  {
   "cell_type": "code",
   "execution_count": null,
   "metadata": {},
   "outputs": [],
   "source": []
  },
  {
   "cell_type": "code",
   "execution_count": null,
   "metadata": {},
   "outputs": [],
   "source": []
  }
 ],
 "metadata": {
  "kernelspec": {
   "display_name": "Python 3",
   "language": "python",
   "name": "python3"
  },
  "language_info": {
   "codemirror_mode": {
    "name": "ipython",
    "version": 3
   },
   "file_extension": ".py",
   "mimetype": "text/x-python",
   "name": "python",
   "nbconvert_exporter": "python",
   "pygments_lexer": "ipython3",
   "version": "3.8.2"
  }
 },
 "nbformat": 4,
 "nbformat_minor": 4
}
